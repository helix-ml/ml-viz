{
 "cells": [
  {
   "cell_type": "markdown",
   "metadata": {},
   "source": [
    "# Prepare Census Data"
   ]
  },
  {
   "cell_type": "code",
   "execution_count": 1,
   "metadata": {},
   "outputs": [],
   "source": [
    "# code from https://medium.com/district-data-labs/building-a-classifier-from-census-data-18f996c4d7cf\n",
    "from sklearn import datasets\n",
    "from sklearn.model_selection import train_test_split\n",
    "from sklearn.metrics import accuracy_score, log_loss\n",
    "\n",
    "import pandas as pd\n",
    "\n",
    "# prepare train and test data\n",
    "names = [\n",
    "    'age',\n",
    "    'workclass',\n",
    "    'fnlwgt',\n",
    "    'education',\n",
    "    'education-num',\n",
    "    'marital-status',\n",
    "    'occupation',\n",
    "    'relationship',\n",
    "    'race',\n",
    "    'sex',\n",
    "    'capital-gain',\n",
    "    'capital-loss',\n",
    "    'hours-per-week',\n",
    "    'native-country',\n",
    "    'income',\n",
    "]\n",
    "data = pd.read_csv('census_data/adult.data', names=names)\n",
    "\n",
    "import json\n",
    "meta = {\n",
    "    'target_names': list(data.income.unique()),\n",
    "    'feature_names': list(data.columns),\n",
    "    'categorical_features': {\n",
    "        column: list(data[column].unique())\n",
    "        for column in data.columns\n",
    "        if data[column].dtype == 'object'\n",
    "    },\n",
    "}\n",
    "with open('census_data/meta.json', 'w') as f:\n",
    "    json.dump(meta, f, indent=2)"
   ]
  },
  {
   "cell_type": "code",
   "execution_count": 2,
   "metadata": {},
   "outputs": [
    {
     "name": "stderr",
     "output_type": "stream",
     "text": [
      "/Library/Frameworks/Python.framework/Versions/3.6/lib/python3.6/site-packages/sklearn/utils/deprecation.py:143: FutureWarning: The sklearn.datasets.base module is  deprecated in version 0.22 and will be removed in version 0.24. The corresponding classes / functions should instead be imported from sklearn.datasets. Anything that cannot be imported from sklearn.datasets is now part of the private API.\n",
      "  warnings.warn(message, FutureWarning)\n"
     ]
    }
   ],
   "source": [
    "from sklearn.datasets.base import Bunch\n",
    "from sklearn.preprocessing import LabelEncoder\n",
    "def load_data():\n",
    "    # Load the meta data from the file\n",
    "    with open('census_data/meta.json', 'r') as f:\n",
    "        meta = json.load(f)\n",
    "    names = meta['feature_names']\n",
    "    # Load the training and test data, skipping the bad row in the test data\n",
    "    train = pd.read_csv('census_data/adult.data', names=names)\n",
    "    test  = pd.read_csv('census_data/adult.test', names=names, skiprows=1)\n",
    "    # Remove the target from the categorical features\n",
    "    meta['categorical_features'].pop('income')\n",
    "    # Return the bunch with the appropriate data chunked apart\n",
    "    return Bunch(\n",
    "        data = train[names[:-1]],\n",
    "        target = train[names[-1]],\n",
    "        data_test = test[names[:-1]],\n",
    "        target_test = test[names[-1]],\n",
    "        target_names = meta['target_names'],\n",
    "        feature_names = meta['feature_names'],\n",
    "        categorical_features = meta['categorical_features'],\n",
    "        DESCR = \"descr\",\n",
    "    )\n",
    "dataset = load_data()\n",
    "\n",
    "from sklearn.base import BaseEstimator, TransformerMixin\n",
    "class EncodeCategorical(BaseEstimator, TransformerMixin):\n",
    "    \"\"\"\n",
    "    Encodes a specified list of columns or all columns if None.\n",
    "    \"\"\"\n",
    "    def __init__(self, columns=None):\n",
    "        self.columns  = columns\n",
    "        self.encoders = None\n",
    "    def fit(self, data, target=None):\n",
    "        \"\"\"\n",
    "        Expects a data frame with named columns to encode.\n",
    "        \"\"\"\n",
    "        # Encode all columns if columns is None\n",
    "        if self.columns is None:\n",
    "            self.columns = data.columns\n",
    "        # Fit a label encoder for each column in the data frame\n",
    "        self.encoders = {\n",
    "            column: LabelEncoder().fit(data[column])\n",
    "            for column in self.columns\n",
    "        }\n",
    "        return self\n",
    "    def transform(self, data):\n",
    "        \"\"\"\n",
    "        Uses the encoders to transform a data frame.\n",
    "        \"\"\"\n",
    "        output = data.copy()\n",
    "        for column, encoder in self.encoders.items():\n",
    "            output[column] = encoder.transform(data[column])\n",
    "        return output\n",
    "encoder = EncodeCategorical(dataset.categorical_features.keys())\n",
    "dataset.data = encoder.fit_transform(dataset.data)\n",
    "dataset.data_test = encoder.fit_transform(dataset.data_test)"
   ]
  },
  {
   "cell_type": "code",
   "execution_count": 3,
   "metadata": {},
   "outputs": [],
   "source": [
    "from sklearn.impute import SimpleImputer\n",
    "import numpy as np\n",
    "\n",
    "class ImputeCategorical(BaseEstimator, TransformerMixin):\n",
    "    \"\"\"\n",
    "    Encodes a specified list of columns or all columns if None.\n",
    "    \"\"\"\n",
    "    def __init__(self, columns=None):\n",
    "        self.columns = columns\n",
    "        self.imputer = None\n",
    "    def fit(self, data, target=None):\n",
    "        \"\"\"\n",
    "        Expects a data frame with named columns to impute.\n",
    "        \"\"\"\n",
    "        # Encode all columns if columns is None\n",
    "        if self.columns is None:\n",
    "            self.columns = data.columns\n",
    "        # Fit an imputer for each column in the data frame\n",
    "        self.imputer = SimpleImputer(missing_values=0, strategy='most_frequent')\n",
    "        self.imputer.fit(data[self.columns])\n",
    "        return self\n",
    "    def transform(self, data):\n",
    "        \"\"\"\n",
    "        Uses the encoders to transform a data frame.\n",
    "        \"\"\"\n",
    "        output = data.copy()\n",
    "        output[self.columns] = self.imputer.transform(output[self.columns])\n",
    "        return output\n",
    "imputer = ImputeCategorical(['workclass', 'native-country', 'occupation'])\n",
    "dataset.data = imputer.fit_transform(dataset.data)\n",
    "dataset.data_test = imputer.fit_transform(dataset.data_test)"
   ]
  },
  {
   "cell_type": "code",
   "execution_count": 4,
   "metadata": {},
   "outputs": [],
   "source": [
    "X_train = dataset.data\n",
    "yencode = LabelEncoder().fit(dataset.target)\n",
    "y_train = yencode.transform(dataset.target)\n",
    "\n",
    "X_test = dataset.data_test\n",
    "y_test = yencode.transform([y.rstrip(\".\") for y in dataset.target_test])"
   ]
  },
  {
   "cell_type": "markdown",
   "metadata": {},
   "source": [
    "# Start Viz"
   ]
  },
  {
   "cell_type": "code",
   "execution_count": 8,
   "metadata": {},
   "outputs": [
    {
     "data": {
      "text/html": [
       "\n",
       "        <iframe\n",
       "            width=\"800\"\n",
       "            height=\"650\"\n",
       "            src=\"http://127.0.0.1:8102/\"\n",
       "            frameborder=\"0\"\n",
       "            allowfullscreen\n",
       "        ></iframe>\n",
       "        "
      ],
      "text/plain": [
       "<IPython.lib.display.IFrame at 0x1202534e0>"
      ]
     },
     "metadata": {},
     "output_type": "display_data"
    }
   ],
   "source": [
    "from davincicode.app import *\n",
    "viz(os.getcwd() + \"/\", 8102)"
   ]
  },
  {
   "cell_type": "code",
   "execution_count": 9,
   "metadata": {},
   "outputs": [
    {
     "name": "stdout",
     "output_type": "stream",
     "text": [
      "[0]\ttrain-mlogloss:0.62823\n",
      "[1]\ttrain-mlogloss:0.59366\n",
      "[2]\ttrain-mlogloss:0.55178\n",
      "[3]\ttrain-mlogloss:0.53700\n",
      "[4]\ttrain-mlogloss:0.51367\n",
      "[5]\ttrain-mlogloss:0.49803\n",
      "[6]\ttrain-mlogloss:0.48596\n",
      "[7]\ttrain-mlogloss:0.46956\n",
      "[8]\ttrain-mlogloss:0.45891\n",
      "[9]\ttrain-mlogloss:0.45220\n"
     ]
    }
   ],
   "source": [
    "params = {\n",
    "        'objective': 'multi:softprob',\n",
    "        'num_class': 2,\n",
    "        'eval_metric': 'mlogloss',\n",
    "        'max_depth': 10,\n",
    "        'min_child_weight': 10,\n",
    "        'eta':0.2,\n",
    "        'subsample': 0.05,\n",
    "        'colsample_bytree': 0.05\n",
    "}\n",
    "experiment('xgboost', None, params, X_train, X_test, y_train, y_test)"
   ]
  },
  {
   "cell_type": "code",
   "execution_count": 10,
   "metadata": {},
   "outputs": [
    {
     "name": "stdout",
     "output_type": "stream",
     "text": [
      "[0]\ttrain-mlogloss:0.63553\n",
      "[1]\ttrain-mlogloss:0.59159\n",
      "[2]\ttrain-mlogloss:0.55848\n",
      "[3]\ttrain-mlogloss:0.53685\n",
      "[4]\ttrain-mlogloss:0.51831\n",
      "[5]\ttrain-mlogloss:0.50185\n",
      "[6]\ttrain-mlogloss:0.49213\n",
      "[7]\ttrain-mlogloss:0.48078\n",
      "[8]\ttrain-mlogloss:0.47256\n",
      "[9]\ttrain-mlogloss:0.46526\n"
     ]
    }
   ],
   "source": [
    "params['max_depth'] = 1\n",
    "params['min_child_weight'] = 6\n",
    "params['subsample'] = 1.0\n",
    "params['colsample_bytree'] = 0.05\n",
    "params['eta'] = 0.2\n",
    "experiment('xgboost', None, params, X_train, X_test, y_train, y_test)"
   ]
  },
  {
   "cell_type": "code",
   "execution_count": 11,
   "metadata": {},
   "outputs": [
    {
     "name": "stdout",
     "output_type": "stream",
     "text": [
      "[0]\ttrain-mlogloss:0.58085\n",
      "[1]\ttrain-mlogloss:0.50532\n",
      "[2]\ttrain-mlogloss:0.45114\n",
      "[3]\ttrain-mlogloss:0.41146\n",
      "[4]\ttrain-mlogloss:0.38068\n",
      "[5]\ttrain-mlogloss:0.35712\n",
      "[6]\ttrain-mlogloss:0.33790\n",
      "[7]\ttrain-mlogloss:0.32295\n",
      "[8]\ttrain-mlogloss:0.31026\n",
      "[9]\ttrain-mlogloss:0.30062\n"
     ]
    }
   ],
   "source": [
    "params['max_depth'] = 10\n",
    "params['min_child_weight'] = 10\n",
    "params['subsample'] = 1.0\n",
    "params['colsample_bytree'] = 1.0\n",
    "experiment('xgboost', None, params, X_train, X_test, y_train, y_test)"
   ]
  },
  {
   "cell_type": "code",
   "execution_count": 12,
   "metadata": {},
   "outputs": [],
   "source": [
    "# for max_depth in [5, 10, 15]:\n",
    "#     for min_child_weight in [1, 5, 10]:\n",
    "#         for subsample in [0.3, 0.6, 1.0]:\n",
    "#             for colsample_bytree in [0.3, 0.6, 1.0]:\n",
    "#                 for eta in [0.01, 0.2, 0.5]:\n",
    "#                     params['max_depth'] = max_depth\n",
    "#                     params['min_child_weight'] = min_child_weight\n",
    "#                     params['subsample'] = subsample\n",
    "#                     params['colsample_bytree'] = colsample_bytree\n",
    "#                     params['eta'] = eta\n",
    "#                     experiment('xgboost', None, params, X_train, X_test, y_train, y_test)\n",
    "                "
   ]
  },
  {
   "cell_type": "code",
   "execution_count": 13,
   "metadata": {},
   "outputs": [],
   "source": [
    "from sklearn.svm import SVC\n",
    "experiment('sklearn', SVC, {\n",
    "    'gamma': 0.01,\n",
    "    'C': 1\n",
    "}, X_train, X_test, y_train, y_test)"
   ]
  },
  {
   "cell_type": "code",
   "execution_count": null,
   "metadata": {},
   "outputs": [],
   "source": [
    "from sklearn.neural_network import MLPClassifier\n",
    "for max_iter in [200, 300, 500, 700]:\n",
    "    for alpha in [0.01, 0.001, 0.0001]:\n",
    "        experiment('sklearn', MLPClassifier, {\n",
    "            'max_iter': max_iter,\n",
    "            'alpha': alpha\n",
    "        }, X_train, X_test, y_train, y_test)"
   ]
  },
  {
   "cell_type": "code",
   "execution_count": null,
   "metadata": {},
   "outputs": [],
   "source": [
    "experiment('sklearn', MLPClassifier, {\n",
    "    'max_iter': 300,\n",
    "    'alpha': 0.001\n",
    "}, X_train, X_test, y_train, y_test)"
   ]
  },
  {
   "cell_type": "code",
   "execution_count": null,
   "metadata": {},
   "outputs": [],
   "source": [
    "experiment('sklearn', MLPClassifier, {\n",
    "    'max_iter': 400,\n",
    "    'alpha': 0.0001\n",
    "}, X_train, X_test, y_train, y_test)"
   ]
  },
  {
   "cell_type": "code",
   "execution_count": null,
   "metadata": {},
   "outputs": [],
   "source": []
  }
 ],
 "metadata": {
  "kernelspec": {
   "display_name": "Python 3",
   "language": "python",
   "name": "python3"
  },
  "language_info": {
   "codemirror_mode": {
    "name": "ipython",
    "version": 3
   },
   "file_extension": ".py",
   "mimetype": "text/x-python",
   "name": "python",
   "nbconvert_exporter": "python",
   "pygments_lexer": "ipython3",
   "version": "3.6.1"
  }
 },
 "nbformat": 4,
 "nbformat_minor": 4
}

{
 "cells": [
  {
   "cell_type": "code",
   "execution_count": 91,
   "metadata": {},
   "outputs": [],
   "source": [
    "# code from https://medium.com/district-data-labs/building-a-classifier-from-census-data-18f996c4d7cf\n",
    "from sklearn import datasets\n",
    "from sklearn.model_selection import train_test_split\n",
    "from sklearn.metrics import accuracy_score, log_loss\n",
    "import xgboost as xgb\n",
    "\n",
    "import mlflow\n",
    "import mlflow.xgboost\n",
    "\n",
    "# prepare train and test data\n",
    "names = [\n",
    "    'age',\n",
    "    'workclass',\n",
    "    'fnlwgt',\n",
    "    'education',\n",
    "    'education-num',\n",
    "    'marital-status',\n",
    "    'occupation',\n",
    "    'relationship',\n",
    "    'race',\n",
    "    'sex',\n",
    "    'capital-gain',\n",
    "    'capital-loss',\n",
    "    'hours-per-week',\n",
    "    'native-country',\n",
    "    'income',\n",
    "]\n",
    "data = pd.read_csv('census_data/adult.data', names=names)\n",
    "\n",
    "import json\n",
    "meta = {\n",
    "    'target_names': list(data.income.unique()),\n",
    "    'feature_names': list(data.columns),\n",
    "    'categorical_features': {\n",
    "        column: list(data[column].unique())\n",
    "        for column in data.columns\n",
    "        if data[column].dtype == 'object'\n",
    "    },\n",
    "}\n",
    "with open('census_data/meta.json', 'w') as f:\n",
    "    json.dump(meta, f, indent=2)"
   ]
  },
  {
   "cell_type": "code",
   "execution_count": 92,
   "metadata": {},
   "outputs": [],
   "source": [
    "from sklearn.datasets.base import Bunch\n",
    "from sklearn.preprocessing import LabelEncoder\n",
    "def load_data():\n",
    "    # Load the meta data from the file\n",
    "    with open('census_data/meta.json', 'r') as f:\n",
    "        meta = json.load(f)\n",
    "    names = meta['feature_names']\n",
    "    # Load the training and test data, skipping the bad row in the test data\n",
    "    train = pd.read_csv('census_data/adult.data', names=names)\n",
    "    test  = pd.read_csv('census_data/adult.test', names=names, skiprows=1)\n",
    "    # Remove the target from the categorical features\n",
    "    meta['categorical_features'].pop('income')\n",
    "    # Return the bunch with the appropriate data chunked apart\n",
    "    return Bunch(\n",
    "        data = train[names[:-1]],\n",
    "        target = train[names[-1]],\n",
    "        data_test = test[names[:-1]],\n",
    "        target_test = test[names[-1]],\n",
    "        target_names = meta['target_names'],\n",
    "        feature_names = meta['feature_names'],\n",
    "        categorical_features = meta['categorical_features'],\n",
    "        DESCR = \"descr\",\n",
    "    )\n",
    "dataset = load_data()\n",
    "\n",
    "from sklearn.base import BaseEstimator, TransformerMixin\n",
    "class EncodeCategorical(BaseEstimator, TransformerMixin):\n",
    "    \"\"\"\n",
    "    Encodes a specified list of columns or all columns if None.\n",
    "    \"\"\"\n",
    "    def __init__(self, columns=None):\n",
    "        self.columns  = columns\n",
    "        self.encoders = None\n",
    "    def fit(self, data, target=None):\n",
    "        \"\"\"\n",
    "        Expects a data frame with named columns to encode.\n",
    "        \"\"\"\n",
    "        # Encode all columns if columns is None\n",
    "        if self.columns is None:\n",
    "            self.columns = data.columns\n",
    "        # Fit a label encoder for each column in the data frame\n",
    "        self.encoders = {\n",
    "            column: LabelEncoder().fit(data[column])\n",
    "            for column in self.columns\n",
    "        }\n",
    "        return self\n",
    "    def transform(self, data):\n",
    "        \"\"\"\n",
    "        Uses the encoders to transform a data frame.\n",
    "        \"\"\"\n",
    "        output = data.copy()\n",
    "        for column, encoder in self.encoders.items():\n",
    "            output[column] = encoder.transform(data[column])\n",
    "        return output\n",
    "encoder = EncodeCategorical(dataset.categorical_features.keys())\n",
    "dataset.data = encoder.fit_transform(dataset.data)\n",
    "dataset.data_test = encoder.fit_transform(dataset.data_test)"
   ]
  },
  {
   "cell_type": "code",
   "execution_count": 93,
   "metadata": {},
   "outputs": [],
   "source": [
    "from sklearn.impute import SimpleImputer\n",
    "import numpy as np\n",
    "\n",
    "class ImputeCategorical(BaseEstimator, TransformerMixin):\n",
    "    \"\"\"\n",
    "    Encodes a specified list of columns or all columns if None.\n",
    "    \"\"\"\n",
    "    def __init__(self, columns=None):\n",
    "        self.columns = columns\n",
    "        self.imputer = None\n",
    "    def fit(self, data, target=None):\n",
    "        \"\"\"\n",
    "        Expects a data frame with named columns to impute.\n",
    "        \"\"\"\n",
    "        # Encode all columns if columns is None\n",
    "        if self.columns is None:\n",
    "            self.columns = data.columns\n",
    "        # Fit an imputer for each column in the data frame\n",
    "        self.imputer = SimpleImputer(missing_values=0, strategy='most_frequent')\n",
    "        self.imputer.fit(data[self.columns])\n",
    "        return self\n",
    "    def transform(self, data):\n",
    "        \"\"\"\n",
    "        Uses the encoders to transform a data frame.\n",
    "        \"\"\"\n",
    "        output = data.copy()\n",
    "        output[self.columns] = self.imputer.transform(output[self.columns])\n",
    "        return output\n",
    "imputer = ImputeCategorical(['workclass', 'native-country', 'occupation'])\n",
    "dataset.data = imputer.fit_transform(dataset.data)\n",
    "dataset.data_test = imputer.fit_transform(dataset.data_test)"
   ]
  },
  {
   "cell_type": "code",
   "execution_count": 94,
   "metadata": {},
   "outputs": [],
   "source": [
    "X_train = dataset.data\n",
    "yencode = LabelEncoder().fit(dataset.target)\n",
    "y_train = yencode.transform(dataset.target)\n",
    "\n",
    "X_test = dataset.data_test\n",
    "y_test = yencode.transform([y.rstrip(\".\") for y in dataset.target_test])\n",
    "dtrain = xgb.DMatrix(X_train, label=y_train)\n",
    "dtest = xgb.DMatrix(X_test, label=y_test)\n",
    "\n",
    "# enable auto logging\n",
    "mlflow.xgboost.autolog()\n",
    "\n",
    "def grid_test_xgboost(colsample_tree, subsample, max_depth, min_child_weight, eta):\n",
    "    with mlflow.start_run():\n",
    "        # train model\n",
    "        params = {\n",
    "            'objective': 'multi:softprob',\n",
    "            'num_class': 2,\n",
    "            'eval_metric': 'mlogloss',\n",
    "            'max_depth': max_depth,\n",
    "            'min_child_weight': min_child_weight,\n",
    "            'eta':eta,\n",
    "            'subsample': subsample,\n",
    "            'colsample_bytree': colsample_tree\n",
    "        }\n",
    "        model = xgb.train(params, dtrain, evals=[(dtrain, 'train')])\n",
    "\n",
    "        # evaluate model\n",
    "        y_proba = model.predict(dtest)\n",
    "        y_pred = y_proba.argmax(axis=1)\n",
    "        loss = log_loss(y_test, y_proba)\n",
    "        acc = accuracy_score(y_test, y_pred)\n",
    "\n",
    "        # log metrics\n",
    "        mlflow.log_metrics({'log_loss': loss, 'accuracy': acc})\n",
    "        return acc\n",
    "    \n",
    "from sklearn.linear_model import LogisticRegression\n",
    "def grid_test_logreg():\n",
    "    with mlflow.start_run():\n",
    "        clf = LogisticRegression(random_state=0).fit(X_train, y_train)\n",
    "        accuracy = clf.score(X_test, y_test)\n",
    "        mlflow.log_metrics({'accuracy': accuracy})\n",
    "        mlflow.log_params()\n",
    "        return accuracy"
   ]
  },
  {
   "cell_type": "code",
   "execution_count": 87,
   "metadata": {},
   "outputs": [
    {
     "name": "stdout",
     "output_type": "stream",
     "text": [
      "[0]\ttrain-mlogloss:0.50964\n",
      "[1]\ttrain-mlogloss:0.45950\n",
      "[2]\ttrain-mlogloss:0.42490\n",
      "[3]\ttrain-mlogloss:0.41392\n",
      "[4]\ttrain-mlogloss:0.39993\n",
      "[5]\ttrain-mlogloss:0.39182\n",
      "[6]\ttrain-mlogloss:0.37690\n",
      "[7]\ttrain-mlogloss:0.36655\n",
      "[8]\ttrain-mlogloss:0.36062\n",
      "[9]\ttrain-mlogloss:0.35807\n"
     ]
    },
    {
     "name": "stderr",
     "output_type": "stream",
     "text": [
      "/Library/Frameworks/Python.framework/Versions/3.6/lib/python3.6/site-packages/mlflow/xgboost.py:333: DeprecationWarning: inspect.getargspec() is deprecated, use inspect.signature() or inspect.getfullargspec()\n",
      "  all_arg_names = inspect.getargspec(original)[0]  # pylint: disable=W1505\n"
     ]
    },
    {
     "name": "stdout",
     "output_type": "stream",
     "text": [
      "[0]\ttrain-mlogloss:0.60618\n",
      "[1]\ttrain-mlogloss:0.55536\n",
      "[2]\ttrain-mlogloss:0.51369\n",
      "[3]\ttrain-mlogloss:0.49838\n",
      "[4]\ttrain-mlogloss:0.48000\n",
      "[5]\ttrain-mlogloss:0.46668\n",
      "[6]\ttrain-mlogloss:0.45264\n",
      "[7]\ttrain-mlogloss:0.43993\n",
      "[8]\ttrain-mlogloss:0.43135\n",
      "[9]\ttrain-mlogloss:0.42742\n"
     ]
    },
    {
     "name": "stderr",
     "output_type": "stream",
     "text": [
      "/Library/Frameworks/Python.framework/Versions/3.6/lib/python3.6/site-packages/mlflow/xgboost.py:333: DeprecationWarning: inspect.getargspec() is deprecated, use inspect.signature() or inspect.getfullargspec()\n",
      "  all_arg_names = inspect.getargspec(original)[0]  # pylint: disable=W1505\n"
     ]
    },
    {
     "name": "stdout",
     "output_type": "stream",
     "text": [
      "[0]\ttrain-mlogloss:0.68980\n",
      "[1]\ttrain-mlogloss:0.68661\n",
      "[2]\ttrain-mlogloss:0.68301\n",
      "[3]\ttrain-mlogloss:0.68032\n",
      "[4]\ttrain-mlogloss:0.67727\n",
      "[5]\ttrain-mlogloss:0.67414\n",
      "[6]\ttrain-mlogloss:0.67098\n",
      "[7]\ttrain-mlogloss:0.66778\n",
      "[8]\ttrain-mlogloss:0.66488\n",
      "[9]\ttrain-mlogloss:0.66239\n"
     ]
    },
    {
     "name": "stderr",
     "output_type": "stream",
     "text": [
      "/Library/Frameworks/Python.framework/Versions/3.6/lib/python3.6/site-packages/mlflow/xgboost.py:333: DeprecationWarning: inspect.getargspec() is deprecated, use inspect.signature() or inspect.getfullargspec()\n",
      "  all_arg_names = inspect.getargspec(original)[0]  # pylint: disable=W1505\n"
     ]
    },
    {
     "name": "stdout",
     "output_type": "stream",
     "text": [
      "[0]\ttrain-mlogloss:0.69147\n",
      "[1]\ttrain-mlogloss:0.68986\n",
      "[2]\ttrain-mlogloss:0.68803\n",
      "[3]\ttrain-mlogloss:0.68664\n",
      "[4]\ttrain-mlogloss:0.68505\n",
      "[5]\ttrain-mlogloss:0.68343\n",
      "[6]\ttrain-mlogloss:0.68176\n",
      "[7]\ttrain-mlogloss:0.68007\n",
      "[8]\ttrain-mlogloss:0.67851\n",
      "[9]\ttrain-mlogloss:0.67716\n"
     ]
    },
    {
     "name": "stderr",
     "output_type": "stream",
     "text": [
      "/Library/Frameworks/Python.framework/Versions/3.6/lib/python3.6/site-packages/mlflow/xgboost.py:333: DeprecationWarning: inspect.getargspec() is deprecated, use inspect.signature() or inspect.getfullargspec()\n",
      "  all_arg_names = inspect.getargspec(original)[0]  # pylint: disable=W1505\n"
     ]
    },
    {
     "name": "stdout",
     "output_type": "stream",
     "text": [
      "[0]\ttrain-mlogloss:0.47038\n",
      "[1]\ttrain-mlogloss:0.41669\n",
      "[2]\ttrain-mlogloss:0.37472\n",
      "[3]\ttrain-mlogloss:0.35341\n",
      "[4]\ttrain-mlogloss:0.33949\n",
      "[5]\ttrain-mlogloss:0.32812\n",
      "[6]\ttrain-mlogloss:0.32322\n",
      "[7]\ttrain-mlogloss:0.31716\n",
      "[8]\ttrain-mlogloss:0.31410\n",
      "[9]\ttrain-mlogloss:0.31374\n"
     ]
    },
    {
     "name": "stderr",
     "output_type": "stream",
     "text": [
      "/Library/Frameworks/Python.framework/Versions/3.6/lib/python3.6/site-packages/mlflow/xgboost.py:333: DeprecationWarning: inspect.getargspec() is deprecated, use inspect.signature() or inspect.getfullargspec()\n",
      "  all_arg_names = inspect.getargspec(original)[0]  # pylint: disable=W1505\n"
     ]
    },
    {
     "name": "stdout",
     "output_type": "stream",
     "text": [
      "[0]\ttrain-mlogloss:0.58975\n",
      "[1]\ttrain-mlogloss:0.53479\n",
      "[2]\ttrain-mlogloss:0.48094\n",
      "[3]\ttrain-mlogloss:0.45756\n",
      "[4]\ttrain-mlogloss:0.42925\n",
      "[5]\ttrain-mlogloss:0.41166\n",
      "[6]\ttrain-mlogloss:0.39592\n",
      "[7]\ttrain-mlogloss:0.37909\n",
      "[8]\ttrain-mlogloss:0.36897\n",
      "[9]\ttrain-mlogloss:0.36236\n"
     ]
    },
    {
     "name": "stderr",
     "output_type": "stream",
     "text": [
      "/Library/Frameworks/Python.framework/Versions/3.6/lib/python3.6/site-packages/mlflow/xgboost.py:333: DeprecationWarning: inspect.getargspec() is deprecated, use inspect.signature() or inspect.getfullargspec()\n",
      "  all_arg_names = inspect.getargspec(original)[0]  # pylint: disable=W1505\n"
     ]
    },
    {
     "name": "stdout",
     "output_type": "stream",
     "text": [
      "[0]\ttrain-mlogloss:0.68919\n",
      "[1]\ttrain-mlogloss:0.68580\n",
      "[2]\ttrain-mlogloss:0.68145\n",
      "[3]\ttrain-mlogloss:0.67838\n",
      "[4]\ttrain-mlogloss:0.67450\n",
      "[5]\ttrain-mlogloss:0.67102\n",
      "[6]\ttrain-mlogloss:0.66744\n",
      "[7]\ttrain-mlogloss:0.66351\n",
      "[8]\ttrain-mlogloss:0.66012\n",
      "[9]\ttrain-mlogloss:0.65721\n"
     ]
    },
    {
     "name": "stderr",
     "output_type": "stream",
     "text": [
      "/Library/Frameworks/Python.framework/Versions/3.6/lib/python3.6/site-packages/mlflow/xgboost.py:333: DeprecationWarning: inspect.getargspec() is deprecated, use inspect.signature() or inspect.getfullargspec()\n",
      "  all_arg_names = inspect.getargspec(original)[0]  # pylint: disable=W1505\n"
     ]
    },
    {
     "name": "stdout",
     "output_type": "stream",
     "text": [
      "[0]\ttrain-mlogloss:0.69116\n",
      "[1]\ttrain-mlogloss:0.68945\n",
      "[2]\ttrain-mlogloss:0.68724\n",
      "[3]\ttrain-mlogloss:0.68566\n",
      "[4]\ttrain-mlogloss:0.68366\n",
      "[5]\ttrain-mlogloss:0.68184\n",
      "[6]\ttrain-mlogloss:0.67997\n",
      "[7]\ttrain-mlogloss:0.67789\n",
      "[8]\ttrain-mlogloss:0.67608\n",
      "[9]\ttrain-mlogloss:0.67452\n"
     ]
    },
    {
     "name": "stderr",
     "output_type": "stream",
     "text": [
      "/Library/Frameworks/Python.framework/Versions/3.6/lib/python3.6/site-packages/mlflow/xgboost.py:333: DeprecationWarning: inspect.getargspec() is deprecated, use inspect.signature() or inspect.getfullargspec()\n",
      "  all_arg_names = inspect.getargspec(original)[0]  # pylint: disable=W1505\n"
     ]
    },
    {
     "name": "stdout",
     "output_type": "stream",
     "text": [
      "[0]\ttrain-mlogloss:0.46951\n",
      "[1]\ttrain-mlogloss:0.41574\n",
      "[2]\ttrain-mlogloss:0.37360\n",
      "[3]\ttrain-mlogloss:0.35246\n",
      "[4]\ttrain-mlogloss:0.33854\n",
      "[5]\ttrain-mlogloss:0.32783\n",
      "[6]\ttrain-mlogloss:0.32314\n",
      "[7]\ttrain-mlogloss:0.31720\n",
      "[8]\ttrain-mlogloss:0.31585\n",
      "[9]\ttrain-mlogloss:0.31602\n"
     ]
    },
    {
     "name": "stderr",
     "output_type": "stream",
     "text": [
      "/Library/Frameworks/Python.framework/Versions/3.6/lib/python3.6/site-packages/mlflow/xgboost.py:333: DeprecationWarning: inspect.getargspec() is deprecated, use inspect.signature() or inspect.getfullargspec()\n",
      "  all_arg_names = inspect.getargspec(original)[0]  # pylint: disable=W1505\n"
     ]
    },
    {
     "name": "stdout",
     "output_type": "stream",
     "text": [
      "[0]\ttrain-mlogloss:0.58938\n",
      "[1]\ttrain-mlogloss:0.53444\n",
      "[2]\ttrain-mlogloss:0.48058\n",
      "[3]\ttrain-mlogloss:0.45717\n",
      "[4]\ttrain-mlogloss:0.42884\n",
      "[5]\ttrain-mlogloss:0.41137\n",
      "[6]\ttrain-mlogloss:0.39552\n",
      "[7]\ttrain-mlogloss:0.37860\n",
      "[8]\ttrain-mlogloss:0.36760\n",
      "[9]\ttrain-mlogloss:0.36074\n"
     ]
    },
    {
     "name": "stderr",
     "output_type": "stream",
     "text": [
      "/Library/Frameworks/Python.framework/Versions/3.6/lib/python3.6/site-packages/mlflow/xgboost.py:333: DeprecationWarning: inspect.getargspec() is deprecated, use inspect.signature() or inspect.getfullargspec()\n",
      "  all_arg_names = inspect.getargspec(original)[0]  # pylint: disable=W1505\n"
     ]
    },
    {
     "name": "stdout",
     "output_type": "stream",
     "text": [
      "[0]\ttrain-mlogloss:0.68917\n",
      "[1]\ttrain-mlogloss:0.68579\n",
      "[2]\ttrain-mlogloss:0.68144\n",
      "[3]\ttrain-mlogloss:0.67836\n",
      "[4]\ttrain-mlogloss:0.67448\n",
      "[5]\ttrain-mlogloss:0.67100\n",
      "[6]\ttrain-mlogloss:0.66743\n",
      "[7]\ttrain-mlogloss:0.66349\n",
      "[8]\ttrain-mlogloss:0.66005\n",
      "[9]\ttrain-mlogloss:0.65708\n"
     ]
    },
    {
     "name": "stderr",
     "output_type": "stream",
     "text": [
      "/Library/Frameworks/Python.framework/Versions/3.6/lib/python3.6/site-packages/mlflow/xgboost.py:333: DeprecationWarning: inspect.getargspec() is deprecated, use inspect.signature() or inspect.getfullargspec()\n",
      "  all_arg_names = inspect.getargspec(original)[0]  # pylint: disable=W1505\n"
     ]
    },
    {
     "name": "stdout",
     "output_type": "stream",
     "text": [
      "[0]\ttrain-mlogloss:0.69116\n",
      "[1]\ttrain-mlogloss:0.68945\n",
      "[2]\ttrain-mlogloss:0.68723\n",
      "[3]\ttrain-mlogloss:0.68565\n",
      "[4]\ttrain-mlogloss:0.68365\n",
      "[5]\ttrain-mlogloss:0.68184\n",
      "[6]\ttrain-mlogloss:0.67996\n",
      "[7]\ttrain-mlogloss:0.67788\n",
      "[8]\ttrain-mlogloss:0.67605\n",
      "[9]\ttrain-mlogloss:0.67445\n"
     ]
    },
    {
     "name": "stderr",
     "output_type": "stream",
     "text": [
      "/Library/Frameworks/Python.framework/Versions/3.6/lib/python3.6/site-packages/mlflow/xgboost.py:333: DeprecationWarning: inspect.getargspec() is deprecated, use inspect.signature() or inspect.getfullargspec()\n",
      "  all_arg_names = inspect.getargspec(original)[0]  # pylint: disable=W1505\n"
     ]
    },
    {
     "name": "stdout",
     "output_type": "stream",
     "text": [
      "[0]\ttrain-mlogloss:0.51117\n",
      "[1]\ttrain-mlogloss:0.45147\n",
      "[2]\ttrain-mlogloss:0.41365\n",
      "[3]\ttrain-mlogloss:0.38970\n",
      "[4]\ttrain-mlogloss:0.37749\n",
      "[5]\ttrain-mlogloss:0.36868\n",
      "[6]\ttrain-mlogloss:0.36518\n",
      "[7]\ttrain-mlogloss:0.35393\n",
      "[8]\ttrain-mlogloss:0.34513\n",
      "[9]\ttrain-mlogloss:0.33916\n"
     ]
    },
    {
     "name": "stderr",
     "output_type": "stream",
     "text": [
      "/Library/Frameworks/Python.framework/Versions/3.6/lib/python3.6/site-packages/mlflow/xgboost.py:333: DeprecationWarning: inspect.getargspec() is deprecated, use inspect.signature() or inspect.getfullargspec()\n",
      "  all_arg_names = inspect.getargspec(original)[0]  # pylint: disable=W1505\n"
     ]
    },
    {
     "name": "stdout",
     "output_type": "stream",
     "text": [
      "[0]\ttrain-mlogloss:0.60725\n",
      "[1]\ttrain-mlogloss:0.54647\n",
      "[2]\ttrain-mlogloss:0.51093\n",
      "[3]\ttrain-mlogloss:0.48964\n",
      "[4]\ttrain-mlogloss:0.47210\n",
      "[5]\ttrain-mlogloss:0.45416\n",
      "[6]\ttrain-mlogloss:0.44430\n",
      "[7]\ttrain-mlogloss:0.43007\n",
      "[8]\ttrain-mlogloss:0.42064\n",
      "[9]\ttrain-mlogloss:0.41065\n"
     ]
    },
    {
     "name": "stderr",
     "output_type": "stream",
     "text": [
      "/Library/Frameworks/Python.framework/Versions/3.6/lib/python3.6/site-packages/mlflow/xgboost.py:333: DeprecationWarning: inspect.getargspec() is deprecated, use inspect.signature() or inspect.getfullargspec()\n",
      "  all_arg_names = inspect.getargspec(original)[0]  # pylint: disable=W1505\n"
     ]
    },
    {
     "name": "stdout",
     "output_type": "stream",
     "text": [
      "[0]\ttrain-mlogloss:0.68985\n",
      "[1]\ttrain-mlogloss:0.68622\n",
      "[2]\ttrain-mlogloss:0.68293\n",
      "[3]\ttrain-mlogloss:0.67989\n",
      "[4]\ttrain-mlogloss:0.67681\n",
      "[5]\ttrain-mlogloss:0.67342\n",
      "[6]\ttrain-mlogloss:0.67062\n",
      "[7]\ttrain-mlogloss:0.66718\n",
      "[8]\ttrain-mlogloss:0.66431\n",
      "[9]\ttrain-mlogloss:0.66107\n"
     ]
    },
    {
     "name": "stderr",
     "output_type": "stream",
     "text": [
      "/Library/Frameworks/Python.framework/Versions/3.6/lib/python3.6/site-packages/mlflow/xgboost.py:333: DeprecationWarning: inspect.getargspec() is deprecated, use inspect.signature() or inspect.getfullargspec()\n",
      "  all_arg_names = inspect.getargspec(original)[0]  # pylint: disable=W1505\n"
     ]
    },
    {
     "name": "stdout",
     "output_type": "stream",
     "text": [
      "[0]\ttrain-mlogloss:0.69150\n",
      "[1]\ttrain-mlogloss:0.68967\n",
      "[2]\ttrain-mlogloss:0.68799\n",
      "[3]\ttrain-mlogloss:0.68642\n",
      "[4]\ttrain-mlogloss:0.68483\n",
      "[5]\ttrain-mlogloss:0.68306\n",
      "[6]\ttrain-mlogloss:0.68157\n",
      "[7]\ttrain-mlogloss:0.67975\n",
      "[8]\ttrain-mlogloss:0.67821\n",
      "[9]\ttrain-mlogloss:0.67648\n"
     ]
    },
    {
     "name": "stderr",
     "output_type": "stream",
     "text": [
      "/Library/Frameworks/Python.framework/Versions/3.6/lib/python3.6/site-packages/mlflow/xgboost.py:333: DeprecationWarning: inspect.getargspec() is deprecated, use inspect.signature() or inspect.getfullargspec()\n",
      "  all_arg_names = inspect.getargspec(original)[0]  # pylint: disable=W1505\n"
     ]
    },
    {
     "name": "stdout",
     "output_type": "stream",
     "text": [
      "[0]\ttrain-mlogloss:0.46503\n",
      "[1]\ttrain-mlogloss:0.38783\n",
      "[2]\ttrain-mlogloss:0.34190\n",
      "[3]\ttrain-mlogloss:0.32105\n",
      "[4]\ttrain-mlogloss:0.31307\n",
      "[5]\ttrain-mlogloss:0.30362\n",
      "[6]\ttrain-mlogloss:0.29982\n",
      "[7]\ttrain-mlogloss:0.29606\n",
      "[8]\ttrain-mlogloss:0.28755\n",
      "[9]\ttrain-mlogloss:0.28596\n"
     ]
    },
    {
     "name": "stderr",
     "output_type": "stream",
     "text": [
      "/Library/Frameworks/Python.framework/Versions/3.6/lib/python3.6/site-packages/mlflow/xgboost.py:333: DeprecationWarning: inspect.getargspec() is deprecated, use inspect.signature() or inspect.getfullargspec()\n",
      "  all_arg_names = inspect.getargspec(original)[0]  # pylint: disable=W1505\n"
     ]
    },
    {
     "name": "stdout",
     "output_type": "stream",
     "text": [
      "[0]\ttrain-mlogloss:0.58886\n",
      "[1]\ttrain-mlogloss:0.51848\n",
      "[2]\ttrain-mlogloss:0.47120\n",
      "[3]\ttrain-mlogloss:0.43545\n",
      "[4]\ttrain-mlogloss:0.41457\n",
      "[5]\ttrain-mlogloss:0.39299\n",
      "[6]\ttrain-mlogloss:0.38425\n",
      "[7]\ttrain-mlogloss:0.36781\n",
      "[8]\ttrain-mlogloss:0.35676\n",
      "[9]\ttrain-mlogloss:0.34668\n"
     ]
    },
    {
     "name": "stderr",
     "output_type": "stream",
     "text": [
      "/Library/Frameworks/Python.framework/Versions/3.6/lib/python3.6/site-packages/mlflow/xgboost.py:333: DeprecationWarning: inspect.getargspec() is deprecated, use inspect.signature() or inspect.getfullargspec()\n",
      "  all_arg_names = inspect.getargspec(original)[0]  # pylint: disable=W1505\n"
     ]
    },
    {
     "name": "stdout",
     "output_type": "stream",
     "text": [
      "[0]\ttrain-mlogloss:0.68917\n",
      "[1]\ttrain-mlogloss:0.68510\n",
      "[2]\ttrain-mlogloss:0.68114\n",
      "[3]\ttrain-mlogloss:0.67709\n",
      "[4]\ttrain-mlogloss:0.67349\n",
      "[5]\ttrain-mlogloss:0.66952\n",
      "[6]\ttrain-mlogloss:0.66639\n",
      "[7]\ttrain-mlogloss:0.66223\n",
      "[8]\ttrain-mlogloss:0.65888\n",
      "[9]\ttrain-mlogloss:0.65485\n"
     ]
    },
    {
     "name": "stderr",
     "output_type": "stream",
     "text": [
      "/Library/Frameworks/Python.framework/Versions/3.6/lib/python3.6/site-packages/mlflow/xgboost.py:333: DeprecationWarning: inspect.getargspec() is deprecated, use inspect.signature() or inspect.getfullargspec()\n",
      "  all_arg_names = inspect.getargspec(original)[0]  # pylint: disable=W1505\n"
     ]
    },
    {
     "name": "stdout",
     "output_type": "stream",
     "text": [
      "[0]\ttrain-mlogloss:0.69116\n",
      "[1]\ttrain-mlogloss:0.68910\n",
      "[2]\ttrain-mlogloss:0.68708\n",
      "[3]\ttrain-mlogloss:0.68501\n",
      "[4]\ttrain-mlogloss:0.68314\n",
      "[5]\ttrain-mlogloss:0.68108\n",
      "[6]\ttrain-mlogloss:0.67943\n",
      "[7]\ttrain-mlogloss:0.67723\n",
      "[8]\ttrain-mlogloss:0.67544\n",
      "[9]\ttrain-mlogloss:0.67328\n"
     ]
    },
    {
     "name": "stderr",
     "output_type": "stream",
     "text": [
      "/Library/Frameworks/Python.framework/Versions/3.6/lib/python3.6/site-packages/mlflow/xgboost.py:333: DeprecationWarning: inspect.getargspec() is deprecated, use inspect.signature() or inspect.getfullargspec()\n",
      "  all_arg_names = inspect.getargspec(original)[0]  # pylint: disable=W1505\n"
     ]
    },
    {
     "name": "stdout",
     "output_type": "stream",
     "text": [
      "[0]\ttrain-mlogloss:0.46182\n",
      "[1]\ttrain-mlogloss:0.37948\n",
      "[2]\ttrain-mlogloss:0.33014\n",
      "[3]\ttrain-mlogloss:0.30988\n",
      "[4]\ttrain-mlogloss:0.29872\n",
      "[5]\ttrain-mlogloss:0.28978\n",
      "[6]\ttrain-mlogloss:0.28629\n",
      "[7]\ttrain-mlogloss:0.28200\n",
      "[8]\ttrain-mlogloss:0.27144\n",
      "[9]\ttrain-mlogloss:0.26973\n"
     ]
    },
    {
     "name": "stderr",
     "output_type": "stream",
     "text": [
      "/Library/Frameworks/Python.framework/Versions/3.6/lib/python3.6/site-packages/mlflow/xgboost.py:333: DeprecationWarning: inspect.getargspec() is deprecated, use inspect.signature() or inspect.getfullargspec()\n",
      "  all_arg_names = inspect.getargspec(original)[0]  # pylint: disable=W1505\n"
     ]
    },
    {
     "name": "stdout",
     "output_type": "stream",
     "text": [
      "[0]\ttrain-mlogloss:0.58759\n",
      "[1]\ttrain-mlogloss:0.51514\n",
      "[2]\ttrain-mlogloss:0.46581\n",
      "[3]\ttrain-mlogloss:0.43033\n",
      "[4]\ttrain-mlogloss:0.40731\n",
      "[5]\ttrain-mlogloss:0.38486\n",
      "[6]\ttrain-mlogloss:0.37591\n",
      "[7]\ttrain-mlogloss:0.35934\n",
      "[8]\ttrain-mlogloss:0.34754\n",
      "[9]\ttrain-mlogloss:0.33734\n"
     ]
    },
    {
     "name": "stderr",
     "output_type": "stream",
     "text": [
      "/Library/Frameworks/Python.framework/Versions/3.6/lib/python3.6/site-packages/mlflow/xgboost.py:333: DeprecationWarning: inspect.getargspec() is deprecated, use inspect.signature() or inspect.getfullargspec()\n",
      "  all_arg_names = inspect.getargspec(original)[0]  # pylint: disable=W1505\n"
     ]
    },
    {
     "name": "stdout",
     "output_type": "stream",
     "text": [
      "[0]\ttrain-mlogloss:0.68913\n",
      "[1]\ttrain-mlogloss:0.68497\n",
      "[2]\ttrain-mlogloss:0.68092\n",
      "[3]\ttrain-mlogloss:0.67687\n",
      "[4]\ttrain-mlogloss:0.67319\n",
      "[5]\ttrain-mlogloss:0.66917\n",
      "[6]\ttrain-mlogloss:0.66602\n",
      "[7]\ttrain-mlogloss:0.66183\n",
      "[8]\ttrain-mlogloss:0.65841\n",
      "[9]\ttrain-mlogloss:0.65436\n"
     ]
    },
    {
     "name": "stderr",
     "output_type": "stream",
     "text": [
      "/Library/Frameworks/Python.framework/Versions/3.6/lib/python3.6/site-packages/mlflow/xgboost.py:333: DeprecationWarning: inspect.getargspec() is deprecated, use inspect.signature() or inspect.getfullargspec()\n",
      "  all_arg_names = inspect.getargspec(original)[0]  # pylint: disable=W1505\n"
     ]
    },
    {
     "name": "stdout",
     "output_type": "stream",
     "text": [
      "[0]\ttrain-mlogloss:0.69114\n",
      "[1]\ttrain-mlogloss:0.68903\n",
      "[2]\ttrain-mlogloss:0.68697\n",
      "[3]\ttrain-mlogloss:0.68490\n",
      "[4]\ttrain-mlogloss:0.68299\n",
      "[5]\ttrain-mlogloss:0.68090\n",
      "[6]\ttrain-mlogloss:0.67924\n",
      "[7]\ttrain-mlogloss:0.67703\n",
      "[8]\ttrain-mlogloss:0.67520\n",
      "[9]\ttrain-mlogloss:0.67304\n"
     ]
    },
    {
     "name": "stderr",
     "output_type": "stream",
     "text": [
      "/Library/Frameworks/Python.framework/Versions/3.6/lib/python3.6/site-packages/mlflow/xgboost.py:333: DeprecationWarning: inspect.getargspec() is deprecated, use inspect.signature() or inspect.getfullargspec()\n",
      "  all_arg_names = inspect.getargspec(original)[0]  # pylint: disable=W1505\n"
     ]
    },
    {
     "name": "stdout",
     "output_type": "stream",
     "text": [
      "[0]\ttrain-mlogloss:0.48211\n",
      "[1]\ttrain-mlogloss:0.42737\n",
      "[2]\ttrain-mlogloss:0.40392\n",
      "[3]\ttrain-mlogloss:0.39037\n",
      "[4]\ttrain-mlogloss:0.37126\n",
      "[5]\ttrain-mlogloss:0.36063\n",
      "[6]\ttrain-mlogloss:0.35288\n",
      "[7]\ttrain-mlogloss:0.34446\n",
      "[8]\ttrain-mlogloss:0.34020\n",
      "[9]\ttrain-mlogloss:0.33494\n"
     ]
    },
    {
     "name": "stderr",
     "output_type": "stream",
     "text": [
      "/Library/Frameworks/Python.framework/Versions/3.6/lib/python3.6/site-packages/mlflow/xgboost.py:333: DeprecationWarning: inspect.getargspec() is deprecated, use inspect.signature() or inspect.getfullargspec()\n",
      "  all_arg_names = inspect.getargspec(original)[0]  # pylint: disable=W1505\n"
     ]
    },
    {
     "name": "stdout",
     "output_type": "stream",
     "text": [
      "[0]\ttrain-mlogloss:0.59523\n",
      "[1]\ttrain-mlogloss:0.53917\n",
      "[2]\ttrain-mlogloss:0.50219\n",
      "[3]\ttrain-mlogloss:0.47559\n",
      "[4]\ttrain-mlogloss:0.45405\n",
      "[5]\ttrain-mlogloss:0.44007\n",
      "[6]\ttrain-mlogloss:0.42766\n",
      "[7]\ttrain-mlogloss:0.41697\n",
      "[8]\ttrain-mlogloss:0.40845\n",
      "[9]\ttrain-mlogloss:0.40150\n"
     ]
    },
    {
     "name": "stderr",
     "output_type": "stream",
     "text": [
      "/Library/Frameworks/Python.framework/Versions/3.6/lib/python3.6/site-packages/mlflow/xgboost.py:333: DeprecationWarning: inspect.getargspec() is deprecated, use inspect.signature() or inspect.getfullargspec()\n",
      "  all_arg_names = inspect.getargspec(original)[0]  # pylint: disable=W1505\n"
     ]
    },
    {
     "name": "stdout",
     "output_type": "stream",
     "text": [
      "[0]\ttrain-mlogloss:0.68941\n",
      "[1]\ttrain-mlogloss:0.68578\n",
      "[2]\ttrain-mlogloss:0.68213\n",
      "[3]\ttrain-mlogloss:0.67871\n",
      "[4]\ttrain-mlogloss:0.67529\n",
      "[5]\ttrain-mlogloss:0.67193\n",
      "[6]\ttrain-mlogloss:0.66860\n",
      "[7]\ttrain-mlogloss:0.66525\n",
      "[8]\ttrain-mlogloss:0.66198\n",
      "[9]\ttrain-mlogloss:0.65867\n"
     ]
    },
    {
     "name": "stderr",
     "output_type": "stream",
     "text": [
      "/Library/Frameworks/Python.framework/Versions/3.6/lib/python3.6/site-packages/mlflow/xgboost.py:333: DeprecationWarning: inspect.getargspec() is deprecated, use inspect.signature() or inspect.getfullargspec()\n",
      "  all_arg_names = inspect.getargspec(original)[0]  # pylint: disable=W1505\n"
     ]
    },
    {
     "name": "stdout",
     "output_type": "stream",
     "text": [
      "[0]\ttrain-mlogloss:0.69127\n",
      "[1]\ttrain-mlogloss:0.68945\n",
      "[2]\ttrain-mlogloss:0.68759\n",
      "[3]\ttrain-mlogloss:0.68582\n",
      "[4]\ttrain-mlogloss:0.68404\n",
      "[5]\ttrain-mlogloss:0.68230\n",
      "[6]\ttrain-mlogloss:0.68055\n",
      "[7]\ttrain-mlogloss:0.67876\n",
      "[8]\ttrain-mlogloss:0.67701\n",
      "[9]\ttrain-mlogloss:0.67524\n"
     ]
    },
    {
     "name": "stderr",
     "output_type": "stream",
     "text": [
      "/Library/Frameworks/Python.framework/Versions/3.6/lib/python3.6/site-packages/mlflow/xgboost.py:333: DeprecationWarning: inspect.getargspec() is deprecated, use inspect.signature() or inspect.getfullargspec()\n",
      "  all_arg_names = inspect.getargspec(original)[0]  # pylint: disable=W1505\n"
     ]
    },
    {
     "name": "stdout",
     "output_type": "stream",
     "text": [
      "[0]\ttrain-mlogloss:0.43084\n",
      "[1]\ttrain-mlogloss:0.35736\n",
      "[2]\ttrain-mlogloss:0.33528\n",
      "[3]\ttrain-mlogloss:0.32181\n",
      "[4]\ttrain-mlogloss:0.31266\n",
      "[5]\ttrain-mlogloss:0.31078\n",
      "[6]\ttrain-mlogloss:0.30905\n",
      "[7]\ttrain-mlogloss:0.30894\n",
      "[8]\ttrain-mlogloss:0.30957\n",
      "[9]\ttrain-mlogloss:0.31084\n"
     ]
    },
    {
     "name": "stderr",
     "output_type": "stream",
     "text": [
      "/Library/Frameworks/Python.framework/Versions/3.6/lib/python3.6/site-packages/mlflow/xgboost.py:333: DeprecationWarning: inspect.getargspec() is deprecated, use inspect.signature() or inspect.getfullargspec()\n",
      "  all_arg_names = inspect.getargspec(original)[0]  # pylint: disable=W1505\n"
     ]
    },
    {
     "name": "stdout",
     "output_type": "stream",
     "text": [
      "[0]\ttrain-mlogloss:0.57092\n",
      "[1]\ttrain-mlogloss:0.48547\n",
      "[2]\ttrain-mlogloss:0.43813\n",
      "[3]\ttrain-mlogloss:0.40243\n",
      "[4]\ttrain-mlogloss:0.37602\n",
      "[5]\ttrain-mlogloss:0.35890\n",
      "[6]\ttrain-mlogloss:0.34687\n",
      "[7]\ttrain-mlogloss:0.33644\n",
      "[8]\ttrain-mlogloss:0.32917\n",
      "[9]\ttrain-mlogloss:0.32396\n"
     ]
    },
    {
     "name": "stderr",
     "output_type": "stream",
     "text": [
      "/Library/Frameworks/Python.framework/Versions/3.6/lib/python3.6/site-packages/mlflow/xgboost.py:333: DeprecationWarning: inspect.getargspec() is deprecated, use inspect.signature() or inspect.getfullargspec()\n",
      "  all_arg_names = inspect.getargspec(original)[0]  # pylint: disable=W1505\n"
     ]
    },
    {
     "name": "stdout",
     "output_type": "stream",
     "text": [
      "[0]\ttrain-mlogloss:0.68844\n",
      "[1]\ttrain-mlogloss:0.68310\n",
      "[2]\ttrain-mlogloss:0.67840\n",
      "[3]\ttrain-mlogloss:0.67346\n",
      "[4]\ttrain-mlogloss:0.66850\n",
      "[5]\ttrain-mlogloss:0.66400\n",
      "[6]\ttrain-mlogloss:0.65958\n",
      "[7]\ttrain-mlogloss:0.65496\n",
      "[8]\ttrain-mlogloss:0.65029\n",
      "[9]\ttrain-mlogloss:0.64593\n"
     ]
    },
    {
     "name": "stderr",
     "output_type": "stream",
     "text": [
      "/Library/Frameworks/Python.framework/Versions/3.6/lib/python3.6/site-packages/mlflow/xgboost.py:333: DeprecationWarning: inspect.getargspec() is deprecated, use inspect.signature() or inspect.getfullargspec()\n",
      "  all_arg_names = inspect.getargspec(original)[0]  # pylint: disable=W1505\n"
     ]
    },
    {
     "name": "stdout",
     "output_type": "stream",
     "text": [
      "[0]\ttrain-mlogloss:0.69079\n",
      "[1]\ttrain-mlogloss:0.68809\n",
      "[2]\ttrain-mlogloss:0.68569\n",
      "[3]\ttrain-mlogloss:0.68315\n",
      "[4]\ttrain-mlogloss:0.68058\n",
      "[5]\ttrain-mlogloss:0.67823\n",
      "[6]\ttrain-mlogloss:0.67589\n",
      "[7]\ttrain-mlogloss:0.67344\n",
      "[8]\ttrain-mlogloss:0.67093\n",
      "[9]\ttrain-mlogloss:0.66858\n"
     ]
    },
    {
     "name": "stderr",
     "output_type": "stream",
     "text": [
      "/Library/Frameworks/Python.framework/Versions/3.6/lib/python3.6/site-packages/mlflow/xgboost.py:333: DeprecationWarning: inspect.getargspec() is deprecated, use inspect.signature() or inspect.getfullargspec()\n",
      "  all_arg_names = inspect.getargspec(original)[0]  # pylint: disable=W1505\n"
     ]
    },
    {
     "name": "stdout",
     "output_type": "stream",
     "text": [
      "[0]\ttrain-mlogloss:0.41726\n",
      "[1]\ttrain-mlogloss:0.34521\n",
      "[2]\ttrain-mlogloss:0.33013\n",
      "[3]\ttrain-mlogloss:0.31765\n",
      "[4]\ttrain-mlogloss:0.31646\n",
      "[5]\ttrain-mlogloss:0.31784\n",
      "[6]\ttrain-mlogloss:0.32169\n",
      "[7]\ttrain-mlogloss:0.32185\n",
      "[8]\ttrain-mlogloss:0.32575\n",
      "[9]\ttrain-mlogloss:0.32773\n"
     ]
    },
    {
     "name": "stderr",
     "output_type": "stream",
     "text": [
      "/Library/Frameworks/Python.framework/Versions/3.6/lib/python3.6/site-packages/mlflow/xgboost.py:333: DeprecationWarning: inspect.getargspec() is deprecated, use inspect.signature() or inspect.getfullargspec()\n",
      "  all_arg_names = inspect.getargspec(original)[0]  # pylint: disable=W1505\n"
     ]
    },
    {
     "name": "stdout",
     "output_type": "stream",
     "text": [
      "[0]\ttrain-mlogloss:0.56364\n",
      "[1]\ttrain-mlogloss:0.47599\n",
      "[2]\ttrain-mlogloss:0.42697\n",
      "[3]\ttrain-mlogloss:0.39163\n",
      "[4]\ttrain-mlogloss:0.36711\n",
      "[5]\ttrain-mlogloss:0.34988\n",
      "[6]\ttrain-mlogloss:0.33794\n",
      "[7]\ttrain-mlogloss:0.32815\n",
      "[8]\ttrain-mlogloss:0.32195\n",
      "[9]\ttrain-mlogloss:0.31721\n"
     ]
    },
    {
     "name": "stderr",
     "output_type": "stream",
     "text": [
      "/Library/Frameworks/Python.framework/Versions/3.6/lib/python3.6/site-packages/mlflow/xgboost.py:333: DeprecationWarning: inspect.getargspec() is deprecated, use inspect.signature() or inspect.getfullargspec()\n",
      "  all_arg_names = inspect.getargspec(original)[0]  # pylint: disable=W1505\n"
     ]
    },
    {
     "name": "stdout",
     "output_type": "stream",
     "text": [
      "[0]\ttrain-mlogloss:0.68815\n",
      "[1]\ttrain-mlogloss:0.68265\n",
      "[2]\ttrain-mlogloss:0.67775\n",
      "[3]\ttrain-mlogloss:0.67273\n",
      "[4]\ttrain-mlogloss:0.66768\n",
      "[5]\ttrain-mlogloss:0.66303\n",
      "[6]\ttrain-mlogloss:0.65852\n",
      "[7]\ttrain-mlogloss:0.65385\n",
      "[8]\ttrain-mlogloss:0.64907\n",
      "[9]\ttrain-mlogloss:0.64457\n"
     ]
    },
    {
     "name": "stderr",
     "output_type": "stream",
     "text": [
      "/Library/Frameworks/Python.framework/Versions/3.6/lib/python3.6/site-packages/mlflow/xgboost.py:333: DeprecationWarning: inspect.getargspec() is deprecated, use inspect.signature() or inspect.getfullargspec()\n",
      "  all_arg_names = inspect.getargspec(original)[0]  # pylint: disable=W1505\n"
     ]
    },
    {
     "name": "stdout",
     "output_type": "stream",
     "text": [
      "[0]\ttrain-mlogloss:0.69064\n",
      "[1]\ttrain-mlogloss:0.68786\n",
      "[2]\ttrain-mlogloss:0.68536\n",
      "[3]\ttrain-mlogloss:0.68278\n",
      "[4]\ttrain-mlogloss:0.68016\n",
      "[5]\ttrain-mlogloss:0.67773\n",
      "[6]\ttrain-mlogloss:0.67534\n",
      "[7]\ttrain-mlogloss:0.67286\n",
      "[8]\ttrain-mlogloss:0.67030\n",
      "[9]\ttrain-mlogloss:0.66786\n"
     ]
    },
    {
     "name": "stderr",
     "output_type": "stream",
     "text": [
      "/Library/Frameworks/Python.framework/Versions/3.6/lib/python3.6/site-packages/mlflow/xgboost.py:333: DeprecationWarning: inspect.getargspec() is deprecated, use inspect.signature() or inspect.getfullargspec()\n",
      "  all_arg_names = inspect.getargspec(original)[0]  # pylint: disable=W1505\n"
     ]
    },
    {
     "name": "stdout",
     "output_type": "stream",
     "text": [
      "[0]\ttrain-mlogloss:0.50534\n",
      "[1]\ttrain-mlogloss:0.43934\n",
      "[2]\ttrain-mlogloss:0.42017\n",
      "[3]\ttrain-mlogloss:0.38016\n",
      "[4]\ttrain-mlogloss:0.36379\n",
      "[5]\ttrain-mlogloss:0.35275\n",
      "[6]\ttrain-mlogloss:0.34729\n",
      "[7]\ttrain-mlogloss:0.34042\n",
      "[8]\ttrain-mlogloss:0.33416\n",
      "[9]\ttrain-mlogloss:0.33111\n"
     ]
    },
    {
     "name": "stderr",
     "output_type": "stream",
     "text": [
      "/Library/Frameworks/Python.framework/Versions/3.6/lib/python3.6/site-packages/mlflow/xgboost.py:333: DeprecationWarning: inspect.getargspec() is deprecated, use inspect.signature() or inspect.getfullargspec()\n",
      "  all_arg_names = inspect.getargspec(original)[0]  # pylint: disable=W1505\n"
     ]
    },
    {
     "name": "stdout",
     "output_type": "stream",
     "text": [
      "[0]\ttrain-mlogloss:0.60452\n",
      "[1]\ttrain-mlogloss:0.54396\n",
      "[2]\ttrain-mlogloss:0.50271\n",
      "[3]\ttrain-mlogloss:0.47515\n",
      "[4]\ttrain-mlogloss:0.45562\n",
      "[5]\ttrain-mlogloss:0.43870\n",
      "[6]\ttrain-mlogloss:0.42742\n",
      "[7]\ttrain-mlogloss:0.41788\n",
      "[8]\ttrain-mlogloss:0.40914\n",
      "[9]\ttrain-mlogloss:0.40145\n"
     ]
    },
    {
     "name": "stderr",
     "output_type": "stream",
     "text": [
      "/Library/Frameworks/Python.framework/Versions/3.6/lib/python3.6/site-packages/mlflow/xgboost.py:333: DeprecationWarning: inspect.getargspec() is deprecated, use inspect.signature() or inspect.getfullargspec()\n",
      "  all_arg_names = inspect.getargspec(original)[0]  # pylint: disable=W1505\n"
     ]
    },
    {
     "name": "stdout",
     "output_type": "stream",
     "text": [
      "[0]\ttrain-mlogloss:0.68973\n",
      "[1]\ttrain-mlogloss:0.68603\n",
      "[2]\ttrain-mlogloss:0.68232\n",
      "[3]\ttrain-mlogloss:0.67874\n",
      "[4]\ttrain-mlogloss:0.67524\n",
      "[5]\ttrain-mlogloss:0.67172\n",
      "[6]\ttrain-mlogloss:0.66858\n",
      "[7]\ttrain-mlogloss:0.66517\n",
      "[8]\ttrain-mlogloss:0.66199\n",
      "[9]\ttrain-mlogloss:0.65870\n"
     ]
    },
    {
     "name": "stderr",
     "output_type": "stream",
     "text": [
      "/Library/Frameworks/Python.framework/Versions/3.6/lib/python3.6/site-packages/mlflow/xgboost.py:333: DeprecationWarning: inspect.getargspec() is deprecated, use inspect.signature() or inspect.getfullargspec()\n",
      "  all_arg_names = inspect.getargspec(original)[0]  # pylint: disable=W1505\n"
     ]
    },
    {
     "name": "stdout",
     "output_type": "stream",
     "text": [
      "[0]\ttrain-mlogloss:0.69145\n",
      "[1]\ttrain-mlogloss:0.68958\n",
      "[2]\ttrain-mlogloss:0.68768\n",
      "[3]\ttrain-mlogloss:0.68585\n",
      "[4]\ttrain-mlogloss:0.68402\n",
      "[5]\ttrain-mlogloss:0.68218\n",
      "[6]\ttrain-mlogloss:0.68053\n",
      "[7]\ttrain-mlogloss:0.67872\n",
      "[8]\ttrain-mlogloss:0.67701\n",
      "[9]\ttrain-mlogloss:0.67523\n"
     ]
    },
    {
     "name": "stderr",
     "output_type": "stream",
     "text": [
      "/Library/Frameworks/Python.framework/Versions/3.6/lib/python3.6/site-packages/mlflow/xgboost.py:333: DeprecationWarning: inspect.getargspec() is deprecated, use inspect.signature() or inspect.getfullargspec()\n",
      "  all_arg_names = inspect.getargspec(original)[0]  # pylint: disable=W1505\n"
     ]
    },
    {
     "name": "stdout",
     "output_type": "stream",
     "text": [
      "[0]\ttrain-mlogloss:0.42801\n",
      "[1]\ttrain-mlogloss:0.34636\n",
      "[2]\ttrain-mlogloss:0.31577\n",
      "[3]\ttrain-mlogloss:0.29998\n",
      "[4]\ttrain-mlogloss:0.29207\n",
      "[5]\ttrain-mlogloss:0.28603\n",
      "[6]\ttrain-mlogloss:0.28068\n",
      "[7]\ttrain-mlogloss:0.27580\n",
      "[8]\ttrain-mlogloss:0.27233\n",
      "[9]\ttrain-mlogloss:0.27052\n"
     ]
    },
    {
     "name": "stderr",
     "output_type": "stream",
     "text": [
      "/Library/Frameworks/Python.framework/Versions/3.6/lib/python3.6/site-packages/mlflow/xgboost.py:333: DeprecationWarning: inspect.getargspec() is deprecated, use inspect.signature() or inspect.getfullargspec()\n",
      "  all_arg_names = inspect.getargspec(original)[0]  # pylint: disable=W1505\n"
     ]
    },
    {
     "name": "stdout",
     "output_type": "stream",
     "text": [
      "[0]\ttrain-mlogloss:0.57259\n",
      "[1]\ttrain-mlogloss:0.48852\n",
      "[2]\ttrain-mlogloss:0.43161\n",
      "[3]\ttrain-mlogloss:0.39256\n",
      "[4]\ttrain-mlogloss:0.36676\n",
      "[5]\ttrain-mlogloss:0.34847\n",
      "[6]\ttrain-mlogloss:0.33632\n",
      "[7]\ttrain-mlogloss:0.32577\n",
      "[8]\ttrain-mlogloss:0.31673\n",
      "[9]\ttrain-mlogloss:0.31090\n"
     ]
    },
    {
     "name": "stderr",
     "output_type": "stream",
     "text": [
      "/Library/Frameworks/Python.framework/Versions/3.6/lib/python3.6/site-packages/mlflow/xgboost.py:333: DeprecationWarning: inspect.getargspec() is deprecated, use inspect.signature() or inspect.getfullargspec()\n",
      "  all_arg_names = inspect.getargspec(original)[0]  # pylint: disable=W1505\n"
     ]
    },
    {
     "name": "stdout",
     "output_type": "stream",
     "text": [
      "[0]\ttrain-mlogloss:0.68856\n",
      "[1]\ttrain-mlogloss:0.68347\n",
      "[2]\ttrain-mlogloss:0.67819\n",
      "[3]\ttrain-mlogloss:0.67295\n",
      "[4]\ttrain-mlogloss:0.66794\n",
      "[5]\ttrain-mlogloss:0.66283\n",
      "[6]\ttrain-mlogloss:0.65879\n",
      "[7]\ttrain-mlogloss:0.65393\n",
      "[8]\ttrain-mlogloss:0.64956\n",
      "[9]\ttrain-mlogloss:0.64508\n"
     ]
    },
    {
     "name": "stderr",
     "output_type": "stream",
     "text": [
      "/Library/Frameworks/Python.framework/Versions/3.6/lib/python3.6/site-packages/mlflow/xgboost.py:333: DeprecationWarning: inspect.getargspec() is deprecated, use inspect.signature() or inspect.getfullargspec()\n",
      "  all_arg_names = inspect.getargspec(original)[0]  # pylint: disable=W1505\n"
     ]
    },
    {
     "name": "stdout",
     "output_type": "stream",
     "text": [
      "[0]\ttrain-mlogloss:0.69085\n",
      "[1]\ttrain-mlogloss:0.68827\n",
      "[2]\ttrain-mlogloss:0.68559\n",
      "[3]\ttrain-mlogloss:0.68289\n",
      "[4]\ttrain-mlogloss:0.68029\n",
      "[5]\ttrain-mlogloss:0.67762\n",
      "[6]\ttrain-mlogloss:0.67549\n",
      "[7]\ttrain-mlogloss:0.67291\n",
      "[8]\ttrain-mlogloss:0.67057\n",
      "[9]\ttrain-mlogloss:0.66814\n"
     ]
    },
    {
     "name": "stderr",
     "output_type": "stream",
     "text": [
      "/Library/Frameworks/Python.framework/Versions/3.6/lib/python3.6/site-packages/mlflow/xgboost.py:333: DeprecationWarning: inspect.getargspec() is deprecated, use inspect.signature() or inspect.getfullargspec()\n",
      "  all_arg_names = inspect.getargspec(original)[0]  # pylint: disable=W1505\n"
     ]
    },
    {
     "name": "stdout",
     "output_type": "stream",
     "text": [
      "[0]\ttrain-mlogloss:0.39604\n",
      "[1]\ttrain-mlogloss:0.31453\n",
      "[2]\ttrain-mlogloss:0.27682\n",
      "[3]\ttrain-mlogloss:0.26017\n",
      "[4]\ttrain-mlogloss:0.24840\n"
     ]
    },
    {
     "name": "stderr",
     "output_type": "stream",
     "text": [
      "/Library/Frameworks/Python.framework/Versions/3.6/lib/python3.6/site-packages/mlflow/xgboost.py:333: DeprecationWarning: inspect.getargspec() is deprecated, use inspect.signature() or inspect.getfullargspec()\n",
      "  all_arg_names = inspect.getargspec(original)[0]  # pylint: disable=W1505\n"
     ]
    },
    {
     "name": "stdout",
     "output_type": "stream",
     "text": [
      "[5]\ttrain-mlogloss:0.24297\n",
      "[6]\ttrain-mlogloss:0.23520\n",
      "[7]\ttrain-mlogloss:0.23311\n",
      "[8]\ttrain-mlogloss:0.22600\n",
      "[9]\ttrain-mlogloss:0.22139\n",
      "[0]\ttrain-mlogloss:0.55759\n",
      "[1]\ttrain-mlogloss:0.47013\n",
      "[2]\ttrain-mlogloss:0.40596\n",
      "[3]\ttrain-mlogloss:0.36467\n",
      "[4]\ttrain-mlogloss:0.33658\n"
     ]
    },
    {
     "name": "stderr",
     "output_type": "stream",
     "text": [
      "/Library/Frameworks/Python.framework/Versions/3.6/lib/python3.6/site-packages/mlflow/xgboost.py:333: DeprecationWarning: inspect.getargspec() is deprecated, use inspect.signature() or inspect.getfullargspec()\n",
      "  all_arg_names = inspect.getargspec(original)[0]  # pylint: disable=W1505\n"
     ]
    },
    {
     "name": "stdout",
     "output_type": "stream",
     "text": [
      "[5]\ttrain-mlogloss:0.31585\n",
      "[6]\ttrain-mlogloss:0.30232\n",
      "[7]\ttrain-mlogloss:0.29034\n",
      "[8]\ttrain-mlogloss:0.28000\n",
      "[9]\ttrain-mlogloss:0.27185\n",
      "[0]\ttrain-mlogloss:0.68797\n",
      "[1]\ttrain-mlogloss:0.68262\n",
      "[2]\ttrain-mlogloss:0.67682\n",
      "[3]\ttrain-mlogloss:0.67119\n",
      "[4]\ttrain-mlogloss:0.66590\n"
     ]
    },
    {
     "name": "stderr",
     "output_type": "stream",
     "text": [
      "/Library/Frameworks/Python.framework/Versions/3.6/lib/python3.6/site-packages/mlflow/xgboost.py:333: DeprecationWarning: inspect.getargspec() is deprecated, use inspect.signature() or inspect.getfullargspec()\n",
      "  all_arg_names = inspect.getargspec(original)[0]  # pylint: disable=W1505\n"
     ]
    },
    {
     "name": "stdout",
     "output_type": "stream",
     "text": [
      "[5]\ttrain-mlogloss:0.66044\n",
      "[6]\ttrain-mlogloss:0.65611\n",
      "[7]\ttrain-mlogloss:0.65097\n",
      "[8]\ttrain-mlogloss:0.64619\n",
      "[9]\ttrain-mlogloss:0.64146\n",
      "[0]\ttrain-mlogloss:0.69055\n",
      "[1]\ttrain-mlogloss:0.68785\n",
      "[2]\ttrain-mlogloss:0.68490\n",
      "[3]\ttrain-mlogloss:0.68200\n",
      "[4]\ttrain-mlogloss:0.67925\n"
     ]
    },
    {
     "name": "stderr",
     "output_type": "stream",
     "text": [
      "/Library/Frameworks/Python.framework/Versions/3.6/lib/python3.6/site-packages/mlflow/xgboost.py:333: DeprecationWarning: inspect.getargspec() is deprecated, use inspect.signature() or inspect.getfullargspec()\n",
      "  all_arg_names = inspect.getargspec(original)[0]  # pylint: disable=W1505\n"
     ]
    },
    {
     "name": "stdout",
     "output_type": "stream",
     "text": [
      "[5]\ttrain-mlogloss:0.67639\n",
      "[6]\ttrain-mlogloss:0.67410\n",
      "[7]\ttrain-mlogloss:0.67137\n",
      "[8]\ttrain-mlogloss:0.66881\n",
      "[9]\ttrain-mlogloss:0.66625\n",
      "[0]\ttrain-mlogloss:0.47926\n",
      "[1]\ttrain-mlogloss:0.43499\n",
      "[2]\ttrain-mlogloss:0.39670\n",
      "[3]\ttrain-mlogloss:0.38050\n",
      "[4]\ttrain-mlogloss:0.36815\n",
      "[5]\ttrain-mlogloss:0.35382\n",
      "[6]\ttrain-mlogloss:0.34877\n",
      "[7]\ttrain-mlogloss:0.34063\n",
      "[8]\ttrain-mlogloss:0.33498\n",
      "[9]\ttrain-mlogloss:0.33060\n"
     ]
    },
    {
     "name": "stderr",
     "output_type": "stream",
     "text": [
      "/Library/Frameworks/Python.framework/Versions/3.6/lib/python3.6/site-packages/mlflow/xgboost.py:333: DeprecationWarning: inspect.getargspec() is deprecated, use inspect.signature() or inspect.getfullargspec()\n",
      "  all_arg_names = inspect.getargspec(original)[0]  # pylint: disable=W1505\n"
     ]
    },
    {
     "name": "stdout",
     "output_type": "stream",
     "text": [
      "[0]\ttrain-mlogloss:0.59362\n",
      "[1]\ttrain-mlogloss:0.53695\n",
      "[2]\ttrain-mlogloss:0.49767\n",
      "[3]\ttrain-mlogloss:0.47135\n",
      "[4]\ttrain-mlogloss:0.45008\n",
      "[5]\ttrain-mlogloss:0.43547\n",
      "[6]\ttrain-mlogloss:0.42166\n",
      "[7]\ttrain-mlogloss:0.41165\n",
      "[8]\ttrain-mlogloss:0.40415\n",
      "[9]\ttrain-mlogloss:0.39697\n"
     ]
    },
    {
     "name": "stderr",
     "output_type": "stream",
     "text": [
      "/Library/Frameworks/Python.framework/Versions/3.6/lib/python3.6/site-packages/mlflow/xgboost.py:333: DeprecationWarning: inspect.getargspec() is deprecated, use inspect.signature() or inspect.getfullargspec()\n",
      "  all_arg_names = inspect.getargspec(original)[0]  # pylint: disable=W1505\n"
     ]
    },
    {
     "name": "stdout",
     "output_type": "stream",
     "text": [
      "[0]\ttrain-mlogloss:0.68934\n",
      "[1]\ttrain-mlogloss:0.68561\n",
      "[2]\ttrain-mlogloss:0.68196\n",
      "[3]\ttrain-mlogloss:0.67832\n",
      "[4]\ttrain-mlogloss:0.67481\n",
      "[5]\ttrain-mlogloss:0.67133\n",
      "[6]\ttrain-mlogloss:0.66796\n",
      "[7]\ttrain-mlogloss:0.66453\n",
      "[8]\ttrain-mlogloss:0.66120\n",
      "[9]\ttrain-mlogloss:0.65798\n"
     ]
    },
    {
     "name": "stderr",
     "output_type": "stream",
     "text": [
      "/Library/Frameworks/Python.framework/Versions/3.6/lib/python3.6/site-packages/mlflow/xgboost.py:333: DeprecationWarning: inspect.getargspec() is deprecated, use inspect.signature() or inspect.getfullargspec()\n",
      "  all_arg_names = inspect.getargspec(original)[0]  # pylint: disable=W1505\n"
     ]
    },
    {
     "name": "stdout",
     "output_type": "stream",
     "text": [
      "[0]\ttrain-mlogloss:0.69124\n",
      "[1]\ttrain-mlogloss:0.68935\n",
      "[2]\ttrain-mlogloss:0.68749\n",
      "[3]\ttrain-mlogloss:0.68561\n",
      "[4]\ttrain-mlogloss:0.68379\n",
      "[5]\ttrain-mlogloss:0.68197\n",
      "[6]\ttrain-mlogloss:0.68020\n",
      "[7]\ttrain-mlogloss:0.67836\n",
      "[8]\ttrain-mlogloss:0.67658\n",
      "[9]\ttrain-mlogloss:0.67483\n"
     ]
    },
    {
     "name": "stderr",
     "output_type": "stream",
     "text": [
      "/Library/Frameworks/Python.framework/Versions/3.6/lib/python3.6/site-packages/mlflow/xgboost.py:333: DeprecationWarning: inspect.getargspec() is deprecated, use inspect.signature() or inspect.getfullargspec()\n",
      "  all_arg_names = inspect.getargspec(original)[0]  # pylint: disable=W1505\n"
     ]
    },
    {
     "name": "stdout",
     "output_type": "stream",
     "text": [
      "[0]\ttrain-mlogloss:0.39306\n",
      "[1]\ttrain-mlogloss:0.34364\n",
      "[2]\ttrain-mlogloss:0.32871\n",
      "[3]\ttrain-mlogloss:0.32630\n",
      "[4]\ttrain-mlogloss:0.32033\n",
      "[5]\ttrain-mlogloss:0.32069\n",
      "[6]\ttrain-mlogloss:0.31863\n",
      "[7]\ttrain-mlogloss:0.31919\n",
      "[8]\ttrain-mlogloss:0.32326\n",
      "[9]\ttrain-mlogloss:0.32422\n"
     ]
    },
    {
     "name": "stderr",
     "output_type": "stream",
     "text": [
      "/Library/Frameworks/Python.framework/Versions/3.6/lib/python3.6/site-packages/mlflow/xgboost.py:333: DeprecationWarning: inspect.getargspec() is deprecated, use inspect.signature() or inspect.getfullargspec()\n",
      "  all_arg_names = inspect.getargspec(original)[0]  # pylint: disable=W1505\n"
     ]
    },
    {
     "name": "stdout",
     "output_type": "stream",
     "text": [
      "[0]\ttrain-mlogloss:0.54912\n",
      "[1]\ttrain-mlogloss:0.46883\n",
      "[2]\ttrain-mlogloss:0.42101\n",
      "[3]\ttrain-mlogloss:0.38981\n",
      "[4]\ttrain-mlogloss:0.36666\n",
      "[5]\ttrain-mlogloss:0.35087\n",
      "[6]\ttrain-mlogloss:0.33860\n",
      "[7]\ttrain-mlogloss:0.32872\n",
      "[8]\ttrain-mlogloss:0.32377\n",
      "[9]\ttrain-mlogloss:0.31856\n"
     ]
    },
    {
     "name": "stderr",
     "output_type": "stream",
     "text": [
      "/Library/Frameworks/Python.framework/Versions/3.6/lib/python3.6/site-packages/mlflow/xgboost.py:333: DeprecationWarning: inspect.getargspec() is deprecated, use inspect.signature() or inspect.getfullargspec()\n",
      "  all_arg_names = inspect.getargspec(original)[0]  # pylint: disable=W1505\n"
     ]
    },
    {
     "name": "stdout",
     "output_type": "stream",
     "text": [
      "[0]\ttrain-mlogloss:0.68755\n",
      "[1]\ttrain-mlogloss:0.68207\n",
      "[2]\ttrain-mlogloss:0.67675\n",
      "[3]\ttrain-mlogloss:0.67156\n",
      "[4]\ttrain-mlogloss:0.66643\n",
      "[5]\ttrain-mlogloss:0.66141\n",
      "[6]\ttrain-mlogloss:0.65635\n",
      "[7]\ttrain-mlogloss:0.65138\n",
      "[8]\ttrain-mlogloss:0.64663\n",
      "[9]\ttrain-mlogloss:0.64189\n"
     ]
    },
    {
     "name": "stderr",
     "output_type": "stream",
     "text": [
      "/Library/Frameworks/Python.framework/Versions/3.6/lib/python3.6/site-packages/mlflow/xgboost.py:333: DeprecationWarning: inspect.getargspec() is deprecated, use inspect.signature() or inspect.getfullargspec()\n",
      "  all_arg_names = inspect.getargspec(original)[0]  # pylint: disable=W1505\n"
     ]
    },
    {
     "name": "stdout",
     "output_type": "stream",
     "text": [
      "[0]\ttrain-mlogloss:0.69034\n",
      "[1]\ttrain-mlogloss:0.68757\n",
      "[2]\ttrain-mlogloss:0.68485\n",
      "[3]\ttrain-mlogloss:0.68217\n",
      "[4]\ttrain-mlogloss:0.67950\n",
      "[5]\ttrain-mlogloss:0.67686\n",
      "[6]\ttrain-mlogloss:0.67418\n",
      "[7]\ttrain-mlogloss:0.67153\n",
      "[8]\ttrain-mlogloss:0.66896\n",
      "[9]\ttrain-mlogloss:0.66639\n"
     ]
    },
    {
     "name": "stderr",
     "output_type": "stream",
     "text": [
      "/Library/Frameworks/Python.framework/Versions/3.6/lib/python3.6/site-packages/mlflow/xgboost.py:333: DeprecationWarning: inspect.getargspec() is deprecated, use inspect.signature() or inspect.getfullargspec()\n",
      "  all_arg_names = inspect.getargspec(original)[0]  # pylint: disable=W1505\n"
     ]
    },
    {
     "name": "stdout",
     "output_type": "stream",
     "text": [
      "[0]\ttrain-mlogloss:0.38975\n",
      "[1]\ttrain-mlogloss:0.34652\n",
      "[2]\ttrain-mlogloss:0.33319\n",
      "[3]\ttrain-mlogloss:0.33284\n",
      "[4]\ttrain-mlogloss:0.33184\n",
      "[5]\ttrain-mlogloss:0.33446\n",
      "[6]\ttrain-mlogloss:0.33540\n",
      "[7]\ttrain-mlogloss:0.33749\n",
      "[8]\ttrain-mlogloss:0.34796\n"
     ]
    },
    {
     "name": "stderr",
     "output_type": "stream",
     "text": [
      "/Library/Frameworks/Python.framework/Versions/3.6/lib/python3.6/site-packages/mlflow/xgboost.py:333: DeprecationWarning: inspect.getargspec() is deprecated, use inspect.signature() or inspect.getfullargspec()\n",
      "  all_arg_names = inspect.getargspec(original)[0]  # pylint: disable=W1505\n"
     ]
    },
    {
     "name": "stdout",
     "output_type": "stream",
     "text": [
      "[9]\ttrain-mlogloss:0.34692\n",
      "[0]\ttrain-mlogloss:0.54654\n",
      "[1]\ttrain-mlogloss:0.46387\n",
      "[2]\ttrain-mlogloss:0.41387\n",
      "[3]\ttrain-mlogloss:0.38075\n",
      "[4]\ttrain-mlogloss:0.35623\n",
      "[5]\ttrain-mlogloss:0.34103\n",
      "[6]\ttrain-mlogloss:0.32978\n",
      "[7]\ttrain-mlogloss:0.32088\n",
      "[8]\ttrain-mlogloss:0.31529\n"
     ]
    },
    {
     "name": "stderr",
     "output_type": "stream",
     "text": [
      "/Library/Frameworks/Python.framework/Versions/3.6/lib/python3.6/site-packages/mlflow/xgboost.py:333: DeprecationWarning: inspect.getargspec() is deprecated, use inspect.signature() or inspect.getfullargspec()\n",
      "  all_arg_names = inspect.getargspec(original)[0]  # pylint: disable=W1505\n"
     ]
    },
    {
     "name": "stdout",
     "output_type": "stream",
     "text": [
      "[9]\ttrain-mlogloss:0.31141\n",
      "[0]\ttrain-mlogloss:0.68743\n",
      "[1]\ttrain-mlogloss:0.68182\n",
      "[2]\ttrain-mlogloss:0.67638\n",
      "[3]\ttrain-mlogloss:0.67115\n",
      "[4]\ttrain-mlogloss:0.66588\n",
      "[5]\ttrain-mlogloss:0.66071\n",
      "[6]\ttrain-mlogloss:0.65553\n",
      "[7]\ttrain-mlogloss:0.65046\n",
      "[8]\ttrain-mlogloss:0.64560\n"
     ]
    },
    {
     "name": "stderr",
     "output_type": "stream",
     "text": [
      "/Library/Frameworks/Python.framework/Versions/3.6/lib/python3.6/site-packages/mlflow/xgboost.py:333: DeprecationWarning: inspect.getargspec() is deprecated, use inspect.signature() or inspect.getfullargspec()\n",
      "  all_arg_names = inspect.getargspec(original)[0]  # pylint: disable=W1505\n"
     ]
    },
    {
     "name": "stdout",
     "output_type": "stream",
     "text": [
      "[9]\ttrain-mlogloss:0.64076\n",
      "[0]\ttrain-mlogloss:0.69028\n",
      "[1]\ttrain-mlogloss:0.68744\n",
      "[2]\ttrain-mlogloss:0.68466\n",
      "[3]\ttrain-mlogloss:0.68196\n",
      "[4]\ttrain-mlogloss:0.67923\n",
      "[5]\ttrain-mlogloss:0.67651\n",
      "[6]\ttrain-mlogloss:0.67378\n"
     ]
    },
    {
     "name": "stderr",
     "output_type": "stream",
     "text": [
      "/Library/Frameworks/Python.framework/Versions/3.6/lib/python3.6/site-packages/mlflow/xgboost.py:333: DeprecationWarning: inspect.getargspec() is deprecated, use inspect.signature() or inspect.getfullargspec()\n",
      "  all_arg_names = inspect.getargspec(original)[0]  # pylint: disable=W1505\n"
     ]
    },
    {
     "name": "stdout",
     "output_type": "stream",
     "text": [
      "[7]\ttrain-mlogloss:0.67107\n",
      "[8]\ttrain-mlogloss:0.66844\n",
      "[9]\ttrain-mlogloss:0.66582\n",
      "[0]\ttrain-mlogloss:0.49011\n",
      "[1]\ttrain-mlogloss:0.43253\n",
      "[2]\ttrain-mlogloss:0.39726\n",
      "[3]\ttrain-mlogloss:0.37644\n",
      "[4]\ttrain-mlogloss:0.36613\n",
      "[5]\ttrain-mlogloss:0.35632\n",
      "[6]\ttrain-mlogloss:0.34694\n",
      "[7]\ttrain-mlogloss:0.33944\n",
      "[8]\ttrain-mlogloss:0.33460\n",
      "[9]\ttrain-mlogloss:0.33097\n"
     ]
    },
    {
     "name": "stderr",
     "output_type": "stream",
     "text": [
      "/Library/Frameworks/Python.framework/Versions/3.6/lib/python3.6/site-packages/mlflow/xgboost.py:333: DeprecationWarning: inspect.getargspec() is deprecated, use inspect.signature() or inspect.getfullargspec()\n",
      "  all_arg_names = inspect.getargspec(original)[0]  # pylint: disable=W1505\n"
     ]
    },
    {
     "name": "stdout",
     "output_type": "stream",
     "text": [
      "[0]\ttrain-mlogloss:0.59448\n",
      "[1]\ttrain-mlogloss:0.53447\n",
      "[2]\ttrain-mlogloss:0.49733\n",
      "[3]\ttrain-mlogloss:0.46914\n",
      "[4]\ttrain-mlogloss:0.45038\n",
      "[5]\ttrain-mlogloss:0.43607\n",
      "[6]\ttrain-mlogloss:0.42425\n",
      "[7]\ttrain-mlogloss:0.41402\n",
      "[8]\ttrain-mlogloss:0.40580\n",
      "[9]\ttrain-mlogloss:0.39957\n"
     ]
    },
    {
     "name": "stderr",
     "output_type": "stream",
     "text": [
      "/Library/Frameworks/Python.framework/Versions/3.6/lib/python3.6/site-packages/mlflow/xgboost.py:333: DeprecationWarning: inspect.getargspec() is deprecated, use inspect.signature() or inspect.getfullargspec()\n",
      "  all_arg_names = inspect.getargspec(original)[0]  # pylint: disable=W1505\n"
     ]
    },
    {
     "name": "stdout",
     "output_type": "stream",
     "text": [
      "[0]\ttrain-mlogloss:0.68931\n",
      "[1]\ttrain-mlogloss:0.68554\n",
      "[2]\ttrain-mlogloss:0.68185\n",
      "[3]\ttrain-mlogloss:0.67822\n",
      "[4]\ttrain-mlogloss:0.67467\n",
      "[5]\ttrain-mlogloss:0.67119\n",
      "[6]\ttrain-mlogloss:0.66777\n",
      "[7]\ttrain-mlogloss:0.66443\n",
      "[8]\ttrain-mlogloss:0.66113\n",
      "[9]\ttrain-mlogloss:0.65791\n"
     ]
    },
    {
     "name": "stderr",
     "output_type": "stream",
     "text": [
      "/Library/Frameworks/Python.framework/Versions/3.6/lib/python3.6/site-packages/mlflow/xgboost.py:333: DeprecationWarning: inspect.getargspec() is deprecated, use inspect.signature() or inspect.getfullargspec()\n",
      "  all_arg_names = inspect.getargspec(original)[0]  # pylint: disable=W1505\n"
     ]
    },
    {
     "name": "stdout",
     "output_type": "stream",
     "text": [
      "[0]\ttrain-mlogloss:0.69122\n",
      "[1]\ttrain-mlogloss:0.68931\n",
      "[2]\ttrain-mlogloss:0.68743\n",
      "[3]\ttrain-mlogloss:0.68556\n",
      "[4]\ttrain-mlogloss:0.68370\n",
      "[5]\ttrain-mlogloss:0.68187\n",
      "[6]\ttrain-mlogloss:0.68005\n",
      "[7]\ttrain-mlogloss:0.67824\n",
      "[8]\ttrain-mlogloss:0.67648\n",
      "[9]\ttrain-mlogloss:0.67471\n"
     ]
    },
    {
     "name": "stderr",
     "output_type": "stream",
     "text": [
      "/Library/Frameworks/Python.framework/Versions/3.6/lib/python3.6/site-packages/mlflow/xgboost.py:333: DeprecationWarning: inspect.getargspec() is deprecated, use inspect.signature() or inspect.getfullargspec()\n",
      "  all_arg_names = inspect.getargspec(original)[0]  # pylint: disable=W1505\n"
     ]
    },
    {
     "name": "stdout",
     "output_type": "stream",
     "text": [
      "[0]\ttrain-mlogloss:0.38641\n",
      "[1]\ttrain-mlogloss:0.33291\n",
      "[2]\ttrain-mlogloss:0.31462\n",
      "[3]\ttrain-mlogloss:0.30362\n",
      "[4]\ttrain-mlogloss:0.29955\n",
      "[5]\ttrain-mlogloss:0.29625\n",
      "[6]\ttrain-mlogloss:0.29063\n",
      "[7]\ttrain-mlogloss:0.28392\n",
      "[8]\ttrain-mlogloss:0.27826\n",
      "[9]\ttrain-mlogloss:0.27594\n"
     ]
    },
    {
     "name": "stderr",
     "output_type": "stream",
     "text": [
      "/Library/Frameworks/Python.framework/Versions/3.6/lib/python3.6/site-packages/mlflow/xgboost.py:333: DeprecationWarning: inspect.getargspec() is deprecated, use inspect.signature() or inspect.getfullargspec()\n",
      "  all_arg_names = inspect.getargspec(original)[0]  # pylint: disable=W1505\n"
     ]
    },
    {
     "name": "stdout",
     "output_type": "stream",
     "text": [
      "[0]\ttrain-mlogloss:0.54601\n",
      "[1]\ttrain-mlogloss:0.46498\n",
      "[2]\ttrain-mlogloss:0.41279\n",
      "[3]\ttrain-mlogloss:0.38028\n",
      "[4]\ttrain-mlogloss:0.35798\n",
      "[5]\ttrain-mlogloss:0.34222\n",
      "[6]\ttrain-mlogloss:0.33113\n",
      "[7]\ttrain-mlogloss:0.32253\n"
     ]
    },
    {
     "name": "stderr",
     "output_type": "stream",
     "text": [
      "/Library/Frameworks/Python.framework/Versions/3.6/lib/python3.6/site-packages/mlflow/xgboost.py:333: DeprecationWarning: inspect.getargspec() is deprecated, use inspect.signature() or inspect.getfullargspec()\n",
      "  all_arg_names = inspect.getargspec(original)[0]  # pylint: disable=W1505\n"
     ]
    },
    {
     "name": "stdout",
     "output_type": "stream",
     "text": [
      "[8]\ttrain-mlogloss:0.31408\n",
      "[9]\ttrain-mlogloss:0.30748\n",
      "[0]\ttrain-mlogloss:0.68742\n",
      "[1]\ttrain-mlogloss:0.68180\n",
      "[2]\ttrain-mlogloss:0.67631\n",
      "[3]\ttrain-mlogloss:0.67091\n",
      "[4]\ttrain-mlogloss:0.66561\n",
      "[5]\ttrain-mlogloss:0.66043\n",
      "[6]\ttrain-mlogloss:0.65533\n",
      "[7]\ttrain-mlogloss:0.65029\n",
      "[8]\ttrain-mlogloss:0.64533\n",
      "[9]\ttrain-mlogloss:0.64047\n"
     ]
    },
    {
     "name": "stderr",
     "output_type": "stream",
     "text": [
      "/Library/Frameworks/Python.framework/Versions/3.6/lib/python3.6/site-packages/mlflow/xgboost.py:333: DeprecationWarning: inspect.getargspec() is deprecated, use inspect.signature() or inspect.getfullargspec()\n",
      "  all_arg_names = inspect.getargspec(original)[0]  # pylint: disable=W1505\n"
     ]
    },
    {
     "name": "stdout",
     "output_type": "stream",
     "text": [
      "[0]\ttrain-mlogloss:0.69027\n",
      "[1]\ttrain-mlogloss:0.68744\n",
      "[2]\ttrain-mlogloss:0.68462\n",
      "[3]\ttrain-mlogloss:0.68184\n",
      "[4]\ttrain-mlogloss:0.67908\n",
      "[5]\ttrain-mlogloss:0.67634\n",
      "[6]\ttrain-mlogloss:0.67363\n",
      "[7]\ttrain-mlogloss:0.67096\n",
      "[8]\ttrain-mlogloss:0.66830\n",
      "[9]\ttrain-mlogloss:0.66568\n"
     ]
    },
    {
     "name": "stderr",
     "output_type": "stream",
     "text": [
      "/Library/Frameworks/Python.framework/Versions/3.6/lib/python3.6/site-packages/mlflow/xgboost.py:333: DeprecationWarning: inspect.getargspec() is deprecated, use inspect.signature() or inspect.getfullargspec()\n",
      "  all_arg_names = inspect.getargspec(original)[0]  # pylint: disable=W1505\n"
     ]
    },
    {
     "name": "stdout",
     "output_type": "stream",
     "text": [
      "[0]\ttrain-mlogloss:0.35668\n",
      "[1]\ttrain-mlogloss:0.29727\n",
      "[2]\ttrain-mlogloss:0.26859\n",
      "[3]\ttrain-mlogloss:0.25761\n"
     ]
    },
    {
     "name": "stderr",
     "output_type": "stream",
     "text": [
      "/Library/Frameworks/Python.framework/Versions/3.6/lib/python3.6/site-packages/mlflow/xgboost.py:333: DeprecationWarning: inspect.getargspec() is deprecated, use inspect.signature() or inspect.getfullargspec()\n",
      "  all_arg_names = inspect.getargspec(original)[0]  # pylint: disable=W1505\n"
     ]
    },
    {
     "name": "stdout",
     "output_type": "stream",
     "text": [
      "[4]\ttrain-mlogloss:0.24894\n",
      "[5]\ttrain-mlogloss:0.24259\n",
      "[6]\ttrain-mlogloss:0.23687\n",
      "[7]\ttrain-mlogloss:0.23111\n",
      "[8]\ttrain-mlogloss:0.22824\n",
      "[9]\ttrain-mlogloss:0.21932\n",
      "[0]\ttrain-mlogloss:0.53264\n",
      "[1]\ttrain-mlogloss:0.44409\n",
      "[2]\ttrain-mlogloss:0.38852\n",
      "[3]\ttrain-mlogloss:0.35036\n"
     ]
    },
    {
     "name": "stderr",
     "output_type": "stream",
     "text": [
      "/Library/Frameworks/Python.framework/Versions/3.6/lib/python3.6/site-packages/mlflow/xgboost.py:333: DeprecationWarning: inspect.getargspec() is deprecated, use inspect.signature() or inspect.getfullargspec()\n",
      "  all_arg_names = inspect.getargspec(original)[0]  # pylint: disable=W1505\n"
     ]
    },
    {
     "name": "stdout",
     "output_type": "stream",
     "text": [
      "[4]\ttrain-mlogloss:0.32475\n",
      "[5]\ttrain-mlogloss:0.30559\n",
      "[6]\ttrain-mlogloss:0.29169\n",
      "[7]\ttrain-mlogloss:0.28146\n",
      "[8]\ttrain-mlogloss:0.27165\n",
      "[9]\ttrain-mlogloss:0.26502\n",
      "[0]\ttrain-mlogloss:0.68691\n",
      "[1]\ttrain-mlogloss:0.68079\n",
      "[2]\ttrain-mlogloss:0.67480\n",
      "[3]\ttrain-mlogloss:0.66892\n"
     ]
    },
    {
     "name": "stderr",
     "output_type": "stream",
     "text": [
      "/Library/Frameworks/Python.framework/Versions/3.6/lib/python3.6/site-packages/mlflow/xgboost.py:333: DeprecationWarning: inspect.getargspec() is deprecated, use inspect.signature() or inspect.getfullargspec()\n",
      "  all_arg_names = inspect.getargspec(original)[0]  # pylint: disable=W1505\n"
     ]
    },
    {
     "name": "stdout",
     "output_type": "stream",
     "text": [
      "[4]\ttrain-mlogloss:0.66316\n",
      "[5]\ttrain-mlogloss:0.65750\n",
      "[6]\ttrain-mlogloss:0.65196\n",
      "[7]\ttrain-mlogloss:0.64652\n",
      "[8]\ttrain-mlogloss:0.64118\n",
      "[9]\ttrain-mlogloss:0.63593\n",
      "[0]\ttrain-mlogloss:0.69002\n",
      "[1]\ttrain-mlogloss:0.68692\n",
      "[2]\ttrain-mlogloss:0.68386\n",
      "[3]\ttrain-mlogloss:0.68082\n"
     ]
    },
    {
     "name": "stderr",
     "output_type": "stream",
     "text": [
      "/Library/Frameworks/Python.framework/Versions/3.6/lib/python3.6/site-packages/mlflow/xgboost.py:333: DeprecationWarning: inspect.getargspec() is deprecated, use inspect.signature() or inspect.getfullargspec()\n",
      "  all_arg_names = inspect.getargspec(original)[0]  # pylint: disable=W1505\n"
     ]
    },
    {
     "name": "stdout",
     "output_type": "stream",
     "text": [
      "[4]\ttrain-mlogloss:0.67782\n",
      "[5]\ttrain-mlogloss:0.67484\n",
      "[6]\ttrain-mlogloss:0.67190\n",
      "[7]\ttrain-mlogloss:0.66898\n",
      "[8]\ttrain-mlogloss:0.66609\n",
      "[9]\ttrain-mlogloss:0.66323\n"
     ]
    }
   ],
   "source": [
    "#values from https://blog.cambridgespark.com/hyperparameter-tuning-in-xgboost-4ff9100a3b2f\n",
    "colsample_tree = [0.2, 0.5, 1.0]\n",
    "subsample = [0.05, 1.0]\n",
    "max_depth = [1, 5, 10]\n",
    "min_child_weight = [6]\n",
    "eta = [.9, .3, .01, .005]\n",
    "\n",
    "for i in colsample_tree:\n",
    "    for j in subsample:\n",
    "        for k in max_depth:\n",
    "            for l in min_child_weight:\n",
    "                for m in eta:\n",
    "                    grid_test_xgboost(i, j, k, l, m)"
   ]
  },
  {
   "cell_type": "code",
   "execution_count": 95,
   "metadata": {},
   "outputs": [
    {
     "name": "stdout",
     "output_type": "stream",
     "text": [
      "[0]\ttrain-mlogloss:0.65907\n",
      "[1]\ttrain-mlogloss:0.63675\n",
      "[2]\ttrain-mlogloss:0.60855\n",
      "[3]\ttrain-mlogloss:0.59430\n",
      "[4]\ttrain-mlogloss:0.57516\n",
      "[5]\ttrain-mlogloss:0.55993\n",
      "[6]\ttrain-mlogloss:0.54759\n",
      "[7]\ttrain-mlogloss:0.53285\n",
      "[8]\ttrain-mlogloss:0.52194\n",
      "[9]\ttrain-mlogloss:0.51432\n"
     ]
    },
    {
     "name": "stderr",
     "output_type": "stream",
     "text": [
      "/Library/Frameworks/Python.framework/Versions/3.6/lib/python3.6/site-packages/mlflow/xgboost.py:333: DeprecationWarning: inspect.getargspec() is deprecated, use inspect.signature() or inspect.getfullargspec()\n",
      "  all_arg_names = inspect.getargspec(original)[0]  # pylint: disable=W1505\n"
     ]
    },
    {
     "name": "stdout",
     "output_type": "stream",
     "text": [
      "0.7767950371598796\n"
     ]
    }
   ],
   "source": [
    "print(grid_test(0.05, 0.05, 10, 10, 0.1))"
   ]
  },
  {
   "cell_type": "code",
   "execution_count": 89,
   "metadata": {},
   "outputs": [],
   "source": [
    "import os\n",
    "import pandas as pd\n",
    "\n",
    "dirs = os.listdir(\"mlruns/0\")\n",
    "dictionary = []\n",
    "for i in dirs:\n",
    "    row = {}\n",
    "    if \"meta\" in i or \"DS_Store\" in i:\n",
    "        continue\n",
    "    \n",
    "    accuracy = float(open('mlruns/0/' + i + '/metrics/accuracy').read().split(\" \")[1])\n",
    "    row['accuracy'] = accuracy\n",
    "    row['model'] = 'xgboost'\n",
    "    params_files = os.listdir('mlruns/0/' + i + '/params')\n",
    "    model_params = {}\n",
    "    for j in params_files:\n",
    "        model_params[j] = open('mlruns/0/' + i + '/params/' + j).read()\n",
    "    \n",
    "    row['model_params'] = model_params\n",
    "    dictionary.append(row)\n",
    "    \n",
    "df = pd.DataFrame(dictionary)\n",
    "df.to_csv('mlflow_workflows.csv')"
   ]
  },
  {
   "cell_type": "code",
   "execution_count": null,
   "metadata": {},
   "outputs": [],
   "source": []
  }
 ],
 "metadata": {
  "kernelspec": {
   "display_name": "Python 3",
   "language": "python",
   "name": "python3"
  },
  "language_info": {
   "codemirror_mode": {
    "name": "ipython",
    "version": 3
   },
   "file_extension": ".py",
   "mimetype": "text/x-python",
   "name": "python",
   "nbconvert_exporter": "python",
   "pygments_lexer": "ipython3",
   "version": "3.6.1"
  }
 },
 "nbformat": 4,
 "nbformat_minor": 4
}

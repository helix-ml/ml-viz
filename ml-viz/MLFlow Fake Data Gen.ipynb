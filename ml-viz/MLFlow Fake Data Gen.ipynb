{
 "cells": [
  {
   "cell_type": "code",
   "execution_count": 1,
   "metadata": {},
   "outputs": [],
   "source": [
    "# code from https://medium.com/district-data-labs/building-a-classifier-from-census-data-18f996c4d7cf\n",
    "from sklearn import datasets\n",
    "from sklearn.model_selection import train_test_split\n",
    "from sklearn.metrics import accuracy_score, log_loss\n",
    "import xgboost as xgb\n",
    "\n",
    "import mlflow\n",
    "import mlflow.xgboost\n",
    "import mlflow.sklearn\n",
    "import pandas as pd\n",
    "\n",
    "# prepare train and test data\n",
    "names = [\n",
    "    'age',\n",
    "    'workclass',\n",
    "    'fnlwgt',\n",
    "    'education',\n",
    "    'education-num',\n",
    "    'marital-status',\n",
    "    'occupation',\n",
    "    'relationship',\n",
    "    'race',\n",
    "    'sex',\n",
    "    'capital-gain',\n",
    "    'capital-loss',\n",
    "    'hours-per-week',\n",
    "    'native-country',\n",
    "    'income',\n",
    "]\n",
    "data = pd.read_csv('census_data/adult.data', names=names)\n",
    "\n",
    "import json\n",
    "meta = {\n",
    "    'target_names': list(data.income.unique()),\n",
    "    'feature_names': list(data.columns),\n",
    "    'categorical_features': {\n",
    "        column: list(data[column].unique())\n",
    "        for column in data.columns\n",
    "        if data[column].dtype == 'object'\n",
    "    },\n",
    "}\n",
    "with open('census_data/meta.json', 'w') as f:\n",
    "    json.dump(meta, f, indent=2)"
   ]
  },
  {
   "cell_type": "code",
   "execution_count": 2,
   "metadata": {},
   "outputs": [
    {
     "name": "stderr",
     "output_type": "stream",
     "text": [
      "/Library/Frameworks/Python.framework/Versions/3.6/lib/python3.6/site-packages/sklearn/utils/deprecation.py:143: FutureWarning: The sklearn.datasets.base module is  deprecated in version 0.22 and will be removed in version 0.24. The corresponding classes / functions should instead be imported from sklearn.datasets. Anything that cannot be imported from sklearn.datasets is now part of the private API.\n",
      "  warnings.warn(message, FutureWarning)\n"
     ]
    }
   ],
   "source": [
    "from sklearn.datasets.base import Bunch\n",
    "from sklearn.preprocessing import LabelEncoder\n",
    "def load_data():\n",
    "    # Load the meta data from the file\n",
    "    with open('census_data/meta.json', 'r') as f:\n",
    "        meta = json.load(f)\n",
    "    names = meta['feature_names']\n",
    "    # Load the training and test data, skipping the bad row in the test data\n",
    "    train = pd.read_csv('census_data/adult.data', names=names)\n",
    "    test  = pd.read_csv('census_data/adult.test', names=names, skiprows=1)\n",
    "    # Remove the target from the categorical features\n",
    "    meta['categorical_features'].pop('income')\n",
    "    # Return the bunch with the appropriate data chunked apart\n",
    "    return Bunch(\n",
    "        data = train[names[:-1]],\n",
    "        target = train[names[-1]],\n",
    "        data_test = test[names[:-1]],\n",
    "        target_test = test[names[-1]],\n",
    "        target_names = meta['target_names'],\n",
    "        feature_names = meta['feature_names'],\n",
    "        categorical_features = meta['categorical_features'],\n",
    "        DESCR = \"descr\",\n",
    "    )\n",
    "dataset = load_data()\n",
    "\n",
    "from sklearn.base import BaseEstimator, TransformerMixin\n",
    "class EncodeCategorical(BaseEstimator, TransformerMixin):\n",
    "    \"\"\"\n",
    "    Encodes a specified list of columns or all columns if None.\n",
    "    \"\"\"\n",
    "    def __init__(self, columns=None):\n",
    "        self.columns  = columns\n",
    "        self.encoders = None\n",
    "    def fit(self, data, target=None):\n",
    "        \"\"\"\n",
    "        Expects a data frame with named columns to encode.\n",
    "        \"\"\"\n",
    "        # Encode all columns if columns is None\n",
    "        if self.columns is None:\n",
    "            self.columns = data.columns\n",
    "        # Fit a label encoder for each column in the data frame\n",
    "        self.encoders = {\n",
    "            column: LabelEncoder().fit(data[column])\n",
    "            for column in self.columns\n",
    "        }\n",
    "        return self\n",
    "    def transform(self, data):\n",
    "        \"\"\"\n",
    "        Uses the encoders to transform a data frame.\n",
    "        \"\"\"\n",
    "        output = data.copy()\n",
    "        for column, encoder in self.encoders.items():\n",
    "            output[column] = encoder.transform(data[column])\n",
    "        return output\n",
    "encoder = EncodeCategorical(dataset.categorical_features.keys())\n",
    "dataset.data = encoder.fit_transform(dataset.data)\n",
    "dataset.data_test = encoder.fit_transform(dataset.data_test)"
   ]
  },
  {
   "cell_type": "code",
   "execution_count": 3,
   "metadata": {},
   "outputs": [],
   "source": [
    "from sklearn.impute import SimpleImputer\n",
    "import numpy as np\n",
    "\n",
    "class ImputeCategorical(BaseEstimator, TransformerMixin):\n",
    "    \"\"\"\n",
    "    Encodes a specified list of columns or all columns if None.\n",
    "    \"\"\"\n",
    "    def __init__(self, columns=None):\n",
    "        self.columns = columns\n",
    "        self.imputer = None\n",
    "    def fit(self, data, target=None):\n",
    "        \"\"\"\n",
    "        Expects a data frame with named columns to impute.\n",
    "        \"\"\"\n",
    "        # Encode all columns if columns is None\n",
    "        if self.columns is None:\n",
    "            self.columns = data.columns\n",
    "        # Fit an imputer for each column in the data frame\n",
    "        self.imputer = SimpleImputer(missing_values=0, strategy='most_frequent')\n",
    "        self.imputer.fit(data[self.columns])\n",
    "        return self\n",
    "    def transform(self, data):\n",
    "        \"\"\"\n",
    "        Uses the encoders to transform a data frame.\n",
    "        \"\"\"\n",
    "        output = data.copy()\n",
    "        output[self.columns] = self.imputer.transform(output[self.columns])\n",
    "        return output\n",
    "imputer = ImputeCategorical(['workclass', 'native-country', 'occupation'])\n",
    "dataset.data = imputer.fit_transform(dataset.data)\n",
    "dataset.data_test = imputer.fit_transform(dataset.data_test)"
   ]
  },
  {
   "cell_type": "code",
   "execution_count": 4,
   "metadata": {},
   "outputs": [],
   "source": [
    "X_train = dataset.data\n",
    "yencode = LabelEncoder().fit(dataset.target)\n",
    "y_train = yencode.transform(dataset.target)\n",
    "\n",
    "X_test = dataset.data_test\n",
    "y_test = yencode.transform([y.rstrip(\".\") for y in dataset.target_test])\n",
    "dtrain = xgb.DMatrix(X_train, label=y_train)\n",
    "dtest = xgb.DMatrix(X_test, label=y_test)\n",
    "\n",
    "# enable auto logging\n",
    "mlflow.xgboost.autolog()\n",
    "\n",
    "def grid_test_xgboost(colsample_tree, subsample, max_depth, min_child_weight, eta):\n",
    "    with mlflow.start_run():\n",
    "        # train model\n",
    "        params = {\n",
    "            'objective': 'multi:softprob',\n",
    "            'num_class': 2,\n",
    "            'eval_metric': 'mlogloss',\n",
    "            'max_depth': max_depth,\n",
    "            'min_child_weight': min_child_weight,\n",
    "            'eta':eta,\n",
    "            'subsample': subsample,\n",
    "            'colsample_bytree': colsample_tree\n",
    "        }\n",
    "        model = xgb.train(params, dtrain, evals=[(dtrain, 'train')])\n",
    "\n",
    "        # evaluate model\n",
    "        y_proba = model.predict(dtest)\n",
    "        y_pred = y_proba.argmax(axis=1)\n",
    "        loss = log_loss(y_test, y_proba)\n",
    "        acc = accuracy_score(y_test, y_pred)\n",
    "\n",
    "        # log metrics\n",
    "        mlflow.log_metrics({'log_loss': loss, 'accuracy': acc})\n",
    "        return acc\n",
    "    \n",
    "from sklearn.svm import SVC\n",
    "def grid_test_svm(kernel, gamma, C):\n",
    "    with mlflow.start_run():\n",
    "        clf = SVC(kernel=kernel, gamma=gamma, C=C).fit(X_train, y_train)\n",
    "        accuracy = clf.score(X_test, y_test)\n",
    "        mlflow.log_metrics({'accuracy': accuracy})\n",
    "        mlflow.log_params({'kernel': kernel, 'gamma': gamma, 'C': C})\n",
    "        return accuracy"
   ]
  },
  {
   "cell_type": "markdown",
   "metadata": {},
   "source": [
    "# Grid Search XGBoost and Sklearn"
   ]
  },
  {
   "cell_type": "code",
   "execution_count": 5,
   "metadata": {},
   "outputs": [
    {
     "name": "stdout",
     "output_type": "stream",
     "text": [
      "[0]\ttrain-mlogloss:0.49011\n",
      "[1]\ttrain-mlogloss:0.43253\n",
      "[2]\ttrain-mlogloss:0.39726\n",
      "[3]\ttrain-mlogloss:0.37644\n",
      "[4]\ttrain-mlogloss:0.36613\n",
      "[5]\ttrain-mlogloss:0.35632\n",
      "[6]\ttrain-mlogloss:0.34694\n",
      "[7]\ttrain-mlogloss:0.33944\n",
      "[8]\ttrain-mlogloss:0.33460\n",
      "[9]\ttrain-mlogloss:0.33097\n"
     ]
    },
    {
     "name": "stderr",
     "output_type": "stream",
     "text": [
      "/Library/Frameworks/Python.framework/Versions/3.6/lib/python3.6/site-packages/mlflow/xgboost.py:333: DeprecationWarning: inspect.getargspec() is deprecated, use inspect.signature() or inspect.getfullargspec()\n",
      "  all_arg_names = inspect.getargspec(original)[0]  # pylint: disable=W1505\n"
     ]
    },
    {
     "name": "stdout",
     "output_type": "stream",
     "text": [
      "[0]\ttrain-mlogloss:0.59448\n",
      "[1]\ttrain-mlogloss:0.53447\n",
      "[2]\ttrain-mlogloss:0.49733\n",
      "[3]\ttrain-mlogloss:0.46914\n",
      "[4]\ttrain-mlogloss:0.45038\n",
      "[5]\ttrain-mlogloss:0.43607\n",
      "[6]\ttrain-mlogloss:0.42425\n",
      "[7]\ttrain-mlogloss:0.41402\n",
      "[8]\ttrain-mlogloss:0.40580\n",
      "[9]\ttrain-mlogloss:0.39957\n"
     ]
    },
    {
     "name": "stderr",
     "output_type": "stream",
     "text": [
      "/Library/Frameworks/Python.framework/Versions/3.6/lib/python3.6/site-packages/mlflow/xgboost.py:333: DeprecationWarning: inspect.getargspec() is deprecated, use inspect.signature() or inspect.getfullargspec()\n",
      "  all_arg_names = inspect.getargspec(original)[0]  # pylint: disable=W1505\n"
     ]
    },
    {
     "name": "stdout",
     "output_type": "stream",
     "text": [
      "[0]\ttrain-mlogloss:0.68931\n",
      "[1]\ttrain-mlogloss:0.68554\n",
      "[2]\ttrain-mlogloss:0.68185\n",
      "[3]\ttrain-mlogloss:0.67822\n",
      "[4]\ttrain-mlogloss:0.67467\n",
      "[5]\ttrain-mlogloss:0.67119\n",
      "[6]\ttrain-mlogloss:0.66777\n",
      "[7]\ttrain-mlogloss:0.66443\n",
      "[8]\ttrain-mlogloss:0.66113\n",
      "[9]\ttrain-mlogloss:0.65791\n"
     ]
    },
    {
     "name": "stderr",
     "output_type": "stream",
     "text": [
      "/Library/Frameworks/Python.framework/Versions/3.6/lib/python3.6/site-packages/mlflow/xgboost.py:333: DeprecationWarning: inspect.getargspec() is deprecated, use inspect.signature() or inspect.getfullargspec()\n",
      "  all_arg_names = inspect.getargspec(original)[0]  # pylint: disable=W1505\n"
     ]
    },
    {
     "name": "stdout",
     "output_type": "stream",
     "text": [
      "[0]\ttrain-mlogloss:0.69122\n",
      "[1]\ttrain-mlogloss:0.68931\n",
      "[2]\ttrain-mlogloss:0.68743\n",
      "[3]\ttrain-mlogloss:0.68556\n",
      "[4]\ttrain-mlogloss:0.68370\n",
      "[5]\ttrain-mlogloss:0.68187\n",
      "[6]\ttrain-mlogloss:0.68005\n",
      "[7]\ttrain-mlogloss:0.67824\n",
      "[8]\ttrain-mlogloss:0.67648\n",
      "[9]\ttrain-mlogloss:0.67471\n"
     ]
    },
    {
     "name": "stderr",
     "output_type": "stream",
     "text": [
      "/Library/Frameworks/Python.framework/Versions/3.6/lib/python3.6/site-packages/mlflow/xgboost.py:333: DeprecationWarning: inspect.getargspec() is deprecated, use inspect.signature() or inspect.getfullargspec()\n",
      "  all_arg_names = inspect.getargspec(original)[0]  # pylint: disable=W1505\n"
     ]
    },
    {
     "name": "stdout",
     "output_type": "stream",
     "text": [
      "[0]\ttrain-mlogloss:0.49011\n",
      "[1]\ttrain-mlogloss:0.43253\n",
      "[2]\ttrain-mlogloss:0.39726\n",
      "[3]\ttrain-mlogloss:0.37644\n",
      "[4]\ttrain-mlogloss:0.36613\n",
      "[5]\ttrain-mlogloss:0.35632\n",
      "[6]\ttrain-mlogloss:0.34694\n",
      "[7]\ttrain-mlogloss:0.33944\n",
      "[8]\ttrain-mlogloss:0.33460\n",
      "[9]\ttrain-mlogloss:0.33097\n"
     ]
    },
    {
     "name": "stderr",
     "output_type": "stream",
     "text": [
      "/Library/Frameworks/Python.framework/Versions/3.6/lib/python3.6/site-packages/mlflow/xgboost.py:333: DeprecationWarning: inspect.getargspec() is deprecated, use inspect.signature() or inspect.getfullargspec()\n",
      "  all_arg_names = inspect.getargspec(original)[0]  # pylint: disable=W1505\n"
     ]
    },
    {
     "name": "stdout",
     "output_type": "stream",
     "text": [
      "[0]\ttrain-mlogloss:0.59448\n",
      "[1]\ttrain-mlogloss:0.53447\n",
      "[2]\ttrain-mlogloss:0.49733\n",
      "[3]\ttrain-mlogloss:0.46914\n",
      "[4]\ttrain-mlogloss:0.45038\n",
      "[5]\ttrain-mlogloss:0.43607\n",
      "[6]\ttrain-mlogloss:0.42425\n",
      "[7]\ttrain-mlogloss:0.41402\n",
      "[8]\ttrain-mlogloss:0.40580\n",
      "[9]\ttrain-mlogloss:0.39957\n"
     ]
    },
    {
     "name": "stderr",
     "output_type": "stream",
     "text": [
      "/Library/Frameworks/Python.framework/Versions/3.6/lib/python3.6/site-packages/mlflow/xgboost.py:333: DeprecationWarning: inspect.getargspec() is deprecated, use inspect.signature() or inspect.getfullargspec()\n",
      "  all_arg_names = inspect.getargspec(original)[0]  # pylint: disable=W1505\n"
     ]
    },
    {
     "name": "stdout",
     "output_type": "stream",
     "text": [
      "[0]\ttrain-mlogloss:0.68931\n",
      "[1]\ttrain-mlogloss:0.68554\n",
      "[2]\ttrain-mlogloss:0.68185\n",
      "[3]\ttrain-mlogloss:0.67822\n",
      "[4]\ttrain-mlogloss:0.67467\n",
      "[5]\ttrain-mlogloss:0.67119\n",
      "[6]\ttrain-mlogloss:0.66777\n",
      "[7]\ttrain-mlogloss:0.66443\n",
      "[8]\ttrain-mlogloss:0.66113\n",
      "[9]\ttrain-mlogloss:0.65791\n"
     ]
    },
    {
     "name": "stderr",
     "output_type": "stream",
     "text": [
      "/Library/Frameworks/Python.framework/Versions/3.6/lib/python3.6/site-packages/mlflow/xgboost.py:333: DeprecationWarning: inspect.getargspec() is deprecated, use inspect.signature() or inspect.getfullargspec()\n",
      "  all_arg_names = inspect.getargspec(original)[0]  # pylint: disable=W1505\n"
     ]
    },
    {
     "name": "stdout",
     "output_type": "stream",
     "text": [
      "[0]\ttrain-mlogloss:0.69122\n",
      "[1]\ttrain-mlogloss:0.68931\n",
      "[2]\ttrain-mlogloss:0.68743\n",
      "[3]\ttrain-mlogloss:0.68556\n",
      "[4]\ttrain-mlogloss:0.68370\n",
      "[5]\ttrain-mlogloss:0.68187\n",
      "[6]\ttrain-mlogloss:0.68005\n",
      "[7]\ttrain-mlogloss:0.67824\n",
      "[8]\ttrain-mlogloss:0.67648\n",
      "[9]\ttrain-mlogloss:0.67471\n"
     ]
    },
    {
     "name": "stderr",
     "output_type": "stream",
     "text": [
      "/Library/Frameworks/Python.framework/Versions/3.6/lib/python3.6/site-packages/mlflow/xgboost.py:333: DeprecationWarning: inspect.getargspec() is deprecated, use inspect.signature() or inspect.getfullargspec()\n",
      "  all_arg_names = inspect.getargspec(original)[0]  # pylint: disable=W1505\n"
     ]
    },
    {
     "name": "stdout",
     "output_type": "stream",
     "text": [
      "[0]\ttrain-mlogloss:0.35137\n",
      "[1]\ttrain-mlogloss:0.29012\n",
      "[2]\ttrain-mlogloss:0.25856\n",
      "[3]\ttrain-mlogloss:0.24660\n",
      "[4]\ttrain-mlogloss:0.23894\n"
     ]
    },
    {
     "name": "stderr",
     "output_type": "stream",
     "text": [
      "/Library/Frameworks/Python.framework/Versions/3.6/lib/python3.6/site-packages/mlflow/xgboost.py:333: DeprecationWarning: inspect.getargspec() is deprecated, use inspect.signature() or inspect.getfullargspec()\n",
      "  all_arg_names = inspect.getargspec(original)[0]  # pylint: disable=W1505\n"
     ]
    },
    {
     "name": "stdout",
     "output_type": "stream",
     "text": [
      "[5]\ttrain-mlogloss:0.23205\n",
      "[6]\ttrain-mlogloss:0.22535\n",
      "[7]\ttrain-mlogloss:0.21473\n",
      "[8]\ttrain-mlogloss:0.21162\n",
      "[9]\ttrain-mlogloss:0.20655\n",
      "[0]\ttrain-mlogloss:0.53026\n",
      "[1]\ttrain-mlogloss:0.44020\n",
      "[2]\ttrain-mlogloss:0.38422\n",
      "[3]\ttrain-mlogloss:0.34592\n"
     ]
    },
    {
     "name": "stderr",
     "output_type": "stream",
     "text": [
      "/Library/Frameworks/Python.framework/Versions/3.6/lib/python3.6/site-packages/mlflow/xgboost.py:333: DeprecationWarning: inspect.getargspec() is deprecated, use inspect.signature() or inspect.getfullargspec()\n",
      "  all_arg_names = inspect.getargspec(original)[0]  # pylint: disable=W1505\n"
     ]
    },
    {
     "name": "stdout",
     "output_type": "stream",
     "text": [
      "[4]\ttrain-mlogloss:0.31856\n",
      "[5]\ttrain-mlogloss:0.29773\n",
      "[6]\ttrain-mlogloss:0.28320\n",
      "[7]\ttrain-mlogloss:0.27275\n",
      "[8]\ttrain-mlogloss:0.26330\n",
      "[9]\ttrain-mlogloss:0.25594\n",
      "[0]\ttrain-mlogloss:0.68681\n",
      "[1]\ttrain-mlogloss:0.68062\n",
      "[2]\ttrain-mlogloss:0.67455\n",
      "[3]\ttrain-mlogloss:0.66859\n"
     ]
    },
    {
     "name": "stderr",
     "output_type": "stream",
     "text": [
      "/Library/Frameworks/Python.framework/Versions/3.6/lib/python3.6/site-packages/mlflow/xgboost.py:333: DeprecationWarning: inspect.getargspec() is deprecated, use inspect.signature() or inspect.getfullargspec()\n",
      "  all_arg_names = inspect.getargspec(original)[0]  # pylint: disable=W1505\n"
     ]
    },
    {
     "name": "stdout",
     "output_type": "stream",
     "text": [
      "[4]\ttrain-mlogloss:0.66275\n",
      "[5]\ttrain-mlogloss:0.65702\n",
      "[6]\ttrain-mlogloss:0.65140\n",
      "[7]\ttrain-mlogloss:0.64588\n",
      "[8]\ttrain-mlogloss:0.64046\n",
      "[9]\ttrain-mlogloss:0.63515\n",
      "[0]\ttrain-mlogloss:0.68998\n",
      "[1]\ttrain-mlogloss:0.68683\n",
      "[2]\ttrain-mlogloss:0.68373\n",
      "[3]\ttrain-mlogloss:0.68066\n"
     ]
    },
    {
     "name": "stderr",
     "output_type": "stream",
     "text": [
      "/Library/Frameworks/Python.framework/Versions/3.6/lib/python3.6/site-packages/mlflow/xgboost.py:333: DeprecationWarning: inspect.getargspec() is deprecated, use inspect.signature() or inspect.getfullargspec()\n",
      "  all_arg_names = inspect.getargspec(original)[0]  # pylint: disable=W1505\n"
     ]
    },
    {
     "name": "stdout",
     "output_type": "stream",
     "text": [
      "[4]\ttrain-mlogloss:0.67762\n",
      "[5]\ttrain-mlogloss:0.67460\n",
      "[6]\ttrain-mlogloss:0.67161\n",
      "[7]\ttrain-mlogloss:0.66866\n",
      "[8]\ttrain-mlogloss:0.66573\n",
      "[9]\ttrain-mlogloss:0.66283\n",
      "[0]\ttrain-mlogloss:0.35914\n",
      "[1]\ttrain-mlogloss:0.30188\n"
     ]
    },
    {
     "name": "stderr",
     "output_type": "stream",
     "text": [
      "/Library/Frameworks/Python.framework/Versions/3.6/lib/python3.6/site-packages/mlflow/xgboost.py:333: DeprecationWarning: inspect.getargspec() is deprecated, use inspect.signature() or inspect.getfullargspec()\n",
      "  all_arg_names = inspect.getargspec(original)[0]  # pylint: disable=W1505\n"
     ]
    },
    {
     "name": "stdout",
     "output_type": "stream",
     "text": [
      "[2]\ttrain-mlogloss:0.27647\n",
      "[3]\ttrain-mlogloss:0.26558\n",
      "[4]\ttrain-mlogloss:0.25858\n",
      "[5]\ttrain-mlogloss:0.25334\n",
      "[6]\ttrain-mlogloss:0.24617\n",
      "[7]\ttrain-mlogloss:0.24391\n",
      "[8]\ttrain-mlogloss:0.24169\n",
      "[9]\ttrain-mlogloss:0.23779\n",
      "[0]\ttrain-mlogloss:0.53375\n",
      "[1]\ttrain-mlogloss:0.44542\n",
      "[2]\ttrain-mlogloss:0.39028\n",
      "[3]\ttrain-mlogloss:0.35321\n"
     ]
    },
    {
     "name": "stderr",
     "output_type": "stream",
     "text": [
      "/Library/Frameworks/Python.framework/Versions/3.6/lib/python3.6/site-packages/mlflow/xgboost.py:333: DeprecationWarning: inspect.getargspec() is deprecated, use inspect.signature() or inspect.getfullargspec()\n",
      "  all_arg_names = inspect.getargspec(original)[0]  # pylint: disable=W1505\n"
     ]
    },
    {
     "name": "stdout",
     "output_type": "stream",
     "text": [
      "[4]\ttrain-mlogloss:0.32694\n",
      "[5]\ttrain-mlogloss:0.30873\n",
      "[6]\ttrain-mlogloss:0.29541\n",
      "[7]\ttrain-mlogloss:0.28431\n",
      "[8]\ttrain-mlogloss:0.27661\n",
      "[9]\ttrain-mlogloss:0.27003\n",
      "[0]\ttrain-mlogloss:0.68695\n",
      "[1]\ttrain-mlogloss:0.68087\n",
      "[2]\ttrain-mlogloss:0.67492\n",
      "[3]\ttrain-mlogloss:0.66908\n",
      "[4]\ttrain-mlogloss:0.66336\n"
     ]
    },
    {
     "name": "stderr",
     "output_type": "stream",
     "text": [
      "/Library/Frameworks/Python.framework/Versions/3.6/lib/python3.6/site-packages/mlflow/xgboost.py:333: DeprecationWarning: inspect.getargspec() is deprecated, use inspect.signature() or inspect.getfullargspec()\n",
      "  all_arg_names = inspect.getargspec(original)[0]  # pylint: disable=W1505\n"
     ]
    },
    {
     "name": "stdout",
     "output_type": "stream",
     "text": [
      "[5]\ttrain-mlogloss:0.65774\n",
      "[6]\ttrain-mlogloss:0.65223\n",
      "[7]\ttrain-mlogloss:0.64682\n",
      "[8]\ttrain-mlogloss:0.64151\n",
      "[9]\ttrain-mlogloss:0.63631\n",
      "[0]\ttrain-mlogloss:0.69004\n",
      "[1]\ttrain-mlogloss:0.68696\n",
      "[2]\ttrain-mlogloss:0.68392\n",
      "[3]\ttrain-mlogloss:0.68090\n"
     ]
    },
    {
     "name": "stderr",
     "output_type": "stream",
     "text": [
      "/Library/Frameworks/Python.framework/Versions/3.6/lib/python3.6/site-packages/mlflow/xgboost.py:333: DeprecationWarning: inspect.getargspec() is deprecated, use inspect.signature() or inspect.getfullargspec()\n",
      "  all_arg_names = inspect.getargspec(original)[0]  # pylint: disable=W1505\n"
     ]
    },
    {
     "name": "stdout",
     "output_type": "stream",
     "text": [
      "[4]\ttrain-mlogloss:0.67792\n",
      "[5]\ttrain-mlogloss:0.67496\n",
      "[6]\ttrain-mlogloss:0.67204\n",
      "[7]\ttrain-mlogloss:0.66914\n",
      "[8]\ttrain-mlogloss:0.66627\n",
      "[9]\ttrain-mlogloss:0.66343\n"
     ]
    }
   ],
   "source": [
    "#values from https://blog.cambridgespark.com/hyperparameter-tuning-in-xgboost-4ff9100a3b2f\n",
    "# colsample_tree = [0.2, 0.5, 1.0]\n",
    "# subsample = [0.05, 1.0]\n",
    "# max_depth = [1, 5, 10]\n",
    "# min_child_weight = [1, 6, 10, 15]\n",
    "# eta = [.9, .3, .01, .005]\n",
    "\n",
    "colsample_tree = [1.0]\n",
    "subsample = [1.0]\n",
    "max_depth = [1, 10]\n",
    "min_child_weight = [1, 10]\n",
    "eta = [.9, .3, .01, .005]\n",
    "\n",
    "for i in colsample_tree:\n",
    "    for j in subsample:\n",
    "        for k in max_depth:\n",
    "            for l in min_child_weight:\n",
    "                for m in eta:\n",
    "                    grid_test_xgboost(i, j, k, l, m)\n",
    "\n",
    "# kernel = ['rbf']\n",
    "# gamma = [1e-3, 1e-4]\n",
    "# C = [1, 10, 100, 1000]\n",
    "# for i in kernel:\n",
    "#     for j in gamma:\n",
    "#         for k in C:\n",
    "#             grid_test_svm(i, j, k)"
   ]
  },
  {
   "cell_type": "code",
   "execution_count": 89,
   "metadata": {},
   "outputs": [],
   "source": [
    "import os\n",
    "\n",
    "dirs = os.listdir(\"mlruns/0\")\n",
    "dictionary = []\n",
    "for i in dirs:\n",
    "    row = {}\n",
    "    if \"meta\" in i or \"DS_Store\" in i:\n",
    "        continue\n",
    "        \n",
    "    accuracy = float(open('mlruns/0/' + i + '/metrics/accuracy').read().split(\" \")[1])\n",
    "    row['accuracy'] = accuracy\n",
    "    params_files = os.listdir('mlruns/0/' + i + '/params')\n",
    "    model_params = {}\n",
    "    for j in params_files:\n",
    "        if 'kernel' in j:\n",
    "            continue\n",
    "        model_params[j] = open('mlruns/0/' + i + '/params/' + j).read()\n",
    "    \n",
    "    row['model_params'] = model_params\n",
    "    if len(params_files) == 3:\n",
    "        row['model'] = 'SVM'\n",
    "    else:\n",
    "        row['model'] = 'xgboost'\n",
    "    dictionary.append(row)\n",
    "    \n",
    "df = pd.DataFrame(dictionary)\n",
    "df.to_csv('mlflow_workflows.csv')"
   ]
  },
  {
   "cell_type": "code",
   "execution_count": null,
   "metadata": {},
   "outputs": [],
   "source": []
  }
 ],
 "metadata": {
  "kernelspec": {
   "display_name": "Python 3",
   "language": "python",
   "name": "python3"
  },
  "language_info": {
   "codemirror_mode": {
    "name": "ipython",
    "version": 3
   },
   "file_extension": ".py",
   "mimetype": "text/x-python",
   "name": "python",
   "nbconvert_exporter": "python",
   "pygments_lexer": "ipython3",
   "version": "3.6.1"
  }
 },
 "nbformat": 4,
 "nbformat_minor": 4
}

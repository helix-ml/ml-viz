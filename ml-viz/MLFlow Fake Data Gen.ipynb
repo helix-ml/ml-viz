{
 "cells": [
  {
   "cell_type": "code",
   "execution_count": 1,
   "metadata": {},
   "outputs": [],
   "source": [
    "# code from https://medium.com/district-data-labs/building-a-classifier-from-census-data-18f996c4d7cf\n",
    "from sklearn import datasets\n",
    "from sklearn.model_selection import train_test_split\n",
    "from sklearn.metrics import accuracy_score, log_loss\n",
    "import xgboost as xgb\n",
    "\n",
    "import mlflow\n",
    "import mlflow.xgboost\n",
    "import mlflow.sklearn\n",
    "import pandas as pd\n",
    "\n",
    "# prepare train and test data\n",
    "names = [\n",
    "    'age',\n",
    "    'workclass',\n",
    "    'fnlwgt',\n",
    "    'education',\n",
    "    'education-num',\n",
    "    'marital-status',\n",
    "    'occupation',\n",
    "    'relationship',\n",
    "    'race',\n",
    "    'sex',\n",
    "    'capital-gain',\n",
    "    'capital-loss',\n",
    "    'hours-per-week',\n",
    "    'native-country',\n",
    "    'income',\n",
    "]\n",
    "data = pd.read_csv('census_data/adult.data', names=names)\n",
    "\n",
    "import json\n",
    "meta = {\n",
    "    'target_names': list(data.income.unique()),\n",
    "    'feature_names': list(data.columns),\n",
    "    'categorical_features': {\n",
    "        column: list(data[column].unique())\n",
    "        for column in data.columns\n",
    "        if data[column].dtype == 'object'\n",
    "    },\n",
    "}\n",
    "with open('census_data/meta.json', 'w') as f:\n",
    "    json.dump(meta, f, indent=2)"
   ]
  },
  {
   "cell_type": "code",
   "execution_count": 2,
   "metadata": {},
   "outputs": [
    {
     "name": "stderr",
     "output_type": "stream",
     "text": [
      "/Library/Frameworks/Python.framework/Versions/3.6/lib/python3.6/site-packages/sklearn/utils/deprecation.py:143: FutureWarning: The sklearn.datasets.base module is  deprecated in version 0.22 and will be removed in version 0.24. The corresponding classes / functions should instead be imported from sklearn.datasets. Anything that cannot be imported from sklearn.datasets is now part of the private API.\n",
      "  warnings.warn(message, FutureWarning)\n"
     ]
    }
   ],
   "source": [
    "from sklearn.datasets.base import Bunch\n",
    "from sklearn.preprocessing import LabelEncoder\n",
    "def load_data():\n",
    "    # Load the meta data from the file\n",
    "    with open('census_data/meta.json', 'r') as f:\n",
    "        meta = json.load(f)\n",
    "    names = meta['feature_names']\n",
    "    # Load the training and test data, skipping the bad row in the test data\n",
    "    train = pd.read_csv('census_data/adult.data', names=names)\n",
    "    test  = pd.read_csv('census_data/adult.test', names=names, skiprows=1)\n",
    "    # Remove the target from the categorical features\n",
    "    meta['categorical_features'].pop('income')\n",
    "    # Return the bunch with the appropriate data chunked apart\n",
    "    return Bunch(\n",
    "        data = train[names[:-1]],\n",
    "        target = train[names[-1]],\n",
    "        data_test = test[names[:-1]],\n",
    "        target_test = test[names[-1]],\n",
    "        target_names = meta['target_names'],\n",
    "        feature_names = meta['feature_names'],\n",
    "        categorical_features = meta['categorical_features'],\n",
    "        DESCR = \"descr\",\n",
    "    )\n",
    "dataset = load_data()\n",
    "\n",
    "from sklearn.base import BaseEstimator, TransformerMixin\n",
    "class EncodeCategorical(BaseEstimator, TransformerMixin):\n",
    "    \"\"\"\n",
    "    Encodes a specified list of columns or all columns if None.\n",
    "    \"\"\"\n",
    "    def __init__(self, columns=None):\n",
    "        self.columns  = columns\n",
    "        self.encoders = None\n",
    "    def fit(self, data, target=None):\n",
    "        \"\"\"\n",
    "        Expects a data frame with named columns to encode.\n",
    "        \"\"\"\n",
    "        # Encode all columns if columns is None\n",
    "        if self.columns is None:\n",
    "            self.columns = data.columns\n",
    "        # Fit a label encoder for each column in the data frame\n",
    "        self.encoders = {\n",
    "            column: LabelEncoder().fit(data[column])\n",
    "            for column in self.columns\n",
    "        }\n",
    "        return self\n",
    "    def transform(self, data):\n",
    "        \"\"\"\n",
    "        Uses the encoders to transform a data frame.\n",
    "        \"\"\"\n",
    "        output = data.copy()\n",
    "        for column, encoder in self.encoders.items():\n",
    "            output[column] = encoder.transform(data[column])\n",
    "        return output\n",
    "encoder = EncodeCategorical(dataset.categorical_features.keys())\n",
    "dataset.data = encoder.fit_transform(dataset.data)\n",
    "dataset.data_test = encoder.fit_transform(dataset.data_test)"
   ]
  },
  {
   "cell_type": "code",
   "execution_count": 3,
   "metadata": {},
   "outputs": [],
   "source": [
    "from sklearn.impute import SimpleImputer\n",
    "import numpy as np\n",
    "\n",
    "class ImputeCategorical(BaseEstimator, TransformerMixin):\n",
    "    \"\"\"\n",
    "    Encodes a specified list of columns or all columns if None.\n",
    "    \"\"\"\n",
    "    def __init__(self, columns=None):\n",
    "        self.columns = columns\n",
    "        self.imputer = None\n",
    "    def fit(self, data, target=None):\n",
    "        \"\"\"\n",
    "        Expects a data frame with named columns to impute.\n",
    "        \"\"\"\n",
    "        # Encode all columns if columns is None\n",
    "        if self.columns is None:\n",
    "            self.columns = data.columns\n",
    "        # Fit an imputer for each column in the data frame\n",
    "        self.imputer = SimpleImputer(missing_values=0, strategy='most_frequent')\n",
    "        self.imputer.fit(data[self.columns])\n",
    "        return self\n",
    "    def transform(self, data):\n",
    "        \"\"\"\n",
    "        Uses the encoders to transform a data frame.\n",
    "        \"\"\"\n",
    "        output = data.copy()\n",
    "        output[self.columns] = self.imputer.transform(output[self.columns])\n",
    "        return output\n",
    "imputer = ImputeCategorical(['workclass', 'native-country', 'occupation'])\n",
    "dataset.data = imputer.fit_transform(dataset.data)\n",
    "dataset.data_test = imputer.fit_transform(dataset.data_test)"
   ]
  },
  {
   "cell_type": "code",
   "execution_count": 4,
   "metadata": {},
   "outputs": [],
   "source": [
    "X_train = dataset.data\n",
    "yencode = LabelEncoder().fit(dataset.target)\n",
    "y_train = yencode.transform(dataset.target)\n",
    "\n",
    "X_test = dataset.data_test\n",
    "y_test = yencode.transform([y.rstrip(\".\") for y in dataset.target_test])\n",
    "dtrain = xgb.DMatrix(X_train, label=y_train)\n",
    "dtest = xgb.DMatrix(X_test, label=y_test)\n",
    "\n",
    "# enable auto logging\n",
    "mlflow.xgboost.autolog()\n",
    "\n",
    "def grid_test_xgboost(colsample_tree, subsample, max_depth, min_child_weight, eta):\n",
    "    with mlflow.start_run():\n",
    "        # train model\n",
    "        params = {\n",
    "            'objective': 'multi:softprob',\n",
    "            'num_class': 2,\n",
    "            'eval_metric': 'mlogloss',\n",
    "            'max_depth': max_depth,\n",
    "            'min_child_weight': min_child_weight,\n",
    "            'eta':eta,\n",
    "            'subsample': subsample,\n",
    "            'colsample_bytree': colsample_tree\n",
    "        }\n",
    "        model = xgb.train(params, dtrain, evals=[(dtrain, 'train')])\n",
    "\n",
    "        # evaluate model\n",
    "        y_proba = model.predict(dtest)\n",
    "        y_pred = y_proba.argmax(axis=1)\n",
    "        loss = log_loss(y_test, y_proba)\n",
    "        acc = accuracy_score(y_test, y_pred)\n",
    "\n",
    "        # log metrics\n",
    "        mlflow.log_metrics({'log_loss': loss, 'accuracy': acc})\n",
    "        return acc\n",
    "    \n",
    "from sklearn.svm import SVC\n",
    "def grid_test_svm(kernel, gamma, C):\n",
    "    with mlflow.start_run():\n",
    "        clf = SVC(kernel=kernel, gamma=gamma, C=C).fit(X_train, y_train)\n",
    "        accuracy = clf.score(X_test, y_test)\n",
    "        mlflow.log_metrics({'accuracy': accuracy})\n",
    "        mlflow.log_params({'kernel': kernel, 'gamma': gamma, 'C': C})\n",
    "        return accuracy"
   ]
  },
  {
   "cell_type": "markdown",
   "metadata": {},
   "source": [
    "# Grid Search XGBoost and Sklearn"
   ]
  },
  {
   "cell_type": "code",
   "execution_count": 5,
   "metadata": {},
   "outputs": [
    {
     "name": "stdout",
     "output_type": "stream",
     "text": [
      "[0]\ttrain-mlogloss:0.50964\n",
      "[1]\ttrain-mlogloss:0.45950\n",
      "[2]\ttrain-mlogloss:0.42490\n",
      "[3]\ttrain-mlogloss:0.41392\n",
      "[4]\ttrain-mlogloss:0.39993\n",
      "[5]\ttrain-mlogloss:0.39182\n",
      "[6]\ttrain-mlogloss:0.37690\n",
      "[7]\ttrain-mlogloss:0.36655\n",
      "[8]\ttrain-mlogloss:0.36062\n",
      "[9]\ttrain-mlogloss:0.35788\n"
     ]
    },
    {
     "name": "stderr",
     "output_type": "stream",
     "text": [
      "/Library/Frameworks/Python.framework/Versions/3.6/lib/python3.6/site-packages/mlflow/xgboost.py:333: DeprecationWarning: inspect.getargspec() is deprecated, use inspect.signature() or inspect.getfullargspec()\n",
      "  all_arg_names = inspect.getargspec(original)[0]  # pylint: disable=W1505\n"
     ]
    },
    {
     "name": "stdout",
     "output_type": "stream",
     "text": [
      "[0]\ttrain-mlogloss:0.60618\n",
      "[1]\ttrain-mlogloss:0.55536\n",
      "[2]\ttrain-mlogloss:0.51369\n",
      "[3]\ttrain-mlogloss:0.49838\n",
      "[4]\ttrain-mlogloss:0.48000\n",
      "[5]\ttrain-mlogloss:0.46668\n",
      "[6]\ttrain-mlogloss:0.45264\n",
      "[7]\ttrain-mlogloss:0.43993\n",
      "[8]\ttrain-mlogloss:0.43135\n",
      "[9]\ttrain-mlogloss:0.42742\n"
     ]
    },
    {
     "name": "stderr",
     "output_type": "stream",
     "text": [
      "/Library/Frameworks/Python.framework/Versions/3.6/lib/python3.6/site-packages/mlflow/xgboost.py:333: DeprecationWarning: inspect.getargspec() is deprecated, use inspect.signature() or inspect.getfullargspec()\n",
      "  all_arg_names = inspect.getargspec(original)[0]  # pylint: disable=W1505\n"
     ]
    },
    {
     "name": "stdout",
     "output_type": "stream",
     "text": [
      "[0]\ttrain-mlogloss:0.68980\n",
      "[1]\ttrain-mlogloss:0.68661\n",
      "[2]\ttrain-mlogloss:0.68301\n",
      "[3]\ttrain-mlogloss:0.68032\n",
      "[4]\ttrain-mlogloss:0.67727\n",
      "[5]\ttrain-mlogloss:0.67414\n",
      "[6]\ttrain-mlogloss:0.67098\n",
      "[7]\ttrain-mlogloss:0.66778\n",
      "[8]\ttrain-mlogloss:0.66488\n",
      "[9]\ttrain-mlogloss:0.66239\n"
     ]
    },
    {
     "name": "stderr",
     "output_type": "stream",
     "text": [
      "/Library/Frameworks/Python.framework/Versions/3.6/lib/python3.6/site-packages/mlflow/xgboost.py:333: DeprecationWarning: inspect.getargspec() is deprecated, use inspect.signature() or inspect.getfullargspec()\n",
      "  all_arg_names = inspect.getargspec(original)[0]  # pylint: disable=W1505\n"
     ]
    },
    {
     "name": "stdout",
     "output_type": "stream",
     "text": [
      "[0]\ttrain-mlogloss:0.69147\n",
      "[1]\ttrain-mlogloss:0.68986\n",
      "[2]\ttrain-mlogloss:0.68803\n",
      "[3]\ttrain-mlogloss:0.68664\n",
      "[4]\ttrain-mlogloss:0.68505\n",
      "[5]\ttrain-mlogloss:0.68343\n",
      "[6]\ttrain-mlogloss:0.68176\n",
      "[7]\ttrain-mlogloss:0.68007\n",
      "[8]\ttrain-mlogloss:0.67851\n",
      "[9]\ttrain-mlogloss:0.67716\n"
     ]
    },
    {
     "name": "stderr",
     "output_type": "stream",
     "text": [
      "/Library/Frameworks/Python.framework/Versions/3.6/lib/python3.6/site-packages/mlflow/xgboost.py:333: DeprecationWarning: inspect.getargspec() is deprecated, use inspect.signature() or inspect.getfullargspec()\n",
      "  all_arg_names = inspect.getargspec(original)[0]  # pylint: disable=W1505\n"
     ]
    },
    {
     "name": "stdout",
     "output_type": "stream",
     "text": [
      "[0]\ttrain-mlogloss:0.50964\n",
      "[1]\ttrain-mlogloss:0.45950\n",
      "[2]\ttrain-mlogloss:0.42490\n",
      "[3]\ttrain-mlogloss:0.41392\n",
      "[4]\ttrain-mlogloss:0.39993\n",
      "[5]\ttrain-mlogloss:0.39182\n",
      "[6]\ttrain-mlogloss:0.37690\n",
      "[7]\ttrain-mlogloss:0.36655\n",
      "[8]\ttrain-mlogloss:0.36062\n",
      "[9]\ttrain-mlogloss:0.35807\n"
     ]
    },
    {
     "name": "stderr",
     "output_type": "stream",
     "text": [
      "/Library/Frameworks/Python.framework/Versions/3.6/lib/python3.6/site-packages/mlflow/xgboost.py:333: DeprecationWarning: inspect.getargspec() is deprecated, use inspect.signature() or inspect.getfullargspec()\n",
      "  all_arg_names = inspect.getargspec(original)[0]  # pylint: disable=W1505\n"
     ]
    },
    {
     "name": "stdout",
     "output_type": "stream",
     "text": [
      "[0]\ttrain-mlogloss:0.60618\n",
      "[1]\ttrain-mlogloss:0.55536\n",
      "[2]\ttrain-mlogloss:0.51369\n",
      "[3]\ttrain-mlogloss:0.49838\n",
      "[4]\ttrain-mlogloss:0.48000\n",
      "[5]\ttrain-mlogloss:0.46668\n",
      "[6]\ttrain-mlogloss:0.45264\n",
      "[7]\ttrain-mlogloss:0.43993\n",
      "[8]\ttrain-mlogloss:0.43135\n",
      "[9]\ttrain-mlogloss:0.42742\n"
     ]
    },
    {
     "name": "stderr",
     "output_type": "stream",
     "text": [
      "/Library/Frameworks/Python.framework/Versions/3.6/lib/python3.6/site-packages/mlflow/xgboost.py:333: DeprecationWarning: inspect.getargspec() is deprecated, use inspect.signature() or inspect.getfullargspec()\n",
      "  all_arg_names = inspect.getargspec(original)[0]  # pylint: disable=W1505\n"
     ]
    },
    {
     "name": "stdout",
     "output_type": "stream",
     "text": [
      "[0]\ttrain-mlogloss:0.68980\n",
      "[1]\ttrain-mlogloss:0.68661\n",
      "[2]\ttrain-mlogloss:0.68301\n",
      "[3]\ttrain-mlogloss:0.68032\n",
      "[4]\ttrain-mlogloss:0.67727\n",
      "[5]\ttrain-mlogloss:0.67414\n",
      "[6]\ttrain-mlogloss:0.67098\n",
      "[7]\ttrain-mlogloss:0.66778\n",
      "[8]\ttrain-mlogloss:0.66488\n",
      "[9]\ttrain-mlogloss:0.66239\n"
     ]
    },
    {
     "name": "stderr",
     "output_type": "stream",
     "text": [
      "/Library/Frameworks/Python.framework/Versions/3.6/lib/python3.6/site-packages/mlflow/xgboost.py:333: DeprecationWarning: inspect.getargspec() is deprecated, use inspect.signature() or inspect.getfullargspec()\n",
      "  all_arg_names = inspect.getargspec(original)[0]  # pylint: disable=W1505\n"
     ]
    },
    {
     "name": "stdout",
     "output_type": "stream",
     "text": [
      "[0]\ttrain-mlogloss:0.69147\n",
      "[1]\ttrain-mlogloss:0.68986\n",
      "[2]\ttrain-mlogloss:0.68803\n",
      "[3]\ttrain-mlogloss:0.68664\n",
      "[4]\ttrain-mlogloss:0.68505\n",
      "[5]\ttrain-mlogloss:0.68343\n",
      "[6]\ttrain-mlogloss:0.68176\n",
      "[7]\ttrain-mlogloss:0.68007\n",
      "[8]\ttrain-mlogloss:0.67851\n",
      "[9]\ttrain-mlogloss:0.67716\n"
     ]
    },
    {
     "name": "stderr",
     "output_type": "stream",
     "text": [
      "/Library/Frameworks/Python.framework/Versions/3.6/lib/python3.6/site-packages/mlflow/xgboost.py:333: DeprecationWarning: inspect.getargspec() is deprecated, use inspect.signature() or inspect.getfullargspec()\n",
      "  all_arg_names = inspect.getargspec(original)[0]  # pylint: disable=W1505\n"
     ]
    },
    {
     "name": "stdout",
     "output_type": "stream",
     "text": [
      "[0]\ttrain-mlogloss:0.50964\n",
      "[1]\ttrain-mlogloss:0.45950\n",
      "[2]\ttrain-mlogloss:0.42490\n",
      "[3]\ttrain-mlogloss:0.41392\n",
      "[4]\ttrain-mlogloss:0.39993\n",
      "[5]\ttrain-mlogloss:0.39182\n",
      "[6]\ttrain-mlogloss:0.37690\n",
      "[7]\ttrain-mlogloss:0.36655\n",
      "[8]\ttrain-mlogloss:0.36062\n",
      "[9]\ttrain-mlogloss:0.35807\n"
     ]
    },
    {
     "name": "stderr",
     "output_type": "stream",
     "text": [
      "/Library/Frameworks/Python.framework/Versions/3.6/lib/python3.6/site-packages/mlflow/xgboost.py:333: DeprecationWarning: inspect.getargspec() is deprecated, use inspect.signature() or inspect.getfullargspec()\n",
      "  all_arg_names = inspect.getargspec(original)[0]  # pylint: disable=W1505\n"
     ]
    },
    {
     "name": "stdout",
     "output_type": "stream",
     "text": [
      "[0]\ttrain-mlogloss:0.60618\n",
      "[1]\ttrain-mlogloss:0.55536\n",
      "[2]\ttrain-mlogloss:0.51369\n",
      "[3]\ttrain-mlogloss:0.49838\n",
      "[4]\ttrain-mlogloss:0.48000\n",
      "[5]\ttrain-mlogloss:0.46668\n",
      "[6]\ttrain-mlogloss:0.45264\n",
      "[7]\ttrain-mlogloss:0.43993\n",
      "[8]\ttrain-mlogloss:0.43135\n",
      "[9]\ttrain-mlogloss:0.42742\n"
     ]
    },
    {
     "name": "stderr",
     "output_type": "stream",
     "text": [
      "/Library/Frameworks/Python.framework/Versions/3.6/lib/python3.6/site-packages/mlflow/xgboost.py:333: DeprecationWarning: inspect.getargspec() is deprecated, use inspect.signature() or inspect.getfullargspec()\n",
      "  all_arg_names = inspect.getargspec(original)[0]  # pylint: disable=W1505\n"
     ]
    },
    {
     "name": "stdout",
     "output_type": "stream",
     "text": [
      "[0]\ttrain-mlogloss:0.68980\n",
      "[1]\ttrain-mlogloss:0.68661\n",
      "[2]\ttrain-mlogloss:0.68301\n",
      "[3]\ttrain-mlogloss:0.68032\n",
      "[4]\ttrain-mlogloss:0.67727\n",
      "[5]\ttrain-mlogloss:0.67414\n",
      "[6]\ttrain-mlogloss:0.67098\n",
      "[7]\ttrain-mlogloss:0.66778\n",
      "[8]\ttrain-mlogloss:0.66488\n",
      "[9]\ttrain-mlogloss:0.66239\n"
     ]
    },
    {
     "name": "stderr",
     "output_type": "stream",
     "text": [
      "/Library/Frameworks/Python.framework/Versions/3.6/lib/python3.6/site-packages/mlflow/xgboost.py:333: DeprecationWarning: inspect.getargspec() is deprecated, use inspect.signature() or inspect.getfullargspec()\n",
      "  all_arg_names = inspect.getargspec(original)[0]  # pylint: disable=W1505\n"
     ]
    },
    {
     "name": "stdout",
     "output_type": "stream",
     "text": [
      "[0]\ttrain-mlogloss:0.69147\n",
      "[1]\ttrain-mlogloss:0.68986\n",
      "[2]\ttrain-mlogloss:0.68803\n",
      "[3]\ttrain-mlogloss:0.68664\n",
      "[4]\ttrain-mlogloss:0.68505\n",
      "[5]\ttrain-mlogloss:0.68343\n",
      "[6]\ttrain-mlogloss:0.68176\n",
      "[7]\ttrain-mlogloss:0.68007\n",
      "[8]\ttrain-mlogloss:0.67851\n",
      "[9]\ttrain-mlogloss:0.67716\n"
     ]
    },
    {
     "name": "stderr",
     "output_type": "stream",
     "text": [
      "/Library/Frameworks/Python.framework/Versions/3.6/lib/python3.6/site-packages/mlflow/xgboost.py:333: DeprecationWarning: inspect.getargspec() is deprecated, use inspect.signature() or inspect.getfullargspec()\n",
      "  all_arg_names = inspect.getargspec(original)[0]  # pylint: disable=W1505\n"
     ]
    },
    {
     "name": "stdout",
     "output_type": "stream",
     "text": [
      "[0]\ttrain-mlogloss:0.50964\n",
      "[1]\ttrain-mlogloss:0.45950\n",
      "[2]\ttrain-mlogloss:0.42490\n",
      "[3]\ttrain-mlogloss:0.41392\n",
      "[4]\ttrain-mlogloss:0.39993\n",
      "[5]\ttrain-mlogloss:0.39182\n",
      "[6]\ttrain-mlogloss:0.37690\n",
      "[7]\ttrain-mlogloss:0.36655\n",
      "[8]\ttrain-mlogloss:0.36062\n",
      "[9]\ttrain-mlogloss:0.35807\n"
     ]
    },
    {
     "name": "stderr",
     "output_type": "stream",
     "text": [
      "/Library/Frameworks/Python.framework/Versions/3.6/lib/python3.6/site-packages/mlflow/xgboost.py:333: DeprecationWarning: inspect.getargspec() is deprecated, use inspect.signature() or inspect.getfullargspec()\n",
      "  all_arg_names = inspect.getargspec(original)[0]  # pylint: disable=W1505\n"
     ]
    },
    {
     "name": "stdout",
     "output_type": "stream",
     "text": [
      "[0]\ttrain-mlogloss:0.60618\n",
      "[1]\ttrain-mlogloss:0.55536\n",
      "[2]\ttrain-mlogloss:0.51369\n",
      "[3]\ttrain-mlogloss:0.49838\n",
      "[4]\ttrain-mlogloss:0.48000\n",
      "[5]\ttrain-mlogloss:0.46668\n",
      "[6]\ttrain-mlogloss:0.45264\n",
      "[7]\ttrain-mlogloss:0.43993\n",
      "[8]\ttrain-mlogloss:0.43135\n",
      "[9]\ttrain-mlogloss:0.42742\n"
     ]
    },
    {
     "name": "stderr",
     "output_type": "stream",
     "text": [
      "/Library/Frameworks/Python.framework/Versions/3.6/lib/python3.6/site-packages/mlflow/xgboost.py:333: DeprecationWarning: inspect.getargspec() is deprecated, use inspect.signature() or inspect.getfullargspec()\n",
      "  all_arg_names = inspect.getargspec(original)[0]  # pylint: disable=W1505\n"
     ]
    },
    {
     "name": "stdout",
     "output_type": "stream",
     "text": [
      "[0]\ttrain-mlogloss:0.68980\n",
      "[1]\ttrain-mlogloss:0.68661\n",
      "[2]\ttrain-mlogloss:0.68301\n",
      "[3]\ttrain-mlogloss:0.68032\n",
      "[4]\ttrain-mlogloss:0.67727\n",
      "[5]\ttrain-mlogloss:0.67414\n",
      "[6]\ttrain-mlogloss:0.67098\n",
      "[7]\ttrain-mlogloss:0.66778\n",
      "[8]\ttrain-mlogloss:0.66488\n",
      "[9]\ttrain-mlogloss:0.66239\n"
     ]
    },
    {
     "name": "stderr",
     "output_type": "stream",
     "text": [
      "/Library/Frameworks/Python.framework/Versions/3.6/lib/python3.6/site-packages/mlflow/xgboost.py:333: DeprecationWarning: inspect.getargspec() is deprecated, use inspect.signature() or inspect.getfullargspec()\n",
      "  all_arg_names = inspect.getargspec(original)[0]  # pylint: disable=W1505\n"
     ]
    },
    {
     "name": "stdout",
     "output_type": "stream",
     "text": [
      "[0]\ttrain-mlogloss:0.69147\n",
      "[1]\ttrain-mlogloss:0.68986\n",
      "[2]\ttrain-mlogloss:0.68803\n",
      "[3]\ttrain-mlogloss:0.68664\n",
      "[4]\ttrain-mlogloss:0.68505\n",
      "[5]\ttrain-mlogloss:0.68343\n",
      "[6]\ttrain-mlogloss:0.68176\n",
      "[7]\ttrain-mlogloss:0.68007\n",
      "[8]\ttrain-mlogloss:0.67851\n",
      "[9]\ttrain-mlogloss:0.67716\n"
     ]
    },
    {
     "name": "stderr",
     "output_type": "stream",
     "text": [
      "/Library/Frameworks/Python.framework/Versions/3.6/lib/python3.6/site-packages/mlflow/xgboost.py:333: DeprecationWarning: inspect.getargspec() is deprecated, use inspect.signature() or inspect.getfullargspec()\n",
      "  all_arg_names = inspect.getargspec(original)[0]  # pylint: disable=W1505\n"
     ]
    },
    {
     "name": "stdout",
     "output_type": "stream",
     "text": [
      "[0]\ttrain-mlogloss:0.47031\n",
      "[1]\ttrain-mlogloss:0.41428\n",
      "[2]\ttrain-mlogloss:0.36956\n",
      "[3]\ttrain-mlogloss:0.34703\n",
      "[4]\ttrain-mlogloss:0.33135\n",
      "[5]\ttrain-mlogloss:0.31975\n",
      "[6]\ttrain-mlogloss:0.31588\n",
      "[7]\ttrain-mlogloss:0.30881\n",
      "[8]\ttrain-mlogloss:0.30499\n",
      "[9]\ttrain-mlogloss:0.30475\n"
     ]
    },
    {
     "name": "stderr",
     "output_type": "stream",
     "text": [
      "/Library/Frameworks/Python.framework/Versions/3.6/lib/python3.6/site-packages/mlflow/xgboost.py:333: DeprecationWarning: inspect.getargspec() is deprecated, use inspect.signature() or inspect.getfullargspec()\n",
      "  all_arg_names = inspect.getargspec(original)[0]  # pylint: disable=W1505\n"
     ]
    },
    {
     "name": "stdout",
     "output_type": "stream",
     "text": [
      "[0]\ttrain-mlogloss:0.58960\n",
      "[1]\ttrain-mlogloss:0.53378\n",
      "[2]\ttrain-mlogloss:0.47933\n",
      "[3]\ttrain-mlogloss:0.45527\n",
      "[4]\ttrain-mlogloss:0.42611\n",
      "[5]\ttrain-mlogloss:0.40785\n",
      "[6]\ttrain-mlogloss:0.39221\n",
      "[7]\ttrain-mlogloss:0.37483\n",
      "[8]\ttrain-mlogloss:0.36415\n",
      "[9]\ttrain-mlogloss:0.35729\n"
     ]
    },
    {
     "name": "stderr",
     "output_type": "stream",
     "text": [
      "/Library/Frameworks/Python.framework/Versions/3.6/lib/python3.6/site-packages/mlflow/xgboost.py:333: DeprecationWarning: inspect.getargspec() is deprecated, use inspect.signature() or inspect.getfullargspec()\n",
      "  all_arg_names = inspect.getargspec(original)[0]  # pylint: disable=W1505\n"
     ]
    },
    {
     "name": "stdout",
     "output_type": "stream",
     "text": [
      "[0]\ttrain-mlogloss:0.68918\n",
      "[1]\ttrain-mlogloss:0.68576\n",
      "[2]\ttrain-mlogloss:0.68141\n",
      "[3]\ttrain-mlogloss:0.67831\n",
      "[4]\ttrain-mlogloss:0.67440\n",
      "[5]\ttrain-mlogloss:0.67087\n",
      "[6]\ttrain-mlogloss:0.66726\n",
      "[7]\ttrain-mlogloss:0.66329\n",
      "[8]\ttrain-mlogloss:0.65986\n",
      "[9]\ttrain-mlogloss:0.65694\n"
     ]
    },
    {
     "name": "stderr",
     "output_type": "stream",
     "text": [
      "/Library/Frameworks/Python.framework/Versions/3.6/lib/python3.6/site-packages/mlflow/xgboost.py:333: DeprecationWarning: inspect.getargspec() is deprecated, use inspect.signature() or inspect.getfullargspec()\n",
      "  all_arg_names = inspect.getargspec(original)[0]  # pylint: disable=W1505\n"
     ]
    },
    {
     "name": "stdout",
     "output_type": "stream",
     "text": [
      "[0]\ttrain-mlogloss:0.69116\n",
      "[1]\ttrain-mlogloss:0.68943\n",
      "[2]\ttrain-mlogloss:0.68722\n",
      "[3]\ttrain-mlogloss:0.68563\n",
      "[4]\ttrain-mlogloss:0.68361\n",
      "[5]\ttrain-mlogloss:0.68177\n",
      "[6]\ttrain-mlogloss:0.67987\n",
      "[7]\ttrain-mlogloss:0.67778\n",
      "[8]\ttrain-mlogloss:0.67596\n",
      "[9]\ttrain-mlogloss:0.67438\n"
     ]
    },
    {
     "name": "stderr",
     "output_type": "stream",
     "text": [
      "/Library/Frameworks/Python.framework/Versions/3.6/lib/python3.6/site-packages/mlflow/xgboost.py:333: DeprecationWarning: inspect.getargspec() is deprecated, use inspect.signature() or inspect.getfullargspec()\n",
      "  all_arg_names = inspect.getargspec(original)[0]  # pylint: disable=W1505\n"
     ]
    },
    {
     "name": "stdout",
     "output_type": "stream",
     "text": [
      "[0]\ttrain-mlogloss:0.47038\n",
      "[1]\ttrain-mlogloss:0.41669\n",
      "[2]\ttrain-mlogloss:0.37472\n",
      "[3]\ttrain-mlogloss:0.35341\n",
      "[4]\ttrain-mlogloss:0.33949\n",
      "[5]\ttrain-mlogloss:0.32812\n",
      "[6]\ttrain-mlogloss:0.32322\n",
      "[7]\ttrain-mlogloss:0.31716\n",
      "[8]\ttrain-mlogloss:0.31410\n",
      "[9]\ttrain-mlogloss:0.31374\n"
     ]
    },
    {
     "name": "stderr",
     "output_type": "stream",
     "text": [
      "/Library/Frameworks/Python.framework/Versions/3.6/lib/python3.6/site-packages/mlflow/xgboost.py:333: DeprecationWarning: inspect.getargspec() is deprecated, use inspect.signature() or inspect.getfullargspec()\n",
      "  all_arg_names = inspect.getargspec(original)[0]  # pylint: disable=W1505\n"
     ]
    },
    {
     "name": "stdout",
     "output_type": "stream",
     "text": [
      "[0]\ttrain-mlogloss:0.58975\n",
      "[1]\ttrain-mlogloss:0.53479\n",
      "[2]\ttrain-mlogloss:0.48094\n",
      "[3]\ttrain-mlogloss:0.45756\n",
      "[4]\ttrain-mlogloss:0.42925\n",
      "[5]\ttrain-mlogloss:0.41166\n",
      "[6]\ttrain-mlogloss:0.39592\n",
      "[7]\ttrain-mlogloss:0.37909\n",
      "[8]\ttrain-mlogloss:0.36897\n",
      "[9]\ttrain-mlogloss:0.36236\n"
     ]
    },
    {
     "name": "stderr",
     "output_type": "stream",
     "text": [
      "/Library/Frameworks/Python.framework/Versions/3.6/lib/python3.6/site-packages/mlflow/xgboost.py:333: DeprecationWarning: inspect.getargspec() is deprecated, use inspect.signature() or inspect.getfullargspec()\n",
      "  all_arg_names = inspect.getargspec(original)[0]  # pylint: disable=W1505\n"
     ]
    },
    {
     "name": "stdout",
     "output_type": "stream",
     "text": [
      "[0]\ttrain-mlogloss:0.68919\n",
      "[1]\ttrain-mlogloss:0.68580\n",
      "[2]\ttrain-mlogloss:0.68145\n",
      "[3]\ttrain-mlogloss:0.67838\n",
      "[4]\ttrain-mlogloss:0.67450\n",
      "[5]\ttrain-mlogloss:0.67102\n",
      "[6]\ttrain-mlogloss:0.66744\n",
      "[7]\ttrain-mlogloss:0.66351\n",
      "[8]\ttrain-mlogloss:0.66012\n",
      "[9]\ttrain-mlogloss:0.65721\n"
     ]
    },
    {
     "name": "stderr",
     "output_type": "stream",
     "text": [
      "/Library/Frameworks/Python.framework/Versions/3.6/lib/python3.6/site-packages/mlflow/xgboost.py:333: DeprecationWarning: inspect.getargspec() is deprecated, use inspect.signature() or inspect.getfullargspec()\n",
      "  all_arg_names = inspect.getargspec(original)[0]  # pylint: disable=W1505\n"
     ]
    },
    {
     "name": "stdout",
     "output_type": "stream",
     "text": [
      "[0]\ttrain-mlogloss:0.69116\n",
      "[1]\ttrain-mlogloss:0.68945\n",
      "[2]\ttrain-mlogloss:0.68724\n",
      "[3]\ttrain-mlogloss:0.68566\n",
      "[4]\ttrain-mlogloss:0.68366\n",
      "[5]\ttrain-mlogloss:0.68184\n",
      "[6]\ttrain-mlogloss:0.67997\n",
      "[7]\ttrain-mlogloss:0.67789\n",
      "[8]\ttrain-mlogloss:0.67608\n",
      "[9]\ttrain-mlogloss:0.67452\n"
     ]
    },
    {
     "name": "stderr",
     "output_type": "stream",
     "text": [
      "/Library/Frameworks/Python.framework/Versions/3.6/lib/python3.6/site-packages/mlflow/xgboost.py:333: DeprecationWarning: inspect.getargspec() is deprecated, use inspect.signature() or inspect.getfullargspec()\n",
      "  all_arg_names = inspect.getargspec(original)[0]  # pylint: disable=W1505\n"
     ]
    },
    {
     "name": "stdout",
     "output_type": "stream",
     "text": [
      "[0]\ttrain-mlogloss:0.47038\n",
      "[1]\ttrain-mlogloss:0.41802\n",
      "[2]\ttrain-mlogloss:0.37781\n",
      "[3]\ttrain-mlogloss:0.35703\n",
      "[4]\ttrain-mlogloss:0.34174\n",
      "[5]\ttrain-mlogloss:0.33084\n",
      "[6]\ttrain-mlogloss:0.32616\n",
      "[7]\ttrain-mlogloss:0.31959\n",
      "[8]\ttrain-mlogloss:0.31764\n",
      "[9]\ttrain-mlogloss:0.31607\n"
     ]
    },
    {
     "name": "stderr",
     "output_type": "stream",
     "text": [
      "/Library/Frameworks/Python.framework/Versions/3.6/lib/python3.6/site-packages/mlflow/xgboost.py:333: DeprecationWarning: inspect.getargspec() is deprecated, use inspect.signature() or inspect.getfullargspec()\n",
      "  all_arg_names = inspect.getargspec(original)[0]  # pylint: disable=W1505\n"
     ]
    },
    {
     "name": "stdout",
     "output_type": "stream",
     "text": [
      "[0]\ttrain-mlogloss:0.58975\n",
      "[1]\ttrain-mlogloss:0.53544\n",
      "[2]\ttrain-mlogloss:0.48163\n",
      "[3]\ttrain-mlogloss:0.45897\n",
      "[4]\ttrain-mlogloss:0.43116\n",
      "[5]\ttrain-mlogloss:0.41386\n",
      "[6]\ttrain-mlogloss:0.39805\n",
      "[7]\ttrain-mlogloss:0.38109\n",
      "[8]\ttrain-mlogloss:0.37130\n",
      "[9]\ttrain-mlogloss:0.36473\n"
     ]
    },
    {
     "name": "stderr",
     "output_type": "stream",
     "text": [
      "/Library/Frameworks/Python.framework/Versions/3.6/lib/python3.6/site-packages/mlflow/xgboost.py:333: DeprecationWarning: inspect.getargspec() is deprecated, use inspect.signature() or inspect.getfullargspec()\n",
      "  all_arg_names = inspect.getargspec(original)[0]  # pylint: disable=W1505\n"
     ]
    },
    {
     "name": "stdout",
     "output_type": "stream",
     "text": [
      "[0]\ttrain-mlogloss:0.68919\n",
      "[1]\ttrain-mlogloss:0.68583\n",
      "[2]\ttrain-mlogloss:0.68149\n",
      "[3]\ttrain-mlogloss:0.67847\n",
      "[4]\ttrain-mlogloss:0.67460\n",
      "[5]\ttrain-mlogloss:0.67115\n",
      "[6]\ttrain-mlogloss:0.66758\n",
      "[7]\ttrain-mlogloss:0.66364\n",
      "[8]\ttrain-mlogloss:0.66027\n",
      "[9]\ttrain-mlogloss:0.65738\n"
     ]
    },
    {
     "name": "stderr",
     "output_type": "stream",
     "text": [
      "/Library/Frameworks/Python.framework/Versions/3.6/lib/python3.6/site-packages/mlflow/xgboost.py:333: DeprecationWarning: inspect.getargspec() is deprecated, use inspect.signature() or inspect.getfullargspec()\n",
      "  all_arg_names = inspect.getargspec(original)[0]  # pylint: disable=W1505\n"
     ]
    },
    {
     "name": "stdout",
     "output_type": "stream",
     "text": [
      "[0]\ttrain-mlogloss:0.69116\n",
      "[1]\ttrain-mlogloss:0.68946\n",
      "[2]\ttrain-mlogloss:0.68726\n",
      "[3]\ttrain-mlogloss:0.68571\n",
      "[4]\ttrain-mlogloss:0.68371\n",
      "[5]\ttrain-mlogloss:0.68191\n",
      "[6]\ttrain-mlogloss:0.68004\n",
      "[7]\ttrain-mlogloss:0.67796\n",
      "[8]\ttrain-mlogloss:0.67616\n",
      "[9]\ttrain-mlogloss:0.67461\n"
     ]
    },
    {
     "name": "stderr",
     "output_type": "stream",
     "text": [
      "/Library/Frameworks/Python.framework/Versions/3.6/lib/python3.6/site-packages/mlflow/xgboost.py:333: DeprecationWarning: inspect.getargspec() is deprecated, use inspect.signature() or inspect.getfullargspec()\n",
      "  all_arg_names = inspect.getargspec(original)[0]  # pylint: disable=W1505\n"
     ]
    },
    {
     "name": "stdout",
     "output_type": "stream",
     "text": [
      "[0]\ttrain-mlogloss:0.47011\n",
      "[1]\ttrain-mlogloss:0.41752\n",
      "[2]\ttrain-mlogloss:0.37698\n",
      "[3]\ttrain-mlogloss:0.35622\n",
      "[4]\ttrain-mlogloss:0.34153\n",
      "[5]\ttrain-mlogloss:0.33108\n",
      "[6]\ttrain-mlogloss:0.32663\n",
      "[7]\ttrain-mlogloss:0.32127\n",
      "[8]\ttrain-mlogloss:0.31897\n",
      "[9]\ttrain-mlogloss:0.31715\n"
     ]
    },
    {
     "name": "stderr",
     "output_type": "stream",
     "text": [
      "/Library/Frameworks/Python.framework/Versions/3.6/lib/python3.6/site-packages/mlflow/xgboost.py:333: DeprecationWarning: inspect.getargspec() is deprecated, use inspect.signature() or inspect.getfullargspec()\n",
      "  all_arg_names = inspect.getargspec(original)[0]  # pylint: disable=W1505\n"
     ]
    },
    {
     "name": "stdout",
     "output_type": "stream",
     "text": [
      "[0]\ttrain-mlogloss:0.58962\n",
      "[1]\ttrain-mlogloss:0.53555\n",
      "[2]\ttrain-mlogloss:0.48171\n",
      "[3]\ttrain-mlogloss:0.45933\n",
      "[4]\ttrain-mlogloss:0.43256\n",
      "[5]\ttrain-mlogloss:0.41510\n",
      "[6]\ttrain-mlogloss:0.39987\n",
      "[7]\ttrain-mlogloss:0.38287\n",
      "[8]\ttrain-mlogloss:0.37333\n",
      "[9]\ttrain-mlogloss:0.36689\n"
     ]
    },
    {
     "name": "stderr",
     "output_type": "stream",
     "text": [
      "/Library/Frameworks/Python.framework/Versions/3.6/lib/python3.6/site-packages/mlflow/xgboost.py:333: DeprecationWarning: inspect.getargspec() is deprecated, use inspect.signature() or inspect.getfullargspec()\n",
      "  all_arg_names = inspect.getargspec(original)[0]  # pylint: disable=W1505\n"
     ]
    },
    {
     "name": "stdout",
     "output_type": "stream",
     "text": [
      "[0]\ttrain-mlogloss:0.68918\n",
      "[1]\ttrain-mlogloss:0.68583\n",
      "[2]\ttrain-mlogloss:0.68149\n",
      "[3]\ttrain-mlogloss:0.67848\n",
      "[4]\ttrain-mlogloss:0.67469\n",
      "[5]\ttrain-mlogloss:0.67124\n",
      "[6]\ttrain-mlogloss:0.66771\n",
      "[7]\ttrain-mlogloss:0.66378\n",
      "[8]\ttrain-mlogloss:0.66043\n",
      "[9]\ttrain-mlogloss:0.65756\n"
     ]
    },
    {
     "name": "stderr",
     "output_type": "stream",
     "text": [
      "/Library/Frameworks/Python.framework/Versions/3.6/lib/python3.6/site-packages/mlflow/xgboost.py:333: DeprecationWarning: inspect.getargspec() is deprecated, use inspect.signature() or inspect.getfullargspec()\n",
      "  all_arg_names = inspect.getargspec(original)[0]  # pylint: disable=W1505\n"
     ]
    },
    {
     "name": "stdout",
     "output_type": "stream",
     "text": [
      "[0]\ttrain-mlogloss:0.69116\n",
      "[1]\ttrain-mlogloss:0.68946\n",
      "[2]\ttrain-mlogloss:0.68726\n",
      "[3]\ttrain-mlogloss:0.68571\n",
      "[4]\ttrain-mlogloss:0.68376\n",
      "[5]\ttrain-mlogloss:0.68196\n",
      "[6]\ttrain-mlogloss:0.68010\n",
      "[7]\ttrain-mlogloss:0.67803\n",
      "[8]\ttrain-mlogloss:0.67624\n",
      "[9]\ttrain-mlogloss:0.67469\n"
     ]
    },
    {
     "name": "stderr",
     "output_type": "stream",
     "text": [
      "/Library/Frameworks/Python.framework/Versions/3.6/lib/python3.6/site-packages/mlflow/xgboost.py:333: DeprecationWarning: inspect.getargspec() is deprecated, use inspect.signature() or inspect.getfullargspec()\n",
      "  all_arg_names = inspect.getargspec(original)[0]  # pylint: disable=W1505\n"
     ]
    },
    {
     "name": "stdout",
     "output_type": "stream",
     "text": [
      "[0]\ttrain-mlogloss:0.46944\n",
      "[1]\ttrain-mlogloss:0.41308\n",
      "[2]\ttrain-mlogloss:0.36837\n",
      "[3]\ttrain-mlogloss:0.34609\n",
      "[4]\ttrain-mlogloss:0.32977\n",
      "[5]\ttrain-mlogloss:0.31920\n",
      "[6]\ttrain-mlogloss:0.31512\n",
      "[7]\ttrain-mlogloss:0.30921\n",
      "[8]\ttrain-mlogloss:0.30697\n",
      "[9]\ttrain-mlogloss:0.31005\n"
     ]
    },
    {
     "name": "stderr",
     "output_type": "stream",
     "text": [
      "/Library/Frameworks/Python.framework/Versions/3.6/lib/python3.6/site-packages/mlflow/xgboost.py:333: DeprecationWarning: inspect.getargspec() is deprecated, use inspect.signature() or inspect.getfullargspec()\n",
      "  all_arg_names = inspect.getargspec(original)[0]  # pylint: disable=W1505\n"
     ]
    },
    {
     "name": "stdout",
     "output_type": "stream",
     "text": [
      "[0]\ttrain-mlogloss:0.58923\n",
      "[1]\ttrain-mlogloss:0.53339\n",
      "[2]\ttrain-mlogloss:0.47856\n",
      "[3]\ttrain-mlogloss:0.45427\n",
      "[4]\ttrain-mlogloss:0.42526\n",
      "[5]\ttrain-mlogloss:0.40681\n",
      "[6]\ttrain-mlogloss:0.39108\n",
      "[7]\ttrain-mlogloss:0.37384\n",
      "[8]\ttrain-mlogloss:0.36257\n",
      "[9]\ttrain-mlogloss:0.35501\n"
     ]
    },
    {
     "name": "stderr",
     "output_type": "stream",
     "text": [
      "/Library/Frameworks/Python.framework/Versions/3.6/lib/python3.6/site-packages/mlflow/xgboost.py:333: DeprecationWarning: inspect.getargspec() is deprecated, use inspect.signature() or inspect.getfullargspec()\n",
      "  all_arg_names = inspect.getargspec(original)[0]  # pylint: disable=W1505\n"
     ]
    },
    {
     "name": "stdout",
     "output_type": "stream",
     "text": [
      "[0]\ttrain-mlogloss:0.68917\n",
      "[1]\ttrain-mlogloss:0.68574\n",
      "[2]\ttrain-mlogloss:0.68136\n",
      "[3]\ttrain-mlogloss:0.67825\n",
      "[4]\ttrain-mlogloss:0.67434\n",
      "[5]\ttrain-mlogloss:0.67081\n",
      "[6]\ttrain-mlogloss:0.66720\n",
      "[7]\ttrain-mlogloss:0.66324\n",
      "[8]\ttrain-mlogloss:0.65975\n",
      "[9]\ttrain-mlogloss:0.65675\n"
     ]
    },
    {
     "name": "stderr",
     "output_type": "stream",
     "text": [
      "/Library/Frameworks/Python.framework/Versions/3.6/lib/python3.6/site-packages/mlflow/xgboost.py:333: DeprecationWarning: inspect.getargspec() is deprecated, use inspect.signature() or inspect.getfullargspec()\n",
      "  all_arg_names = inspect.getargspec(original)[0]  # pylint: disable=W1505\n"
     ]
    },
    {
     "name": "stdout",
     "output_type": "stream",
     "text": [
      "[0]\ttrain-mlogloss:0.69115\n",
      "[1]\ttrain-mlogloss:0.68942\n",
      "[2]\ttrain-mlogloss:0.68720\n",
      "[3]\ttrain-mlogloss:0.68560\n",
      "[4]\ttrain-mlogloss:0.68358\n",
      "[5]\ttrain-mlogloss:0.68174\n",
      "[6]\ttrain-mlogloss:0.67985\n",
      "[7]\ttrain-mlogloss:0.67775\n",
      "[8]\ttrain-mlogloss:0.67590\n",
      "[9]\ttrain-mlogloss:0.67429\n"
     ]
    },
    {
     "name": "stderr",
     "output_type": "stream",
     "text": [
      "/Library/Frameworks/Python.framework/Versions/3.6/lib/python3.6/site-packages/mlflow/xgboost.py:333: DeprecationWarning: inspect.getargspec() is deprecated, use inspect.signature() or inspect.getfullargspec()\n",
      "  all_arg_names = inspect.getargspec(original)[0]  # pylint: disable=W1505\n"
     ]
    },
    {
     "name": "stdout",
     "output_type": "stream",
     "text": [
      "[0]\ttrain-mlogloss:0.46951\n",
      "[1]\ttrain-mlogloss:0.41574\n",
      "[2]\ttrain-mlogloss:0.37360\n",
      "[3]\ttrain-mlogloss:0.35246\n",
      "[4]\ttrain-mlogloss:0.33854\n",
      "[5]\ttrain-mlogloss:0.32783\n",
      "[6]\ttrain-mlogloss:0.32314\n",
      "[7]\ttrain-mlogloss:0.31720\n",
      "[8]\ttrain-mlogloss:0.31585\n",
      "[9]\ttrain-mlogloss:0.31602\n"
     ]
    },
    {
     "name": "stderr",
     "output_type": "stream",
     "text": [
      "/Library/Frameworks/Python.framework/Versions/3.6/lib/python3.6/site-packages/mlflow/xgboost.py:333: DeprecationWarning: inspect.getargspec() is deprecated, use inspect.signature() or inspect.getfullargspec()\n",
      "  all_arg_names = inspect.getargspec(original)[0]  # pylint: disable=W1505\n"
     ]
    },
    {
     "name": "stdout",
     "output_type": "stream",
     "text": [
      "[0]\ttrain-mlogloss:0.58938\n",
      "[1]\ttrain-mlogloss:0.53444\n",
      "[2]\ttrain-mlogloss:0.48058\n",
      "[3]\ttrain-mlogloss:0.45717\n",
      "[4]\ttrain-mlogloss:0.42884\n",
      "[5]\ttrain-mlogloss:0.41137\n",
      "[6]\ttrain-mlogloss:0.39552\n",
      "[7]\ttrain-mlogloss:0.37860\n",
      "[8]\ttrain-mlogloss:0.36760\n",
      "[9]\ttrain-mlogloss:0.36074\n"
     ]
    },
    {
     "name": "stderr",
     "output_type": "stream",
     "text": [
      "/Library/Frameworks/Python.framework/Versions/3.6/lib/python3.6/site-packages/mlflow/xgboost.py:333: DeprecationWarning: inspect.getargspec() is deprecated, use inspect.signature() or inspect.getfullargspec()\n",
      "  all_arg_names = inspect.getargspec(original)[0]  # pylint: disable=W1505\n"
     ]
    },
    {
     "name": "stdout",
     "output_type": "stream",
     "text": [
      "[0]\ttrain-mlogloss:0.68917\n",
      "[1]\ttrain-mlogloss:0.68579\n",
      "[2]\ttrain-mlogloss:0.68144\n",
      "[3]\ttrain-mlogloss:0.67836\n",
      "[4]\ttrain-mlogloss:0.67448\n",
      "[5]\ttrain-mlogloss:0.67100\n",
      "[6]\ttrain-mlogloss:0.66743\n",
      "[7]\ttrain-mlogloss:0.66349\n",
      "[8]\ttrain-mlogloss:0.66005\n",
      "[9]\ttrain-mlogloss:0.65708\n"
     ]
    },
    {
     "name": "stderr",
     "output_type": "stream",
     "text": [
      "/Library/Frameworks/Python.framework/Versions/3.6/lib/python3.6/site-packages/mlflow/xgboost.py:333: DeprecationWarning: inspect.getargspec() is deprecated, use inspect.signature() or inspect.getfullargspec()\n",
      "  all_arg_names = inspect.getargspec(original)[0]  # pylint: disable=W1505\n"
     ]
    },
    {
     "name": "stdout",
     "output_type": "stream",
     "text": [
      "[0]\ttrain-mlogloss:0.69116\n",
      "[1]\ttrain-mlogloss:0.68945\n",
      "[2]\ttrain-mlogloss:0.68723\n",
      "[3]\ttrain-mlogloss:0.68565\n",
      "[4]\ttrain-mlogloss:0.68365\n",
      "[5]\ttrain-mlogloss:0.68184\n",
      "[6]\ttrain-mlogloss:0.67996\n",
      "[7]\ttrain-mlogloss:0.67788\n",
      "[8]\ttrain-mlogloss:0.67605\n",
      "[9]\ttrain-mlogloss:0.67445\n"
     ]
    },
    {
     "name": "stderr",
     "output_type": "stream",
     "text": [
      "/Library/Frameworks/Python.framework/Versions/3.6/lib/python3.6/site-packages/mlflow/xgboost.py:333: DeprecationWarning: inspect.getargspec() is deprecated, use inspect.signature() or inspect.getfullargspec()\n",
      "  all_arg_names = inspect.getargspec(original)[0]  # pylint: disable=W1505\n"
     ]
    },
    {
     "name": "stdout",
     "output_type": "stream",
     "text": [
      "[0]\ttrain-mlogloss:0.46951\n",
      "[1]\ttrain-mlogloss:0.41702\n",
      "[2]\ttrain-mlogloss:0.37688\n",
      "[3]\ttrain-mlogloss:0.35643\n",
      "[4]\ttrain-mlogloss:0.34102\n",
      "[5]\ttrain-mlogloss:0.33092\n",
      "[6]\ttrain-mlogloss:0.32658\n",
      "[7]\ttrain-mlogloss:0.31997\n",
      "[8]\ttrain-mlogloss:0.31852\n",
      "[9]\ttrain-mlogloss:0.31637\n"
     ]
    },
    {
     "name": "stderr",
     "output_type": "stream",
     "text": [
      "/Library/Frameworks/Python.framework/Versions/3.6/lib/python3.6/site-packages/mlflow/xgboost.py:333: DeprecationWarning: inspect.getargspec() is deprecated, use inspect.signature() or inspect.getfullargspec()\n",
      "  all_arg_names = inspect.getargspec(original)[0]  # pylint: disable=W1505\n"
     ]
    },
    {
     "name": "stdout",
     "output_type": "stream",
     "text": [
      "[0]\ttrain-mlogloss:0.58938\n",
      "[1]\ttrain-mlogloss:0.53510\n",
      "[2]\ttrain-mlogloss:0.48129\n",
      "[3]\ttrain-mlogloss:0.45872\n",
      "[4]\ttrain-mlogloss:0.43040\n",
      "[5]\ttrain-mlogloss:0.41339\n",
      "[6]\ttrain-mlogloss:0.39747\n",
      "[7]\ttrain-mlogloss:0.38036\n",
      "[8]\ttrain-mlogloss:0.36982\n",
      "[9]\ttrain-mlogloss:0.36314\n"
     ]
    },
    {
     "name": "stderr",
     "output_type": "stream",
     "text": [
      "/Library/Frameworks/Python.framework/Versions/3.6/lib/python3.6/site-packages/mlflow/xgboost.py:333: DeprecationWarning: inspect.getargspec() is deprecated, use inspect.signature() or inspect.getfullargspec()\n",
      "  all_arg_names = inspect.getargspec(original)[0]  # pylint: disable=W1505\n"
     ]
    },
    {
     "name": "stdout",
     "output_type": "stream",
     "text": [
      "[0]\ttrain-mlogloss:0.68917\n",
      "[1]\ttrain-mlogloss:0.68582\n",
      "[2]\ttrain-mlogloss:0.68147\n",
      "[3]\ttrain-mlogloss:0.67846\n",
      "[4]\ttrain-mlogloss:0.67458\n",
      "[5]\ttrain-mlogloss:0.67114\n",
      "[6]\ttrain-mlogloss:0.66757\n",
      "[7]\ttrain-mlogloss:0.66363\n",
      "[8]\ttrain-mlogloss:0.66018\n",
      "[9]\ttrain-mlogloss:0.65727\n"
     ]
    },
    {
     "name": "stderr",
     "output_type": "stream",
     "text": [
      "/Library/Frameworks/Python.framework/Versions/3.6/lib/python3.6/site-packages/mlflow/xgboost.py:333: DeprecationWarning: inspect.getargspec() is deprecated, use inspect.signature() or inspect.getfullargspec()\n",
      "  all_arg_names = inspect.getargspec(original)[0]  # pylint: disable=W1505\n"
     ]
    },
    {
     "name": "stdout",
     "output_type": "stream",
     "text": [
      "[0]\ttrain-mlogloss:0.69116\n",
      "[1]\ttrain-mlogloss:0.68946\n",
      "[2]\ttrain-mlogloss:0.68725\n",
      "[3]\ttrain-mlogloss:0.68570\n",
      "[4]\ttrain-mlogloss:0.68370\n",
      "[5]\ttrain-mlogloss:0.68190\n",
      "[6]\ttrain-mlogloss:0.68003\n",
      "[7]\ttrain-mlogloss:0.67796\n",
      "[8]\ttrain-mlogloss:0.67612\n",
      "[9]\ttrain-mlogloss:0.67455\n"
     ]
    },
    {
     "name": "stderr",
     "output_type": "stream",
     "text": [
      "/Library/Frameworks/Python.framework/Versions/3.6/lib/python3.6/site-packages/mlflow/xgboost.py:333: DeprecationWarning: inspect.getargspec() is deprecated, use inspect.signature() or inspect.getfullargspec()\n",
      "  all_arg_names = inspect.getargspec(original)[0]  # pylint: disable=W1505\n"
     ]
    },
    {
     "name": "stdout",
     "output_type": "stream",
     "text": [
      "[0]\ttrain-mlogloss:0.46941\n",
      "[1]\ttrain-mlogloss:0.41660\n",
      "[2]\ttrain-mlogloss:0.37619\n",
      "[3]\ttrain-mlogloss:0.35577\n",
      "[4]\ttrain-mlogloss:0.34097\n",
      "[5]\ttrain-mlogloss:0.33093\n",
      "[6]\ttrain-mlogloss:0.32708\n",
      "[7]\ttrain-mlogloss:0.32121\n",
      "[8]\ttrain-mlogloss:0.31914\n",
      "[9]\ttrain-mlogloss:0.31688\n"
     ]
    },
    {
     "name": "stderr",
     "output_type": "stream",
     "text": [
      "/Library/Frameworks/Python.framework/Versions/3.6/lib/python3.6/site-packages/mlflow/xgboost.py:333: DeprecationWarning: inspect.getargspec() is deprecated, use inspect.signature() or inspect.getfullargspec()\n",
      "  all_arg_names = inspect.getargspec(original)[0]  # pylint: disable=W1505\n"
     ]
    },
    {
     "name": "stdout",
     "output_type": "stream",
     "text": [
      "[0]\ttrain-mlogloss:0.58931\n",
      "[1]\ttrain-mlogloss:0.53529\n",
      "[2]\ttrain-mlogloss:0.48144\n",
      "[3]\ttrain-mlogloss:0.45911\n",
      "[4]\ttrain-mlogloss:0.43231\n",
      "[5]\ttrain-mlogloss:0.41485\n",
      "[6]\ttrain-mlogloss:0.39957\n",
      "[7]\ttrain-mlogloss:0.38254\n",
      "[8]\ttrain-mlogloss:0.37235\n",
      "[9]\ttrain-mlogloss:0.36584\n"
     ]
    },
    {
     "name": "stderr",
     "output_type": "stream",
     "text": [
      "/Library/Frameworks/Python.framework/Versions/3.6/lib/python3.6/site-packages/mlflow/xgboost.py:333: DeprecationWarning: inspect.getargspec() is deprecated, use inspect.signature() or inspect.getfullargspec()\n",
      "  all_arg_names = inspect.getargspec(original)[0]  # pylint: disable=W1505\n"
     ]
    },
    {
     "name": "stdout",
     "output_type": "stream",
     "text": [
      "[0]\ttrain-mlogloss:0.68917\n",
      "[1]\ttrain-mlogloss:0.68582\n",
      "[2]\ttrain-mlogloss:0.68148\n",
      "[3]\ttrain-mlogloss:0.67847\n",
      "[4]\ttrain-mlogloss:0.67468\n",
      "[5]\ttrain-mlogloss:0.67124\n",
      "[6]\ttrain-mlogloss:0.66771\n",
      "[7]\ttrain-mlogloss:0.66377\n",
      "[8]\ttrain-mlogloss:0.66036\n",
      "[9]\ttrain-mlogloss:0.65746\n"
     ]
    },
    {
     "name": "stderr",
     "output_type": "stream",
     "text": [
      "/Library/Frameworks/Python.framework/Versions/3.6/lib/python3.6/site-packages/mlflow/xgboost.py:333: DeprecationWarning: inspect.getargspec() is deprecated, use inspect.signature() or inspect.getfullargspec()\n",
      "  all_arg_names = inspect.getargspec(original)[0]  # pylint: disable=W1505\n"
     ]
    },
    {
     "name": "stdout",
     "output_type": "stream",
     "text": [
      "[0]\ttrain-mlogloss:0.69115\n",
      "[1]\ttrain-mlogloss:0.68946\n",
      "[2]\ttrain-mlogloss:0.68725\n",
      "[3]\ttrain-mlogloss:0.68571\n",
      "[4]\ttrain-mlogloss:0.68375\n",
      "[5]\ttrain-mlogloss:0.68195\n",
      "[6]\ttrain-mlogloss:0.68010\n",
      "[7]\ttrain-mlogloss:0.67803\n",
      "[8]\ttrain-mlogloss:0.67621\n",
      "[9]\ttrain-mlogloss:0.67465\n"
     ]
    },
    {
     "name": "stderr",
     "output_type": "stream",
     "text": [
      "/Library/Frameworks/Python.framework/Versions/3.6/lib/python3.6/site-packages/mlflow/xgboost.py:333: DeprecationWarning: inspect.getargspec() is deprecated, use inspect.signature() or inspect.getfullargspec()\n",
      "  all_arg_names = inspect.getargspec(original)[0]  # pylint: disable=W1505\n"
     ]
    },
    {
     "name": "stdout",
     "output_type": "stream",
     "text": [
      "[0]\ttrain-mlogloss:0.51117\n",
      "[1]\ttrain-mlogloss:0.45147\n",
      "[2]\ttrain-mlogloss:0.41365\n",
      "[3]\ttrain-mlogloss:0.38970\n",
      "[4]\ttrain-mlogloss:0.37749\n",
      "[5]\ttrain-mlogloss:0.36868\n",
      "[6]\ttrain-mlogloss:0.36518\n",
      "[7]\ttrain-mlogloss:0.35393\n",
      "[8]\ttrain-mlogloss:0.34513\n",
      "[9]\ttrain-mlogloss:0.33916\n"
     ]
    },
    {
     "name": "stderr",
     "output_type": "stream",
     "text": [
      "/Library/Frameworks/Python.framework/Versions/3.6/lib/python3.6/site-packages/mlflow/xgboost.py:333: DeprecationWarning: inspect.getargspec() is deprecated, use inspect.signature() or inspect.getfullargspec()\n",
      "  all_arg_names = inspect.getargspec(original)[0]  # pylint: disable=W1505\n"
     ]
    },
    {
     "name": "stdout",
     "output_type": "stream",
     "text": [
      "[0]\ttrain-mlogloss:0.60725\n",
      "[1]\ttrain-mlogloss:0.54647\n",
      "[2]\ttrain-mlogloss:0.51093\n",
      "[3]\ttrain-mlogloss:0.48964\n",
      "[4]\ttrain-mlogloss:0.47210\n",
      "[5]\ttrain-mlogloss:0.45416\n",
      "[6]\ttrain-mlogloss:0.44430\n",
      "[7]\ttrain-mlogloss:0.43007\n",
      "[8]\ttrain-mlogloss:0.42064\n",
      "[9]\ttrain-mlogloss:0.41065\n"
     ]
    },
    {
     "name": "stderr",
     "output_type": "stream",
     "text": [
      "/Library/Frameworks/Python.framework/Versions/3.6/lib/python3.6/site-packages/mlflow/xgboost.py:333: DeprecationWarning: inspect.getargspec() is deprecated, use inspect.signature() or inspect.getfullargspec()\n",
      "  all_arg_names = inspect.getargspec(original)[0]  # pylint: disable=W1505\n"
     ]
    },
    {
     "name": "stdout",
     "output_type": "stream",
     "text": [
      "[0]\ttrain-mlogloss:0.68985\n",
      "[1]\ttrain-mlogloss:0.68622\n",
      "[2]\ttrain-mlogloss:0.68293\n",
      "[3]\ttrain-mlogloss:0.67989\n",
      "[4]\ttrain-mlogloss:0.67681\n",
      "[5]\ttrain-mlogloss:0.67342\n",
      "[6]\ttrain-mlogloss:0.67062\n",
      "[7]\ttrain-mlogloss:0.66718\n",
      "[8]\ttrain-mlogloss:0.66431\n",
      "[9]\ttrain-mlogloss:0.66107\n"
     ]
    },
    {
     "name": "stderr",
     "output_type": "stream",
     "text": [
      "/Library/Frameworks/Python.framework/Versions/3.6/lib/python3.6/site-packages/mlflow/xgboost.py:333: DeprecationWarning: inspect.getargspec() is deprecated, use inspect.signature() or inspect.getfullargspec()\n",
      "  all_arg_names = inspect.getargspec(original)[0]  # pylint: disable=W1505\n"
     ]
    },
    {
     "name": "stdout",
     "output_type": "stream",
     "text": [
      "[0]\ttrain-mlogloss:0.69150\n",
      "[1]\ttrain-mlogloss:0.68967\n",
      "[2]\ttrain-mlogloss:0.68799\n",
      "[3]\ttrain-mlogloss:0.68642\n",
      "[4]\ttrain-mlogloss:0.68483\n",
      "[5]\ttrain-mlogloss:0.68306\n",
      "[6]\ttrain-mlogloss:0.68157\n",
      "[7]\ttrain-mlogloss:0.67975\n",
      "[8]\ttrain-mlogloss:0.67821\n",
      "[9]\ttrain-mlogloss:0.67648\n"
     ]
    },
    {
     "name": "stderr",
     "output_type": "stream",
     "text": [
      "/Library/Frameworks/Python.framework/Versions/3.6/lib/python3.6/site-packages/mlflow/xgboost.py:333: DeprecationWarning: inspect.getargspec() is deprecated, use inspect.signature() or inspect.getfullargspec()\n",
      "  all_arg_names = inspect.getargspec(original)[0]  # pylint: disable=W1505\n"
     ]
    },
    {
     "name": "stdout",
     "output_type": "stream",
     "text": [
      "[0]\ttrain-mlogloss:0.51117\n",
      "[1]\ttrain-mlogloss:0.45147\n",
      "[2]\ttrain-mlogloss:0.41365\n",
      "[3]\ttrain-mlogloss:0.38970\n",
      "[4]\ttrain-mlogloss:0.37749\n",
      "[5]\ttrain-mlogloss:0.36868\n",
      "[6]\ttrain-mlogloss:0.36518\n",
      "[7]\ttrain-mlogloss:0.35393\n",
      "[8]\ttrain-mlogloss:0.34513\n",
      "[9]\ttrain-mlogloss:0.33916\n"
     ]
    },
    {
     "name": "stderr",
     "output_type": "stream",
     "text": [
      "/Library/Frameworks/Python.framework/Versions/3.6/lib/python3.6/site-packages/mlflow/xgboost.py:333: DeprecationWarning: inspect.getargspec() is deprecated, use inspect.signature() or inspect.getfullargspec()\n",
      "  all_arg_names = inspect.getargspec(original)[0]  # pylint: disable=W1505\n"
     ]
    },
    {
     "name": "stdout",
     "output_type": "stream",
     "text": [
      "[0]\ttrain-mlogloss:0.60725\n",
      "[1]\ttrain-mlogloss:0.54647\n",
      "[2]\ttrain-mlogloss:0.51093\n",
      "[3]\ttrain-mlogloss:0.48964\n",
      "[4]\ttrain-mlogloss:0.47210\n",
      "[5]\ttrain-mlogloss:0.45416\n",
      "[6]\ttrain-mlogloss:0.44430\n",
      "[7]\ttrain-mlogloss:0.43007\n",
      "[8]\ttrain-mlogloss:0.42064\n",
      "[9]\ttrain-mlogloss:0.41065\n"
     ]
    },
    {
     "name": "stderr",
     "output_type": "stream",
     "text": [
      "/Library/Frameworks/Python.framework/Versions/3.6/lib/python3.6/site-packages/mlflow/xgboost.py:333: DeprecationWarning: inspect.getargspec() is deprecated, use inspect.signature() or inspect.getfullargspec()\n",
      "  all_arg_names = inspect.getargspec(original)[0]  # pylint: disable=W1505\n"
     ]
    },
    {
     "name": "stdout",
     "output_type": "stream",
     "text": [
      "[0]\ttrain-mlogloss:0.68985\n",
      "[1]\ttrain-mlogloss:0.68622\n",
      "[2]\ttrain-mlogloss:0.68293\n",
      "[3]\ttrain-mlogloss:0.67989\n",
      "[4]\ttrain-mlogloss:0.67681\n",
      "[5]\ttrain-mlogloss:0.67342\n",
      "[6]\ttrain-mlogloss:0.67062\n",
      "[7]\ttrain-mlogloss:0.66718\n",
      "[8]\ttrain-mlogloss:0.66431\n",
      "[9]\ttrain-mlogloss:0.66107\n"
     ]
    },
    {
     "name": "stderr",
     "output_type": "stream",
     "text": [
      "/Library/Frameworks/Python.framework/Versions/3.6/lib/python3.6/site-packages/mlflow/xgboost.py:333: DeprecationWarning: inspect.getargspec() is deprecated, use inspect.signature() or inspect.getfullargspec()\n",
      "  all_arg_names = inspect.getargspec(original)[0]  # pylint: disable=W1505\n"
     ]
    },
    {
     "name": "stdout",
     "output_type": "stream",
     "text": [
      "[0]\ttrain-mlogloss:0.69150\n",
      "[1]\ttrain-mlogloss:0.68967\n",
      "[2]\ttrain-mlogloss:0.68799\n",
      "[3]\ttrain-mlogloss:0.68642\n",
      "[4]\ttrain-mlogloss:0.68483\n",
      "[5]\ttrain-mlogloss:0.68306\n",
      "[6]\ttrain-mlogloss:0.68157\n",
      "[7]\ttrain-mlogloss:0.67975\n",
      "[8]\ttrain-mlogloss:0.67821\n",
      "[9]\ttrain-mlogloss:0.67648\n"
     ]
    },
    {
     "name": "stderr",
     "output_type": "stream",
     "text": [
      "/Library/Frameworks/Python.framework/Versions/3.6/lib/python3.6/site-packages/mlflow/xgboost.py:333: DeprecationWarning: inspect.getargspec() is deprecated, use inspect.signature() or inspect.getfullargspec()\n",
      "  all_arg_names = inspect.getargspec(original)[0]  # pylint: disable=W1505\n"
     ]
    },
    {
     "name": "stdout",
     "output_type": "stream",
     "text": [
      "[0]\ttrain-mlogloss:0.51117\n",
      "[1]\ttrain-mlogloss:0.45147\n",
      "[2]\ttrain-mlogloss:0.41365\n",
      "[3]\ttrain-mlogloss:0.38970\n",
      "[4]\ttrain-mlogloss:0.37749\n",
      "[5]\ttrain-mlogloss:0.36868\n",
      "[6]\ttrain-mlogloss:0.36518\n",
      "[7]\ttrain-mlogloss:0.35393\n",
      "[8]\ttrain-mlogloss:0.34513\n",
      "[9]\ttrain-mlogloss:0.33916\n"
     ]
    },
    {
     "name": "stderr",
     "output_type": "stream",
     "text": [
      "/Library/Frameworks/Python.framework/Versions/3.6/lib/python3.6/site-packages/mlflow/xgboost.py:333: DeprecationWarning: inspect.getargspec() is deprecated, use inspect.signature() or inspect.getfullargspec()\n",
      "  all_arg_names = inspect.getargspec(original)[0]  # pylint: disable=W1505\n"
     ]
    },
    {
     "name": "stdout",
     "output_type": "stream",
     "text": [
      "[0]\ttrain-mlogloss:0.60725\n",
      "[1]\ttrain-mlogloss:0.54647\n",
      "[2]\ttrain-mlogloss:0.51093\n",
      "[3]\ttrain-mlogloss:0.48964\n",
      "[4]\ttrain-mlogloss:0.47210\n",
      "[5]\ttrain-mlogloss:0.45416\n",
      "[6]\ttrain-mlogloss:0.44430\n",
      "[7]\ttrain-mlogloss:0.43007\n",
      "[8]\ttrain-mlogloss:0.42064\n",
      "[9]\ttrain-mlogloss:0.41065\n"
     ]
    },
    {
     "name": "stderr",
     "output_type": "stream",
     "text": [
      "/Library/Frameworks/Python.framework/Versions/3.6/lib/python3.6/site-packages/mlflow/xgboost.py:333: DeprecationWarning: inspect.getargspec() is deprecated, use inspect.signature() or inspect.getfullargspec()\n",
      "  all_arg_names = inspect.getargspec(original)[0]  # pylint: disable=W1505\n"
     ]
    },
    {
     "name": "stdout",
     "output_type": "stream",
     "text": [
      "[0]\ttrain-mlogloss:0.68985\n",
      "[1]\ttrain-mlogloss:0.68622\n",
      "[2]\ttrain-mlogloss:0.68293\n",
      "[3]\ttrain-mlogloss:0.67989\n",
      "[4]\ttrain-mlogloss:0.67681\n",
      "[5]\ttrain-mlogloss:0.67342\n",
      "[6]\ttrain-mlogloss:0.67062\n",
      "[7]\ttrain-mlogloss:0.66718\n",
      "[8]\ttrain-mlogloss:0.66431\n",
      "[9]\ttrain-mlogloss:0.66107\n"
     ]
    },
    {
     "name": "stderr",
     "output_type": "stream",
     "text": [
      "/Library/Frameworks/Python.framework/Versions/3.6/lib/python3.6/site-packages/mlflow/xgboost.py:333: DeprecationWarning: inspect.getargspec() is deprecated, use inspect.signature() or inspect.getfullargspec()\n",
      "  all_arg_names = inspect.getargspec(original)[0]  # pylint: disable=W1505\n"
     ]
    },
    {
     "name": "stdout",
     "output_type": "stream",
     "text": [
      "[0]\ttrain-mlogloss:0.69150\n",
      "[1]\ttrain-mlogloss:0.68967\n",
      "[2]\ttrain-mlogloss:0.68799\n",
      "[3]\ttrain-mlogloss:0.68642\n",
      "[4]\ttrain-mlogloss:0.68483\n",
      "[5]\ttrain-mlogloss:0.68306\n",
      "[6]\ttrain-mlogloss:0.68157\n",
      "[7]\ttrain-mlogloss:0.67975\n",
      "[8]\ttrain-mlogloss:0.67821\n",
      "[9]\ttrain-mlogloss:0.67648\n"
     ]
    },
    {
     "name": "stderr",
     "output_type": "stream",
     "text": [
      "/Library/Frameworks/Python.framework/Versions/3.6/lib/python3.6/site-packages/mlflow/xgboost.py:333: DeprecationWarning: inspect.getargspec() is deprecated, use inspect.signature() or inspect.getfullargspec()\n",
      "  all_arg_names = inspect.getargspec(original)[0]  # pylint: disable=W1505\n"
     ]
    },
    {
     "name": "stdout",
     "output_type": "stream",
     "text": [
      "[0]\ttrain-mlogloss:0.51117\n",
      "[1]\ttrain-mlogloss:0.45147\n",
      "[2]\ttrain-mlogloss:0.41365\n",
      "[3]\ttrain-mlogloss:0.38970\n",
      "[4]\ttrain-mlogloss:0.37749\n",
      "[5]\ttrain-mlogloss:0.36868\n",
      "[6]\ttrain-mlogloss:0.36518\n",
      "[7]\ttrain-mlogloss:0.35393\n",
      "[8]\ttrain-mlogloss:0.34513\n",
      "[9]\ttrain-mlogloss:0.33916\n"
     ]
    },
    {
     "name": "stderr",
     "output_type": "stream",
     "text": [
      "/Library/Frameworks/Python.framework/Versions/3.6/lib/python3.6/site-packages/mlflow/xgboost.py:333: DeprecationWarning: inspect.getargspec() is deprecated, use inspect.signature() or inspect.getfullargspec()\n",
      "  all_arg_names = inspect.getargspec(original)[0]  # pylint: disable=W1505\n"
     ]
    },
    {
     "name": "stdout",
     "output_type": "stream",
     "text": [
      "[0]\ttrain-mlogloss:0.60725\n",
      "[1]\ttrain-mlogloss:0.54647\n",
      "[2]\ttrain-mlogloss:0.51093\n",
      "[3]\ttrain-mlogloss:0.48964\n",
      "[4]\ttrain-mlogloss:0.47210\n",
      "[5]\ttrain-mlogloss:0.45416\n",
      "[6]\ttrain-mlogloss:0.44430\n",
      "[7]\ttrain-mlogloss:0.43007\n",
      "[8]\ttrain-mlogloss:0.42064\n",
      "[9]\ttrain-mlogloss:0.41065\n"
     ]
    },
    {
     "name": "stderr",
     "output_type": "stream",
     "text": [
      "/Library/Frameworks/Python.framework/Versions/3.6/lib/python3.6/site-packages/mlflow/xgboost.py:333: DeprecationWarning: inspect.getargspec() is deprecated, use inspect.signature() or inspect.getfullargspec()\n",
      "  all_arg_names = inspect.getargspec(original)[0]  # pylint: disable=W1505\n"
     ]
    },
    {
     "name": "stdout",
     "output_type": "stream",
     "text": [
      "[0]\ttrain-mlogloss:0.68985\n",
      "[1]\ttrain-mlogloss:0.68622\n",
      "[2]\ttrain-mlogloss:0.68293\n",
      "[3]\ttrain-mlogloss:0.67989\n",
      "[4]\ttrain-mlogloss:0.67681\n",
      "[5]\ttrain-mlogloss:0.67342\n",
      "[6]\ttrain-mlogloss:0.67062\n",
      "[7]\ttrain-mlogloss:0.66718\n",
      "[8]\ttrain-mlogloss:0.66431\n",
      "[9]\ttrain-mlogloss:0.66107\n"
     ]
    },
    {
     "name": "stderr",
     "output_type": "stream",
     "text": [
      "/Library/Frameworks/Python.framework/Versions/3.6/lib/python3.6/site-packages/mlflow/xgboost.py:333: DeprecationWarning: inspect.getargspec() is deprecated, use inspect.signature() or inspect.getfullargspec()\n",
      "  all_arg_names = inspect.getargspec(original)[0]  # pylint: disable=W1505\n"
     ]
    },
    {
     "name": "stdout",
     "output_type": "stream",
     "text": [
      "[0]\ttrain-mlogloss:0.69150\n",
      "[1]\ttrain-mlogloss:0.68967\n",
      "[2]\ttrain-mlogloss:0.68799\n",
      "[3]\ttrain-mlogloss:0.68642\n",
      "[4]\ttrain-mlogloss:0.68483\n",
      "[5]\ttrain-mlogloss:0.68306\n",
      "[6]\ttrain-mlogloss:0.68157\n",
      "[7]\ttrain-mlogloss:0.67975\n",
      "[8]\ttrain-mlogloss:0.67821\n",
      "[9]\ttrain-mlogloss:0.67648\n"
     ]
    },
    {
     "name": "stderr",
     "output_type": "stream",
     "text": [
      "/Library/Frameworks/Python.framework/Versions/3.6/lib/python3.6/site-packages/mlflow/xgboost.py:333: DeprecationWarning: inspect.getargspec() is deprecated, use inspect.signature() or inspect.getfullargspec()\n",
      "  all_arg_names = inspect.getargspec(original)[0]  # pylint: disable=W1505\n"
     ]
    },
    {
     "name": "stdout",
     "output_type": "stream",
     "text": [
      "[0]\ttrain-mlogloss:0.46499\n",
      "[1]\ttrain-mlogloss:0.38721\n",
      "[2]\ttrain-mlogloss:0.34111\n",
      "[3]\ttrain-mlogloss:0.32021\n",
      "[4]\ttrain-mlogloss:0.31216\n",
      "[5]\ttrain-mlogloss:0.30268\n",
      "[6]\ttrain-mlogloss:0.29860\n",
      "[7]\ttrain-mlogloss:0.29475\n",
      "[8]\ttrain-mlogloss:0.28614\n",
      "[9]\ttrain-mlogloss:0.28437\n"
     ]
    },
    {
     "name": "stderr",
     "output_type": "stream",
     "text": [
      "/Library/Frameworks/Python.framework/Versions/3.6/lib/python3.6/site-packages/mlflow/xgboost.py:333: DeprecationWarning: inspect.getargspec() is deprecated, use inspect.signature() or inspect.getfullargspec()\n",
      "  all_arg_names = inspect.getargspec(original)[0]  # pylint: disable=W1505\n"
     ]
    },
    {
     "name": "stdout",
     "output_type": "stream",
     "text": [
      "[0]\ttrain-mlogloss:0.58884\n",
      "[1]\ttrain-mlogloss:0.51842\n",
      "[2]\ttrain-mlogloss:0.47108\n",
      "[3]\ttrain-mlogloss:0.43532\n",
      "[4]\ttrain-mlogloss:0.41438\n",
      "[5]\ttrain-mlogloss:0.39273\n",
      "[6]\ttrain-mlogloss:0.38384\n",
      "[7]\ttrain-mlogloss:0.36724\n",
      "[8]\ttrain-mlogloss:0.35617\n",
      "[9]\ttrain-mlogloss:0.34604\n"
     ]
    },
    {
     "name": "stderr",
     "output_type": "stream",
     "text": [
      "/Library/Frameworks/Python.framework/Versions/3.6/lib/python3.6/site-packages/mlflow/xgboost.py:333: DeprecationWarning: inspect.getargspec() is deprecated, use inspect.signature() or inspect.getfullargspec()\n",
      "  all_arg_names = inspect.getargspec(original)[0]  # pylint: disable=W1505\n"
     ]
    },
    {
     "name": "stdout",
     "output_type": "stream",
     "text": [
      "[0]\ttrain-mlogloss:0.68917\n",
      "[1]\ttrain-mlogloss:0.68509\n",
      "[2]\ttrain-mlogloss:0.68113\n",
      "[3]\ttrain-mlogloss:0.67709\n",
      "[4]\ttrain-mlogloss:0.67348\n",
      "[5]\ttrain-mlogloss:0.66951\n",
      "[6]\ttrain-mlogloss:0.66639\n",
      "[7]\ttrain-mlogloss:0.66222\n",
      "[8]\ttrain-mlogloss:0.65886\n",
      "[9]\ttrain-mlogloss:0.65483\n"
     ]
    },
    {
     "name": "stderr",
     "output_type": "stream",
     "text": [
      "/Library/Frameworks/Python.framework/Versions/3.6/lib/python3.6/site-packages/mlflow/xgboost.py:333: DeprecationWarning: inspect.getargspec() is deprecated, use inspect.signature() or inspect.getfullargspec()\n",
      "  all_arg_names = inspect.getargspec(original)[0]  # pylint: disable=W1505\n"
     ]
    },
    {
     "name": "stdout",
     "output_type": "stream",
     "text": [
      "[0]\ttrain-mlogloss:0.69116\n",
      "[1]\ttrain-mlogloss:0.68910\n",
      "[2]\ttrain-mlogloss:0.68708\n",
      "[3]\ttrain-mlogloss:0.68501\n",
      "[4]\ttrain-mlogloss:0.68314\n",
      "[5]\ttrain-mlogloss:0.68107\n",
      "[6]\ttrain-mlogloss:0.67942\n",
      "[7]\ttrain-mlogloss:0.67723\n",
      "[8]\ttrain-mlogloss:0.67543\n",
      "[9]\ttrain-mlogloss:0.67327\n"
     ]
    },
    {
     "name": "stderr",
     "output_type": "stream",
     "text": [
      "/Library/Frameworks/Python.framework/Versions/3.6/lib/python3.6/site-packages/mlflow/xgboost.py:333: DeprecationWarning: inspect.getargspec() is deprecated, use inspect.signature() or inspect.getfullargspec()\n",
      "  all_arg_names = inspect.getargspec(original)[0]  # pylint: disable=W1505\n"
     ]
    },
    {
     "name": "stdout",
     "output_type": "stream",
     "text": [
      "[0]\ttrain-mlogloss:0.46503\n",
      "[1]\ttrain-mlogloss:0.38783\n",
      "[2]\ttrain-mlogloss:0.34190\n",
      "[3]\ttrain-mlogloss:0.32105\n",
      "[4]\ttrain-mlogloss:0.31307\n",
      "[5]\ttrain-mlogloss:0.30362\n",
      "[6]\ttrain-mlogloss:0.29982\n",
      "[7]\ttrain-mlogloss:0.29606\n",
      "[8]\ttrain-mlogloss:0.28755\n",
      "[9]\ttrain-mlogloss:0.28596\n"
     ]
    },
    {
     "name": "stderr",
     "output_type": "stream",
     "text": [
      "/Library/Frameworks/Python.framework/Versions/3.6/lib/python3.6/site-packages/mlflow/xgboost.py:333: DeprecationWarning: inspect.getargspec() is deprecated, use inspect.signature() or inspect.getfullargspec()\n",
      "  all_arg_names = inspect.getargspec(original)[0]  # pylint: disable=W1505\n"
     ]
    },
    {
     "name": "stdout",
     "output_type": "stream",
     "text": [
      "[0]\ttrain-mlogloss:0.58886\n",
      "[1]\ttrain-mlogloss:0.51848\n",
      "[2]\ttrain-mlogloss:0.47120\n",
      "[3]\ttrain-mlogloss:0.43545\n",
      "[4]\ttrain-mlogloss:0.41457\n",
      "[5]\ttrain-mlogloss:0.39299\n",
      "[6]\ttrain-mlogloss:0.38425\n",
      "[7]\ttrain-mlogloss:0.36781\n",
      "[8]\ttrain-mlogloss:0.35676\n",
      "[9]\ttrain-mlogloss:0.34668\n"
     ]
    },
    {
     "name": "stderr",
     "output_type": "stream",
     "text": [
      "/Library/Frameworks/Python.framework/Versions/3.6/lib/python3.6/site-packages/mlflow/xgboost.py:333: DeprecationWarning: inspect.getargspec() is deprecated, use inspect.signature() or inspect.getfullargspec()\n",
      "  all_arg_names = inspect.getargspec(original)[0]  # pylint: disable=W1505\n"
     ]
    },
    {
     "name": "stdout",
     "output_type": "stream",
     "text": [
      "[0]\ttrain-mlogloss:0.68917\n",
      "[1]\ttrain-mlogloss:0.68510\n",
      "[2]\ttrain-mlogloss:0.68114\n",
      "[3]\ttrain-mlogloss:0.67709\n",
      "[4]\ttrain-mlogloss:0.67349\n",
      "[5]\ttrain-mlogloss:0.66952\n",
      "[6]\ttrain-mlogloss:0.66639\n",
      "[7]\ttrain-mlogloss:0.66223\n",
      "[8]\ttrain-mlogloss:0.65888\n",
      "[9]\ttrain-mlogloss:0.65485\n"
     ]
    },
    {
     "name": "stderr",
     "output_type": "stream",
     "text": [
      "/Library/Frameworks/Python.framework/Versions/3.6/lib/python3.6/site-packages/mlflow/xgboost.py:333: DeprecationWarning: inspect.getargspec() is deprecated, use inspect.signature() or inspect.getfullargspec()\n",
      "  all_arg_names = inspect.getargspec(original)[0]  # pylint: disable=W1505\n"
     ]
    },
    {
     "name": "stdout",
     "output_type": "stream",
     "text": [
      "[0]\ttrain-mlogloss:0.69116\n",
      "[1]\ttrain-mlogloss:0.68910\n",
      "[2]\ttrain-mlogloss:0.68708\n",
      "[3]\ttrain-mlogloss:0.68501\n",
      "[4]\ttrain-mlogloss:0.68314\n",
      "[5]\ttrain-mlogloss:0.68108\n",
      "[6]\ttrain-mlogloss:0.67943\n",
      "[7]\ttrain-mlogloss:0.67723\n",
      "[8]\ttrain-mlogloss:0.67544\n",
      "[9]\ttrain-mlogloss:0.67328\n"
     ]
    },
    {
     "name": "stderr",
     "output_type": "stream",
     "text": [
      "/Library/Frameworks/Python.framework/Versions/3.6/lib/python3.6/site-packages/mlflow/xgboost.py:333: DeprecationWarning: inspect.getargspec() is deprecated, use inspect.signature() or inspect.getfullargspec()\n",
      "  all_arg_names = inspect.getargspec(original)[0]  # pylint: disable=W1505\n"
     ]
    },
    {
     "name": "stdout",
     "output_type": "stream",
     "text": [
      "[0]\ttrain-mlogloss:0.46552\n",
      "[1]\ttrain-mlogloss:0.38850\n",
      "[2]\ttrain-mlogloss:0.34263\n",
      "[3]\ttrain-mlogloss:0.32175\n",
      "[4]\ttrain-mlogloss:0.31382\n",
      "[5]\ttrain-mlogloss:0.30470\n",
      "[6]\ttrain-mlogloss:0.30113\n",
      "[7]\ttrain-mlogloss:0.29723\n",
      "[8]\ttrain-mlogloss:0.28869\n",
      "[9]\ttrain-mlogloss:0.28710\n"
     ]
    },
    {
     "name": "stderr",
     "output_type": "stream",
     "text": [
      "/Library/Frameworks/Python.framework/Versions/3.6/lib/python3.6/site-packages/mlflow/xgboost.py:333: DeprecationWarning: inspect.getargspec() is deprecated, use inspect.signature() or inspect.getfullargspec()\n",
      "  all_arg_names = inspect.getargspec(original)[0]  # pylint: disable=W1505\n"
     ]
    },
    {
     "name": "stdout",
     "output_type": "stream",
     "text": [
      "[0]\ttrain-mlogloss:0.58909\n",
      "[1]\ttrain-mlogloss:0.51896\n",
      "[2]\ttrain-mlogloss:0.47171\n",
      "[3]\ttrain-mlogloss:0.43591\n",
      "[4]\ttrain-mlogloss:0.41500\n",
      "[5]\ttrain-mlogloss:0.39332\n",
      "[6]\ttrain-mlogloss:0.38460\n",
      "[7]\ttrain-mlogloss:0.36819\n",
      "[8]\ttrain-mlogloss:0.35714\n",
      "[9]\ttrain-mlogloss:0.34705\n"
     ]
    },
    {
     "name": "stderr",
     "output_type": "stream",
     "text": [
      "/Library/Frameworks/Python.framework/Versions/3.6/lib/python3.6/site-packages/mlflow/xgboost.py:333: DeprecationWarning: inspect.getargspec() is deprecated, use inspect.signature() or inspect.getfullargspec()\n",
      "  all_arg_names = inspect.getargspec(original)[0]  # pylint: disable=W1505\n"
     ]
    },
    {
     "name": "stdout",
     "output_type": "stream",
     "text": [
      "[0]\ttrain-mlogloss:0.68918\n",
      "[1]\ttrain-mlogloss:0.68511\n",
      "[2]\ttrain-mlogloss:0.68117\n",
      "[3]\ttrain-mlogloss:0.67712\n",
      "[4]\ttrain-mlogloss:0.67352\n",
      "[5]\ttrain-mlogloss:0.66955\n",
      "[6]\ttrain-mlogloss:0.66643\n",
      "[7]\ttrain-mlogloss:0.66227\n",
      "[8]\ttrain-mlogloss:0.65892\n",
      "[9]\ttrain-mlogloss:0.65489\n"
     ]
    },
    {
     "name": "stderr",
     "output_type": "stream",
     "text": [
      "/Library/Frameworks/Python.framework/Versions/3.6/lib/python3.6/site-packages/mlflow/xgboost.py:333: DeprecationWarning: inspect.getargspec() is deprecated, use inspect.signature() or inspect.getfullargspec()\n",
      "  all_arg_names = inspect.getargspec(original)[0]  # pylint: disable=W1505\n"
     ]
    },
    {
     "name": "stdout",
     "output_type": "stream",
     "text": [
      "[0]\ttrain-mlogloss:0.69116\n",
      "[1]\ttrain-mlogloss:0.68911\n",
      "[2]\ttrain-mlogloss:0.68710\n",
      "[3]\ttrain-mlogloss:0.68502\n",
      "[4]\ttrain-mlogloss:0.68316\n",
      "[5]\ttrain-mlogloss:0.68109\n",
      "[6]\ttrain-mlogloss:0.67944\n",
      "[7]\ttrain-mlogloss:0.67725\n",
      "[8]\ttrain-mlogloss:0.67546\n",
      "[9]\ttrain-mlogloss:0.67330\n"
     ]
    },
    {
     "name": "stderr",
     "output_type": "stream",
     "text": [
      "/Library/Frameworks/Python.framework/Versions/3.6/lib/python3.6/site-packages/mlflow/xgboost.py:333: DeprecationWarning: inspect.getargspec() is deprecated, use inspect.signature() or inspect.getfullargspec()\n",
      "  all_arg_names = inspect.getargspec(original)[0]  # pylint: disable=W1505\n"
     ]
    },
    {
     "name": "stdout",
     "output_type": "stream",
     "text": [
      "[0]\ttrain-mlogloss:0.46592\n",
      "[1]\ttrain-mlogloss:0.38922\n",
      "[2]\ttrain-mlogloss:0.34354\n",
      "[3]\ttrain-mlogloss:0.32271\n",
      "[4]\ttrain-mlogloss:0.31481\n",
      "[5]\ttrain-mlogloss:0.30534\n",
      "[6]\ttrain-mlogloss:0.30230\n",
      "[7]\ttrain-mlogloss:0.29874\n",
      "[8]\ttrain-mlogloss:0.29018\n",
      "[9]\ttrain-mlogloss:0.28863\n"
     ]
    },
    {
     "name": "stderr",
     "output_type": "stream",
     "text": [
      "/Library/Frameworks/Python.framework/Versions/3.6/lib/python3.6/site-packages/mlflow/xgboost.py:333: DeprecationWarning: inspect.getargspec() is deprecated, use inspect.signature() or inspect.getfullargspec()\n",
      "  all_arg_names = inspect.getargspec(original)[0]  # pylint: disable=W1505\n"
     ]
    },
    {
     "name": "stdout",
     "output_type": "stream",
     "text": [
      "[0]\ttrain-mlogloss:0.58922\n",
      "[1]\ttrain-mlogloss:0.51913\n",
      "[2]\ttrain-mlogloss:0.47187\n",
      "[3]\ttrain-mlogloss:0.43612\n",
      "[4]\ttrain-mlogloss:0.41521\n",
      "[5]\ttrain-mlogloss:0.39368\n",
      "[6]\ttrain-mlogloss:0.38507\n",
      "[7]\ttrain-mlogloss:0.36870\n",
      "[8]\ttrain-mlogloss:0.35767\n",
      "[9]\ttrain-mlogloss:0.34764\n"
     ]
    },
    {
     "name": "stderr",
     "output_type": "stream",
     "text": [
      "/Library/Frameworks/Python.framework/Versions/3.6/lib/python3.6/site-packages/mlflow/xgboost.py:333: DeprecationWarning: inspect.getargspec() is deprecated, use inspect.signature() or inspect.getfullargspec()\n",
      "  all_arg_names = inspect.getargspec(original)[0]  # pylint: disable=W1505\n"
     ]
    },
    {
     "name": "stdout",
     "output_type": "stream",
     "text": [
      "[0]\ttrain-mlogloss:0.68919\n",
      "[1]\ttrain-mlogloss:0.68512\n",
      "[2]\ttrain-mlogloss:0.68117\n",
      "[3]\ttrain-mlogloss:0.67713\n",
      "[4]\ttrain-mlogloss:0.67353\n",
      "[5]\ttrain-mlogloss:0.66956\n",
      "[6]\ttrain-mlogloss:0.66645\n",
      "[7]\ttrain-mlogloss:0.66230\n",
      "[8]\ttrain-mlogloss:0.65894\n",
      "[9]\ttrain-mlogloss:0.65491\n"
     ]
    },
    {
     "name": "stderr",
     "output_type": "stream",
     "text": [
      "/Library/Frameworks/Python.framework/Versions/3.6/lib/python3.6/site-packages/mlflow/xgboost.py:333: DeprecationWarning: inspect.getargspec() is deprecated, use inspect.signature() or inspect.getfullargspec()\n",
      "  all_arg_names = inspect.getargspec(original)[0]  # pylint: disable=W1505\n"
     ]
    },
    {
     "name": "stdout",
     "output_type": "stream",
     "text": [
      "[0]\ttrain-mlogloss:0.69116\n",
      "[1]\ttrain-mlogloss:0.68911\n",
      "[2]\ttrain-mlogloss:0.68710\n",
      "[3]\ttrain-mlogloss:0.68503\n",
      "[4]\ttrain-mlogloss:0.68316\n",
      "[5]\ttrain-mlogloss:0.68110\n",
      "[6]\ttrain-mlogloss:0.67945\n",
      "[7]\ttrain-mlogloss:0.67726\n",
      "[8]\ttrain-mlogloss:0.67547\n",
      "[9]\ttrain-mlogloss:0.67331\n"
     ]
    },
    {
     "name": "stderr",
     "output_type": "stream",
     "text": [
      "/Library/Frameworks/Python.framework/Versions/3.6/lib/python3.6/site-packages/mlflow/xgboost.py:333: DeprecationWarning: inspect.getargspec() is deprecated, use inspect.signature() or inspect.getfullargspec()\n",
      "  all_arg_names = inspect.getargspec(original)[0]  # pylint: disable=W1505\n"
     ]
    },
    {
     "name": "stdout",
     "output_type": "stream",
     "text": [
      "[0]\ttrain-mlogloss:0.46103\n",
      "[1]\ttrain-mlogloss:0.37684\n",
      "[2]\ttrain-mlogloss:0.32518\n",
      "[3]\ttrain-mlogloss:0.30511\n",
      "[4]\ttrain-mlogloss:0.29231\n",
      "[5]\ttrain-mlogloss:0.28302\n",
      "[6]\ttrain-mlogloss:0.27928\n",
      "[7]\ttrain-mlogloss:0.27481\n"
     ]
    },
    {
     "name": "stderr",
     "output_type": "stream",
     "text": [
      "/Library/Frameworks/Python.framework/Versions/3.6/lib/python3.6/site-packages/mlflow/xgboost.py:333: DeprecationWarning: inspect.getargspec() is deprecated, use inspect.signature() or inspect.getfullargspec()\n",
      "  all_arg_names = inspect.getargspec(original)[0]  # pylint: disable=W1505\n"
     ]
    },
    {
     "name": "stdout",
     "output_type": "stream",
     "text": [
      "[8]\ttrain-mlogloss:0.26336\n",
      "[9]\ttrain-mlogloss:0.26131\n",
      "[0]\ttrain-mlogloss:0.58728\n",
      "[1]\ttrain-mlogloss:0.51437\n",
      "[2]\ttrain-mlogloss:0.46472\n",
      "[3]\ttrain-mlogloss:0.42927\n",
      "[4]\ttrain-mlogloss:0.40575\n",
      "[5]\ttrain-mlogloss:0.38309\n",
      "[6]\ttrain-mlogloss:0.37387\n",
      "[7]\ttrain-mlogloss:0.35717\n"
     ]
    },
    {
     "name": "stderr",
     "output_type": "stream",
     "text": [
      "/Library/Frameworks/Python.framework/Versions/3.6/lib/python3.6/site-packages/mlflow/xgboost.py:333: DeprecationWarning: inspect.getargspec() is deprecated, use inspect.signature() or inspect.getfullargspec()\n",
      "  all_arg_names = inspect.getargspec(original)[0]  # pylint: disable=W1505\n"
     ]
    },
    {
     "name": "stdout",
     "output_type": "stream",
     "text": [
      "[8]\ttrain-mlogloss:0.34514\n",
      "[9]\ttrain-mlogloss:0.33487\n",
      "[0]\ttrain-mlogloss:0.68912\n",
      "[1]\ttrain-mlogloss:0.68493\n",
      "[2]\ttrain-mlogloss:0.68085\n",
      "[3]\ttrain-mlogloss:0.67681\n",
      "[4]\ttrain-mlogloss:0.67311\n",
      "[5]\ttrain-mlogloss:0.66906\n",
      "[6]\ttrain-mlogloss:0.66590\n",
      "[7]\ttrain-mlogloss:0.66170\n",
      "[8]\ttrain-mlogloss:0.65827\n"
     ]
    },
    {
     "name": "stderr",
     "output_type": "stream",
     "text": [
      "/Library/Frameworks/Python.framework/Versions/3.6/lib/python3.6/site-packages/mlflow/xgboost.py:333: DeprecationWarning: inspect.getargspec() is deprecated, use inspect.signature() or inspect.getfullargspec()\n",
      "  all_arg_names = inspect.getargspec(original)[0]  # pylint: disable=W1505\n"
     ]
    },
    {
     "name": "stdout",
     "output_type": "stream",
     "text": [
      "[9]\ttrain-mlogloss:0.65422\n",
      "[0]\ttrain-mlogloss:0.69113\n",
      "[1]\ttrain-mlogloss:0.68902\n",
      "[2]\ttrain-mlogloss:0.68694\n",
      "[3]\ttrain-mlogloss:0.68486\n",
      "[4]\ttrain-mlogloss:0.68295\n",
      "[5]\ttrain-mlogloss:0.68085\n",
      "[6]\ttrain-mlogloss:0.67918\n",
      "[7]\ttrain-mlogloss:0.67696\n",
      "[8]\ttrain-mlogloss:0.67513\n"
     ]
    },
    {
     "name": "stderr",
     "output_type": "stream",
     "text": [
      "/Library/Frameworks/Python.framework/Versions/3.6/lib/python3.6/site-packages/mlflow/xgboost.py:333: DeprecationWarning: inspect.getargspec() is deprecated, use inspect.signature() or inspect.getfullargspec()\n",
      "  all_arg_names = inspect.getargspec(original)[0]  # pylint: disable=W1505\n"
     ]
    },
    {
     "name": "stdout",
     "output_type": "stream",
     "text": [
      "[9]\ttrain-mlogloss:0.67296\n",
      "[0]\ttrain-mlogloss:0.46182\n",
      "[1]\ttrain-mlogloss:0.37948\n",
      "[2]\ttrain-mlogloss:0.33014\n",
      "[3]\ttrain-mlogloss:0.30988\n",
      "[4]\ttrain-mlogloss:0.29872\n",
      "[5]\ttrain-mlogloss:0.28978\n",
      "[6]\ttrain-mlogloss:0.28629\n",
      "[7]\ttrain-mlogloss:0.28200\n"
     ]
    },
    {
     "name": "stderr",
     "output_type": "stream",
     "text": [
      "/Library/Frameworks/Python.framework/Versions/3.6/lib/python3.6/site-packages/mlflow/xgboost.py:333: DeprecationWarning: inspect.getargspec() is deprecated, use inspect.signature() or inspect.getfullargspec()\n",
      "  all_arg_names = inspect.getargspec(original)[0]  # pylint: disable=W1505\n"
     ]
    },
    {
     "name": "stdout",
     "output_type": "stream",
     "text": [
      "[8]\ttrain-mlogloss:0.27144\n",
      "[9]\ttrain-mlogloss:0.26973\n",
      "[0]\ttrain-mlogloss:0.58759\n",
      "[1]\ttrain-mlogloss:0.51514\n",
      "[2]\ttrain-mlogloss:0.46581\n",
      "[3]\ttrain-mlogloss:0.43033\n",
      "[4]\ttrain-mlogloss:0.40731\n",
      "[5]\ttrain-mlogloss:0.38486\n",
      "[6]\ttrain-mlogloss:0.37591\n",
      "[7]\ttrain-mlogloss:0.35934\n",
      "[8]\ttrain-mlogloss:0.34754\n"
     ]
    },
    {
     "name": "stderr",
     "output_type": "stream",
     "text": [
      "/Library/Frameworks/Python.framework/Versions/3.6/lib/python3.6/site-packages/mlflow/xgboost.py:333: DeprecationWarning: inspect.getargspec() is deprecated, use inspect.signature() or inspect.getfullargspec()\n",
      "  all_arg_names = inspect.getargspec(original)[0]  # pylint: disable=W1505\n"
     ]
    },
    {
     "name": "stdout",
     "output_type": "stream",
     "text": [
      "[9]\ttrain-mlogloss:0.33734\n",
      "[0]\ttrain-mlogloss:0.68913\n",
      "[1]\ttrain-mlogloss:0.68497\n",
      "[2]\ttrain-mlogloss:0.68092\n",
      "[3]\ttrain-mlogloss:0.67687\n",
      "[4]\ttrain-mlogloss:0.67319\n",
      "[5]\ttrain-mlogloss:0.66917\n",
      "[6]\ttrain-mlogloss:0.66602\n",
      "[7]\ttrain-mlogloss:0.66183\n",
      "[8]\ttrain-mlogloss:0.65841\n"
     ]
    },
    {
     "name": "stderr",
     "output_type": "stream",
     "text": [
      "/Library/Frameworks/Python.framework/Versions/3.6/lib/python3.6/site-packages/mlflow/xgboost.py:333: DeprecationWarning: inspect.getargspec() is deprecated, use inspect.signature() or inspect.getfullargspec()\n",
      "  all_arg_names = inspect.getargspec(original)[0]  # pylint: disable=W1505\n"
     ]
    },
    {
     "name": "stdout",
     "output_type": "stream",
     "text": [
      "[9]\ttrain-mlogloss:0.65436\n",
      "[0]\ttrain-mlogloss:0.69114\n",
      "[1]\ttrain-mlogloss:0.68903\n",
      "[2]\ttrain-mlogloss:0.68697\n",
      "[3]\ttrain-mlogloss:0.68490\n",
      "[4]\ttrain-mlogloss:0.68299\n",
      "[5]\ttrain-mlogloss:0.68090\n",
      "[6]\ttrain-mlogloss:0.67924\n",
      "[7]\ttrain-mlogloss:0.67703\n",
      "[8]\ttrain-mlogloss:0.67520\n"
     ]
    },
    {
     "name": "stderr",
     "output_type": "stream",
     "text": [
      "/Library/Frameworks/Python.framework/Versions/3.6/lib/python3.6/site-packages/mlflow/xgboost.py:333: DeprecationWarning: inspect.getargspec() is deprecated, use inspect.signature() or inspect.getfullargspec()\n",
      "  all_arg_names = inspect.getargspec(original)[0]  # pylint: disable=W1505\n"
     ]
    },
    {
     "name": "stdout",
     "output_type": "stream",
     "text": [
      "[9]\ttrain-mlogloss:0.67304\n",
      "[0]\ttrain-mlogloss:0.46261\n",
      "[1]\ttrain-mlogloss:0.38127\n",
      "[2]\ttrain-mlogloss:0.33286\n",
      "[3]\ttrain-mlogloss:0.31252\n",
      "[4]\ttrain-mlogloss:0.30120\n",
      "[5]\ttrain-mlogloss:0.29245\n",
      "[6]\ttrain-mlogloss:0.28916\n",
      "[7]\ttrain-mlogloss:0.28479\n",
      "[8]\ttrain-mlogloss:0.27484\n"
     ]
    },
    {
     "name": "stderr",
     "output_type": "stream",
     "text": [
      "/Library/Frameworks/Python.framework/Versions/3.6/lib/python3.6/site-packages/mlflow/xgboost.py:333: DeprecationWarning: inspect.getargspec() is deprecated, use inspect.signature() or inspect.getfullargspec()\n",
      "  all_arg_names = inspect.getargspec(original)[0]  # pylint: disable=W1505\n"
     ]
    },
    {
     "name": "stdout",
     "output_type": "stream",
     "text": [
      "[9]\ttrain-mlogloss:0.27326\n",
      "[0]\ttrain-mlogloss:0.58795\n",
      "[1]\ttrain-mlogloss:0.51587\n",
      "[2]\ttrain-mlogloss:0.46697\n",
      "[3]\ttrain-mlogloss:0.43141\n",
      "[4]\ttrain-mlogloss:0.40869\n",
      "[5]\ttrain-mlogloss:0.38638\n",
      "[6]\ttrain-mlogloss:0.37748\n",
      "[7]\ttrain-mlogloss:0.36088\n",
      "[8]\ttrain-mlogloss:0.34916\n"
     ]
    },
    {
     "name": "stderr",
     "output_type": "stream",
     "text": [
      "/Library/Frameworks/Python.framework/Versions/3.6/lib/python3.6/site-packages/mlflow/xgboost.py:333: DeprecationWarning: inspect.getargspec() is deprecated, use inspect.signature() or inspect.getfullargspec()\n",
      "  all_arg_names = inspect.getargspec(original)[0]  # pylint: disable=W1505\n"
     ]
    },
    {
     "name": "stdout",
     "output_type": "stream",
     "text": [
      "[9]\ttrain-mlogloss:0.33897\n",
      "[0]\ttrain-mlogloss:0.68915\n",
      "[1]\ttrain-mlogloss:0.68500\n",
      "[2]\ttrain-mlogloss:0.68096\n",
      "[3]\ttrain-mlogloss:0.67692\n",
      "[4]\ttrain-mlogloss:0.67325\n",
      "[5]\ttrain-mlogloss:0.66923\n",
      "[6]\ttrain-mlogloss:0.66609\n",
      "[7]\ttrain-mlogloss:0.66191\n",
      "[8]\ttrain-mlogloss:0.65849\n",
      "[9]\ttrain-mlogloss:0.65445\n"
     ]
    },
    {
     "name": "stderr",
     "output_type": "stream",
     "text": [
      "/Library/Frameworks/Python.framework/Versions/3.6/lib/python3.6/site-packages/mlflow/xgboost.py:333: DeprecationWarning: inspect.getargspec() is deprecated, use inspect.signature() or inspect.getfullargspec()\n",
      "  all_arg_names = inspect.getargspec(original)[0]  # pylint: disable=W1505\n"
     ]
    },
    {
     "name": "stdout",
     "output_type": "stream",
     "text": [
      "[0]\ttrain-mlogloss:0.69114\n",
      "[1]\ttrain-mlogloss:0.68905\n",
      "[2]\ttrain-mlogloss:0.68700\n",
      "[3]\ttrain-mlogloss:0.68492\n",
      "[4]\ttrain-mlogloss:0.68302\n",
      "[5]\ttrain-mlogloss:0.68093\n",
      "[6]\ttrain-mlogloss:0.67928\n",
      "[7]\ttrain-mlogloss:0.67707\n",
      "[8]\ttrain-mlogloss:0.67524\n",
      "[9]\ttrain-mlogloss:0.67308\n"
     ]
    },
    {
     "name": "stderr",
     "output_type": "stream",
     "text": [
      "/Library/Frameworks/Python.framework/Versions/3.6/lib/python3.6/site-packages/mlflow/xgboost.py:333: DeprecationWarning: inspect.getargspec() is deprecated, use inspect.signature() or inspect.getfullargspec()\n",
      "  all_arg_names = inspect.getargspec(original)[0]  # pylint: disable=W1505\n"
     ]
    },
    {
     "name": "stdout",
     "output_type": "stream",
     "text": [
      "[0]\ttrain-mlogloss:0.46328\n",
      "[1]\ttrain-mlogloss:0.38274\n",
      "[2]\ttrain-mlogloss:0.33504\n",
      "[3]\ttrain-mlogloss:0.31453\n",
      "[4]\ttrain-mlogloss:0.30358\n",
      "[5]\ttrain-mlogloss:0.29518\n",
      "[6]\ttrain-mlogloss:0.29222\n",
      "[7]\ttrain-mlogloss:0.28809\n",
      "[8]\ttrain-mlogloss:0.27836\n"
     ]
    },
    {
     "name": "stderr",
     "output_type": "stream",
     "text": [
      "/Library/Frameworks/Python.framework/Versions/3.6/lib/python3.6/site-packages/mlflow/xgboost.py:333: DeprecationWarning: inspect.getargspec() is deprecated, use inspect.signature() or inspect.getfullargspec()\n",
      "  all_arg_names = inspect.getargspec(original)[0]  # pylint: disable=W1505\n"
     ]
    },
    {
     "name": "stdout",
     "output_type": "stream",
     "text": [
      "[9]\ttrain-mlogloss:0.27688\n",
      "[0]\ttrain-mlogloss:0.58819\n",
      "[1]\ttrain-mlogloss:0.51654\n",
      "[2]\ttrain-mlogloss:0.46779\n",
      "[3]\ttrain-mlogloss:0.43226\n",
      "[4]\ttrain-mlogloss:0.40966\n",
      "[5]\ttrain-mlogloss:0.38743\n",
      "[6]\ttrain-mlogloss:0.37866\n",
      "[7]\ttrain-mlogloss:0.36214\n",
      "[8]\ttrain-mlogloss:0.35049\n"
     ]
    },
    {
     "name": "stderr",
     "output_type": "stream",
     "text": [
      "/Library/Frameworks/Python.framework/Versions/3.6/lib/python3.6/site-packages/mlflow/xgboost.py:333: DeprecationWarning: inspect.getargspec() is deprecated, use inspect.signature() or inspect.getfullargspec()\n",
      "  all_arg_names = inspect.getargspec(original)[0]  # pylint: disable=W1505\n"
     ]
    },
    {
     "name": "stdout",
     "output_type": "stream",
     "text": [
      "[9]\ttrain-mlogloss:0.34034\n",
      "[0]\ttrain-mlogloss:0.68915\n",
      "[1]\ttrain-mlogloss:0.68502\n",
      "[2]\ttrain-mlogloss:0.68101\n",
      "[3]\ttrain-mlogloss:0.67697\n",
      "[4]\ttrain-mlogloss:0.67330\n",
      "[5]\ttrain-mlogloss:0.66929\n",
      "[6]\ttrain-mlogloss:0.66617\n",
      "[7]\ttrain-mlogloss:0.66199\n",
      "[8]\ttrain-mlogloss:0.65858\n"
     ]
    },
    {
     "name": "stderr",
     "output_type": "stream",
     "text": [
      "/Library/Frameworks/Python.framework/Versions/3.6/lib/python3.6/site-packages/mlflow/xgboost.py:333: DeprecationWarning: inspect.getargspec() is deprecated, use inspect.signature() or inspect.getfullargspec()\n",
      "  all_arg_names = inspect.getargspec(original)[0]  # pylint: disable=W1505\n"
     ]
    },
    {
     "name": "stdout",
     "output_type": "stream",
     "text": [
      "[9]\ttrain-mlogloss:0.65453\n",
      "[0]\ttrain-mlogloss:0.69115\n",
      "[1]\ttrain-mlogloss:0.68906\n",
      "[2]\ttrain-mlogloss:0.68702\n",
      "[3]\ttrain-mlogloss:0.68495\n",
      "[4]\ttrain-mlogloss:0.68305\n",
      "[5]\ttrain-mlogloss:0.68096\n",
      "[6]\ttrain-mlogloss:0.67931\n",
      "[7]\ttrain-mlogloss:0.67711\n",
      "[8]\ttrain-mlogloss:0.67529\n"
     ]
    },
    {
     "name": "stderr",
     "output_type": "stream",
     "text": [
      "/Library/Frameworks/Python.framework/Versions/3.6/lib/python3.6/site-packages/mlflow/xgboost.py:333: DeprecationWarning: inspect.getargspec() is deprecated, use inspect.signature() or inspect.getfullargspec()\n",
      "  all_arg_names = inspect.getargspec(original)[0]  # pylint: disable=W1505\n"
     ]
    },
    {
     "name": "stdout",
     "output_type": "stream",
     "text": [
      "[9]\ttrain-mlogloss:0.67312\n",
      "[0]\ttrain-mlogloss:0.48211\n",
      "[1]\ttrain-mlogloss:0.42737\n",
      "[2]\ttrain-mlogloss:0.40392\n",
      "[3]\ttrain-mlogloss:0.39037\n",
      "[4]\ttrain-mlogloss:0.37126\n",
      "[5]\ttrain-mlogloss:0.36063\n",
      "[6]\ttrain-mlogloss:0.35288\n",
      "[7]\ttrain-mlogloss:0.34446\n",
      "[8]\ttrain-mlogloss:0.34020\n",
      "[9]\ttrain-mlogloss:0.33494\n"
     ]
    },
    {
     "name": "stderr",
     "output_type": "stream",
     "text": [
      "/Library/Frameworks/Python.framework/Versions/3.6/lib/python3.6/site-packages/mlflow/xgboost.py:333: DeprecationWarning: inspect.getargspec() is deprecated, use inspect.signature() or inspect.getfullargspec()\n",
      "  all_arg_names = inspect.getargspec(original)[0]  # pylint: disable=W1505\n"
     ]
    },
    {
     "name": "stdout",
     "output_type": "stream",
     "text": [
      "[0]\ttrain-mlogloss:0.59523\n",
      "[1]\ttrain-mlogloss:0.53917\n",
      "[2]\ttrain-mlogloss:0.50219\n",
      "[3]\ttrain-mlogloss:0.47559\n",
      "[4]\ttrain-mlogloss:0.45405\n",
      "[5]\ttrain-mlogloss:0.44007\n",
      "[6]\ttrain-mlogloss:0.42766\n",
      "[7]\ttrain-mlogloss:0.41697\n",
      "[8]\ttrain-mlogloss:0.40845\n",
      "[9]\ttrain-mlogloss:0.40150\n"
     ]
    },
    {
     "name": "stderr",
     "output_type": "stream",
     "text": [
      "/Library/Frameworks/Python.framework/Versions/3.6/lib/python3.6/site-packages/mlflow/xgboost.py:333: DeprecationWarning: inspect.getargspec() is deprecated, use inspect.signature() or inspect.getfullargspec()\n",
      "  all_arg_names = inspect.getargspec(original)[0]  # pylint: disable=W1505\n"
     ]
    },
    {
     "name": "stdout",
     "output_type": "stream",
     "text": [
      "[0]\ttrain-mlogloss:0.68941\n",
      "[1]\ttrain-mlogloss:0.68578\n",
      "[2]\ttrain-mlogloss:0.68213\n",
      "[3]\ttrain-mlogloss:0.67871\n",
      "[4]\ttrain-mlogloss:0.67529\n",
      "[5]\ttrain-mlogloss:0.67193\n",
      "[6]\ttrain-mlogloss:0.66860\n",
      "[7]\ttrain-mlogloss:0.66525\n",
      "[8]\ttrain-mlogloss:0.66198\n",
      "[9]\ttrain-mlogloss:0.65867\n"
     ]
    },
    {
     "name": "stderr",
     "output_type": "stream",
     "text": [
      "/Library/Frameworks/Python.framework/Versions/3.6/lib/python3.6/site-packages/mlflow/xgboost.py:333: DeprecationWarning: inspect.getargspec() is deprecated, use inspect.signature() or inspect.getfullargspec()\n",
      "  all_arg_names = inspect.getargspec(original)[0]  # pylint: disable=W1505\n"
     ]
    },
    {
     "name": "stdout",
     "output_type": "stream",
     "text": [
      "[0]\ttrain-mlogloss:0.69127\n",
      "[1]\ttrain-mlogloss:0.68945\n",
      "[2]\ttrain-mlogloss:0.68759\n",
      "[3]\ttrain-mlogloss:0.68582\n",
      "[4]\ttrain-mlogloss:0.68404\n",
      "[5]\ttrain-mlogloss:0.68230\n",
      "[6]\ttrain-mlogloss:0.68055\n",
      "[7]\ttrain-mlogloss:0.67876\n",
      "[8]\ttrain-mlogloss:0.67701\n",
      "[9]\ttrain-mlogloss:0.67524\n"
     ]
    },
    {
     "name": "stderr",
     "output_type": "stream",
     "text": [
      "/Library/Frameworks/Python.framework/Versions/3.6/lib/python3.6/site-packages/mlflow/xgboost.py:333: DeprecationWarning: inspect.getargspec() is deprecated, use inspect.signature() or inspect.getfullargspec()\n",
      "  all_arg_names = inspect.getargspec(original)[0]  # pylint: disable=W1505\n"
     ]
    },
    {
     "name": "stdout",
     "output_type": "stream",
     "text": [
      "[0]\ttrain-mlogloss:0.48211\n",
      "[1]\ttrain-mlogloss:0.42737\n",
      "[2]\ttrain-mlogloss:0.40392\n",
      "[3]\ttrain-mlogloss:0.39037\n",
      "[4]\ttrain-mlogloss:0.37126\n",
      "[5]\ttrain-mlogloss:0.36063\n",
      "[6]\ttrain-mlogloss:0.35288\n",
      "[7]\ttrain-mlogloss:0.34446\n",
      "[8]\ttrain-mlogloss:0.34020\n",
      "[9]\ttrain-mlogloss:0.33494\n"
     ]
    },
    {
     "name": "stderr",
     "output_type": "stream",
     "text": [
      "/Library/Frameworks/Python.framework/Versions/3.6/lib/python3.6/site-packages/mlflow/xgboost.py:333: DeprecationWarning: inspect.getargspec() is deprecated, use inspect.signature() or inspect.getfullargspec()\n",
      "  all_arg_names = inspect.getargspec(original)[0]  # pylint: disable=W1505\n"
     ]
    },
    {
     "name": "stdout",
     "output_type": "stream",
     "text": [
      "[0]\ttrain-mlogloss:0.59523\n",
      "[1]\ttrain-mlogloss:0.53917\n",
      "[2]\ttrain-mlogloss:0.50219\n",
      "[3]\ttrain-mlogloss:0.47559\n",
      "[4]\ttrain-mlogloss:0.45405\n",
      "[5]\ttrain-mlogloss:0.44007\n",
      "[6]\ttrain-mlogloss:0.42766\n",
      "[7]\ttrain-mlogloss:0.41697\n",
      "[8]\ttrain-mlogloss:0.40845\n",
      "[9]\ttrain-mlogloss:0.40150\n"
     ]
    },
    {
     "name": "stderr",
     "output_type": "stream",
     "text": [
      "/Library/Frameworks/Python.framework/Versions/3.6/lib/python3.6/site-packages/mlflow/xgboost.py:333: DeprecationWarning: inspect.getargspec() is deprecated, use inspect.signature() or inspect.getfullargspec()\n",
      "  all_arg_names = inspect.getargspec(original)[0]  # pylint: disable=W1505\n"
     ]
    },
    {
     "name": "stdout",
     "output_type": "stream",
     "text": [
      "[0]\ttrain-mlogloss:0.68941\n",
      "[1]\ttrain-mlogloss:0.68578\n",
      "[2]\ttrain-mlogloss:0.68213\n",
      "[3]\ttrain-mlogloss:0.67871\n",
      "[4]\ttrain-mlogloss:0.67529\n",
      "[5]\ttrain-mlogloss:0.67193\n",
      "[6]\ttrain-mlogloss:0.66860\n",
      "[7]\ttrain-mlogloss:0.66525\n",
      "[8]\ttrain-mlogloss:0.66198\n",
      "[9]\ttrain-mlogloss:0.65867\n"
     ]
    },
    {
     "name": "stderr",
     "output_type": "stream",
     "text": [
      "/Library/Frameworks/Python.framework/Versions/3.6/lib/python3.6/site-packages/mlflow/xgboost.py:333: DeprecationWarning: inspect.getargspec() is deprecated, use inspect.signature() or inspect.getfullargspec()\n",
      "  all_arg_names = inspect.getargspec(original)[0]  # pylint: disable=W1505\n"
     ]
    },
    {
     "name": "stdout",
     "output_type": "stream",
     "text": [
      "[0]\ttrain-mlogloss:0.69127\n",
      "[1]\ttrain-mlogloss:0.68945\n",
      "[2]\ttrain-mlogloss:0.68759\n",
      "[3]\ttrain-mlogloss:0.68582\n",
      "[4]\ttrain-mlogloss:0.68404\n",
      "[5]\ttrain-mlogloss:0.68230\n",
      "[6]\ttrain-mlogloss:0.68055\n",
      "[7]\ttrain-mlogloss:0.67876\n",
      "[8]\ttrain-mlogloss:0.67701\n",
      "[9]\ttrain-mlogloss:0.67524\n"
     ]
    },
    {
     "name": "stderr",
     "output_type": "stream",
     "text": [
      "/Library/Frameworks/Python.framework/Versions/3.6/lib/python3.6/site-packages/mlflow/xgboost.py:333: DeprecationWarning: inspect.getargspec() is deprecated, use inspect.signature() or inspect.getfullargspec()\n",
      "  all_arg_names = inspect.getargspec(original)[0]  # pylint: disable=W1505\n"
     ]
    },
    {
     "name": "stdout",
     "output_type": "stream",
     "text": [
      "[0]\ttrain-mlogloss:0.48211\n",
      "[1]\ttrain-mlogloss:0.42737\n",
      "[2]\ttrain-mlogloss:0.40392\n",
      "[3]\ttrain-mlogloss:0.39037\n",
      "[4]\ttrain-mlogloss:0.37126\n",
      "[5]\ttrain-mlogloss:0.36063\n",
      "[6]\ttrain-mlogloss:0.35288\n",
      "[7]\ttrain-mlogloss:0.34446\n",
      "[8]\ttrain-mlogloss:0.34020\n",
      "[9]\ttrain-mlogloss:0.33494\n"
     ]
    },
    {
     "name": "stderr",
     "output_type": "stream",
     "text": [
      "/Library/Frameworks/Python.framework/Versions/3.6/lib/python3.6/site-packages/mlflow/xgboost.py:333: DeprecationWarning: inspect.getargspec() is deprecated, use inspect.signature() or inspect.getfullargspec()\n",
      "  all_arg_names = inspect.getargspec(original)[0]  # pylint: disable=W1505\n"
     ]
    },
    {
     "name": "stdout",
     "output_type": "stream",
     "text": [
      "[0]\ttrain-mlogloss:0.59523\n",
      "[1]\ttrain-mlogloss:0.53917\n",
      "[2]\ttrain-mlogloss:0.50219\n",
      "[3]\ttrain-mlogloss:0.47559\n",
      "[4]\ttrain-mlogloss:0.45405\n",
      "[5]\ttrain-mlogloss:0.44007\n",
      "[6]\ttrain-mlogloss:0.42766\n",
      "[7]\ttrain-mlogloss:0.41697\n",
      "[8]\ttrain-mlogloss:0.40845\n",
      "[9]\ttrain-mlogloss:0.40150\n"
     ]
    },
    {
     "name": "stderr",
     "output_type": "stream",
     "text": [
      "/Library/Frameworks/Python.framework/Versions/3.6/lib/python3.6/site-packages/mlflow/xgboost.py:333: DeprecationWarning: inspect.getargspec() is deprecated, use inspect.signature() or inspect.getfullargspec()\n",
      "  all_arg_names = inspect.getargspec(original)[0]  # pylint: disable=W1505\n"
     ]
    },
    {
     "name": "stdout",
     "output_type": "stream",
     "text": [
      "[0]\ttrain-mlogloss:0.68941\n",
      "[1]\ttrain-mlogloss:0.68578\n",
      "[2]\ttrain-mlogloss:0.68213\n",
      "[3]\ttrain-mlogloss:0.67871\n",
      "[4]\ttrain-mlogloss:0.67529\n",
      "[5]\ttrain-mlogloss:0.67193\n",
      "[6]\ttrain-mlogloss:0.66860\n",
      "[7]\ttrain-mlogloss:0.66525\n",
      "[8]\ttrain-mlogloss:0.66198\n",
      "[9]\ttrain-mlogloss:0.65867\n"
     ]
    },
    {
     "name": "stderr",
     "output_type": "stream",
     "text": [
      "/Library/Frameworks/Python.framework/Versions/3.6/lib/python3.6/site-packages/mlflow/xgboost.py:333: DeprecationWarning: inspect.getargspec() is deprecated, use inspect.signature() or inspect.getfullargspec()\n",
      "  all_arg_names = inspect.getargspec(original)[0]  # pylint: disable=W1505\n"
     ]
    },
    {
     "name": "stdout",
     "output_type": "stream",
     "text": [
      "[0]\ttrain-mlogloss:0.69127\n",
      "[1]\ttrain-mlogloss:0.68945\n",
      "[2]\ttrain-mlogloss:0.68759\n",
      "[3]\ttrain-mlogloss:0.68582\n",
      "[4]\ttrain-mlogloss:0.68404\n",
      "[5]\ttrain-mlogloss:0.68230\n",
      "[6]\ttrain-mlogloss:0.68055\n",
      "[7]\ttrain-mlogloss:0.67876\n",
      "[8]\ttrain-mlogloss:0.67701\n",
      "[9]\ttrain-mlogloss:0.67524\n"
     ]
    },
    {
     "name": "stderr",
     "output_type": "stream",
     "text": [
      "/Library/Frameworks/Python.framework/Versions/3.6/lib/python3.6/site-packages/mlflow/xgboost.py:333: DeprecationWarning: inspect.getargspec() is deprecated, use inspect.signature() or inspect.getfullargspec()\n",
      "  all_arg_names = inspect.getargspec(original)[0]  # pylint: disable=W1505\n"
     ]
    },
    {
     "name": "stdout",
     "output_type": "stream",
     "text": [
      "[0]\ttrain-mlogloss:0.48211\n",
      "[1]\ttrain-mlogloss:0.42737\n",
      "[2]\ttrain-mlogloss:0.40392\n",
      "[3]\ttrain-mlogloss:0.39037\n",
      "[4]\ttrain-mlogloss:0.37126\n",
      "[5]\ttrain-mlogloss:0.36063\n",
      "[6]\ttrain-mlogloss:0.35288\n",
      "[7]\ttrain-mlogloss:0.34446\n",
      "[8]\ttrain-mlogloss:0.34020\n",
      "[9]\ttrain-mlogloss:0.33494\n"
     ]
    },
    {
     "name": "stderr",
     "output_type": "stream",
     "text": [
      "/Library/Frameworks/Python.framework/Versions/3.6/lib/python3.6/site-packages/mlflow/xgboost.py:333: DeprecationWarning: inspect.getargspec() is deprecated, use inspect.signature() or inspect.getfullargspec()\n",
      "  all_arg_names = inspect.getargspec(original)[0]  # pylint: disable=W1505\n"
     ]
    },
    {
     "name": "stdout",
     "output_type": "stream",
     "text": [
      "[0]\ttrain-mlogloss:0.59523\n",
      "[1]\ttrain-mlogloss:0.53917\n",
      "[2]\ttrain-mlogloss:0.50219\n",
      "[3]\ttrain-mlogloss:0.47559\n",
      "[4]\ttrain-mlogloss:0.45405\n",
      "[5]\ttrain-mlogloss:0.44007\n",
      "[6]\ttrain-mlogloss:0.42766\n",
      "[7]\ttrain-mlogloss:0.41697\n",
      "[8]\ttrain-mlogloss:0.40845\n",
      "[9]\ttrain-mlogloss:0.40150\n"
     ]
    },
    {
     "name": "stderr",
     "output_type": "stream",
     "text": [
      "/Library/Frameworks/Python.framework/Versions/3.6/lib/python3.6/site-packages/mlflow/xgboost.py:333: DeprecationWarning: inspect.getargspec() is deprecated, use inspect.signature() or inspect.getfullargspec()\n",
      "  all_arg_names = inspect.getargspec(original)[0]  # pylint: disable=W1505\n"
     ]
    },
    {
     "name": "stdout",
     "output_type": "stream",
     "text": [
      "[0]\ttrain-mlogloss:0.68941\n",
      "[1]\ttrain-mlogloss:0.68578\n",
      "[2]\ttrain-mlogloss:0.68213\n",
      "[3]\ttrain-mlogloss:0.67871\n",
      "[4]\ttrain-mlogloss:0.67529\n",
      "[5]\ttrain-mlogloss:0.67193\n",
      "[6]\ttrain-mlogloss:0.66860\n",
      "[7]\ttrain-mlogloss:0.66525\n",
      "[8]\ttrain-mlogloss:0.66198\n",
      "[9]\ttrain-mlogloss:0.65867\n"
     ]
    },
    {
     "name": "stderr",
     "output_type": "stream",
     "text": [
      "/Library/Frameworks/Python.framework/Versions/3.6/lib/python3.6/site-packages/mlflow/xgboost.py:333: DeprecationWarning: inspect.getargspec() is deprecated, use inspect.signature() or inspect.getfullargspec()\n",
      "  all_arg_names = inspect.getargspec(original)[0]  # pylint: disable=W1505\n"
     ]
    },
    {
     "name": "stdout",
     "output_type": "stream",
     "text": [
      "[0]\ttrain-mlogloss:0.69127\n",
      "[1]\ttrain-mlogloss:0.68945\n",
      "[2]\ttrain-mlogloss:0.68759\n",
      "[3]\ttrain-mlogloss:0.68582\n",
      "[4]\ttrain-mlogloss:0.68404\n",
      "[5]\ttrain-mlogloss:0.68230\n",
      "[6]\ttrain-mlogloss:0.68055\n",
      "[7]\ttrain-mlogloss:0.67876\n",
      "[8]\ttrain-mlogloss:0.67701\n",
      "[9]\ttrain-mlogloss:0.67524\n"
     ]
    },
    {
     "name": "stderr",
     "output_type": "stream",
     "text": [
      "/Library/Frameworks/Python.framework/Versions/3.6/lib/python3.6/site-packages/mlflow/xgboost.py:333: DeprecationWarning: inspect.getargspec() is deprecated, use inspect.signature() or inspect.getfullargspec()\n",
      "  all_arg_names = inspect.getargspec(original)[0]  # pylint: disable=W1505\n"
     ]
    },
    {
     "name": "stdout",
     "output_type": "stream",
     "text": [
      "[0]\ttrain-mlogloss:0.42971\n",
      "[1]\ttrain-mlogloss:0.35619\n",
      "[2]\ttrain-mlogloss:0.33443\n",
      "[3]\ttrain-mlogloss:0.31852\n",
      "[4]\ttrain-mlogloss:0.30837\n",
      "[5]\ttrain-mlogloss:0.30801\n",
      "[6]\ttrain-mlogloss:0.30919\n",
      "[7]\ttrain-mlogloss:0.30778\n",
      "[8]\ttrain-mlogloss:0.30994\n",
      "[9]\ttrain-mlogloss:0.31070\n"
     ]
    },
    {
     "name": "stderr",
     "output_type": "stream",
     "text": [
      "/Library/Frameworks/Python.framework/Versions/3.6/lib/python3.6/site-packages/mlflow/xgboost.py:333: DeprecationWarning: inspect.getargspec() is deprecated, use inspect.signature() or inspect.getfullargspec()\n",
      "  all_arg_names = inspect.getargspec(original)[0]  # pylint: disable=W1505\n"
     ]
    },
    {
     "name": "stdout",
     "output_type": "stream",
     "text": [
      "[0]\ttrain-mlogloss:0.57019\n",
      "[1]\ttrain-mlogloss:0.48522\n",
      "[2]\ttrain-mlogloss:0.43755\n",
      "[3]\ttrain-mlogloss:0.40071\n",
      "[4]\ttrain-mlogloss:0.37316\n",
      "[5]\ttrain-mlogloss:0.35642\n",
      "[6]\ttrain-mlogloss:0.34478\n",
      "[7]\ttrain-mlogloss:0.33429\n",
      "[8]\ttrain-mlogloss:0.32700\n",
      "[9]\ttrain-mlogloss:0.32173\n"
     ]
    },
    {
     "name": "stderr",
     "output_type": "stream",
     "text": [
      "/Library/Frameworks/Python.framework/Versions/3.6/lib/python3.6/site-packages/mlflow/xgboost.py:333: DeprecationWarning: inspect.getargspec() is deprecated, use inspect.signature() or inspect.getfullargspec()\n",
      "  all_arg_names = inspect.getargspec(original)[0]  # pylint: disable=W1505\n"
     ]
    },
    {
     "name": "stdout",
     "output_type": "stream",
     "text": [
      "[0]\ttrain-mlogloss:0.68841\n",
      "[1]\ttrain-mlogloss:0.68309\n",
      "[2]\ttrain-mlogloss:0.67834\n",
      "[3]\ttrain-mlogloss:0.67329\n",
      "[4]\ttrain-mlogloss:0.66831\n",
      "[5]\ttrain-mlogloss:0.66379\n",
      "[6]\ttrain-mlogloss:0.65936\n",
      "[7]\ttrain-mlogloss:0.65470\n",
      "[8]\ttrain-mlogloss:0.64999\n",
      "[9]\ttrain-mlogloss:0.64562\n"
     ]
    },
    {
     "name": "stderr",
     "output_type": "stream",
     "text": [
      "/Library/Frameworks/Python.framework/Versions/3.6/lib/python3.6/site-packages/mlflow/xgboost.py:333: DeprecationWarning: inspect.getargspec() is deprecated, use inspect.signature() or inspect.getfullargspec()\n",
      "  all_arg_names = inspect.getargspec(original)[0]  # pylint: disable=W1505\n"
     ]
    },
    {
     "name": "stdout",
     "output_type": "stream",
     "text": [
      "[0]\ttrain-mlogloss:0.69078\n",
      "[1]\ttrain-mlogloss:0.68808\n",
      "[2]\ttrain-mlogloss:0.68566\n",
      "[3]\ttrain-mlogloss:0.68306\n",
      "[4]\ttrain-mlogloss:0.68048\n",
      "[5]\ttrain-mlogloss:0.67812\n",
      "[6]\ttrain-mlogloss:0.67578\n",
      "[7]\ttrain-mlogloss:0.67330\n",
      "[8]\ttrain-mlogloss:0.67078\n",
      "[9]\ttrain-mlogloss:0.66842\n"
     ]
    },
    {
     "name": "stderr",
     "output_type": "stream",
     "text": [
      "/Library/Frameworks/Python.framework/Versions/3.6/lib/python3.6/site-packages/mlflow/xgboost.py:333: DeprecationWarning: inspect.getargspec() is deprecated, use inspect.signature() or inspect.getfullargspec()\n",
      "  all_arg_names = inspect.getargspec(original)[0]  # pylint: disable=W1505\n"
     ]
    },
    {
     "name": "stdout",
     "output_type": "stream",
     "text": [
      "[0]\ttrain-mlogloss:0.43084\n",
      "[1]\ttrain-mlogloss:0.35736\n",
      "[2]\ttrain-mlogloss:0.33528\n",
      "[3]\ttrain-mlogloss:0.32181\n",
      "[4]\ttrain-mlogloss:0.31266\n",
      "[5]\ttrain-mlogloss:0.31078\n",
      "[6]\ttrain-mlogloss:0.30905\n",
      "[7]\ttrain-mlogloss:0.30894\n",
      "[8]\ttrain-mlogloss:0.30957\n",
      "[9]\ttrain-mlogloss:0.31084\n"
     ]
    },
    {
     "name": "stderr",
     "output_type": "stream",
     "text": [
      "/Library/Frameworks/Python.framework/Versions/3.6/lib/python3.6/site-packages/mlflow/xgboost.py:333: DeprecationWarning: inspect.getargspec() is deprecated, use inspect.signature() or inspect.getfullargspec()\n",
      "  all_arg_names = inspect.getargspec(original)[0]  # pylint: disable=W1505\n"
     ]
    },
    {
     "name": "stdout",
     "output_type": "stream",
     "text": [
      "[0]\ttrain-mlogloss:0.57092\n",
      "[1]\ttrain-mlogloss:0.48547\n",
      "[2]\ttrain-mlogloss:0.43813\n",
      "[3]\ttrain-mlogloss:0.40243\n",
      "[4]\ttrain-mlogloss:0.37602\n",
      "[5]\ttrain-mlogloss:0.35890\n",
      "[6]\ttrain-mlogloss:0.34687\n",
      "[7]\ttrain-mlogloss:0.33644\n",
      "[8]\ttrain-mlogloss:0.32917\n",
      "[9]\ttrain-mlogloss:0.32396\n"
     ]
    },
    {
     "name": "stderr",
     "output_type": "stream",
     "text": [
      "/Library/Frameworks/Python.framework/Versions/3.6/lib/python3.6/site-packages/mlflow/xgboost.py:333: DeprecationWarning: inspect.getargspec() is deprecated, use inspect.signature() or inspect.getfullargspec()\n",
      "  all_arg_names = inspect.getargspec(original)[0]  # pylint: disable=W1505\n"
     ]
    },
    {
     "name": "stdout",
     "output_type": "stream",
     "text": [
      "[0]\ttrain-mlogloss:0.68844\n",
      "[1]\ttrain-mlogloss:0.68310\n",
      "[2]\ttrain-mlogloss:0.67840\n",
      "[3]\ttrain-mlogloss:0.67346\n",
      "[4]\ttrain-mlogloss:0.66850\n",
      "[5]\ttrain-mlogloss:0.66400\n",
      "[6]\ttrain-mlogloss:0.65958\n",
      "[7]\ttrain-mlogloss:0.65496\n",
      "[8]\ttrain-mlogloss:0.65029\n",
      "[9]\ttrain-mlogloss:0.64593\n"
     ]
    },
    {
     "name": "stderr",
     "output_type": "stream",
     "text": [
      "/Library/Frameworks/Python.framework/Versions/3.6/lib/python3.6/site-packages/mlflow/xgboost.py:333: DeprecationWarning: inspect.getargspec() is deprecated, use inspect.signature() or inspect.getfullargspec()\n",
      "  all_arg_names = inspect.getargspec(original)[0]  # pylint: disable=W1505\n"
     ]
    },
    {
     "name": "stdout",
     "output_type": "stream",
     "text": [
      "[0]\ttrain-mlogloss:0.69079\n",
      "[1]\ttrain-mlogloss:0.68809\n",
      "[2]\ttrain-mlogloss:0.68569\n",
      "[3]\ttrain-mlogloss:0.68315\n",
      "[4]\ttrain-mlogloss:0.68058\n",
      "[5]\ttrain-mlogloss:0.67823\n",
      "[6]\ttrain-mlogloss:0.67589\n",
      "[7]\ttrain-mlogloss:0.67344\n",
      "[8]\ttrain-mlogloss:0.67093\n",
      "[9]\ttrain-mlogloss:0.66858\n"
     ]
    },
    {
     "name": "stderr",
     "output_type": "stream",
     "text": [
      "/Library/Frameworks/Python.framework/Versions/3.6/lib/python3.6/site-packages/mlflow/xgboost.py:333: DeprecationWarning: inspect.getargspec() is deprecated, use inspect.signature() or inspect.getfullargspec()\n",
      "  all_arg_names = inspect.getargspec(original)[0]  # pylint: disable=W1505\n"
     ]
    },
    {
     "name": "stdout",
     "output_type": "stream",
     "text": [
      "[0]\ttrain-mlogloss:0.43142\n",
      "[1]\ttrain-mlogloss:0.35788\n",
      "[2]\ttrain-mlogloss:0.33384\n",
      "[3]\ttrain-mlogloss:0.32162\n",
      "[4]\ttrain-mlogloss:0.31201\n",
      "[5]\ttrain-mlogloss:0.31066\n",
      "[6]\ttrain-mlogloss:0.30818\n",
      "[7]\ttrain-mlogloss:0.30695\n",
      "[8]\ttrain-mlogloss:0.30832\n",
      "[9]\ttrain-mlogloss:0.30867\n"
     ]
    },
    {
     "name": "stderr",
     "output_type": "stream",
     "text": [
      "/Library/Frameworks/Python.framework/Versions/3.6/lib/python3.6/site-packages/mlflow/xgboost.py:333: DeprecationWarning: inspect.getargspec() is deprecated, use inspect.signature() or inspect.getfullargspec()\n",
      "  all_arg_names = inspect.getargspec(original)[0]  # pylint: disable=W1505\n"
     ]
    },
    {
     "name": "stdout",
     "output_type": "stream",
     "text": [
      "[0]\ttrain-mlogloss:0.57109\n",
      "[1]\ttrain-mlogloss:0.48576\n",
      "[2]\ttrain-mlogloss:0.43829\n",
      "[3]\ttrain-mlogloss:0.40415\n",
      "[4]\ttrain-mlogloss:0.37860\n",
      "[5]\ttrain-mlogloss:0.36088\n",
      "[6]\ttrain-mlogloss:0.34890\n",
      "[7]\ttrain-mlogloss:0.33807\n",
      "[8]\ttrain-mlogloss:0.32987\n",
      "[9]\ttrain-mlogloss:0.32446\n"
     ]
    },
    {
     "name": "stderr",
     "output_type": "stream",
     "text": [
      "/Library/Frameworks/Python.framework/Versions/3.6/lib/python3.6/site-packages/mlflow/xgboost.py:333: DeprecationWarning: inspect.getargspec() is deprecated, use inspect.signature() or inspect.getfullargspec()\n",
      "  all_arg_names = inspect.getargspec(original)[0]  # pylint: disable=W1505\n"
     ]
    },
    {
     "name": "stdout",
     "output_type": "stream",
     "text": [
      "[0]\ttrain-mlogloss:0.68844\n",
      "[1]\ttrain-mlogloss:0.68315\n",
      "[2]\ttrain-mlogloss:0.67848\n",
      "[3]\ttrain-mlogloss:0.67364\n",
      "[4]\ttrain-mlogloss:0.66871\n",
      "[5]\ttrain-mlogloss:0.66421\n",
      "[6]\ttrain-mlogloss:0.65982\n",
      "[7]\ttrain-mlogloss:0.65520\n",
      "[8]\ttrain-mlogloss:0.65059\n",
      "[9]\ttrain-mlogloss:0.64624\n"
     ]
    },
    {
     "name": "stderr",
     "output_type": "stream",
     "text": [
      "/Library/Frameworks/Python.framework/Versions/3.6/lib/python3.6/site-packages/mlflow/xgboost.py:333: DeprecationWarning: inspect.getargspec() is deprecated, use inspect.signature() or inspect.getfullargspec()\n",
      "  all_arg_names = inspect.getargspec(original)[0]  # pylint: disable=W1505\n"
     ]
    },
    {
     "name": "stdout",
     "output_type": "stream",
     "text": [
      "[0]\ttrain-mlogloss:0.69080\n",
      "[1]\ttrain-mlogloss:0.68812\n",
      "[2]\ttrain-mlogloss:0.68573\n",
      "[3]\ttrain-mlogloss:0.68324\n",
      "[4]\ttrain-mlogloss:0.68068\n",
      "[5]\ttrain-mlogloss:0.67834\n",
      "[6]\ttrain-mlogloss:0.67602\n",
      "[7]\ttrain-mlogloss:0.67356\n",
      "[8]\ttrain-mlogloss:0.67108\n",
      "[9]\ttrain-mlogloss:0.66873\n"
     ]
    },
    {
     "name": "stderr",
     "output_type": "stream",
     "text": [
      "/Library/Frameworks/Python.framework/Versions/3.6/lib/python3.6/site-packages/mlflow/xgboost.py:333: DeprecationWarning: inspect.getargspec() is deprecated, use inspect.signature() or inspect.getfullargspec()\n",
      "  all_arg_names = inspect.getargspec(original)[0]  # pylint: disable=W1505\n"
     ]
    },
    {
     "name": "stdout",
     "output_type": "stream",
     "text": [
      "[0]\ttrain-mlogloss:0.43108\n",
      "[1]\ttrain-mlogloss:0.35991\n",
      "[2]\ttrain-mlogloss:0.33587\n",
      "[3]\ttrain-mlogloss:0.32674\n",
      "[4]\ttrain-mlogloss:0.31735\n",
      "[5]\ttrain-mlogloss:0.31451\n",
      "[6]\ttrain-mlogloss:0.31385\n",
      "[7]\ttrain-mlogloss:0.31111\n",
      "[8]\ttrain-mlogloss:0.31143\n",
      "[9]\ttrain-mlogloss:0.31121\n"
     ]
    },
    {
     "name": "stderr",
     "output_type": "stream",
     "text": [
      "/Library/Frameworks/Python.framework/Versions/3.6/lib/python3.6/site-packages/mlflow/xgboost.py:333: DeprecationWarning: inspect.getargspec() is deprecated, use inspect.signature() or inspect.getfullargspec()\n",
      "  all_arg_names = inspect.getargspec(original)[0]  # pylint: disable=W1505\n"
     ]
    },
    {
     "name": "stdout",
     "output_type": "stream",
     "text": [
      "[0]\ttrain-mlogloss:0.57097\n",
      "[1]\ttrain-mlogloss:0.48597\n",
      "[2]\ttrain-mlogloss:0.43847\n",
      "[3]\ttrain-mlogloss:0.40509\n",
      "[4]\ttrain-mlogloss:0.37926\n",
      "[5]\ttrain-mlogloss:0.36188\n",
      "[6]\ttrain-mlogloss:0.35086\n",
      "[7]\ttrain-mlogloss:0.33965\n",
      "[8]\ttrain-mlogloss:0.33224\n",
      "[9]\ttrain-mlogloss:0.32656\n"
     ]
    },
    {
     "name": "stderr",
     "output_type": "stream",
     "text": [
      "/Library/Frameworks/Python.framework/Versions/3.6/lib/python3.6/site-packages/mlflow/xgboost.py:333: DeprecationWarning: inspect.getargspec() is deprecated, use inspect.signature() or inspect.getfullargspec()\n",
      "  all_arg_names = inspect.getargspec(original)[0]  # pylint: disable=W1505\n"
     ]
    },
    {
     "name": "stdout",
     "output_type": "stream",
     "text": [
      "[0]\ttrain-mlogloss:0.68844\n",
      "[1]\ttrain-mlogloss:0.68322\n",
      "[2]\ttrain-mlogloss:0.67858\n",
      "[3]\ttrain-mlogloss:0.67382\n",
      "[4]\ttrain-mlogloss:0.66907\n",
      "[5]\ttrain-mlogloss:0.66459\n",
      "[6]\ttrain-mlogloss:0.66021\n",
      "[7]\ttrain-mlogloss:0.65560\n",
      "[8]\ttrain-mlogloss:0.65103\n",
      "[9]\ttrain-mlogloss:0.64675\n"
     ]
    },
    {
     "name": "stderr",
     "output_type": "stream",
     "text": [
      "/Library/Frameworks/Python.framework/Versions/3.6/lib/python3.6/site-packages/mlflow/xgboost.py:333: DeprecationWarning: inspect.getargspec() is deprecated, use inspect.signature() or inspect.getfullargspec()\n",
      "  all_arg_names = inspect.getargspec(original)[0]  # pylint: disable=W1505\n"
     ]
    },
    {
     "name": "stdout",
     "output_type": "stream",
     "text": [
      "[0]\ttrain-mlogloss:0.69079\n",
      "[1]\ttrain-mlogloss:0.68815\n",
      "[2]\ttrain-mlogloss:0.68578\n",
      "[3]\ttrain-mlogloss:0.68333\n",
      "[4]\ttrain-mlogloss:0.68084\n",
      "[5]\ttrain-mlogloss:0.67850\n",
      "[6]\ttrain-mlogloss:0.67619\n",
      "[7]\ttrain-mlogloss:0.67375\n",
      "[8]\ttrain-mlogloss:0.67129\n",
      "[9]\ttrain-mlogloss:0.66897\n"
     ]
    },
    {
     "name": "stderr",
     "output_type": "stream",
     "text": [
      "/Library/Frameworks/Python.framework/Versions/3.6/lib/python3.6/site-packages/mlflow/xgboost.py:333: DeprecationWarning: inspect.getargspec() is deprecated, use inspect.signature() or inspect.getfullargspec()\n",
      "  all_arg_names = inspect.getargspec(original)[0]  # pylint: disable=W1505\n"
     ]
    },
    {
     "name": "stdout",
     "output_type": "stream",
     "text": [
      "[0]\ttrain-mlogloss:0.41885\n",
      "[1]\ttrain-mlogloss:0.34678\n",
      "[2]\ttrain-mlogloss:0.33376\n",
      "[3]\ttrain-mlogloss:0.31771\n",
      "[4]\ttrain-mlogloss:0.31875\n",
      "[5]\ttrain-mlogloss:0.32167\n",
      "[6]\ttrain-mlogloss:0.32430\n",
      "[7]\ttrain-mlogloss:0.32538\n",
      "[8]\ttrain-mlogloss:0.32920\n"
     ]
    },
    {
     "name": "stderr",
     "output_type": "stream",
     "text": [
      "/Library/Frameworks/Python.framework/Versions/3.6/lib/python3.6/site-packages/mlflow/xgboost.py:333: DeprecationWarning: inspect.getargspec() is deprecated, use inspect.signature() or inspect.getfullargspec()\n",
      "  all_arg_names = inspect.getargspec(original)[0]  # pylint: disable=W1505\n"
     ]
    },
    {
     "name": "stdout",
     "output_type": "stream",
     "text": [
      "[9]\ttrain-mlogloss:0.33626\n",
      "[0]\ttrain-mlogloss:0.56359\n",
      "[1]\ttrain-mlogloss:0.47551\n",
      "[2]\ttrain-mlogloss:0.42607\n",
      "[3]\ttrain-mlogloss:0.38778\n",
      "[4]\ttrain-mlogloss:0.36201\n",
      "[5]\ttrain-mlogloss:0.34370\n",
      "[6]\ttrain-mlogloss:0.33150\n",
      "[7]\ttrain-mlogloss:0.32194\n",
      "[8]\ttrain-mlogloss:0.31416\n"
     ]
    },
    {
     "name": "stderr",
     "output_type": "stream",
     "text": [
      "/Library/Frameworks/Python.framework/Versions/3.6/lib/python3.6/site-packages/mlflow/xgboost.py:333: DeprecationWarning: inspect.getargspec() is deprecated, use inspect.signature() or inspect.getfullargspec()\n",
      "  all_arg_names = inspect.getargspec(original)[0]  # pylint: disable=W1505\n"
     ]
    },
    {
     "name": "stdout",
     "output_type": "stream",
     "text": [
      "[9]\ttrain-mlogloss:0.30851\n",
      "[0]\ttrain-mlogloss:0.68813\n",
      "[1]\ttrain-mlogloss:0.68261\n",
      "[2]\ttrain-mlogloss:0.67759\n",
      "[3]\ttrain-mlogloss:0.67242\n",
      "[4]\ttrain-mlogloss:0.66727\n",
      "[5]\ttrain-mlogloss:0.66254\n",
      "[6]\ttrain-mlogloss:0.65802\n",
      "[7]\ttrain-mlogloss:0.65329\n",
      "[8]\ttrain-mlogloss:0.64842\n"
     ]
    },
    {
     "name": "stderr",
     "output_type": "stream",
     "text": [
      "/Library/Frameworks/Python.framework/Versions/3.6/lib/python3.6/site-packages/mlflow/xgboost.py:333: DeprecationWarning: inspect.getargspec() is deprecated, use inspect.signature() or inspect.getfullargspec()\n",
      "  all_arg_names = inspect.getargspec(original)[0]  # pylint: disable=W1505\n"
     ]
    },
    {
     "name": "stdout",
     "output_type": "stream",
     "text": [
      "[9]\ttrain-mlogloss:0.64389\n",
      "[0]\ttrain-mlogloss:0.69064\n",
      "[1]\ttrain-mlogloss:0.68785\n",
      "[2]\ttrain-mlogloss:0.68528\n",
      "[3]\ttrain-mlogloss:0.68262\n",
      "[4]\ttrain-mlogloss:0.67996\n",
      "[5]\ttrain-mlogloss:0.67748\n",
      "[6]\ttrain-mlogloss:0.67509\n",
      "[7]\ttrain-mlogloss:0.67258\n"
     ]
    },
    {
     "name": "stderr",
     "output_type": "stream",
     "text": [
      "/Library/Frameworks/Python.framework/Versions/3.6/lib/python3.6/site-packages/mlflow/xgboost.py:333: DeprecationWarning: inspect.getargspec() is deprecated, use inspect.signature() or inspect.getfullargspec()\n",
      "  all_arg_names = inspect.getargspec(original)[0]  # pylint: disable=W1505\n"
     ]
    },
    {
     "name": "stdout",
     "output_type": "stream",
     "text": [
      "[8]\ttrain-mlogloss:0.66997\n",
      "[9]\ttrain-mlogloss:0.66751\n",
      "[0]\ttrain-mlogloss:0.41726\n",
      "[1]\ttrain-mlogloss:0.34521\n",
      "[2]\ttrain-mlogloss:0.33013\n",
      "[3]\ttrain-mlogloss:0.31765\n",
      "[4]\ttrain-mlogloss:0.31646\n",
      "[5]\ttrain-mlogloss:0.31784\n",
      "[6]\ttrain-mlogloss:0.32169\n",
      "[7]\ttrain-mlogloss:0.32185\n",
      "[8]\ttrain-mlogloss:0.32575\n",
      "[9]\ttrain-mlogloss:0.32773\n"
     ]
    },
    {
     "name": "stderr",
     "output_type": "stream",
     "text": [
      "/Library/Frameworks/Python.framework/Versions/3.6/lib/python3.6/site-packages/mlflow/xgboost.py:333: DeprecationWarning: inspect.getargspec() is deprecated, use inspect.signature() or inspect.getfullargspec()\n",
      "  all_arg_names = inspect.getargspec(original)[0]  # pylint: disable=W1505\n"
     ]
    },
    {
     "name": "stdout",
     "output_type": "stream",
     "text": [
      "[0]\ttrain-mlogloss:0.56364\n",
      "[1]\ttrain-mlogloss:0.47599\n",
      "[2]\ttrain-mlogloss:0.42697\n",
      "[3]\ttrain-mlogloss:0.39163\n",
      "[4]\ttrain-mlogloss:0.36711\n",
      "[5]\ttrain-mlogloss:0.34988\n",
      "[6]\ttrain-mlogloss:0.33794\n",
      "[7]\ttrain-mlogloss:0.32815\n",
      "[8]\ttrain-mlogloss:0.32195\n",
      "[9]\ttrain-mlogloss:0.31721\n"
     ]
    },
    {
     "name": "stderr",
     "output_type": "stream",
     "text": [
      "/Library/Frameworks/Python.framework/Versions/3.6/lib/python3.6/site-packages/mlflow/xgboost.py:333: DeprecationWarning: inspect.getargspec() is deprecated, use inspect.signature() or inspect.getfullargspec()\n",
      "  all_arg_names = inspect.getargspec(original)[0]  # pylint: disable=W1505\n"
     ]
    },
    {
     "name": "stdout",
     "output_type": "stream",
     "text": [
      "[0]\ttrain-mlogloss:0.68815\n",
      "[1]\ttrain-mlogloss:0.68265\n",
      "[2]\ttrain-mlogloss:0.67775\n",
      "[3]\ttrain-mlogloss:0.67273\n",
      "[4]\ttrain-mlogloss:0.66768\n",
      "[5]\ttrain-mlogloss:0.66303\n",
      "[6]\ttrain-mlogloss:0.65852\n",
      "[7]\ttrain-mlogloss:0.65385\n",
      "[8]\ttrain-mlogloss:0.64907\n",
      "[9]\ttrain-mlogloss:0.64457\n"
     ]
    },
    {
     "name": "stderr",
     "output_type": "stream",
     "text": [
      "/Library/Frameworks/Python.framework/Versions/3.6/lib/python3.6/site-packages/mlflow/xgboost.py:333: DeprecationWarning: inspect.getargspec() is deprecated, use inspect.signature() or inspect.getfullargspec()\n",
      "  all_arg_names = inspect.getargspec(original)[0]  # pylint: disable=W1505\n"
     ]
    },
    {
     "name": "stdout",
     "output_type": "stream",
     "text": [
      "[0]\ttrain-mlogloss:0.69064\n",
      "[1]\ttrain-mlogloss:0.68786\n",
      "[2]\ttrain-mlogloss:0.68536\n",
      "[3]\ttrain-mlogloss:0.68278\n",
      "[4]\ttrain-mlogloss:0.68016\n",
      "[5]\ttrain-mlogloss:0.67773\n",
      "[6]\ttrain-mlogloss:0.67534\n",
      "[7]\ttrain-mlogloss:0.67286\n",
      "[8]\ttrain-mlogloss:0.67030\n",
      "[9]\ttrain-mlogloss:0.66786\n"
     ]
    },
    {
     "name": "stderr",
     "output_type": "stream",
     "text": [
      "/Library/Frameworks/Python.framework/Versions/3.6/lib/python3.6/site-packages/mlflow/xgboost.py:333: DeprecationWarning: inspect.getargspec() is deprecated, use inspect.signature() or inspect.getfullargspec()\n",
      "  all_arg_names = inspect.getargspec(original)[0]  # pylint: disable=W1505\n"
     ]
    },
    {
     "name": "stdout",
     "output_type": "stream",
     "text": [
      "[0]\ttrain-mlogloss:0.41866\n",
      "[1]\ttrain-mlogloss:0.34696\n",
      "[2]\ttrain-mlogloss:0.32867\n",
      "[3]\ttrain-mlogloss:0.31806\n",
      "[4]\ttrain-mlogloss:0.31657\n",
      "[5]\ttrain-mlogloss:0.31809\n",
      "[6]\ttrain-mlogloss:0.31982\n",
      "[7]\ttrain-mlogloss:0.32185\n",
      "[8]\ttrain-mlogloss:0.32257\n",
      "[9]\ttrain-mlogloss:0.32196\n"
     ]
    },
    {
     "name": "stderr",
     "output_type": "stream",
     "text": [
      "/Library/Frameworks/Python.framework/Versions/3.6/lib/python3.6/site-packages/mlflow/xgboost.py:333: DeprecationWarning: inspect.getargspec() is deprecated, use inspect.signature() or inspect.getfullargspec()\n",
      "  all_arg_names = inspect.getargspec(original)[0]  # pylint: disable=W1505\n"
     ]
    },
    {
     "name": "stdout",
     "output_type": "stream",
     "text": [
      "[0]\ttrain-mlogloss:0.56451\n",
      "[1]\ttrain-mlogloss:0.47746\n",
      "[2]\ttrain-mlogloss:0.42810\n",
      "[3]\ttrain-mlogloss:0.39371\n",
      "[4]\ttrain-mlogloss:0.36881\n",
      "[5]\ttrain-mlogloss:0.35087\n",
      "[6]\ttrain-mlogloss:0.33940\n",
      "[7]\ttrain-mlogloss:0.32990\n",
      "[8]\ttrain-mlogloss:0.32332\n",
      "[9]\ttrain-mlogloss:0.31856\n"
     ]
    },
    {
     "name": "stderr",
     "output_type": "stream",
     "text": [
      "/Library/Frameworks/Python.framework/Versions/3.6/lib/python3.6/site-packages/mlflow/xgboost.py:333: DeprecationWarning: inspect.getargspec() is deprecated, use inspect.signature() or inspect.getfullargspec()\n",
      "  all_arg_names = inspect.getargspec(original)[0]  # pylint: disable=W1505\n"
     ]
    },
    {
     "name": "stdout",
     "output_type": "stream",
     "text": [
      "[0]\ttrain-mlogloss:0.68819\n",
      "[1]\ttrain-mlogloss:0.68275\n",
      "[2]\ttrain-mlogloss:0.67792\n",
      "[3]\ttrain-mlogloss:0.67305\n",
      "[4]\ttrain-mlogloss:0.66806\n",
      "[5]\ttrain-mlogloss:0.66341\n",
      "[6]\ttrain-mlogloss:0.65896\n",
      "[7]\ttrain-mlogloss:0.65430\n",
      "[8]\ttrain-mlogloss:0.64958\n",
      "[9]\ttrain-mlogloss:0.64514\n"
     ]
    },
    {
     "name": "stderr",
     "output_type": "stream",
     "text": [
      "/Library/Frameworks/Python.framework/Versions/3.6/lib/python3.6/site-packages/mlflow/xgboost.py:333: DeprecationWarning: inspect.getargspec() is deprecated, use inspect.signature() or inspect.getfullargspec()\n",
      "  all_arg_names = inspect.getargspec(original)[0]  # pylint: disable=W1505\n"
     ]
    },
    {
     "name": "stdout",
     "output_type": "stream",
     "text": [
      "[0]\ttrain-mlogloss:0.69066\n",
      "[1]\ttrain-mlogloss:0.68792\n",
      "[2]\ttrain-mlogloss:0.68545\n",
      "[3]\ttrain-mlogloss:0.68294\n",
      "[4]\ttrain-mlogloss:0.68036\n",
      "[5]\ttrain-mlogloss:0.67792\n",
      "[6]\ttrain-mlogloss:0.67557\n",
      "[7]\ttrain-mlogloss:0.67309\n",
      "[8]\ttrain-mlogloss:0.67056\n",
      "[9]\ttrain-mlogloss:0.66815\n"
     ]
    },
    {
     "name": "stderr",
     "output_type": "stream",
     "text": [
      "/Library/Frameworks/Python.framework/Versions/3.6/lib/python3.6/site-packages/mlflow/xgboost.py:333: DeprecationWarning: inspect.getargspec() is deprecated, use inspect.signature() or inspect.getfullargspec()\n",
      "  all_arg_names = inspect.getargspec(original)[0]  # pylint: disable=W1505\n"
     ]
    },
    {
     "name": "stdout",
     "output_type": "stream",
     "text": [
      "[0]\ttrain-mlogloss:0.41651\n",
      "[1]\ttrain-mlogloss:0.34899\n",
      "[2]\ttrain-mlogloss:0.33061\n",
      "[3]\ttrain-mlogloss:0.32212\n",
      "[4]\ttrain-mlogloss:0.31649\n",
      "[5]\ttrain-mlogloss:0.31654\n",
      "[6]\ttrain-mlogloss:0.31793\n",
      "[7]\ttrain-mlogloss:0.31920\n",
      "[8]\ttrain-mlogloss:0.31945\n",
      "[9]\ttrain-mlogloss:0.32062\n"
     ]
    },
    {
     "name": "stderr",
     "output_type": "stream",
     "text": [
      "/Library/Frameworks/Python.framework/Versions/3.6/lib/python3.6/site-packages/mlflow/xgboost.py:333: DeprecationWarning: inspect.getargspec() is deprecated, use inspect.signature() or inspect.getfullargspec()\n",
      "  all_arg_names = inspect.getargspec(original)[0]  # pylint: disable=W1505\n"
     ]
    },
    {
     "name": "stdout",
     "output_type": "stream",
     "text": [
      "[0]\ttrain-mlogloss:0.56350\n",
      "[1]\ttrain-mlogloss:0.47801\n",
      "[2]\ttrain-mlogloss:0.42937\n",
      "[3]\ttrain-mlogloss:0.39652\n",
      "[4]\ttrain-mlogloss:0.37183\n",
      "[5]\ttrain-mlogloss:0.35349\n",
      "[6]\ttrain-mlogloss:0.34254\n",
      "[7]\ttrain-mlogloss:0.33269\n",
      "[8]\ttrain-mlogloss:0.32572\n",
      "[9]\ttrain-mlogloss:0.32106\n"
     ]
    },
    {
     "name": "stderr",
     "output_type": "stream",
     "text": [
      "/Library/Frameworks/Python.framework/Versions/3.6/lib/python3.6/site-packages/mlflow/xgboost.py:333: DeprecationWarning: inspect.getargspec() is deprecated, use inspect.signature() or inspect.getfullargspec()\n",
      "  all_arg_names = inspect.getargspec(original)[0]  # pylint: disable=W1505\n"
     ]
    },
    {
     "name": "stdout",
     "output_type": "stream",
     "text": [
      "[0]\ttrain-mlogloss:0.68815\n",
      "[1]\ttrain-mlogloss:0.68282\n",
      "[2]\ttrain-mlogloss:0.67804\n",
      "[3]\ttrain-mlogloss:0.67325\n",
      "[4]\ttrain-mlogloss:0.66848\n",
      "[5]\ttrain-mlogloss:0.66387\n",
      "[6]\ttrain-mlogloss:0.65944\n",
      "[7]\ttrain-mlogloss:0.65480\n",
      "[8]\ttrain-mlogloss:0.65012\n",
      "[9]\ttrain-mlogloss:0.64576\n"
     ]
    },
    {
     "name": "stderr",
     "output_type": "stream",
     "text": [
      "/Library/Frameworks/Python.framework/Versions/3.6/lib/python3.6/site-packages/mlflow/xgboost.py:333: DeprecationWarning: inspect.getargspec() is deprecated, use inspect.signature() or inspect.getfullargspec()\n",
      "  all_arg_names = inspect.getargspec(original)[0]  # pylint: disable=W1505\n"
     ]
    },
    {
     "name": "stdout",
     "output_type": "stream",
     "text": [
      "[0]\ttrain-mlogloss:0.69064\n",
      "[1]\ttrain-mlogloss:0.68795\n",
      "[2]\ttrain-mlogloss:0.68551\n",
      "[3]\ttrain-mlogloss:0.68304\n",
      "[4]\ttrain-mlogloss:0.68054\n",
      "[5]\ttrain-mlogloss:0.67813\n",
      "[6]\ttrain-mlogloss:0.67580\n",
      "[7]\ttrain-mlogloss:0.67333\n",
      "[8]\ttrain-mlogloss:0.67082\n",
      "[9]\ttrain-mlogloss:0.66846\n"
     ]
    },
    {
     "name": "stderr",
     "output_type": "stream",
     "text": [
      "/Library/Frameworks/Python.framework/Versions/3.6/lib/python3.6/site-packages/mlflow/xgboost.py:333: DeprecationWarning: inspect.getargspec() is deprecated, use inspect.signature() or inspect.getfullargspec()\n",
      "  all_arg_names = inspect.getargspec(original)[0]  # pylint: disable=W1505\n"
     ]
    },
    {
     "name": "stdout",
     "output_type": "stream",
     "text": [
      "[0]\ttrain-mlogloss:0.50534\n",
      "[1]\ttrain-mlogloss:0.43934\n",
      "[2]\ttrain-mlogloss:0.42017\n",
      "[3]\ttrain-mlogloss:0.38016\n",
      "[4]\ttrain-mlogloss:0.36379\n",
      "[5]\ttrain-mlogloss:0.35275\n",
      "[6]\ttrain-mlogloss:0.34729\n",
      "[7]\ttrain-mlogloss:0.34042\n",
      "[8]\ttrain-mlogloss:0.33416\n",
      "[9]\ttrain-mlogloss:0.33111\n"
     ]
    },
    {
     "name": "stderr",
     "output_type": "stream",
     "text": [
      "/Library/Frameworks/Python.framework/Versions/3.6/lib/python3.6/site-packages/mlflow/xgboost.py:333: DeprecationWarning: inspect.getargspec() is deprecated, use inspect.signature() or inspect.getfullargspec()\n",
      "  all_arg_names = inspect.getargspec(original)[0]  # pylint: disable=W1505\n"
     ]
    },
    {
     "name": "stdout",
     "output_type": "stream",
     "text": [
      "[0]\ttrain-mlogloss:0.60452\n",
      "[1]\ttrain-mlogloss:0.54396\n",
      "[2]\ttrain-mlogloss:0.50271\n",
      "[3]\ttrain-mlogloss:0.47515\n",
      "[4]\ttrain-mlogloss:0.45562\n",
      "[5]\ttrain-mlogloss:0.43870\n",
      "[6]\ttrain-mlogloss:0.42742\n",
      "[7]\ttrain-mlogloss:0.41788\n",
      "[8]\ttrain-mlogloss:0.40914\n",
      "[9]\ttrain-mlogloss:0.40145\n"
     ]
    },
    {
     "name": "stderr",
     "output_type": "stream",
     "text": [
      "/Library/Frameworks/Python.framework/Versions/3.6/lib/python3.6/site-packages/mlflow/xgboost.py:333: DeprecationWarning: inspect.getargspec() is deprecated, use inspect.signature() or inspect.getfullargspec()\n",
      "  all_arg_names = inspect.getargspec(original)[0]  # pylint: disable=W1505\n"
     ]
    },
    {
     "name": "stdout",
     "output_type": "stream",
     "text": [
      "[0]\ttrain-mlogloss:0.68973\n",
      "[1]\ttrain-mlogloss:0.68603\n",
      "[2]\ttrain-mlogloss:0.68232\n",
      "[3]\ttrain-mlogloss:0.67874\n",
      "[4]\ttrain-mlogloss:0.67524\n",
      "[5]\ttrain-mlogloss:0.67172\n",
      "[6]\ttrain-mlogloss:0.66858\n",
      "[7]\ttrain-mlogloss:0.66517\n",
      "[8]\ttrain-mlogloss:0.66199\n",
      "[9]\ttrain-mlogloss:0.65870\n"
     ]
    },
    {
     "name": "stderr",
     "output_type": "stream",
     "text": [
      "/Library/Frameworks/Python.framework/Versions/3.6/lib/python3.6/site-packages/mlflow/xgboost.py:333: DeprecationWarning: inspect.getargspec() is deprecated, use inspect.signature() or inspect.getfullargspec()\n",
      "  all_arg_names = inspect.getargspec(original)[0]  # pylint: disable=W1505\n"
     ]
    },
    {
     "name": "stdout",
     "output_type": "stream",
     "text": [
      "[0]\ttrain-mlogloss:0.69145\n",
      "[1]\ttrain-mlogloss:0.68958\n",
      "[2]\ttrain-mlogloss:0.68768\n",
      "[3]\ttrain-mlogloss:0.68585\n",
      "[4]\ttrain-mlogloss:0.68402\n",
      "[5]\ttrain-mlogloss:0.68218\n",
      "[6]\ttrain-mlogloss:0.68053\n",
      "[7]\ttrain-mlogloss:0.67872\n",
      "[8]\ttrain-mlogloss:0.67701\n",
      "[9]\ttrain-mlogloss:0.67523\n"
     ]
    },
    {
     "name": "stderr",
     "output_type": "stream",
     "text": [
      "/Library/Frameworks/Python.framework/Versions/3.6/lib/python3.6/site-packages/mlflow/xgboost.py:333: DeprecationWarning: inspect.getargspec() is deprecated, use inspect.signature() or inspect.getfullargspec()\n",
      "  all_arg_names = inspect.getargspec(original)[0]  # pylint: disable=W1505\n"
     ]
    },
    {
     "name": "stdout",
     "output_type": "stream",
     "text": [
      "[0]\ttrain-mlogloss:0.50534\n",
      "[1]\ttrain-mlogloss:0.43934\n",
      "[2]\ttrain-mlogloss:0.42017\n",
      "[3]\ttrain-mlogloss:0.38016\n",
      "[4]\ttrain-mlogloss:0.36379\n",
      "[5]\ttrain-mlogloss:0.35275\n",
      "[6]\ttrain-mlogloss:0.34729\n",
      "[7]\ttrain-mlogloss:0.34042\n",
      "[8]\ttrain-mlogloss:0.33416\n",
      "[9]\ttrain-mlogloss:0.33111\n"
     ]
    },
    {
     "name": "stderr",
     "output_type": "stream",
     "text": [
      "/Library/Frameworks/Python.framework/Versions/3.6/lib/python3.6/site-packages/mlflow/xgboost.py:333: DeprecationWarning: inspect.getargspec() is deprecated, use inspect.signature() or inspect.getfullargspec()\n",
      "  all_arg_names = inspect.getargspec(original)[0]  # pylint: disable=W1505\n"
     ]
    },
    {
     "name": "stdout",
     "output_type": "stream",
     "text": [
      "[0]\ttrain-mlogloss:0.60452\n",
      "[1]\ttrain-mlogloss:0.54396\n",
      "[2]\ttrain-mlogloss:0.50271\n",
      "[3]\ttrain-mlogloss:0.47515\n",
      "[4]\ttrain-mlogloss:0.45562\n",
      "[5]\ttrain-mlogloss:0.43870\n",
      "[6]\ttrain-mlogloss:0.42742\n",
      "[7]\ttrain-mlogloss:0.41788\n",
      "[8]\ttrain-mlogloss:0.40914\n",
      "[9]\ttrain-mlogloss:0.40145\n"
     ]
    },
    {
     "name": "stderr",
     "output_type": "stream",
     "text": [
      "/Library/Frameworks/Python.framework/Versions/3.6/lib/python3.6/site-packages/mlflow/xgboost.py:333: DeprecationWarning: inspect.getargspec() is deprecated, use inspect.signature() or inspect.getfullargspec()\n",
      "  all_arg_names = inspect.getargspec(original)[0]  # pylint: disable=W1505\n"
     ]
    },
    {
     "name": "stdout",
     "output_type": "stream",
     "text": [
      "[0]\ttrain-mlogloss:0.68973\n",
      "[1]\ttrain-mlogloss:0.68603\n",
      "[2]\ttrain-mlogloss:0.68232\n",
      "[3]\ttrain-mlogloss:0.67874\n",
      "[4]\ttrain-mlogloss:0.67524\n",
      "[5]\ttrain-mlogloss:0.67172\n",
      "[6]\ttrain-mlogloss:0.66858\n",
      "[7]\ttrain-mlogloss:0.66517\n",
      "[8]\ttrain-mlogloss:0.66199\n",
      "[9]\ttrain-mlogloss:0.65870\n"
     ]
    },
    {
     "name": "stderr",
     "output_type": "stream",
     "text": [
      "/Library/Frameworks/Python.framework/Versions/3.6/lib/python3.6/site-packages/mlflow/xgboost.py:333: DeprecationWarning: inspect.getargspec() is deprecated, use inspect.signature() or inspect.getfullargspec()\n",
      "  all_arg_names = inspect.getargspec(original)[0]  # pylint: disable=W1505\n"
     ]
    },
    {
     "name": "stdout",
     "output_type": "stream",
     "text": [
      "[0]\ttrain-mlogloss:0.69145\n",
      "[1]\ttrain-mlogloss:0.68958\n",
      "[2]\ttrain-mlogloss:0.68768\n",
      "[3]\ttrain-mlogloss:0.68585\n",
      "[4]\ttrain-mlogloss:0.68402\n",
      "[5]\ttrain-mlogloss:0.68218\n",
      "[6]\ttrain-mlogloss:0.68053\n",
      "[7]\ttrain-mlogloss:0.67872\n",
      "[8]\ttrain-mlogloss:0.67701\n",
      "[9]\ttrain-mlogloss:0.67523\n"
     ]
    },
    {
     "name": "stderr",
     "output_type": "stream",
     "text": [
      "/Library/Frameworks/Python.framework/Versions/3.6/lib/python3.6/site-packages/mlflow/xgboost.py:333: DeprecationWarning: inspect.getargspec() is deprecated, use inspect.signature() or inspect.getfullargspec()\n",
      "  all_arg_names = inspect.getargspec(original)[0]  # pylint: disable=W1505\n"
     ]
    },
    {
     "name": "stdout",
     "output_type": "stream",
     "text": [
      "[0]\ttrain-mlogloss:0.50534\n",
      "[1]\ttrain-mlogloss:0.43934\n",
      "[2]\ttrain-mlogloss:0.42017\n",
      "[3]\ttrain-mlogloss:0.38016\n",
      "[4]\ttrain-mlogloss:0.36379\n",
      "[5]\ttrain-mlogloss:0.35275\n",
      "[6]\ttrain-mlogloss:0.34729\n",
      "[7]\ttrain-mlogloss:0.34042\n",
      "[8]\ttrain-mlogloss:0.33416\n",
      "[9]\ttrain-mlogloss:0.33111\n"
     ]
    },
    {
     "name": "stderr",
     "output_type": "stream",
     "text": [
      "/Library/Frameworks/Python.framework/Versions/3.6/lib/python3.6/site-packages/mlflow/xgboost.py:333: DeprecationWarning: inspect.getargspec() is deprecated, use inspect.signature() or inspect.getfullargspec()\n",
      "  all_arg_names = inspect.getargspec(original)[0]  # pylint: disable=W1505\n"
     ]
    },
    {
     "name": "stdout",
     "output_type": "stream",
     "text": [
      "[0]\ttrain-mlogloss:0.60452\n",
      "[1]\ttrain-mlogloss:0.54396\n",
      "[2]\ttrain-mlogloss:0.50271\n",
      "[3]\ttrain-mlogloss:0.47515\n",
      "[4]\ttrain-mlogloss:0.45562\n",
      "[5]\ttrain-mlogloss:0.43870\n",
      "[6]\ttrain-mlogloss:0.42742\n",
      "[7]\ttrain-mlogloss:0.41788\n",
      "[8]\ttrain-mlogloss:0.40914\n",
      "[9]\ttrain-mlogloss:0.40145\n"
     ]
    },
    {
     "name": "stderr",
     "output_type": "stream",
     "text": [
      "/Library/Frameworks/Python.framework/Versions/3.6/lib/python3.6/site-packages/mlflow/xgboost.py:333: DeprecationWarning: inspect.getargspec() is deprecated, use inspect.signature() or inspect.getfullargspec()\n",
      "  all_arg_names = inspect.getargspec(original)[0]  # pylint: disable=W1505\n"
     ]
    },
    {
     "name": "stdout",
     "output_type": "stream",
     "text": [
      "[0]\ttrain-mlogloss:0.68973\n",
      "[1]\ttrain-mlogloss:0.68603\n",
      "[2]\ttrain-mlogloss:0.68232\n",
      "[3]\ttrain-mlogloss:0.67874\n",
      "[4]\ttrain-mlogloss:0.67524\n",
      "[5]\ttrain-mlogloss:0.67172\n",
      "[6]\ttrain-mlogloss:0.66858\n",
      "[7]\ttrain-mlogloss:0.66517\n",
      "[8]\ttrain-mlogloss:0.66199\n",
      "[9]\ttrain-mlogloss:0.65870\n"
     ]
    },
    {
     "name": "stderr",
     "output_type": "stream",
     "text": [
      "/Library/Frameworks/Python.framework/Versions/3.6/lib/python3.6/site-packages/mlflow/xgboost.py:333: DeprecationWarning: inspect.getargspec() is deprecated, use inspect.signature() or inspect.getfullargspec()\n",
      "  all_arg_names = inspect.getargspec(original)[0]  # pylint: disable=W1505\n"
     ]
    },
    {
     "name": "stdout",
     "output_type": "stream",
     "text": [
      "[0]\ttrain-mlogloss:0.69145\n",
      "[1]\ttrain-mlogloss:0.68958\n",
      "[2]\ttrain-mlogloss:0.68768\n",
      "[3]\ttrain-mlogloss:0.68585\n",
      "[4]\ttrain-mlogloss:0.68402\n",
      "[5]\ttrain-mlogloss:0.68218\n",
      "[6]\ttrain-mlogloss:0.68053\n",
      "[7]\ttrain-mlogloss:0.67872\n",
      "[8]\ttrain-mlogloss:0.67701\n",
      "[9]\ttrain-mlogloss:0.67523\n"
     ]
    },
    {
     "name": "stderr",
     "output_type": "stream",
     "text": [
      "/Library/Frameworks/Python.framework/Versions/3.6/lib/python3.6/site-packages/mlflow/xgboost.py:333: DeprecationWarning: inspect.getargspec() is deprecated, use inspect.signature() or inspect.getfullargspec()\n",
      "  all_arg_names = inspect.getargspec(original)[0]  # pylint: disable=W1505\n"
     ]
    },
    {
     "name": "stdout",
     "output_type": "stream",
     "text": [
      "[0]\ttrain-mlogloss:0.50534\n",
      "[1]\ttrain-mlogloss:0.43934\n",
      "[2]\ttrain-mlogloss:0.42017\n",
      "[3]\ttrain-mlogloss:0.38016\n",
      "[4]\ttrain-mlogloss:0.36379\n",
      "[5]\ttrain-mlogloss:0.35275\n",
      "[6]\ttrain-mlogloss:0.34729\n",
      "[7]\ttrain-mlogloss:0.34042\n",
      "[8]\ttrain-mlogloss:0.33416\n",
      "[9]\ttrain-mlogloss:0.33111\n"
     ]
    },
    {
     "name": "stderr",
     "output_type": "stream",
     "text": [
      "/Library/Frameworks/Python.framework/Versions/3.6/lib/python3.6/site-packages/mlflow/xgboost.py:333: DeprecationWarning: inspect.getargspec() is deprecated, use inspect.signature() or inspect.getfullargspec()\n",
      "  all_arg_names = inspect.getargspec(original)[0]  # pylint: disable=W1505\n"
     ]
    },
    {
     "name": "stdout",
     "output_type": "stream",
     "text": [
      "[0]\ttrain-mlogloss:0.60452\n",
      "[1]\ttrain-mlogloss:0.54396\n",
      "[2]\ttrain-mlogloss:0.50271\n",
      "[3]\ttrain-mlogloss:0.47515\n",
      "[4]\ttrain-mlogloss:0.45562\n",
      "[5]\ttrain-mlogloss:0.43870\n",
      "[6]\ttrain-mlogloss:0.42742\n",
      "[7]\ttrain-mlogloss:0.41788\n",
      "[8]\ttrain-mlogloss:0.40914\n",
      "[9]\ttrain-mlogloss:0.40145\n"
     ]
    },
    {
     "name": "stderr",
     "output_type": "stream",
     "text": [
      "/Library/Frameworks/Python.framework/Versions/3.6/lib/python3.6/site-packages/mlflow/xgboost.py:333: DeprecationWarning: inspect.getargspec() is deprecated, use inspect.signature() or inspect.getfullargspec()\n",
      "  all_arg_names = inspect.getargspec(original)[0]  # pylint: disable=W1505\n"
     ]
    },
    {
     "name": "stdout",
     "output_type": "stream",
     "text": [
      "[0]\ttrain-mlogloss:0.68973\n",
      "[1]\ttrain-mlogloss:0.68603\n",
      "[2]\ttrain-mlogloss:0.68232\n",
      "[3]\ttrain-mlogloss:0.67874\n",
      "[4]\ttrain-mlogloss:0.67524\n",
      "[5]\ttrain-mlogloss:0.67172\n",
      "[6]\ttrain-mlogloss:0.66858\n",
      "[7]\ttrain-mlogloss:0.66517\n",
      "[8]\ttrain-mlogloss:0.66199\n",
      "[9]\ttrain-mlogloss:0.65870\n"
     ]
    },
    {
     "name": "stderr",
     "output_type": "stream",
     "text": [
      "/Library/Frameworks/Python.framework/Versions/3.6/lib/python3.6/site-packages/mlflow/xgboost.py:333: DeprecationWarning: inspect.getargspec() is deprecated, use inspect.signature() or inspect.getfullargspec()\n",
      "  all_arg_names = inspect.getargspec(original)[0]  # pylint: disable=W1505\n"
     ]
    },
    {
     "name": "stdout",
     "output_type": "stream",
     "text": [
      "[0]\ttrain-mlogloss:0.69145\n",
      "[1]\ttrain-mlogloss:0.68958\n",
      "[2]\ttrain-mlogloss:0.68768\n",
      "[3]\ttrain-mlogloss:0.68585\n",
      "[4]\ttrain-mlogloss:0.68402\n",
      "[5]\ttrain-mlogloss:0.68218\n",
      "[6]\ttrain-mlogloss:0.68053\n",
      "[7]\ttrain-mlogloss:0.67872\n",
      "[8]\ttrain-mlogloss:0.67701\n",
      "[9]\ttrain-mlogloss:0.67523\n"
     ]
    },
    {
     "name": "stderr",
     "output_type": "stream",
     "text": [
      "/Library/Frameworks/Python.framework/Versions/3.6/lib/python3.6/site-packages/mlflow/xgboost.py:333: DeprecationWarning: inspect.getargspec() is deprecated, use inspect.signature() or inspect.getfullargspec()\n",
      "  all_arg_names = inspect.getargspec(original)[0]  # pylint: disable=W1505\n"
     ]
    },
    {
     "name": "stdout",
     "output_type": "stream",
     "text": [
      "[0]\ttrain-mlogloss:0.42755\n",
      "[1]\ttrain-mlogloss:0.34593\n",
      "[2]\ttrain-mlogloss:0.31502\n",
      "[3]\ttrain-mlogloss:0.29928\n",
      "[4]\ttrain-mlogloss:0.29120\n",
      "[5]\ttrain-mlogloss:0.28457\n",
      "[6]\ttrain-mlogloss:0.27892\n",
      "[7]\ttrain-mlogloss:0.27384\n",
      "[8]\ttrain-mlogloss:0.26993\n"
     ]
    },
    {
     "name": "stderr",
     "output_type": "stream",
     "text": [
      "/Library/Frameworks/Python.framework/Versions/3.6/lib/python3.6/site-packages/mlflow/xgboost.py:333: DeprecationWarning: inspect.getargspec() is deprecated, use inspect.signature() or inspect.getfullargspec()\n",
      "  all_arg_names = inspect.getargspec(original)[0]  # pylint: disable=W1505\n"
     ]
    },
    {
     "name": "stdout",
     "output_type": "stream",
     "text": [
      "[9]\ttrain-mlogloss:0.26751\n",
      "[0]\ttrain-mlogloss:0.57241\n",
      "[1]\ttrain-mlogloss:0.48828\n",
      "[2]\ttrain-mlogloss:0.43128\n",
      "[3]\ttrain-mlogloss:0.39220\n",
      "[4]\ttrain-mlogloss:0.36634\n",
      "[5]\ttrain-mlogloss:0.34801\n",
      "[6]\ttrain-mlogloss:0.33581\n",
      "[7]\ttrain-mlogloss:0.32511\n",
      "[8]\ttrain-mlogloss:0.31605\n",
      "[9]\ttrain-mlogloss:0.31009\n"
     ]
    },
    {
     "name": "stderr",
     "output_type": "stream",
     "text": [
      "/Library/Frameworks/Python.framework/Versions/3.6/lib/python3.6/site-packages/mlflow/xgboost.py:333: DeprecationWarning: inspect.getargspec() is deprecated, use inspect.signature() or inspect.getfullargspec()\n",
      "  all_arg_names = inspect.getargspec(original)[0]  # pylint: disable=W1505\n"
     ]
    },
    {
     "name": "stdout",
     "output_type": "stream",
     "text": [
      "[0]\ttrain-mlogloss:0.68855\n",
      "[1]\ttrain-mlogloss:0.68346\n",
      "[2]\ttrain-mlogloss:0.67817\n",
      "[3]\ttrain-mlogloss:0.67293\n",
      "[4]\ttrain-mlogloss:0.66792\n",
      "[5]\ttrain-mlogloss:0.66281\n",
      "[6]\ttrain-mlogloss:0.65877\n",
      "[7]\ttrain-mlogloss:0.65390\n",
      "[8]\ttrain-mlogloss:0.64953\n",
      "[9]\ttrain-mlogloss:0.64505\n"
     ]
    },
    {
     "name": "stderr",
     "output_type": "stream",
     "text": [
      "/Library/Frameworks/Python.framework/Versions/3.6/lib/python3.6/site-packages/mlflow/xgboost.py:333: DeprecationWarning: inspect.getargspec() is deprecated, use inspect.signature() or inspect.getfullargspec()\n",
      "  all_arg_names = inspect.getargspec(original)[0]  # pylint: disable=W1505\n"
     ]
    },
    {
     "name": "stdout",
     "output_type": "stream",
     "text": [
      "[0]\ttrain-mlogloss:0.69084\n",
      "[1]\ttrain-mlogloss:0.68827\n",
      "[2]\ttrain-mlogloss:0.68558\n",
      "[3]\ttrain-mlogloss:0.68288\n",
      "[4]\ttrain-mlogloss:0.68028\n",
      "[5]\ttrain-mlogloss:0.67761\n",
      "[6]\ttrain-mlogloss:0.67547\n",
      "[7]\ttrain-mlogloss:0.67290\n",
      "[8]\ttrain-mlogloss:0.67055\n"
     ]
    },
    {
     "name": "stderr",
     "output_type": "stream",
     "text": [
      "/Library/Frameworks/Python.framework/Versions/3.6/lib/python3.6/site-packages/mlflow/xgboost.py:333: DeprecationWarning: inspect.getargspec() is deprecated, use inspect.signature() or inspect.getfullargspec()\n",
      "  all_arg_names = inspect.getargspec(original)[0]  # pylint: disable=W1505\n"
     ]
    },
    {
     "name": "stdout",
     "output_type": "stream",
     "text": [
      "[9]\ttrain-mlogloss:0.66813\n",
      "[0]\ttrain-mlogloss:0.42801\n",
      "[1]\ttrain-mlogloss:0.34636\n",
      "[2]\ttrain-mlogloss:0.31577\n",
      "[3]\ttrain-mlogloss:0.29998\n",
      "[4]\ttrain-mlogloss:0.29207\n",
      "[5]\ttrain-mlogloss:0.28603\n",
      "[6]\ttrain-mlogloss:0.28068\n",
      "[7]\ttrain-mlogloss:0.27580\n",
      "[8]\ttrain-mlogloss:0.27233\n",
      "[9]\ttrain-mlogloss:0.27052\n"
     ]
    },
    {
     "name": "stderr",
     "output_type": "stream",
     "text": [
      "/Library/Frameworks/Python.framework/Versions/3.6/lib/python3.6/site-packages/mlflow/xgboost.py:333: DeprecationWarning: inspect.getargspec() is deprecated, use inspect.signature() or inspect.getfullargspec()\n",
      "  all_arg_names = inspect.getargspec(original)[0]  # pylint: disable=W1505\n"
     ]
    },
    {
     "name": "stdout",
     "output_type": "stream",
     "text": [
      "[0]\ttrain-mlogloss:0.57259\n",
      "[1]\ttrain-mlogloss:0.48852\n",
      "[2]\ttrain-mlogloss:0.43161\n",
      "[3]\ttrain-mlogloss:0.39256\n",
      "[4]\ttrain-mlogloss:0.36676\n",
      "[5]\ttrain-mlogloss:0.34847\n",
      "[6]\ttrain-mlogloss:0.33632\n",
      "[7]\ttrain-mlogloss:0.32577\n",
      "[8]\ttrain-mlogloss:0.31673\n",
      "[9]\ttrain-mlogloss:0.31090\n"
     ]
    },
    {
     "name": "stderr",
     "output_type": "stream",
     "text": [
      "/Library/Frameworks/Python.framework/Versions/3.6/lib/python3.6/site-packages/mlflow/xgboost.py:333: DeprecationWarning: inspect.getargspec() is deprecated, use inspect.signature() or inspect.getfullargspec()\n",
      "  all_arg_names = inspect.getargspec(original)[0]  # pylint: disable=W1505\n"
     ]
    },
    {
     "name": "stdout",
     "output_type": "stream",
     "text": [
      "[0]\ttrain-mlogloss:0.68856\n",
      "[1]\ttrain-mlogloss:0.68347\n",
      "[2]\ttrain-mlogloss:0.67819\n",
      "[3]\ttrain-mlogloss:0.67295\n",
      "[4]\ttrain-mlogloss:0.66794\n",
      "[5]\ttrain-mlogloss:0.66283\n",
      "[6]\ttrain-mlogloss:0.65879\n",
      "[7]\ttrain-mlogloss:0.65393\n",
      "[8]\ttrain-mlogloss:0.64956\n"
     ]
    },
    {
     "name": "stderr",
     "output_type": "stream",
     "text": [
      "/Library/Frameworks/Python.framework/Versions/3.6/lib/python3.6/site-packages/mlflow/xgboost.py:333: DeprecationWarning: inspect.getargspec() is deprecated, use inspect.signature() or inspect.getfullargspec()\n",
      "  all_arg_names = inspect.getargspec(original)[0]  # pylint: disable=W1505\n"
     ]
    },
    {
     "name": "stdout",
     "output_type": "stream",
     "text": [
      "[9]\ttrain-mlogloss:0.64508\n",
      "[0]\ttrain-mlogloss:0.69085\n",
      "[1]\ttrain-mlogloss:0.68827\n",
      "[2]\ttrain-mlogloss:0.68559\n",
      "[3]\ttrain-mlogloss:0.68289\n",
      "[4]\ttrain-mlogloss:0.68029\n",
      "[5]\ttrain-mlogloss:0.67762\n",
      "[6]\ttrain-mlogloss:0.67549\n",
      "[7]\ttrain-mlogloss:0.67291\n",
      "[8]\ttrain-mlogloss:0.67057\n",
      "[9]\ttrain-mlogloss:0.66814\n"
     ]
    },
    {
     "name": "stderr",
     "output_type": "stream",
     "text": [
      "/Library/Frameworks/Python.framework/Versions/3.6/lib/python3.6/site-packages/mlflow/xgboost.py:333: DeprecationWarning: inspect.getargspec() is deprecated, use inspect.signature() or inspect.getfullargspec()\n",
      "  all_arg_names = inspect.getargspec(original)[0]  # pylint: disable=W1505\n"
     ]
    },
    {
     "name": "stdout",
     "output_type": "stream",
     "text": [
      "[0]\ttrain-mlogloss:0.42840\n",
      "[1]\ttrain-mlogloss:0.34680\n",
      "[2]\ttrain-mlogloss:0.31625\n",
      "[3]\ttrain-mlogloss:0.30053\n",
      "[4]\ttrain-mlogloss:0.29284\n",
      "[5]\ttrain-mlogloss:0.28705\n",
      "[6]\ttrain-mlogloss:0.28174\n",
      "[7]\ttrain-mlogloss:0.27708\n",
      "[8]\ttrain-mlogloss:0.27422\n"
     ]
    },
    {
     "name": "stderr",
     "output_type": "stream",
     "text": [
      "/Library/Frameworks/Python.framework/Versions/3.6/lib/python3.6/site-packages/mlflow/xgboost.py:333: DeprecationWarning: inspect.getargspec() is deprecated, use inspect.signature() or inspect.getfullargspec()\n",
      "  all_arg_names = inspect.getargspec(original)[0]  # pylint: disable=W1505\n"
     ]
    },
    {
     "name": "stdout",
     "output_type": "stream",
     "text": [
      "[9]\ttrain-mlogloss:0.27214\n",
      "[0]\ttrain-mlogloss:0.57275\n",
      "[1]\ttrain-mlogloss:0.48868\n",
      "[2]\ttrain-mlogloss:0.43184\n",
      "[3]\ttrain-mlogloss:0.39291\n",
      "[4]\ttrain-mlogloss:0.36711\n",
      "[5]\ttrain-mlogloss:0.34890\n",
      "[6]\ttrain-mlogloss:0.33678\n",
      "[7]\ttrain-mlogloss:0.32617\n",
      "[8]\ttrain-mlogloss:0.31716\n"
     ]
    },
    {
     "name": "stderr",
     "output_type": "stream",
     "text": [
      "/Library/Frameworks/Python.framework/Versions/3.6/lib/python3.6/site-packages/mlflow/xgboost.py:333: DeprecationWarning: inspect.getargspec() is deprecated, use inspect.signature() or inspect.getfullargspec()\n",
      "  all_arg_names = inspect.getargspec(original)[0]  # pylint: disable=W1505\n"
     ]
    },
    {
     "name": "stdout",
     "output_type": "stream",
     "text": [
      "[9]\ttrain-mlogloss:0.31133\n",
      "[0]\ttrain-mlogloss:0.68856\n",
      "[1]\ttrain-mlogloss:0.68347\n",
      "[2]\ttrain-mlogloss:0.67820\n",
      "[3]\ttrain-mlogloss:0.67296\n",
      "[4]\ttrain-mlogloss:0.66796\n",
      "[5]\ttrain-mlogloss:0.66285\n",
      "[6]\ttrain-mlogloss:0.65881\n",
      "[7]\ttrain-mlogloss:0.65395\n",
      "[8]\ttrain-mlogloss:0.64958\n"
     ]
    },
    {
     "name": "stderr",
     "output_type": "stream",
     "text": [
      "/Library/Frameworks/Python.framework/Versions/3.6/lib/python3.6/site-packages/mlflow/xgboost.py:333: DeprecationWarning: inspect.getargspec() is deprecated, use inspect.signature() or inspect.getfullargspec()\n",
      "  all_arg_names = inspect.getargspec(original)[0]  # pylint: disable=W1505\n"
     ]
    },
    {
     "name": "stdout",
     "output_type": "stream",
     "text": [
      "[9]\ttrain-mlogloss:0.64511\n",
      "[0]\ttrain-mlogloss:0.69085\n",
      "[1]\ttrain-mlogloss:0.68828\n",
      "[2]\ttrain-mlogloss:0.68559\n",
      "[3]\ttrain-mlogloss:0.68290\n",
      "[4]\ttrain-mlogloss:0.68030\n",
      "[5]\ttrain-mlogloss:0.67763\n",
      "[6]\ttrain-mlogloss:0.67549\n",
      "[7]\ttrain-mlogloss:0.67292\n",
      "[8]\ttrain-mlogloss:0.67058\n"
     ]
    },
    {
     "name": "stderr",
     "output_type": "stream",
     "text": [
      "/Library/Frameworks/Python.framework/Versions/3.6/lib/python3.6/site-packages/mlflow/xgboost.py:333: DeprecationWarning: inspect.getargspec() is deprecated, use inspect.signature() or inspect.getfullargspec()\n",
      "  all_arg_names = inspect.getargspec(original)[0]  # pylint: disable=W1505\n"
     ]
    },
    {
     "name": "stdout",
     "output_type": "stream",
     "text": [
      "[9]\ttrain-mlogloss:0.66816\n",
      "[0]\ttrain-mlogloss:0.42924\n",
      "[1]\ttrain-mlogloss:0.34767\n",
      "[2]\ttrain-mlogloss:0.31607\n",
      "[3]\ttrain-mlogloss:0.30042\n",
      "[4]\ttrain-mlogloss:0.29257\n",
      "[5]\ttrain-mlogloss:0.28730\n",
      "[6]\ttrain-mlogloss:0.28232\n",
      "[7]\ttrain-mlogloss:0.27856\n",
      "[8]\ttrain-mlogloss:0.27574\n"
     ]
    },
    {
     "name": "stderr",
     "output_type": "stream",
     "text": [
      "/Library/Frameworks/Python.framework/Versions/3.6/lib/python3.6/site-packages/mlflow/xgboost.py:333: DeprecationWarning: inspect.getargspec() is deprecated, use inspect.signature() or inspect.getfullargspec()\n",
      "  all_arg_names = inspect.getargspec(original)[0]  # pylint: disable=W1505\n"
     ]
    },
    {
     "name": "stdout",
     "output_type": "stream",
     "text": [
      "[9]\ttrain-mlogloss:0.27341\n",
      "[0]\ttrain-mlogloss:0.57311\n",
      "[1]\ttrain-mlogloss:0.48906\n",
      "[2]\ttrain-mlogloss:0.43216\n",
      "[3]\ttrain-mlogloss:0.39328\n",
      "[4]\ttrain-mlogloss:0.36752\n",
      "[5]\ttrain-mlogloss:0.34939\n",
      "[6]\ttrain-mlogloss:0.33729\n",
      "[7]\ttrain-mlogloss:0.32670\n",
      "[8]\ttrain-mlogloss:0.31771\n"
     ]
    },
    {
     "name": "stderr",
     "output_type": "stream",
     "text": [
      "/Library/Frameworks/Python.framework/Versions/3.6/lib/python3.6/site-packages/mlflow/xgboost.py:333: DeprecationWarning: inspect.getargspec() is deprecated, use inspect.signature() or inspect.getfullargspec()\n",
      "  all_arg_names = inspect.getargspec(original)[0]  # pylint: disable=W1505\n"
     ]
    },
    {
     "name": "stdout",
     "output_type": "stream",
     "text": [
      "[9]\ttrain-mlogloss:0.31191\n",
      "[0]\ttrain-mlogloss:0.68858\n",
      "[1]\ttrain-mlogloss:0.68349\n",
      "[2]\ttrain-mlogloss:0.67821\n",
      "[3]\ttrain-mlogloss:0.67298\n",
      "[4]\ttrain-mlogloss:0.66798\n",
      "[5]\ttrain-mlogloss:0.66287\n",
      "[6]\ttrain-mlogloss:0.65883\n",
      "[7]\ttrain-mlogloss:0.65398\n",
      "[8]\ttrain-mlogloss:0.64961\n"
     ]
    },
    {
     "name": "stderr",
     "output_type": "stream",
     "text": [
      "/Library/Frameworks/Python.framework/Versions/3.6/lib/python3.6/site-packages/mlflow/xgboost.py:333: DeprecationWarning: inspect.getargspec() is deprecated, use inspect.signature() or inspect.getfullargspec()\n",
      "  all_arg_names = inspect.getargspec(original)[0]  # pylint: disable=W1505\n"
     ]
    },
    {
     "name": "stdout",
     "output_type": "stream",
     "text": [
      "[9]\ttrain-mlogloss:0.64514\n",
      "[0]\ttrain-mlogloss:0.69085\n",
      "[1]\ttrain-mlogloss:0.68829\n",
      "[2]\ttrain-mlogloss:0.68560\n",
      "[3]\ttrain-mlogloss:0.68291\n",
      "[4]\ttrain-mlogloss:0.68031\n",
      "[5]\ttrain-mlogloss:0.67764\n",
      "[6]\ttrain-mlogloss:0.67551\n",
      "[7]\ttrain-mlogloss:0.67294\n",
      "[8]\ttrain-mlogloss:0.67059\n"
     ]
    },
    {
     "name": "stderr",
     "output_type": "stream",
     "text": [
      "/Library/Frameworks/Python.framework/Versions/3.6/lib/python3.6/site-packages/mlflow/xgboost.py:333: DeprecationWarning: inspect.getargspec() is deprecated, use inspect.signature() or inspect.getfullargspec()\n",
      "  all_arg_names = inspect.getargspec(original)[0]  # pylint: disable=W1505\n"
     ]
    },
    {
     "name": "stdout",
     "output_type": "stream",
     "text": [
      "[9]\ttrain-mlogloss:0.66817\n",
      "[0]\ttrain-mlogloss:0.39324\n",
      "[1]\ttrain-mlogloss:0.30946\n",
      "[2]\ttrain-mlogloss:0.26927\n",
      "[3]\ttrain-mlogloss:0.25044\n"
     ]
    },
    {
     "name": "stderr",
     "output_type": "stream",
     "text": [
      "/Library/Frameworks/Python.framework/Versions/3.6/lib/python3.6/site-packages/mlflow/xgboost.py:333: DeprecationWarning: inspect.getargspec() is deprecated, use inspect.signature() or inspect.getfullargspec()\n",
      "  all_arg_names = inspect.getargspec(original)[0]  # pylint: disable=W1505\n"
     ]
    },
    {
     "name": "stdout",
     "output_type": "stream",
     "text": [
      "[4]\ttrain-mlogloss:0.23362\n",
      "[5]\ttrain-mlogloss:0.22805\n",
      "[6]\ttrain-mlogloss:0.21751\n",
      "[7]\ttrain-mlogloss:0.21450\n",
      "[8]\ttrain-mlogloss:0.20375\n",
      "[9]\ttrain-mlogloss:0.19774\n",
      "[0]\ttrain-mlogloss:0.55638\n",
      "[1]\ttrain-mlogloss:0.46796\n",
      "[2]\ttrain-mlogloss:0.40300\n",
      "[3]\ttrain-mlogloss:0.36081\n"
     ]
    },
    {
     "name": "stderr",
     "output_type": "stream",
     "text": [
      "/Library/Frameworks/Python.framework/Versions/3.6/lib/python3.6/site-packages/mlflow/xgboost.py:333: DeprecationWarning: inspect.getargspec() is deprecated, use inspect.signature() or inspect.getfullargspec()\n",
      "  all_arg_names = inspect.getargspec(original)[0]  # pylint: disable=W1505\n"
     ]
    },
    {
     "name": "stdout",
     "output_type": "stream",
     "text": [
      "[4]\ttrain-mlogloss:0.33094\n",
      "[5]\ttrain-mlogloss:0.30987\n",
      "[6]\ttrain-mlogloss:0.29449\n",
      "[7]\ttrain-mlogloss:0.28160\n",
      "[8]\ttrain-mlogloss:0.26933\n",
      "[9]\ttrain-mlogloss:0.25998\n",
      "[0]\ttrain-mlogloss:0.68793\n",
      "[1]\ttrain-mlogloss:0.68252\n",
      "[2]\ttrain-mlogloss:0.67668\n",
      "[3]\ttrain-mlogloss:0.67100\n"
     ]
    },
    {
     "name": "stderr",
     "output_type": "stream",
     "text": [
      "/Library/Frameworks/Python.framework/Versions/3.6/lib/python3.6/site-packages/mlflow/xgboost.py:333: DeprecationWarning: inspect.getargspec() is deprecated, use inspect.signature() or inspect.getfullargspec()\n",
      "  all_arg_names = inspect.getargspec(original)[0]  # pylint: disable=W1505\n"
     ]
    },
    {
     "name": "stdout",
     "output_type": "stream",
     "text": [
      "[4]\ttrain-mlogloss:0.66565\n",
      "[5]\ttrain-mlogloss:0.66013\n",
      "[6]\ttrain-mlogloss:0.65573\n",
      "[7]\ttrain-mlogloss:0.65053\n",
      "[8]\ttrain-mlogloss:0.64567\n",
      "[9]\ttrain-mlogloss:0.64087\n",
      "[0]\ttrain-mlogloss:0.69053\n",
      "[1]\ttrain-mlogloss:0.68780\n",
      "[2]\ttrain-mlogloss:0.68482\n",
      "[3]\ttrain-mlogloss:0.68190\n"
     ]
    },
    {
     "name": "stderr",
     "output_type": "stream",
     "text": [
      "/Library/Frameworks/Python.framework/Versions/3.6/lib/python3.6/site-packages/mlflow/xgboost.py:333: DeprecationWarning: inspect.getargspec() is deprecated, use inspect.signature() or inspect.getfullargspec()\n",
      "  all_arg_names = inspect.getargspec(original)[0]  # pylint: disable=W1505\n"
     ]
    },
    {
     "name": "stdout",
     "output_type": "stream",
     "text": [
      "[4]\ttrain-mlogloss:0.67913\n",
      "[5]\ttrain-mlogloss:0.67624\n",
      "[6]\ttrain-mlogloss:0.67391\n",
      "[7]\ttrain-mlogloss:0.67115\n",
      "[8]\ttrain-mlogloss:0.66855\n",
      "[9]\ttrain-mlogloss:0.66596\n",
      "[0]\ttrain-mlogloss:0.39604\n",
      "[1]\ttrain-mlogloss:0.31453\n",
      "[2]\ttrain-mlogloss:0.27682\n",
      "[3]\ttrain-mlogloss:0.26017\n"
     ]
    },
    {
     "name": "stderr",
     "output_type": "stream",
     "text": [
      "/Library/Frameworks/Python.framework/Versions/3.6/lib/python3.6/site-packages/mlflow/xgboost.py:333: DeprecationWarning: inspect.getargspec() is deprecated, use inspect.signature() or inspect.getfullargspec()\n",
      "  all_arg_names = inspect.getargspec(original)[0]  # pylint: disable=W1505\n"
     ]
    },
    {
     "name": "stdout",
     "output_type": "stream",
     "text": [
      "[4]\ttrain-mlogloss:0.24840\n",
      "[5]\ttrain-mlogloss:0.24297\n",
      "[6]\ttrain-mlogloss:0.23520\n",
      "[7]\ttrain-mlogloss:0.23311\n",
      "[8]\ttrain-mlogloss:0.22600\n",
      "[9]\ttrain-mlogloss:0.22139\n",
      "[0]\ttrain-mlogloss:0.55759\n",
      "[1]\ttrain-mlogloss:0.47013\n",
      "[2]\ttrain-mlogloss:0.40596\n",
      "[3]\ttrain-mlogloss:0.36467\n"
     ]
    },
    {
     "name": "stderr",
     "output_type": "stream",
     "text": [
      "/Library/Frameworks/Python.framework/Versions/3.6/lib/python3.6/site-packages/mlflow/xgboost.py:333: DeprecationWarning: inspect.getargspec() is deprecated, use inspect.signature() or inspect.getfullargspec()\n",
      "  all_arg_names = inspect.getargspec(original)[0]  # pylint: disable=W1505\n"
     ]
    },
    {
     "name": "stdout",
     "output_type": "stream",
     "text": [
      "[4]\ttrain-mlogloss:0.33658\n",
      "[5]\ttrain-mlogloss:0.31585\n",
      "[6]\ttrain-mlogloss:0.30232\n",
      "[7]\ttrain-mlogloss:0.29034\n",
      "[8]\ttrain-mlogloss:0.28000\n",
      "[9]\ttrain-mlogloss:0.27185\n",
      "[0]\ttrain-mlogloss:0.68797\n",
      "[1]\ttrain-mlogloss:0.68262\n",
      "[2]\ttrain-mlogloss:0.67682\n",
      "[3]\ttrain-mlogloss:0.67119\n"
     ]
    },
    {
     "name": "stderr",
     "output_type": "stream",
     "text": [
      "/Library/Frameworks/Python.framework/Versions/3.6/lib/python3.6/site-packages/mlflow/xgboost.py:333: DeprecationWarning: inspect.getargspec() is deprecated, use inspect.signature() or inspect.getfullargspec()\n",
      "  all_arg_names = inspect.getargspec(original)[0]  # pylint: disable=W1505\n"
     ]
    },
    {
     "name": "stdout",
     "output_type": "stream",
     "text": [
      "[4]\ttrain-mlogloss:0.66590\n",
      "[5]\ttrain-mlogloss:0.66044\n",
      "[6]\ttrain-mlogloss:0.65611\n",
      "[7]\ttrain-mlogloss:0.65097\n",
      "[8]\ttrain-mlogloss:0.64619\n",
      "[9]\ttrain-mlogloss:0.64146\n",
      "[0]\ttrain-mlogloss:0.69055\n",
      "[1]\ttrain-mlogloss:0.68785\n",
      "[2]\ttrain-mlogloss:0.68490\n",
      "[3]\ttrain-mlogloss:0.68200\n"
     ]
    },
    {
     "name": "stderr",
     "output_type": "stream",
     "text": [
      "/Library/Frameworks/Python.framework/Versions/3.6/lib/python3.6/site-packages/mlflow/xgboost.py:333: DeprecationWarning: inspect.getargspec() is deprecated, use inspect.signature() or inspect.getfullargspec()\n",
      "  all_arg_names = inspect.getargspec(original)[0]  # pylint: disable=W1505\n"
     ]
    },
    {
     "name": "stdout",
     "output_type": "stream",
     "text": [
      "[4]\ttrain-mlogloss:0.67925\n",
      "[5]\ttrain-mlogloss:0.67639\n",
      "[6]\ttrain-mlogloss:0.67410\n",
      "[7]\ttrain-mlogloss:0.67137\n",
      "[8]\ttrain-mlogloss:0.66881\n",
      "[9]\ttrain-mlogloss:0.66625\n",
      "[0]\ttrain-mlogloss:0.39801\n",
      "[1]\ttrain-mlogloss:0.31747\n",
      "[2]\ttrain-mlogloss:0.27924\n",
      "[3]\ttrain-mlogloss:0.26526\n"
     ]
    },
    {
     "name": "stderr",
     "output_type": "stream",
     "text": [
      "/Library/Frameworks/Python.framework/Versions/3.6/lib/python3.6/site-packages/mlflow/xgboost.py:333: DeprecationWarning: inspect.getargspec() is deprecated, use inspect.signature() or inspect.getfullargspec()\n",
      "  all_arg_names = inspect.getargspec(original)[0]  # pylint: disable=W1505\n"
     ]
    },
    {
     "name": "stdout",
     "output_type": "stream",
     "text": [
      "[4]\ttrain-mlogloss:0.25500\n",
      "[5]\ttrain-mlogloss:0.24899\n",
      "[6]\ttrain-mlogloss:0.24360\n",
      "[7]\ttrain-mlogloss:0.24144\n",
      "[8]\ttrain-mlogloss:0.23643\n",
      "[9]\ttrain-mlogloss:0.23138\n",
      "[0]\ttrain-mlogloss:0.55841\n",
      "[1]\ttrain-mlogloss:0.47135\n",
      "[2]\ttrain-mlogloss:0.40763\n",
      "[3]\ttrain-mlogloss:0.36681\n"
     ]
    },
    {
     "name": "stderr",
     "output_type": "stream",
     "text": [
      "/Library/Frameworks/Python.framework/Versions/3.6/lib/python3.6/site-packages/mlflow/xgboost.py:333: DeprecationWarning: inspect.getargspec() is deprecated, use inspect.signature() or inspect.getfullargspec()\n",
      "  all_arg_names = inspect.getargspec(original)[0]  # pylint: disable=W1505\n"
     ]
    },
    {
     "name": "stdout",
     "output_type": "stream",
     "text": [
      "[4]\ttrain-mlogloss:0.33946\n",
      "[5]\ttrain-mlogloss:0.31913\n",
      "[6]\ttrain-mlogloss:0.30605\n",
      "[7]\ttrain-mlogloss:0.29395\n",
      "[8]\ttrain-mlogloss:0.28410\n",
      "[9]\ttrain-mlogloss:0.27634\n",
      "[0]\ttrain-mlogloss:0.68800\n",
      "[1]\ttrain-mlogloss:0.68267\n",
      "[2]\ttrain-mlogloss:0.67690\n",
      "[3]\ttrain-mlogloss:0.67130\n"
     ]
    },
    {
     "name": "stderr",
     "output_type": "stream",
     "text": [
      "/Library/Frameworks/Python.framework/Versions/3.6/lib/python3.6/site-packages/mlflow/xgboost.py:333: DeprecationWarning: inspect.getargspec() is deprecated, use inspect.signature() or inspect.getfullargspec()\n",
      "  all_arg_names = inspect.getargspec(original)[0]  # pylint: disable=W1505\n"
     ]
    },
    {
     "name": "stdout",
     "output_type": "stream",
     "text": [
      "[4]\ttrain-mlogloss:0.66605\n",
      "[5]\ttrain-mlogloss:0.66061\n",
      "[6]\ttrain-mlogloss:0.65632\n",
      "[7]\ttrain-mlogloss:0.65121\n",
      "[8]\ttrain-mlogloss:0.64646\n",
      "[9]\ttrain-mlogloss:0.64178\n",
      "[0]\ttrain-mlogloss:0.69057\n",
      "[1]\ttrain-mlogloss:0.68787\n",
      "[2]\ttrain-mlogloss:0.68493\n",
      "[3]\ttrain-mlogloss:0.68206\n",
      "[4]\ttrain-mlogloss:0.67933\n"
     ]
    },
    {
     "name": "stderr",
     "output_type": "stream",
     "text": [
      "/Library/Frameworks/Python.framework/Versions/3.6/lib/python3.6/site-packages/mlflow/xgboost.py:333: DeprecationWarning: inspect.getargspec() is deprecated, use inspect.signature() or inspect.getfullargspec()\n",
      "  all_arg_names = inspect.getargspec(original)[0]  # pylint: disable=W1505\n"
     ]
    },
    {
     "name": "stdout",
     "output_type": "stream",
     "text": [
      "[5]\ttrain-mlogloss:0.67648\n",
      "[6]\ttrain-mlogloss:0.67421\n",
      "[7]\ttrain-mlogloss:0.67150\n",
      "[8]\ttrain-mlogloss:0.66895\n",
      "[9]\ttrain-mlogloss:0.66641\n",
      "[0]\ttrain-mlogloss:0.40009\n",
      "[1]\ttrain-mlogloss:0.32017\n",
      "[2]\ttrain-mlogloss:0.28222\n",
      "[3]\ttrain-mlogloss:0.26899\n",
      "[4]\ttrain-mlogloss:0.25984\n"
     ]
    },
    {
     "name": "stderr",
     "output_type": "stream",
     "text": [
      "/Library/Frameworks/Python.framework/Versions/3.6/lib/python3.6/site-packages/mlflow/xgboost.py:333: DeprecationWarning: inspect.getargspec() is deprecated, use inspect.signature() or inspect.getfullargspec()\n",
      "  all_arg_names = inspect.getargspec(original)[0]  # pylint: disable=W1505\n"
     ]
    },
    {
     "name": "stdout",
     "output_type": "stream",
     "text": [
      "[5]\ttrain-mlogloss:0.25567\n",
      "[6]\ttrain-mlogloss:0.24964\n",
      "[7]\ttrain-mlogloss:0.24713\n",
      "[8]\ttrain-mlogloss:0.24136\n",
      "[9]\ttrain-mlogloss:0.23720\n",
      "[0]\ttrain-mlogloss:0.55926\n",
      "[1]\ttrain-mlogloss:0.47272\n",
      "[2]\ttrain-mlogloss:0.40950\n",
      "[3]\ttrain-mlogloss:0.36913\n",
      "[4]\ttrain-mlogloss:0.34236\n"
     ]
    },
    {
     "name": "stderr",
     "output_type": "stream",
     "text": [
      "/Library/Frameworks/Python.framework/Versions/3.6/lib/python3.6/site-packages/mlflow/xgboost.py:333: DeprecationWarning: inspect.getargspec() is deprecated, use inspect.signature() or inspect.getfullargspec()\n",
      "  all_arg_names = inspect.getargspec(original)[0]  # pylint: disable=W1505\n"
     ]
    },
    {
     "name": "stdout",
     "output_type": "stream",
     "text": [
      "[5]\ttrain-mlogloss:0.32196\n",
      "[6]\ttrain-mlogloss:0.30921\n",
      "[7]\ttrain-mlogloss:0.29724\n",
      "[8]\ttrain-mlogloss:0.28802\n",
      "[9]\ttrain-mlogloss:0.28053\n",
      "[0]\ttrain-mlogloss:0.68803\n",
      "[1]\ttrain-mlogloss:0.68273\n",
      "[2]\ttrain-mlogloss:0.67697\n",
      "[3]\ttrain-mlogloss:0.67139\n",
      "[4]\ttrain-mlogloss:0.66616\n"
     ]
    },
    {
     "name": "stderr",
     "output_type": "stream",
     "text": [
      "/Library/Frameworks/Python.framework/Versions/3.6/lib/python3.6/site-packages/mlflow/xgboost.py:333: DeprecationWarning: inspect.getargspec() is deprecated, use inspect.signature() or inspect.getfullargspec()\n",
      "  all_arg_names = inspect.getargspec(original)[0]  # pylint: disable=W1505\n"
     ]
    },
    {
     "name": "stdout",
     "output_type": "stream",
     "text": [
      "[5]\ttrain-mlogloss:0.66074\n",
      "[6]\ttrain-mlogloss:0.65647\n",
      "[7]\ttrain-mlogloss:0.65140\n",
      "[8]\ttrain-mlogloss:0.64667\n",
      "[9]\ttrain-mlogloss:0.64201\n",
      "[0]\ttrain-mlogloss:0.69059\n",
      "[1]\ttrain-mlogloss:0.68790\n",
      "[2]\ttrain-mlogloss:0.68497\n",
      "[3]\ttrain-mlogloss:0.68210\n",
      "[4]\ttrain-mlogloss:0.67939\n"
     ]
    },
    {
     "name": "stderr",
     "output_type": "stream",
     "text": [
      "/Library/Frameworks/Python.framework/Versions/3.6/lib/python3.6/site-packages/mlflow/xgboost.py:333: DeprecationWarning: inspect.getargspec() is deprecated, use inspect.signature() or inspect.getfullargspec()\n",
      "  all_arg_names = inspect.getargspec(original)[0]  # pylint: disable=W1505\n"
     ]
    },
    {
     "name": "stdout",
     "output_type": "stream",
     "text": [
      "[5]\ttrain-mlogloss:0.67654\n",
      "[6]\ttrain-mlogloss:0.67429\n",
      "[7]\ttrain-mlogloss:0.67160\n",
      "[8]\ttrain-mlogloss:0.66906\n",
      "[9]\ttrain-mlogloss:0.66653\n",
      "[0]\ttrain-mlogloss:0.47926\n",
      "[1]\ttrain-mlogloss:0.43499\n",
      "[2]\ttrain-mlogloss:0.39670\n",
      "[3]\ttrain-mlogloss:0.38050\n",
      "[4]\ttrain-mlogloss:0.36815\n",
      "[5]\ttrain-mlogloss:0.35382\n",
      "[6]\ttrain-mlogloss:0.34877\n",
      "[7]\ttrain-mlogloss:0.34063\n",
      "[8]\ttrain-mlogloss:0.33498\n",
      "[9]\ttrain-mlogloss:0.33060\n"
     ]
    },
    {
     "name": "stderr",
     "output_type": "stream",
     "text": [
      "/Library/Frameworks/Python.framework/Versions/3.6/lib/python3.6/site-packages/mlflow/xgboost.py:333: DeprecationWarning: inspect.getargspec() is deprecated, use inspect.signature() or inspect.getfullargspec()\n",
      "  all_arg_names = inspect.getargspec(original)[0]  # pylint: disable=W1505\n"
     ]
    },
    {
     "name": "stdout",
     "output_type": "stream",
     "text": [
      "[0]\ttrain-mlogloss:0.59362\n",
      "[1]\ttrain-mlogloss:0.53695\n",
      "[2]\ttrain-mlogloss:0.49767\n",
      "[3]\ttrain-mlogloss:0.47135\n",
      "[4]\ttrain-mlogloss:0.45008\n",
      "[5]\ttrain-mlogloss:0.43547\n",
      "[6]\ttrain-mlogloss:0.42166\n",
      "[7]\ttrain-mlogloss:0.41165\n",
      "[8]\ttrain-mlogloss:0.40415\n",
      "[9]\ttrain-mlogloss:0.39697\n"
     ]
    },
    {
     "name": "stderr",
     "output_type": "stream",
     "text": [
      "/Library/Frameworks/Python.framework/Versions/3.6/lib/python3.6/site-packages/mlflow/xgboost.py:333: DeprecationWarning: inspect.getargspec() is deprecated, use inspect.signature() or inspect.getfullargspec()\n",
      "  all_arg_names = inspect.getargspec(original)[0]  # pylint: disable=W1505\n"
     ]
    },
    {
     "name": "stdout",
     "output_type": "stream",
     "text": [
      "[0]\ttrain-mlogloss:0.68934\n",
      "[1]\ttrain-mlogloss:0.68561\n",
      "[2]\ttrain-mlogloss:0.68196\n",
      "[3]\ttrain-mlogloss:0.67832\n",
      "[4]\ttrain-mlogloss:0.67481\n",
      "[5]\ttrain-mlogloss:0.67133\n",
      "[6]\ttrain-mlogloss:0.66796\n",
      "[7]\ttrain-mlogloss:0.66453\n",
      "[8]\ttrain-mlogloss:0.66120\n",
      "[9]\ttrain-mlogloss:0.65798\n"
     ]
    },
    {
     "name": "stderr",
     "output_type": "stream",
     "text": [
      "/Library/Frameworks/Python.framework/Versions/3.6/lib/python3.6/site-packages/mlflow/xgboost.py:333: DeprecationWarning: inspect.getargspec() is deprecated, use inspect.signature() or inspect.getfullargspec()\n",
      "  all_arg_names = inspect.getargspec(original)[0]  # pylint: disable=W1505\n"
     ]
    },
    {
     "name": "stdout",
     "output_type": "stream",
     "text": [
      "[0]\ttrain-mlogloss:0.69124\n",
      "[1]\ttrain-mlogloss:0.68935\n",
      "[2]\ttrain-mlogloss:0.68749\n",
      "[3]\ttrain-mlogloss:0.68561\n",
      "[4]\ttrain-mlogloss:0.68379\n",
      "[5]\ttrain-mlogloss:0.68197\n",
      "[6]\ttrain-mlogloss:0.68020\n",
      "[7]\ttrain-mlogloss:0.67836\n",
      "[8]\ttrain-mlogloss:0.67658\n",
      "[9]\ttrain-mlogloss:0.67483\n"
     ]
    },
    {
     "name": "stderr",
     "output_type": "stream",
     "text": [
      "/Library/Frameworks/Python.framework/Versions/3.6/lib/python3.6/site-packages/mlflow/xgboost.py:333: DeprecationWarning: inspect.getargspec() is deprecated, use inspect.signature() or inspect.getfullargspec()\n",
      "  all_arg_names = inspect.getargspec(original)[0]  # pylint: disable=W1505\n"
     ]
    },
    {
     "name": "stdout",
     "output_type": "stream",
     "text": [
      "[0]\ttrain-mlogloss:0.47926\n",
      "[1]\ttrain-mlogloss:0.43499\n",
      "[2]\ttrain-mlogloss:0.39670\n",
      "[3]\ttrain-mlogloss:0.38050\n",
      "[4]\ttrain-mlogloss:0.36815\n",
      "[5]\ttrain-mlogloss:0.35382\n",
      "[6]\ttrain-mlogloss:0.34877\n",
      "[7]\ttrain-mlogloss:0.34063\n",
      "[8]\ttrain-mlogloss:0.33498\n",
      "[9]\ttrain-mlogloss:0.33060\n"
     ]
    },
    {
     "name": "stderr",
     "output_type": "stream",
     "text": [
      "/Library/Frameworks/Python.framework/Versions/3.6/lib/python3.6/site-packages/mlflow/xgboost.py:333: DeprecationWarning: inspect.getargspec() is deprecated, use inspect.signature() or inspect.getfullargspec()\n",
      "  all_arg_names = inspect.getargspec(original)[0]  # pylint: disable=W1505\n"
     ]
    },
    {
     "name": "stdout",
     "output_type": "stream",
     "text": [
      "[0]\ttrain-mlogloss:0.59362\n",
      "[1]\ttrain-mlogloss:0.53695\n",
      "[2]\ttrain-mlogloss:0.49767\n",
      "[3]\ttrain-mlogloss:0.47135\n",
      "[4]\ttrain-mlogloss:0.45008\n",
      "[5]\ttrain-mlogloss:0.43547\n",
      "[6]\ttrain-mlogloss:0.42166\n",
      "[7]\ttrain-mlogloss:0.41165\n",
      "[8]\ttrain-mlogloss:0.40415\n",
      "[9]\ttrain-mlogloss:0.39697\n"
     ]
    },
    {
     "name": "stderr",
     "output_type": "stream",
     "text": [
      "/Library/Frameworks/Python.framework/Versions/3.6/lib/python3.6/site-packages/mlflow/xgboost.py:333: DeprecationWarning: inspect.getargspec() is deprecated, use inspect.signature() or inspect.getfullargspec()\n",
      "  all_arg_names = inspect.getargspec(original)[0]  # pylint: disable=W1505\n"
     ]
    },
    {
     "name": "stdout",
     "output_type": "stream",
     "text": [
      "[0]\ttrain-mlogloss:0.68934\n",
      "[1]\ttrain-mlogloss:0.68561\n",
      "[2]\ttrain-mlogloss:0.68196\n",
      "[3]\ttrain-mlogloss:0.67832\n",
      "[4]\ttrain-mlogloss:0.67481\n",
      "[5]\ttrain-mlogloss:0.67133\n",
      "[6]\ttrain-mlogloss:0.66796\n",
      "[7]\ttrain-mlogloss:0.66453\n",
      "[8]\ttrain-mlogloss:0.66120\n",
      "[9]\ttrain-mlogloss:0.65798\n"
     ]
    },
    {
     "name": "stderr",
     "output_type": "stream",
     "text": [
      "/Library/Frameworks/Python.framework/Versions/3.6/lib/python3.6/site-packages/mlflow/xgboost.py:333: DeprecationWarning: inspect.getargspec() is deprecated, use inspect.signature() or inspect.getfullargspec()\n",
      "  all_arg_names = inspect.getargspec(original)[0]  # pylint: disable=W1505\n"
     ]
    },
    {
     "name": "stdout",
     "output_type": "stream",
     "text": [
      "[0]\ttrain-mlogloss:0.69124\n",
      "[1]\ttrain-mlogloss:0.68935\n",
      "[2]\ttrain-mlogloss:0.68749\n",
      "[3]\ttrain-mlogloss:0.68561\n",
      "[4]\ttrain-mlogloss:0.68379\n",
      "[5]\ttrain-mlogloss:0.68197\n",
      "[6]\ttrain-mlogloss:0.68020\n",
      "[7]\ttrain-mlogloss:0.67836\n",
      "[8]\ttrain-mlogloss:0.67658\n",
      "[9]\ttrain-mlogloss:0.67483\n"
     ]
    },
    {
     "name": "stderr",
     "output_type": "stream",
     "text": [
      "/Library/Frameworks/Python.framework/Versions/3.6/lib/python3.6/site-packages/mlflow/xgboost.py:333: DeprecationWarning: inspect.getargspec() is deprecated, use inspect.signature() or inspect.getfullargspec()\n",
      "  all_arg_names = inspect.getargspec(original)[0]  # pylint: disable=W1505\n"
     ]
    },
    {
     "name": "stdout",
     "output_type": "stream",
     "text": [
      "[0]\ttrain-mlogloss:0.47926\n",
      "[1]\ttrain-mlogloss:0.43499\n",
      "[2]\ttrain-mlogloss:0.39670\n",
      "[3]\ttrain-mlogloss:0.38050\n",
      "[4]\ttrain-mlogloss:0.36815\n",
      "[5]\ttrain-mlogloss:0.35382\n",
      "[6]\ttrain-mlogloss:0.34877\n",
      "[7]\ttrain-mlogloss:0.34063\n",
      "[8]\ttrain-mlogloss:0.33498\n",
      "[9]\ttrain-mlogloss:0.33060\n"
     ]
    },
    {
     "name": "stderr",
     "output_type": "stream",
     "text": [
      "/Library/Frameworks/Python.framework/Versions/3.6/lib/python3.6/site-packages/mlflow/xgboost.py:333: DeprecationWarning: inspect.getargspec() is deprecated, use inspect.signature() or inspect.getfullargspec()\n",
      "  all_arg_names = inspect.getargspec(original)[0]  # pylint: disable=W1505\n"
     ]
    },
    {
     "name": "stdout",
     "output_type": "stream",
     "text": [
      "[0]\ttrain-mlogloss:0.59362\n",
      "[1]\ttrain-mlogloss:0.53695\n",
      "[2]\ttrain-mlogloss:0.49767\n",
      "[3]\ttrain-mlogloss:0.47135\n",
      "[4]\ttrain-mlogloss:0.45008\n",
      "[5]\ttrain-mlogloss:0.43547\n",
      "[6]\ttrain-mlogloss:0.42166\n",
      "[7]\ttrain-mlogloss:0.41165\n",
      "[8]\ttrain-mlogloss:0.40415\n",
      "[9]\ttrain-mlogloss:0.39697\n"
     ]
    },
    {
     "name": "stderr",
     "output_type": "stream",
     "text": [
      "/Library/Frameworks/Python.framework/Versions/3.6/lib/python3.6/site-packages/mlflow/xgboost.py:333: DeprecationWarning: inspect.getargspec() is deprecated, use inspect.signature() or inspect.getfullargspec()\n",
      "  all_arg_names = inspect.getargspec(original)[0]  # pylint: disable=W1505\n"
     ]
    },
    {
     "name": "stdout",
     "output_type": "stream",
     "text": [
      "[0]\ttrain-mlogloss:0.68934\n",
      "[1]\ttrain-mlogloss:0.68561\n",
      "[2]\ttrain-mlogloss:0.68196\n",
      "[3]\ttrain-mlogloss:0.67832\n",
      "[4]\ttrain-mlogloss:0.67481\n",
      "[5]\ttrain-mlogloss:0.67133\n",
      "[6]\ttrain-mlogloss:0.66796\n",
      "[7]\ttrain-mlogloss:0.66453\n",
      "[8]\ttrain-mlogloss:0.66120\n",
      "[9]\ttrain-mlogloss:0.65798\n"
     ]
    },
    {
     "name": "stderr",
     "output_type": "stream",
     "text": [
      "/Library/Frameworks/Python.framework/Versions/3.6/lib/python3.6/site-packages/mlflow/xgboost.py:333: DeprecationWarning: inspect.getargspec() is deprecated, use inspect.signature() or inspect.getfullargspec()\n",
      "  all_arg_names = inspect.getargspec(original)[0]  # pylint: disable=W1505\n"
     ]
    },
    {
     "name": "stdout",
     "output_type": "stream",
     "text": [
      "[0]\ttrain-mlogloss:0.69124\n",
      "[1]\ttrain-mlogloss:0.68935\n",
      "[2]\ttrain-mlogloss:0.68749\n",
      "[3]\ttrain-mlogloss:0.68561\n",
      "[4]\ttrain-mlogloss:0.68379\n",
      "[5]\ttrain-mlogloss:0.68197\n",
      "[6]\ttrain-mlogloss:0.68020\n",
      "[7]\ttrain-mlogloss:0.67836\n",
      "[8]\ttrain-mlogloss:0.67658\n",
      "[9]\ttrain-mlogloss:0.67483\n"
     ]
    },
    {
     "name": "stderr",
     "output_type": "stream",
     "text": [
      "/Library/Frameworks/Python.framework/Versions/3.6/lib/python3.6/site-packages/mlflow/xgboost.py:333: DeprecationWarning: inspect.getargspec() is deprecated, use inspect.signature() or inspect.getfullargspec()\n",
      "  all_arg_names = inspect.getargspec(original)[0]  # pylint: disable=W1505\n"
     ]
    },
    {
     "name": "stdout",
     "output_type": "stream",
     "text": [
      "[0]\ttrain-mlogloss:0.47926\n",
      "[1]\ttrain-mlogloss:0.43499\n",
      "[2]\ttrain-mlogloss:0.39670\n",
      "[3]\ttrain-mlogloss:0.38050\n",
      "[4]\ttrain-mlogloss:0.36815\n",
      "[5]\ttrain-mlogloss:0.35382\n",
      "[6]\ttrain-mlogloss:0.34877\n",
      "[7]\ttrain-mlogloss:0.34063\n",
      "[8]\ttrain-mlogloss:0.33498\n",
      "[9]\ttrain-mlogloss:0.33060\n"
     ]
    },
    {
     "name": "stderr",
     "output_type": "stream",
     "text": [
      "/Library/Frameworks/Python.framework/Versions/3.6/lib/python3.6/site-packages/mlflow/xgboost.py:333: DeprecationWarning: inspect.getargspec() is deprecated, use inspect.signature() or inspect.getfullargspec()\n",
      "  all_arg_names = inspect.getargspec(original)[0]  # pylint: disable=W1505\n"
     ]
    },
    {
     "name": "stdout",
     "output_type": "stream",
     "text": [
      "[0]\ttrain-mlogloss:0.59362\n",
      "[1]\ttrain-mlogloss:0.53695\n",
      "[2]\ttrain-mlogloss:0.49767\n",
      "[3]\ttrain-mlogloss:0.47135\n",
      "[4]\ttrain-mlogloss:0.45008\n",
      "[5]\ttrain-mlogloss:0.43547\n",
      "[6]\ttrain-mlogloss:0.42166\n",
      "[7]\ttrain-mlogloss:0.41165\n",
      "[8]\ttrain-mlogloss:0.40415\n",
      "[9]\ttrain-mlogloss:0.39697\n"
     ]
    },
    {
     "name": "stderr",
     "output_type": "stream",
     "text": [
      "/Library/Frameworks/Python.framework/Versions/3.6/lib/python3.6/site-packages/mlflow/xgboost.py:333: DeprecationWarning: inspect.getargspec() is deprecated, use inspect.signature() or inspect.getfullargspec()\n",
      "  all_arg_names = inspect.getargspec(original)[0]  # pylint: disable=W1505\n"
     ]
    },
    {
     "name": "stdout",
     "output_type": "stream",
     "text": [
      "[0]\ttrain-mlogloss:0.68934\n",
      "[1]\ttrain-mlogloss:0.68561\n",
      "[2]\ttrain-mlogloss:0.68196\n",
      "[3]\ttrain-mlogloss:0.67832\n",
      "[4]\ttrain-mlogloss:0.67481\n",
      "[5]\ttrain-mlogloss:0.67133\n",
      "[6]\ttrain-mlogloss:0.66796\n",
      "[7]\ttrain-mlogloss:0.66453\n",
      "[8]\ttrain-mlogloss:0.66120\n",
      "[9]\ttrain-mlogloss:0.65798\n"
     ]
    },
    {
     "name": "stderr",
     "output_type": "stream",
     "text": [
      "/Library/Frameworks/Python.framework/Versions/3.6/lib/python3.6/site-packages/mlflow/xgboost.py:333: DeprecationWarning: inspect.getargspec() is deprecated, use inspect.signature() or inspect.getfullargspec()\n",
      "  all_arg_names = inspect.getargspec(original)[0]  # pylint: disable=W1505\n"
     ]
    },
    {
     "name": "stdout",
     "output_type": "stream",
     "text": [
      "[0]\ttrain-mlogloss:0.69124\n",
      "[1]\ttrain-mlogloss:0.68935\n",
      "[2]\ttrain-mlogloss:0.68749\n",
      "[3]\ttrain-mlogloss:0.68561\n",
      "[4]\ttrain-mlogloss:0.68379\n",
      "[5]\ttrain-mlogloss:0.68197\n",
      "[6]\ttrain-mlogloss:0.68020\n",
      "[7]\ttrain-mlogloss:0.67836\n",
      "[8]\ttrain-mlogloss:0.67658\n",
      "[9]\ttrain-mlogloss:0.67483\n"
     ]
    },
    {
     "name": "stderr",
     "output_type": "stream",
     "text": [
      "/Library/Frameworks/Python.framework/Versions/3.6/lib/python3.6/site-packages/mlflow/xgboost.py:333: DeprecationWarning: inspect.getargspec() is deprecated, use inspect.signature() or inspect.getfullargspec()\n",
      "  all_arg_names = inspect.getargspec(original)[0]  # pylint: disable=W1505\n"
     ]
    },
    {
     "name": "stdout",
     "output_type": "stream",
     "text": [
      "[0]\ttrain-mlogloss:0.39330\n",
      "[1]\ttrain-mlogloss:0.34201\n",
      "[2]\ttrain-mlogloss:0.32937\n",
      "[3]\ttrain-mlogloss:0.32462\n",
      "[4]\ttrain-mlogloss:0.31961\n",
      "[5]\ttrain-mlogloss:0.31978\n",
      "[6]\ttrain-mlogloss:0.32005\n",
      "[7]\ttrain-mlogloss:0.32034\n",
      "[8]\ttrain-mlogloss:0.32667\n",
      "[9]\ttrain-mlogloss:0.32669\n"
     ]
    },
    {
     "name": "stderr",
     "output_type": "stream",
     "text": [
      "/Library/Frameworks/Python.framework/Versions/3.6/lib/python3.6/site-packages/mlflow/xgboost.py:333: DeprecationWarning: inspect.getargspec() is deprecated, use inspect.signature() or inspect.getfullargspec()\n",
      "  all_arg_names = inspect.getargspec(original)[0]  # pylint: disable=W1505\n"
     ]
    },
    {
     "name": "stdout",
     "output_type": "stream",
     "text": [
      "[0]\ttrain-mlogloss:0.54884\n",
      "[1]\ttrain-mlogloss:0.46864\n",
      "[2]\ttrain-mlogloss:0.42023\n",
      "[3]\ttrain-mlogloss:0.38826\n",
      "[4]\ttrain-mlogloss:0.36417\n",
      "[5]\ttrain-mlogloss:0.34765\n",
      "[6]\ttrain-mlogloss:0.33523\n",
      "[7]\ttrain-mlogloss:0.32558\n",
      "[8]\ttrain-mlogloss:0.32003\n",
      "[9]\ttrain-mlogloss:0.31490\n"
     ]
    },
    {
     "name": "stderr",
     "output_type": "stream",
     "text": [
      "/Library/Frameworks/Python.framework/Versions/3.6/lib/python3.6/site-packages/mlflow/xgboost.py:333: DeprecationWarning: inspect.getargspec() is deprecated, use inspect.signature() or inspect.getfullargspec()\n",
      "  all_arg_names = inspect.getargspec(original)[0]  # pylint: disable=W1505\n"
     ]
    },
    {
     "name": "stdout",
     "output_type": "stream",
     "text": [
      "[0]\ttrain-mlogloss:0.68753\n",
      "[1]\ttrain-mlogloss:0.68201\n",
      "[2]\ttrain-mlogloss:0.67668\n",
      "[3]\ttrain-mlogloss:0.67148\n",
      "[4]\ttrain-mlogloss:0.66631\n",
      "[5]\ttrain-mlogloss:0.66132\n",
      "[6]\ttrain-mlogloss:0.65626\n",
      "[7]\ttrain-mlogloss:0.65125\n",
      "[8]\ttrain-mlogloss:0.64643\n",
      "[9]\ttrain-mlogloss:0.64170\n"
     ]
    },
    {
     "name": "stderr",
     "output_type": "stream",
     "text": [
      "/Library/Frameworks/Python.framework/Versions/3.6/lib/python3.6/site-packages/mlflow/xgboost.py:333: DeprecationWarning: inspect.getargspec() is deprecated, use inspect.signature() or inspect.getfullargspec()\n",
      "  all_arg_names = inspect.getargspec(original)[0]  # pylint: disable=W1505\n"
     ]
    },
    {
     "name": "stdout",
     "output_type": "stream",
     "text": [
      "[0]\ttrain-mlogloss:0.69033\n",
      "[1]\ttrain-mlogloss:0.68754\n",
      "[2]\ttrain-mlogloss:0.68482\n",
      "[3]\ttrain-mlogloss:0.68212\n",
      "[4]\ttrain-mlogloss:0.67944\n",
      "[5]\ttrain-mlogloss:0.67681\n",
      "[6]\ttrain-mlogloss:0.67413\n",
      "[7]\ttrain-mlogloss:0.67146\n",
      "[8]\ttrain-mlogloss:0.66887\n",
      "[9]\ttrain-mlogloss:0.66629\n"
     ]
    },
    {
     "name": "stderr",
     "output_type": "stream",
     "text": [
      "/Library/Frameworks/Python.framework/Versions/3.6/lib/python3.6/site-packages/mlflow/xgboost.py:333: DeprecationWarning: inspect.getargspec() is deprecated, use inspect.signature() or inspect.getfullargspec()\n",
      "  all_arg_names = inspect.getargspec(original)[0]  # pylint: disable=W1505\n"
     ]
    },
    {
     "name": "stdout",
     "output_type": "stream",
     "text": [
      "[0]\ttrain-mlogloss:0.39306\n",
      "[1]\ttrain-mlogloss:0.34364\n",
      "[2]\ttrain-mlogloss:0.32871\n",
      "[3]\ttrain-mlogloss:0.32630\n",
      "[4]\ttrain-mlogloss:0.32033\n",
      "[5]\ttrain-mlogloss:0.32069\n",
      "[6]\ttrain-mlogloss:0.31863\n",
      "[7]\ttrain-mlogloss:0.31919\n",
      "[8]\ttrain-mlogloss:0.32326\n",
      "[9]\ttrain-mlogloss:0.32422\n"
     ]
    },
    {
     "name": "stderr",
     "output_type": "stream",
     "text": [
      "/Library/Frameworks/Python.framework/Versions/3.6/lib/python3.6/site-packages/mlflow/xgboost.py:333: DeprecationWarning: inspect.getargspec() is deprecated, use inspect.signature() or inspect.getfullargspec()\n",
      "  all_arg_names = inspect.getargspec(original)[0]  # pylint: disable=W1505\n"
     ]
    },
    {
     "name": "stdout",
     "output_type": "stream",
     "text": [
      "[0]\ttrain-mlogloss:0.54912\n",
      "[1]\ttrain-mlogloss:0.46883\n",
      "[2]\ttrain-mlogloss:0.42101\n",
      "[3]\ttrain-mlogloss:0.38981\n",
      "[4]\ttrain-mlogloss:0.36666\n",
      "[5]\ttrain-mlogloss:0.35087\n",
      "[6]\ttrain-mlogloss:0.33860\n",
      "[7]\ttrain-mlogloss:0.32872\n",
      "[8]\ttrain-mlogloss:0.32377\n",
      "[9]\ttrain-mlogloss:0.31856\n"
     ]
    },
    {
     "name": "stderr",
     "output_type": "stream",
     "text": [
      "/Library/Frameworks/Python.framework/Versions/3.6/lib/python3.6/site-packages/mlflow/xgboost.py:333: DeprecationWarning: inspect.getargspec() is deprecated, use inspect.signature() or inspect.getfullargspec()\n",
      "  all_arg_names = inspect.getargspec(original)[0]  # pylint: disable=W1505\n"
     ]
    },
    {
     "name": "stdout",
     "output_type": "stream",
     "text": [
      "[0]\ttrain-mlogloss:0.68755\n",
      "[1]\ttrain-mlogloss:0.68207\n",
      "[2]\ttrain-mlogloss:0.67675\n",
      "[3]\ttrain-mlogloss:0.67156\n",
      "[4]\ttrain-mlogloss:0.66643\n",
      "[5]\ttrain-mlogloss:0.66141\n",
      "[6]\ttrain-mlogloss:0.65635\n",
      "[7]\ttrain-mlogloss:0.65138\n",
      "[8]\ttrain-mlogloss:0.64663\n",
      "[9]\ttrain-mlogloss:0.64189\n"
     ]
    },
    {
     "name": "stderr",
     "output_type": "stream",
     "text": [
      "/Library/Frameworks/Python.framework/Versions/3.6/lib/python3.6/site-packages/mlflow/xgboost.py:333: DeprecationWarning: inspect.getargspec() is deprecated, use inspect.signature() or inspect.getfullargspec()\n",
      "  all_arg_names = inspect.getargspec(original)[0]  # pylint: disable=W1505\n"
     ]
    },
    {
     "name": "stdout",
     "output_type": "stream",
     "text": [
      "[0]\ttrain-mlogloss:0.69034\n",
      "[1]\ttrain-mlogloss:0.68757\n",
      "[2]\ttrain-mlogloss:0.68485\n",
      "[3]\ttrain-mlogloss:0.68217\n",
      "[4]\ttrain-mlogloss:0.67950\n",
      "[5]\ttrain-mlogloss:0.67686\n",
      "[6]\ttrain-mlogloss:0.67418\n",
      "[7]\ttrain-mlogloss:0.67153\n",
      "[8]\ttrain-mlogloss:0.66896\n",
      "[9]\ttrain-mlogloss:0.66639\n"
     ]
    },
    {
     "name": "stderr",
     "output_type": "stream",
     "text": [
      "/Library/Frameworks/Python.framework/Versions/3.6/lib/python3.6/site-packages/mlflow/xgboost.py:333: DeprecationWarning: inspect.getargspec() is deprecated, use inspect.signature() or inspect.getfullargspec()\n",
      "  all_arg_names = inspect.getargspec(original)[0]  # pylint: disable=W1505\n"
     ]
    },
    {
     "name": "stdout",
     "output_type": "stream",
     "text": [
      "[0]\ttrain-mlogloss:0.39991\n",
      "[1]\ttrain-mlogloss:0.34930\n",
      "[2]\ttrain-mlogloss:0.32846\n",
      "[3]\ttrain-mlogloss:0.32338\n",
      "[4]\ttrain-mlogloss:0.31861\n",
      "[5]\ttrain-mlogloss:0.31853\n",
      "[6]\ttrain-mlogloss:0.31963\n",
      "[7]\ttrain-mlogloss:0.31890\n",
      "[8]\ttrain-mlogloss:0.32062\n",
      "[9]\ttrain-mlogloss:0.32117\n"
     ]
    },
    {
     "name": "stderr",
     "output_type": "stream",
     "text": [
      "/Library/Frameworks/Python.framework/Versions/3.6/lib/python3.6/site-packages/mlflow/xgboost.py:333: DeprecationWarning: inspect.getargspec() is deprecated, use inspect.signature() or inspect.getfullargspec()\n",
      "  all_arg_names = inspect.getargspec(original)[0]  # pylint: disable=W1505\n"
     ]
    },
    {
     "name": "stdout",
     "output_type": "stream",
     "text": [
      "[0]\ttrain-mlogloss:0.55293\n",
      "[1]\ttrain-mlogloss:0.47366\n",
      "[2]\ttrain-mlogloss:0.42501\n",
      "[3]\ttrain-mlogloss:0.39440\n",
      "[4]\ttrain-mlogloss:0.36988\n",
      "[5]\ttrain-mlogloss:0.35393\n",
      "[6]\ttrain-mlogloss:0.34129\n",
      "[7]\ttrain-mlogloss:0.33123\n",
      "[8]\ttrain-mlogloss:0.32615\n",
      "[9]\ttrain-mlogloss:0.32091\n"
     ]
    },
    {
     "name": "stderr",
     "output_type": "stream",
     "text": [
      "/Library/Frameworks/Python.framework/Versions/3.6/lib/python3.6/site-packages/mlflow/xgboost.py:333: DeprecationWarning: inspect.getargspec() is deprecated, use inspect.signature() or inspect.getfullargspec()\n",
      "  all_arg_names = inspect.getargspec(original)[0]  # pylint: disable=W1505\n"
     ]
    },
    {
     "name": "stdout",
     "output_type": "stream",
     "text": [
      "[0]\ttrain-mlogloss:0.68771\n",
      "[1]\ttrain-mlogloss:0.68232\n",
      "[2]\ttrain-mlogloss:0.67715\n",
      "[3]\ttrain-mlogloss:0.67199\n",
      "[4]\ttrain-mlogloss:0.66686\n",
      "[5]\ttrain-mlogloss:0.66187\n",
      "[6]\ttrain-mlogloss:0.65691\n",
      "[7]\ttrain-mlogloss:0.65195\n",
      "[8]\ttrain-mlogloss:0.64722\n",
      "[9]\ttrain-mlogloss:0.64253\n"
     ]
    },
    {
     "name": "stderr",
     "output_type": "stream",
     "text": [
      "/Library/Frameworks/Python.framework/Versions/3.6/lib/python3.6/site-packages/mlflow/xgboost.py:333: DeprecationWarning: inspect.getargspec() is deprecated, use inspect.signature() or inspect.getfullargspec()\n",
      "  all_arg_names = inspect.getargspec(original)[0]  # pylint: disable=W1505\n"
     ]
    },
    {
     "name": "stdout",
     "output_type": "stream",
     "text": [
      "[0]\ttrain-mlogloss:0.69042\n",
      "[1]\ttrain-mlogloss:0.68772\n",
      "[2]\ttrain-mlogloss:0.68507\n",
      "[3]\ttrain-mlogloss:0.68241\n",
      "[4]\ttrain-mlogloss:0.67975\n",
      "[5]\ttrain-mlogloss:0.67713\n",
      "[6]\ttrain-mlogloss:0.67450\n",
      "[7]\ttrain-mlogloss:0.67185\n",
      "[8]\ttrain-mlogloss:0.66933\n",
      "[9]\ttrain-mlogloss:0.66678\n"
     ]
    },
    {
     "name": "stderr",
     "output_type": "stream",
     "text": [
      "/Library/Frameworks/Python.framework/Versions/3.6/lib/python3.6/site-packages/mlflow/xgboost.py:333: DeprecationWarning: inspect.getargspec() is deprecated, use inspect.signature() or inspect.getfullargspec()\n",
      "  all_arg_names = inspect.getargspec(original)[0]  # pylint: disable=W1505\n"
     ]
    },
    {
     "name": "stdout",
     "output_type": "stream",
     "text": [
      "[0]\ttrain-mlogloss:0.40366\n",
      "[1]\ttrain-mlogloss:0.34533\n",
      "[2]\ttrain-mlogloss:0.33051\n",
      "[3]\ttrain-mlogloss:0.32462\n",
      "[4]\ttrain-mlogloss:0.31762\n",
      "[5]\ttrain-mlogloss:0.31716\n",
      "[6]\ttrain-mlogloss:0.31628\n",
      "[7]\ttrain-mlogloss:0.31512\n",
      "[8]\ttrain-mlogloss:0.31641\n",
      "[9]\ttrain-mlogloss:0.31586\n"
     ]
    },
    {
     "name": "stderr",
     "output_type": "stream",
     "text": [
      "/Library/Frameworks/Python.framework/Versions/3.6/lib/python3.6/site-packages/mlflow/xgboost.py:333: DeprecationWarning: inspect.getargspec() is deprecated, use inspect.signature() or inspect.getfullargspec()\n",
      "  all_arg_names = inspect.getargspec(original)[0]  # pylint: disable=W1505\n"
     ]
    },
    {
     "name": "stdout",
     "output_type": "stream",
     "text": [
      "[0]\ttrain-mlogloss:0.55523\n",
      "[1]\ttrain-mlogloss:0.47504\n",
      "[2]\ttrain-mlogloss:0.42761\n",
      "[3]\ttrain-mlogloss:0.39608\n",
      "[4]\ttrain-mlogloss:0.37097\n",
      "[5]\ttrain-mlogloss:0.35527\n",
      "[6]\ttrain-mlogloss:0.34321\n",
      "[7]\ttrain-mlogloss:0.33387\n",
      "[8]\ttrain-mlogloss:0.32758\n",
      "[9]\ttrain-mlogloss:0.32244\n"
     ]
    },
    {
     "name": "stderr",
     "output_type": "stream",
     "text": [
      "/Library/Frameworks/Python.framework/Versions/3.6/lib/python3.6/site-packages/mlflow/xgboost.py:333: DeprecationWarning: inspect.getargspec() is deprecated, use inspect.signature() or inspect.getfullargspec()\n",
      "  all_arg_names = inspect.getargspec(original)[0]  # pylint: disable=W1505\n"
     ]
    },
    {
     "name": "stdout",
     "output_type": "stream",
     "text": [
      "[0]\ttrain-mlogloss:0.68779\n",
      "[1]\ttrain-mlogloss:0.68260\n",
      "[2]\ttrain-mlogloss:0.67756\n",
      "[3]\ttrain-mlogloss:0.67259\n",
      "[4]\ttrain-mlogloss:0.66762\n",
      "[5]\ttrain-mlogloss:0.66271\n",
      "[6]\ttrain-mlogloss:0.65785\n",
      "[7]\ttrain-mlogloss:0.65296\n",
      "[8]\ttrain-mlogloss:0.64835\n",
      "[9]\ttrain-mlogloss:0.64371\n"
     ]
    },
    {
     "name": "stderr",
     "output_type": "stream",
     "text": [
      "/Library/Frameworks/Python.framework/Versions/3.6/lib/python3.6/site-packages/mlflow/xgboost.py:333: DeprecationWarning: inspect.getargspec() is deprecated, use inspect.signature() or inspect.getfullargspec()\n",
      "  all_arg_names = inspect.getargspec(original)[0]  # pylint: disable=W1505\n"
     ]
    },
    {
     "name": "stdout",
     "output_type": "stream",
     "text": [
      "[0]\ttrain-mlogloss:0.69047\n",
      "[1]\ttrain-mlogloss:0.68783\n",
      "[2]\ttrain-mlogloss:0.68526\n",
      "[3]\ttrain-mlogloss:0.68270\n",
      "[4]\ttrain-mlogloss:0.68008\n",
      "[5]\ttrain-mlogloss:0.67750\n",
      "[6]\ttrain-mlogloss:0.67493\n",
      "[7]\ttrain-mlogloss:0.67231\n",
      "[8]\ttrain-mlogloss:0.66987\n",
      "[9]\ttrain-mlogloss:0.66734\n"
     ]
    },
    {
     "name": "stderr",
     "output_type": "stream",
     "text": [
      "/Library/Frameworks/Python.framework/Versions/3.6/lib/python3.6/site-packages/mlflow/xgboost.py:333: DeprecationWarning: inspect.getargspec() is deprecated, use inspect.signature() or inspect.getfullargspec()\n",
      "  all_arg_names = inspect.getargspec(original)[0]  # pylint: disable=W1505\n"
     ]
    },
    {
     "name": "stdout",
     "output_type": "stream",
     "text": [
      "[0]\ttrain-mlogloss:0.38572\n",
      "[1]\ttrain-mlogloss:0.34516\n",
      "[2]\ttrain-mlogloss:0.33494\n",
      "[3]\ttrain-mlogloss:0.34024\n",
      "[4]\ttrain-mlogloss:0.34609\n",
      "[5]\ttrain-mlogloss:0.35613\n",
      "[6]\ttrain-mlogloss:0.36596\n"
     ]
    },
    {
     "name": "stderr",
     "output_type": "stream",
     "text": [
      "/Library/Frameworks/Python.framework/Versions/3.6/lib/python3.6/site-packages/mlflow/xgboost.py:333: DeprecationWarning: inspect.getargspec() is deprecated, use inspect.signature() or inspect.getfullargspec()\n",
      "  all_arg_names = inspect.getargspec(original)[0]  # pylint: disable=W1505\n"
     ]
    },
    {
     "name": "stdout",
     "output_type": "stream",
     "text": [
      "[7]\ttrain-mlogloss:0.37108\n",
      "[8]\ttrain-mlogloss:0.38293\n",
      "[9]\ttrain-mlogloss:0.38634\n",
      "[0]\ttrain-mlogloss:0.54297\n",
      "[1]\ttrain-mlogloss:0.45971\n",
      "[2]\ttrain-mlogloss:0.40803\n",
      "[3]\ttrain-mlogloss:0.37511\n",
      "[4]\ttrain-mlogloss:0.34969\n",
      "[5]\ttrain-mlogloss:0.33403\n",
      "[6]\ttrain-mlogloss:0.32280\n"
     ]
    },
    {
     "name": "stderr",
     "output_type": "stream",
     "text": [
      "/Library/Frameworks/Python.framework/Versions/3.6/lib/python3.6/site-packages/mlflow/xgboost.py:333: DeprecationWarning: inspect.getargspec() is deprecated, use inspect.signature() or inspect.getfullargspec()\n",
      "  all_arg_names = inspect.getargspec(original)[0]  # pylint: disable=W1505\n"
     ]
    },
    {
     "name": "stdout",
     "output_type": "stream",
     "text": [
      "[7]\ttrain-mlogloss:0.31396\n",
      "[8]\ttrain-mlogloss:0.30908\n",
      "[9]\ttrain-mlogloss:0.30527\n",
      "[0]\ttrain-mlogloss:0.68727\n",
      "[1]\ttrain-mlogloss:0.68151\n",
      "[2]\ttrain-mlogloss:0.67603\n",
      "[3]\ttrain-mlogloss:0.67068\n",
      "[4]\ttrain-mlogloss:0.66531\n",
      "[5]\ttrain-mlogloss:0.66012\n",
      "[6]\ttrain-mlogloss:0.65487\n",
      "[7]\ttrain-mlogloss:0.64965\n"
     ]
    },
    {
     "name": "stderr",
     "output_type": "stream",
     "text": [
      "/Library/Frameworks/Python.framework/Versions/3.6/lib/python3.6/site-packages/mlflow/xgboost.py:333: DeprecationWarning: inspect.getargspec() is deprecated, use inspect.signature() or inspect.getfullargspec()\n",
      "  all_arg_names = inspect.getargspec(original)[0]  # pylint: disable=W1505\n"
     ]
    },
    {
     "name": "stdout",
     "output_type": "stream",
     "text": [
      "[8]\ttrain-mlogloss:0.64465\n",
      "[9]\ttrain-mlogloss:0.63978\n",
      "[0]\ttrain-mlogloss:0.69020\n",
      "[1]\ttrain-mlogloss:0.68728\n",
      "[2]\ttrain-mlogloss:0.68448\n",
      "[3]\ttrain-mlogloss:0.68173\n",
      "[4]\ttrain-mlogloss:0.67893\n",
      "[5]\ttrain-mlogloss:0.67621\n",
      "[6]\ttrain-mlogloss:0.67342\n"
     ]
    },
    {
     "name": "stderr",
     "output_type": "stream",
     "text": [
      "/Library/Frameworks/Python.framework/Versions/3.6/lib/python3.6/site-packages/mlflow/xgboost.py:333: DeprecationWarning: inspect.getargspec() is deprecated, use inspect.signature() or inspect.getfullargspec()\n",
      "  all_arg_names = inspect.getargspec(original)[0]  # pylint: disable=W1505\n"
     ]
    },
    {
     "name": "stdout",
     "output_type": "stream",
     "text": [
      "[7]\ttrain-mlogloss:0.67065\n",
      "[8]\ttrain-mlogloss:0.66795\n",
      "[9]\ttrain-mlogloss:0.66530\n",
      "[0]\ttrain-mlogloss:0.38975\n",
      "[1]\ttrain-mlogloss:0.34652\n",
      "[2]\ttrain-mlogloss:0.33319\n",
      "[3]\ttrain-mlogloss:0.33284\n",
      "[4]\ttrain-mlogloss:0.33184\n",
      "[5]\ttrain-mlogloss:0.33446\n",
      "[6]\ttrain-mlogloss:0.33540\n"
     ]
    },
    {
     "name": "stderr",
     "output_type": "stream",
     "text": [
      "/Library/Frameworks/Python.framework/Versions/3.6/lib/python3.6/site-packages/mlflow/xgboost.py:333: DeprecationWarning: inspect.getargspec() is deprecated, use inspect.signature() or inspect.getfullargspec()\n",
      "  all_arg_names = inspect.getargspec(original)[0]  # pylint: disable=W1505\n"
     ]
    },
    {
     "name": "stdout",
     "output_type": "stream",
     "text": [
      "[7]\ttrain-mlogloss:0.33749\n",
      "[8]\ttrain-mlogloss:0.34796\n",
      "[9]\ttrain-mlogloss:0.34692\n",
      "[0]\ttrain-mlogloss:0.54654\n",
      "[1]\ttrain-mlogloss:0.46387\n",
      "[2]\ttrain-mlogloss:0.41387\n",
      "[3]\ttrain-mlogloss:0.38075\n",
      "[4]\ttrain-mlogloss:0.35623\n",
      "[5]\ttrain-mlogloss:0.34103\n",
      "[6]\ttrain-mlogloss:0.32978\n",
      "[7]\ttrain-mlogloss:0.32088\n",
      "[8]\ttrain-mlogloss:0.31529\n"
     ]
    },
    {
     "name": "stderr",
     "output_type": "stream",
     "text": [
      "/Library/Frameworks/Python.framework/Versions/3.6/lib/python3.6/site-packages/mlflow/xgboost.py:333: DeprecationWarning: inspect.getargspec() is deprecated, use inspect.signature() or inspect.getfullargspec()\n",
      "  all_arg_names = inspect.getargspec(original)[0]  # pylint: disable=W1505\n"
     ]
    },
    {
     "name": "stdout",
     "output_type": "stream",
     "text": [
      "[9]\ttrain-mlogloss:0.31141\n",
      "[0]\ttrain-mlogloss:0.68743\n",
      "[1]\ttrain-mlogloss:0.68182\n",
      "[2]\ttrain-mlogloss:0.67638\n",
      "[3]\ttrain-mlogloss:0.67115\n",
      "[4]\ttrain-mlogloss:0.66588\n",
      "[5]\ttrain-mlogloss:0.66071\n",
      "[6]\ttrain-mlogloss:0.65553\n",
      "[7]\ttrain-mlogloss:0.65046\n",
      "[8]\ttrain-mlogloss:0.64560\n"
     ]
    },
    {
     "name": "stderr",
     "output_type": "stream",
     "text": [
      "/Library/Frameworks/Python.framework/Versions/3.6/lib/python3.6/site-packages/mlflow/xgboost.py:333: DeprecationWarning: inspect.getargspec() is deprecated, use inspect.signature() or inspect.getfullargspec()\n",
      "  all_arg_names = inspect.getargspec(original)[0]  # pylint: disable=W1505\n"
     ]
    },
    {
     "name": "stdout",
     "output_type": "stream",
     "text": [
      "[9]\ttrain-mlogloss:0.64076\n",
      "[0]\ttrain-mlogloss:0.69028\n",
      "[1]\ttrain-mlogloss:0.68744\n",
      "[2]\ttrain-mlogloss:0.68466\n",
      "[3]\ttrain-mlogloss:0.68196\n",
      "[4]\ttrain-mlogloss:0.67923\n",
      "[5]\ttrain-mlogloss:0.67651\n",
      "[6]\ttrain-mlogloss:0.67378\n",
      "[7]\ttrain-mlogloss:0.67107\n",
      "[8]\ttrain-mlogloss:0.66844\n"
     ]
    },
    {
     "name": "stderr",
     "output_type": "stream",
     "text": [
      "/Library/Frameworks/Python.framework/Versions/3.6/lib/python3.6/site-packages/mlflow/xgboost.py:333: DeprecationWarning: inspect.getargspec() is deprecated, use inspect.signature() or inspect.getfullargspec()\n",
      "  all_arg_names = inspect.getargspec(original)[0]  # pylint: disable=W1505\n"
     ]
    },
    {
     "name": "stdout",
     "output_type": "stream",
     "text": [
      "[9]\ttrain-mlogloss:0.66582\n",
      "[0]\ttrain-mlogloss:0.39489\n",
      "[1]\ttrain-mlogloss:0.34245\n",
      "[2]\ttrain-mlogloss:0.32878\n",
      "[3]\ttrain-mlogloss:0.32756\n",
      "[4]\ttrain-mlogloss:0.32536\n",
      "[5]\ttrain-mlogloss:0.32521\n",
      "[6]\ttrain-mlogloss:0.32728\n",
      "[7]\ttrain-mlogloss:0.32718\n",
      "[8]\ttrain-mlogloss:0.33195\n",
      "[9]\ttrain-mlogloss:0.33353\n"
     ]
    },
    {
     "name": "stderr",
     "output_type": "stream",
     "text": [
      "/Library/Frameworks/Python.framework/Versions/3.6/lib/python3.6/site-packages/mlflow/xgboost.py:333: DeprecationWarning: inspect.getargspec() is deprecated, use inspect.signature() or inspect.getfullargspec()\n",
      "  all_arg_names = inspect.getargspec(original)[0]  # pylint: disable=W1505\n"
     ]
    },
    {
     "name": "stdout",
     "output_type": "stream",
     "text": [
      "[0]\ttrain-mlogloss:0.55044\n",
      "[1]\ttrain-mlogloss:0.46774\n",
      "[2]\ttrain-mlogloss:0.41785\n",
      "[3]\ttrain-mlogloss:0.38572\n",
      "[4]\ttrain-mlogloss:0.36013\n",
      "[5]\ttrain-mlogloss:0.34410\n",
      "[6]\ttrain-mlogloss:0.33294\n",
      "[7]\ttrain-mlogloss:0.32433\n",
      "[8]\ttrain-mlogloss:0.31883\n",
      "[9]\ttrain-mlogloss:0.31408\n"
     ]
    },
    {
     "name": "stderr",
     "output_type": "stream",
     "text": [
      "/Library/Frameworks/Python.framework/Versions/3.6/lib/python3.6/site-packages/mlflow/xgboost.py:333: DeprecationWarning: inspect.getargspec() is deprecated, use inspect.signature() or inspect.getfullargspec()\n",
      "  all_arg_names = inspect.getargspec(original)[0]  # pylint: disable=W1505\n"
     ]
    },
    {
     "name": "stdout",
     "output_type": "stream",
     "text": [
      "[0]\ttrain-mlogloss:0.68760\n",
      "[1]\ttrain-mlogloss:0.68213\n",
      "[2]\ttrain-mlogloss:0.67690\n",
      "[3]\ttrain-mlogloss:0.67173\n",
      "[4]\ttrain-mlogloss:0.66654\n",
      "[5]\ttrain-mlogloss:0.66141\n",
      "[6]\ttrain-mlogloss:0.65634\n",
      "[7]\ttrain-mlogloss:0.65128\n",
      "[8]\ttrain-mlogloss:0.64646\n"
     ]
    },
    {
     "name": "stderr",
     "output_type": "stream",
     "text": [
      "/Library/Frameworks/Python.framework/Versions/3.6/lib/python3.6/site-packages/mlflow/xgboost.py:333: DeprecationWarning: inspect.getargspec() is deprecated, use inspect.signature() or inspect.getfullargspec()\n",
      "  all_arg_names = inspect.getargspec(original)[0]  # pylint: disable=W1505\n"
     ]
    },
    {
     "name": "stdout",
     "output_type": "stream",
     "text": [
      "[9]\ttrain-mlogloss:0.64167\n",
      "[0]\ttrain-mlogloss:0.69037\n",
      "[1]\ttrain-mlogloss:0.68762\n",
      "[2]\ttrain-mlogloss:0.68495\n",
      "[3]\ttrain-mlogloss:0.68229\n",
      "[4]\ttrain-mlogloss:0.67958\n",
      "[5]\ttrain-mlogloss:0.67690\n",
      "[6]\ttrain-mlogloss:0.67421\n",
      "[7]\ttrain-mlogloss:0.67150\n",
      "[8]\ttrain-mlogloss:0.66893\n"
     ]
    },
    {
     "name": "stderr",
     "output_type": "stream",
     "text": [
      "/Library/Frameworks/Python.framework/Versions/3.6/lib/python3.6/site-packages/mlflow/xgboost.py:333: DeprecationWarning: inspect.getargspec() is deprecated, use inspect.signature() or inspect.getfullargspec()\n",
      "  all_arg_names = inspect.getargspec(original)[0]  # pylint: disable=W1505\n"
     ]
    },
    {
     "name": "stdout",
     "output_type": "stream",
     "text": [
      "[9]\ttrain-mlogloss:0.66633\n",
      "[0]\ttrain-mlogloss:0.40043\n",
      "[1]\ttrain-mlogloss:0.34343\n",
      "[2]\ttrain-mlogloss:0.32960\n",
      "[3]\ttrain-mlogloss:0.32539\n",
      "[4]\ttrain-mlogloss:0.32332\n",
      "[5]\ttrain-mlogloss:0.32430\n",
      "[6]\ttrain-mlogloss:0.32485\n",
      "[7]\ttrain-mlogloss:0.32498\n",
      "[8]\ttrain-mlogloss:0.32727\n",
      "[9]\ttrain-mlogloss:0.32784\n"
     ]
    },
    {
     "name": "stderr",
     "output_type": "stream",
     "text": [
      "/Library/Frameworks/Python.framework/Versions/3.6/lib/python3.6/site-packages/mlflow/xgboost.py:333: DeprecationWarning: inspect.getargspec() is deprecated, use inspect.signature() or inspect.getfullargspec()\n",
      "  all_arg_names = inspect.getargspec(original)[0]  # pylint: disable=W1505\n"
     ]
    },
    {
     "name": "stdout",
     "output_type": "stream",
     "text": [
      "[0]\ttrain-mlogloss:0.55368\n",
      "[1]\ttrain-mlogloss:0.47145\n",
      "[2]\ttrain-mlogloss:0.42290\n",
      "[3]\ttrain-mlogloss:0.39058\n",
      "[4]\ttrain-mlogloss:0.36453\n",
      "[5]\ttrain-mlogloss:0.34736\n",
      "[6]\ttrain-mlogloss:0.33576\n",
      "[7]\ttrain-mlogloss:0.32738\n",
      "[8]\ttrain-mlogloss:0.32274\n",
      "[9]\ttrain-mlogloss:0.31755\n"
     ]
    },
    {
     "name": "stderr",
     "output_type": "stream",
     "text": [
      "/Library/Frameworks/Python.framework/Versions/3.6/lib/python3.6/site-packages/mlflow/xgboost.py:333: DeprecationWarning: inspect.getargspec() is deprecated, use inspect.signature() or inspect.getfullargspec()\n",
      "  all_arg_names = inspect.getargspec(original)[0]  # pylint: disable=W1505\n"
     ]
    },
    {
     "name": "stdout",
     "output_type": "stream",
     "text": [
      "[0]\ttrain-mlogloss:0.68773\n",
      "[1]\ttrain-mlogloss:0.68249\n",
      "[2]\ttrain-mlogloss:0.67739\n",
      "[3]\ttrain-mlogloss:0.67242\n",
      "[4]\ttrain-mlogloss:0.66736\n",
      "[5]\ttrain-mlogloss:0.66236\n",
      "[6]\ttrain-mlogloss:0.65741\n",
      "[7]\ttrain-mlogloss:0.65249\n",
      "[8]\ttrain-mlogloss:0.64785\n",
      "[9]\ttrain-mlogloss:0.64314\n"
     ]
    },
    {
     "name": "stderr",
     "output_type": "stream",
     "text": [
      "/Library/Frameworks/Python.framework/Versions/3.6/lib/python3.6/site-packages/mlflow/xgboost.py:333: DeprecationWarning: inspect.getargspec() is deprecated, use inspect.signature() or inspect.getfullargspec()\n",
      "  all_arg_names = inspect.getargspec(original)[0]  # pylint: disable=W1505\n"
     ]
    },
    {
     "name": "stdout",
     "output_type": "stream",
     "text": [
      "[0]\ttrain-mlogloss:0.69044\n",
      "[1]\ttrain-mlogloss:0.68777\n",
      "[2]\ttrain-mlogloss:0.68518\n",
      "[3]\ttrain-mlogloss:0.68261\n",
      "[4]\ttrain-mlogloss:0.67999\n",
      "[5]\ttrain-mlogloss:0.67736\n",
      "[6]\ttrain-mlogloss:0.67475\n",
      "[7]\ttrain-mlogloss:0.67209\n",
      "[8]\ttrain-mlogloss:0.66963\n"
     ]
    },
    {
     "name": "stderr",
     "output_type": "stream",
     "text": [
      "/Library/Frameworks/Python.framework/Versions/3.6/lib/python3.6/site-packages/mlflow/xgboost.py:333: DeprecationWarning: inspect.getargspec() is deprecated, use inspect.signature() or inspect.getfullargspec()\n",
      "  all_arg_names = inspect.getargspec(original)[0]  # pylint: disable=W1505\n"
     ]
    },
    {
     "name": "stdout",
     "output_type": "stream",
     "text": [
      "[9]\ttrain-mlogloss:0.66707\n",
      "[0]\ttrain-mlogloss:0.49011\n",
      "[1]\ttrain-mlogloss:0.43253\n",
      "[2]\ttrain-mlogloss:0.39726\n",
      "[3]\ttrain-mlogloss:0.37644\n",
      "[4]\ttrain-mlogloss:0.36613\n",
      "[5]\ttrain-mlogloss:0.35632\n",
      "[6]\ttrain-mlogloss:0.34694\n",
      "[7]\ttrain-mlogloss:0.33944\n",
      "[8]\ttrain-mlogloss:0.33460\n",
      "[9]\ttrain-mlogloss:0.33097\n"
     ]
    },
    {
     "name": "stderr",
     "output_type": "stream",
     "text": [
      "/Library/Frameworks/Python.framework/Versions/3.6/lib/python3.6/site-packages/mlflow/xgboost.py:333: DeprecationWarning: inspect.getargspec() is deprecated, use inspect.signature() or inspect.getfullargspec()\n",
      "  all_arg_names = inspect.getargspec(original)[0]  # pylint: disable=W1505\n"
     ]
    },
    {
     "name": "stdout",
     "output_type": "stream",
     "text": [
      "[0]\ttrain-mlogloss:0.59448\n",
      "[1]\ttrain-mlogloss:0.53447\n",
      "[2]\ttrain-mlogloss:0.49733\n",
      "[3]\ttrain-mlogloss:0.46914\n",
      "[4]\ttrain-mlogloss:0.45038\n",
      "[5]\ttrain-mlogloss:0.43607\n",
      "[6]\ttrain-mlogloss:0.42425\n",
      "[7]\ttrain-mlogloss:0.41402\n",
      "[8]\ttrain-mlogloss:0.40580\n",
      "[9]\ttrain-mlogloss:0.39957\n"
     ]
    },
    {
     "name": "stderr",
     "output_type": "stream",
     "text": [
      "/Library/Frameworks/Python.framework/Versions/3.6/lib/python3.6/site-packages/mlflow/xgboost.py:333: DeprecationWarning: inspect.getargspec() is deprecated, use inspect.signature() or inspect.getfullargspec()\n",
      "  all_arg_names = inspect.getargspec(original)[0]  # pylint: disable=W1505\n"
     ]
    },
    {
     "name": "stdout",
     "output_type": "stream",
     "text": [
      "[0]\ttrain-mlogloss:0.68931\n",
      "[1]\ttrain-mlogloss:0.68554\n",
      "[2]\ttrain-mlogloss:0.68185\n",
      "[3]\ttrain-mlogloss:0.67822\n",
      "[4]\ttrain-mlogloss:0.67467\n",
      "[5]\ttrain-mlogloss:0.67119\n",
      "[6]\ttrain-mlogloss:0.66777\n",
      "[7]\ttrain-mlogloss:0.66443\n",
      "[8]\ttrain-mlogloss:0.66113\n",
      "[9]\ttrain-mlogloss:0.65791\n"
     ]
    },
    {
     "name": "stderr",
     "output_type": "stream",
     "text": [
      "/Library/Frameworks/Python.framework/Versions/3.6/lib/python3.6/site-packages/mlflow/xgboost.py:333: DeprecationWarning: inspect.getargspec() is deprecated, use inspect.signature() or inspect.getfullargspec()\n",
      "  all_arg_names = inspect.getargspec(original)[0]  # pylint: disable=W1505\n"
     ]
    },
    {
     "name": "stdout",
     "output_type": "stream",
     "text": [
      "[0]\ttrain-mlogloss:0.69122\n",
      "[1]\ttrain-mlogloss:0.68931\n",
      "[2]\ttrain-mlogloss:0.68743\n",
      "[3]\ttrain-mlogloss:0.68556\n",
      "[4]\ttrain-mlogloss:0.68370\n",
      "[5]\ttrain-mlogloss:0.68187\n",
      "[6]\ttrain-mlogloss:0.68005\n",
      "[7]\ttrain-mlogloss:0.67824\n",
      "[8]\ttrain-mlogloss:0.67648\n",
      "[9]\ttrain-mlogloss:0.67471\n"
     ]
    },
    {
     "name": "stderr",
     "output_type": "stream",
     "text": [
      "/Library/Frameworks/Python.framework/Versions/3.6/lib/python3.6/site-packages/mlflow/xgboost.py:333: DeprecationWarning: inspect.getargspec() is deprecated, use inspect.signature() or inspect.getfullargspec()\n",
      "  all_arg_names = inspect.getargspec(original)[0]  # pylint: disable=W1505\n"
     ]
    },
    {
     "name": "stdout",
     "output_type": "stream",
     "text": [
      "[0]\ttrain-mlogloss:0.49011\n",
      "[1]\ttrain-mlogloss:0.43253\n",
      "[2]\ttrain-mlogloss:0.39726\n",
      "[3]\ttrain-mlogloss:0.37644\n",
      "[4]\ttrain-mlogloss:0.36613\n",
      "[5]\ttrain-mlogloss:0.35632\n",
      "[6]\ttrain-mlogloss:0.34694\n",
      "[7]\ttrain-mlogloss:0.33944\n",
      "[8]\ttrain-mlogloss:0.33460\n",
      "[9]\ttrain-mlogloss:0.33097\n"
     ]
    },
    {
     "name": "stderr",
     "output_type": "stream",
     "text": [
      "/Library/Frameworks/Python.framework/Versions/3.6/lib/python3.6/site-packages/mlflow/xgboost.py:333: DeprecationWarning: inspect.getargspec() is deprecated, use inspect.signature() or inspect.getfullargspec()\n",
      "  all_arg_names = inspect.getargspec(original)[0]  # pylint: disable=W1505\n"
     ]
    },
    {
     "name": "stdout",
     "output_type": "stream",
     "text": [
      "[0]\ttrain-mlogloss:0.59448\n",
      "[1]\ttrain-mlogloss:0.53447\n",
      "[2]\ttrain-mlogloss:0.49733\n",
      "[3]\ttrain-mlogloss:0.46914\n",
      "[4]\ttrain-mlogloss:0.45038\n",
      "[5]\ttrain-mlogloss:0.43607\n",
      "[6]\ttrain-mlogloss:0.42425\n",
      "[7]\ttrain-mlogloss:0.41402\n",
      "[8]\ttrain-mlogloss:0.40580\n",
      "[9]\ttrain-mlogloss:0.39957\n"
     ]
    },
    {
     "name": "stderr",
     "output_type": "stream",
     "text": [
      "/Library/Frameworks/Python.framework/Versions/3.6/lib/python3.6/site-packages/mlflow/xgboost.py:333: DeprecationWarning: inspect.getargspec() is deprecated, use inspect.signature() or inspect.getfullargspec()\n",
      "  all_arg_names = inspect.getargspec(original)[0]  # pylint: disable=W1505\n"
     ]
    },
    {
     "name": "stdout",
     "output_type": "stream",
     "text": [
      "[0]\ttrain-mlogloss:0.68931\n",
      "[1]\ttrain-mlogloss:0.68554\n",
      "[2]\ttrain-mlogloss:0.68185\n",
      "[3]\ttrain-mlogloss:0.67822\n",
      "[4]\ttrain-mlogloss:0.67467\n",
      "[5]\ttrain-mlogloss:0.67119\n",
      "[6]\ttrain-mlogloss:0.66777\n",
      "[7]\ttrain-mlogloss:0.66443\n",
      "[8]\ttrain-mlogloss:0.66113\n",
      "[9]\ttrain-mlogloss:0.65791\n"
     ]
    },
    {
     "name": "stderr",
     "output_type": "stream",
     "text": [
      "/Library/Frameworks/Python.framework/Versions/3.6/lib/python3.6/site-packages/mlflow/xgboost.py:333: DeprecationWarning: inspect.getargspec() is deprecated, use inspect.signature() or inspect.getfullargspec()\n",
      "  all_arg_names = inspect.getargspec(original)[0]  # pylint: disable=W1505\n"
     ]
    },
    {
     "name": "stdout",
     "output_type": "stream",
     "text": [
      "[0]\ttrain-mlogloss:0.69122\n",
      "[1]\ttrain-mlogloss:0.68931\n",
      "[2]\ttrain-mlogloss:0.68743\n",
      "[3]\ttrain-mlogloss:0.68556\n",
      "[4]\ttrain-mlogloss:0.68370\n",
      "[5]\ttrain-mlogloss:0.68187\n",
      "[6]\ttrain-mlogloss:0.68005\n",
      "[7]\ttrain-mlogloss:0.67824\n",
      "[8]\ttrain-mlogloss:0.67648\n",
      "[9]\ttrain-mlogloss:0.67471\n"
     ]
    },
    {
     "name": "stderr",
     "output_type": "stream",
     "text": [
      "/Library/Frameworks/Python.framework/Versions/3.6/lib/python3.6/site-packages/mlflow/xgboost.py:333: DeprecationWarning: inspect.getargspec() is deprecated, use inspect.signature() or inspect.getfullargspec()\n",
      "  all_arg_names = inspect.getargspec(original)[0]  # pylint: disable=W1505\n"
     ]
    },
    {
     "name": "stdout",
     "output_type": "stream",
     "text": [
      "[0]\ttrain-mlogloss:0.49011\n",
      "[1]\ttrain-mlogloss:0.43253\n",
      "[2]\ttrain-mlogloss:0.39726\n",
      "[3]\ttrain-mlogloss:0.37644\n",
      "[4]\ttrain-mlogloss:0.36613\n",
      "[5]\ttrain-mlogloss:0.35632\n",
      "[6]\ttrain-mlogloss:0.34694\n",
      "[7]\ttrain-mlogloss:0.33944\n",
      "[8]\ttrain-mlogloss:0.33460\n",
      "[9]\ttrain-mlogloss:0.33097\n"
     ]
    },
    {
     "name": "stderr",
     "output_type": "stream",
     "text": [
      "/Library/Frameworks/Python.framework/Versions/3.6/lib/python3.6/site-packages/mlflow/xgboost.py:333: DeprecationWarning: inspect.getargspec() is deprecated, use inspect.signature() or inspect.getfullargspec()\n",
      "  all_arg_names = inspect.getargspec(original)[0]  # pylint: disable=W1505\n"
     ]
    },
    {
     "name": "stdout",
     "output_type": "stream",
     "text": [
      "[0]\ttrain-mlogloss:0.59448\n",
      "[1]\ttrain-mlogloss:0.53447\n",
      "[2]\ttrain-mlogloss:0.49733\n",
      "[3]\ttrain-mlogloss:0.46914\n",
      "[4]\ttrain-mlogloss:0.45038\n",
      "[5]\ttrain-mlogloss:0.43607\n",
      "[6]\ttrain-mlogloss:0.42425\n",
      "[7]\ttrain-mlogloss:0.41402\n",
      "[8]\ttrain-mlogloss:0.40580\n",
      "[9]\ttrain-mlogloss:0.39957\n"
     ]
    },
    {
     "name": "stderr",
     "output_type": "stream",
     "text": [
      "/Library/Frameworks/Python.framework/Versions/3.6/lib/python3.6/site-packages/mlflow/xgboost.py:333: DeprecationWarning: inspect.getargspec() is deprecated, use inspect.signature() or inspect.getfullargspec()\n",
      "  all_arg_names = inspect.getargspec(original)[0]  # pylint: disable=W1505\n"
     ]
    },
    {
     "name": "stdout",
     "output_type": "stream",
     "text": [
      "[0]\ttrain-mlogloss:0.68931\n",
      "[1]\ttrain-mlogloss:0.68554\n",
      "[2]\ttrain-mlogloss:0.68185\n",
      "[3]\ttrain-mlogloss:0.67822\n",
      "[4]\ttrain-mlogloss:0.67467\n",
      "[5]\ttrain-mlogloss:0.67119\n",
      "[6]\ttrain-mlogloss:0.66777\n",
      "[7]\ttrain-mlogloss:0.66443\n",
      "[8]\ttrain-mlogloss:0.66113\n",
      "[9]\ttrain-mlogloss:0.65791\n"
     ]
    },
    {
     "name": "stderr",
     "output_type": "stream",
     "text": [
      "/Library/Frameworks/Python.framework/Versions/3.6/lib/python3.6/site-packages/mlflow/xgboost.py:333: DeprecationWarning: inspect.getargspec() is deprecated, use inspect.signature() or inspect.getfullargspec()\n",
      "  all_arg_names = inspect.getargspec(original)[0]  # pylint: disable=W1505\n"
     ]
    },
    {
     "name": "stdout",
     "output_type": "stream",
     "text": [
      "[0]\ttrain-mlogloss:0.69122\n",
      "[1]\ttrain-mlogloss:0.68931\n",
      "[2]\ttrain-mlogloss:0.68743\n",
      "[3]\ttrain-mlogloss:0.68556\n",
      "[4]\ttrain-mlogloss:0.68370\n",
      "[5]\ttrain-mlogloss:0.68187\n",
      "[6]\ttrain-mlogloss:0.68005\n",
      "[7]\ttrain-mlogloss:0.67824\n",
      "[8]\ttrain-mlogloss:0.67648\n",
      "[9]\ttrain-mlogloss:0.67471\n"
     ]
    },
    {
     "name": "stderr",
     "output_type": "stream",
     "text": [
      "/Library/Frameworks/Python.framework/Versions/3.6/lib/python3.6/site-packages/mlflow/xgboost.py:333: DeprecationWarning: inspect.getargspec() is deprecated, use inspect.signature() or inspect.getfullargspec()\n",
      "  all_arg_names = inspect.getargspec(original)[0]  # pylint: disable=W1505\n"
     ]
    },
    {
     "name": "stdout",
     "output_type": "stream",
     "text": [
      "[0]\ttrain-mlogloss:0.49011\n",
      "[1]\ttrain-mlogloss:0.43253\n",
      "[2]\ttrain-mlogloss:0.39726\n",
      "[3]\ttrain-mlogloss:0.37644\n",
      "[4]\ttrain-mlogloss:0.36613\n",
      "[5]\ttrain-mlogloss:0.35632\n",
      "[6]\ttrain-mlogloss:0.34694\n",
      "[7]\ttrain-mlogloss:0.33944\n",
      "[8]\ttrain-mlogloss:0.33460\n",
      "[9]\ttrain-mlogloss:0.33097\n"
     ]
    },
    {
     "name": "stderr",
     "output_type": "stream",
     "text": [
      "/Library/Frameworks/Python.framework/Versions/3.6/lib/python3.6/site-packages/mlflow/xgboost.py:333: DeprecationWarning: inspect.getargspec() is deprecated, use inspect.signature() or inspect.getfullargspec()\n",
      "  all_arg_names = inspect.getargspec(original)[0]  # pylint: disable=W1505\n"
     ]
    },
    {
     "name": "stdout",
     "output_type": "stream",
     "text": [
      "[0]\ttrain-mlogloss:0.59448\n",
      "[1]\ttrain-mlogloss:0.53447\n",
      "[2]\ttrain-mlogloss:0.49733\n",
      "[3]\ttrain-mlogloss:0.46914\n",
      "[4]\ttrain-mlogloss:0.45038\n",
      "[5]\ttrain-mlogloss:0.43607\n",
      "[6]\ttrain-mlogloss:0.42425\n",
      "[7]\ttrain-mlogloss:0.41402\n",
      "[8]\ttrain-mlogloss:0.40580\n",
      "[9]\ttrain-mlogloss:0.39957\n"
     ]
    },
    {
     "name": "stderr",
     "output_type": "stream",
     "text": [
      "/Library/Frameworks/Python.framework/Versions/3.6/lib/python3.6/site-packages/mlflow/xgboost.py:333: DeprecationWarning: inspect.getargspec() is deprecated, use inspect.signature() or inspect.getfullargspec()\n",
      "  all_arg_names = inspect.getargspec(original)[0]  # pylint: disable=W1505\n"
     ]
    },
    {
     "name": "stdout",
     "output_type": "stream",
     "text": [
      "[0]\ttrain-mlogloss:0.68931\n",
      "[1]\ttrain-mlogloss:0.68554\n",
      "[2]\ttrain-mlogloss:0.68185\n",
      "[3]\ttrain-mlogloss:0.67822\n",
      "[4]\ttrain-mlogloss:0.67467\n",
      "[5]\ttrain-mlogloss:0.67119\n",
      "[6]\ttrain-mlogloss:0.66777\n",
      "[7]\ttrain-mlogloss:0.66443\n",
      "[8]\ttrain-mlogloss:0.66113\n",
      "[9]\ttrain-mlogloss:0.65791\n"
     ]
    },
    {
     "name": "stderr",
     "output_type": "stream",
     "text": [
      "/Library/Frameworks/Python.framework/Versions/3.6/lib/python3.6/site-packages/mlflow/xgboost.py:333: DeprecationWarning: inspect.getargspec() is deprecated, use inspect.signature() or inspect.getfullargspec()\n",
      "  all_arg_names = inspect.getargspec(original)[0]  # pylint: disable=W1505\n"
     ]
    },
    {
     "name": "stdout",
     "output_type": "stream",
     "text": [
      "[0]\ttrain-mlogloss:0.69122\n",
      "[1]\ttrain-mlogloss:0.68931\n",
      "[2]\ttrain-mlogloss:0.68743\n",
      "[3]\ttrain-mlogloss:0.68556\n",
      "[4]\ttrain-mlogloss:0.68370\n",
      "[5]\ttrain-mlogloss:0.68187\n",
      "[6]\ttrain-mlogloss:0.68005\n",
      "[7]\ttrain-mlogloss:0.67824\n",
      "[8]\ttrain-mlogloss:0.67648\n",
      "[9]\ttrain-mlogloss:0.67471\n"
     ]
    },
    {
     "name": "stderr",
     "output_type": "stream",
     "text": [
      "/Library/Frameworks/Python.framework/Versions/3.6/lib/python3.6/site-packages/mlflow/xgboost.py:333: DeprecationWarning: inspect.getargspec() is deprecated, use inspect.signature() or inspect.getfullargspec()\n",
      "  all_arg_names = inspect.getargspec(original)[0]  # pylint: disable=W1505\n"
     ]
    },
    {
     "name": "stdout",
     "output_type": "stream",
     "text": [
      "[0]\ttrain-mlogloss:0.38609\n",
      "[1]\ttrain-mlogloss:0.33238\n",
      "[2]\ttrain-mlogloss:0.31377\n",
      "[3]\ttrain-mlogloss:0.30331\n",
      "[4]\ttrain-mlogloss:0.29346\n",
      "[5]\ttrain-mlogloss:0.28805\n",
      "[6]\ttrain-mlogloss:0.28370\n",
      "[7]\ttrain-mlogloss:0.27815\n",
      "[8]\ttrain-mlogloss:0.27504\n"
     ]
    },
    {
     "name": "stderr",
     "output_type": "stream",
     "text": [
      "/Library/Frameworks/Python.framework/Versions/3.6/lib/python3.6/site-packages/mlflow/xgboost.py:333: DeprecationWarning: inspect.getargspec() is deprecated, use inspect.signature() or inspect.getfullargspec()\n",
      "  all_arg_names = inspect.getargspec(original)[0]  # pylint: disable=W1505\n"
     ]
    },
    {
     "name": "stdout",
     "output_type": "stream",
     "text": [
      "[9]\ttrain-mlogloss:0.27202\n",
      "[0]\ttrain-mlogloss:0.54586\n",
      "[1]\ttrain-mlogloss:0.46480\n",
      "[2]\ttrain-mlogloss:0.41264\n",
      "[3]\ttrain-mlogloss:0.37998\n",
      "[4]\ttrain-mlogloss:0.35757\n",
      "[5]\ttrain-mlogloss:0.34221\n",
      "[6]\ttrain-mlogloss:0.33057\n",
      "[7]\ttrain-mlogloss:0.32132\n"
     ]
    },
    {
     "name": "stderr",
     "output_type": "stream",
     "text": [
      "/Library/Frameworks/Python.framework/Versions/3.6/lib/python3.6/site-packages/mlflow/xgboost.py:333: DeprecationWarning: inspect.getargspec() is deprecated, use inspect.signature() or inspect.getfullargspec()\n",
      "  all_arg_names = inspect.getargspec(original)[0]  # pylint: disable=W1505\n"
     ]
    },
    {
     "name": "stdout",
     "output_type": "stream",
     "text": [
      "[8]\ttrain-mlogloss:0.31277\n",
      "[9]\ttrain-mlogloss:0.30647\n",
      "[0]\ttrain-mlogloss:0.68742\n",
      "[1]\ttrain-mlogloss:0.68179\n",
      "[2]\ttrain-mlogloss:0.67629\n",
      "[3]\ttrain-mlogloss:0.67088\n",
      "[4]\ttrain-mlogloss:0.66558\n",
      "[5]\ttrain-mlogloss:0.66039\n",
      "[6]\ttrain-mlogloss:0.65529\n",
      "[7]\ttrain-mlogloss:0.65025\n",
      "[8]\ttrain-mlogloss:0.64528\n"
     ]
    },
    {
     "name": "stderr",
     "output_type": "stream",
     "text": [
      "/Library/Frameworks/Python.framework/Versions/3.6/lib/python3.6/site-packages/mlflow/xgboost.py:333: DeprecationWarning: inspect.getargspec() is deprecated, use inspect.signature() or inspect.getfullargspec()\n",
      "  all_arg_names = inspect.getargspec(original)[0]  # pylint: disable=W1505\n"
     ]
    },
    {
     "name": "stdout",
     "output_type": "stream",
     "text": [
      "[9]\ttrain-mlogloss:0.64041\n",
      "[0]\ttrain-mlogloss:0.69027\n",
      "[1]\ttrain-mlogloss:0.68743\n",
      "[2]\ttrain-mlogloss:0.68461\n",
      "[3]\ttrain-mlogloss:0.68183\n",
      "[4]\ttrain-mlogloss:0.67906\n",
      "[5]\ttrain-mlogloss:0.67632\n",
      "[6]\ttrain-mlogloss:0.67361\n",
      "[7]\ttrain-mlogloss:0.67093\n",
      "[8]\ttrain-mlogloss:0.66828\n"
     ]
    },
    {
     "name": "stderr",
     "output_type": "stream",
     "text": [
      "/Library/Frameworks/Python.framework/Versions/3.6/lib/python3.6/site-packages/mlflow/xgboost.py:333: DeprecationWarning: inspect.getargspec() is deprecated, use inspect.signature() or inspect.getfullargspec()\n",
      "  all_arg_names = inspect.getargspec(original)[0]  # pylint: disable=W1505\n"
     ]
    },
    {
     "name": "stdout",
     "output_type": "stream",
     "text": [
      "[9]\ttrain-mlogloss:0.66565\n",
      "[0]\ttrain-mlogloss:0.38641\n",
      "[1]\ttrain-mlogloss:0.33291\n",
      "[2]\ttrain-mlogloss:0.31462\n",
      "[3]\ttrain-mlogloss:0.30362\n",
      "[4]\ttrain-mlogloss:0.29955\n",
      "[5]\ttrain-mlogloss:0.29625\n",
      "[6]\ttrain-mlogloss:0.29063\n",
      "[7]\ttrain-mlogloss:0.28392\n"
     ]
    },
    {
     "name": "stderr",
     "output_type": "stream",
     "text": [
      "/Library/Frameworks/Python.framework/Versions/3.6/lib/python3.6/site-packages/mlflow/xgboost.py:333: DeprecationWarning: inspect.getargspec() is deprecated, use inspect.signature() or inspect.getfullargspec()\n",
      "  all_arg_names = inspect.getargspec(original)[0]  # pylint: disable=W1505\n"
     ]
    },
    {
     "name": "stdout",
     "output_type": "stream",
     "text": [
      "[8]\ttrain-mlogloss:0.27826\n",
      "[9]\ttrain-mlogloss:0.27594\n",
      "[0]\ttrain-mlogloss:0.54601\n",
      "[1]\ttrain-mlogloss:0.46498\n",
      "[2]\ttrain-mlogloss:0.41279\n",
      "[3]\ttrain-mlogloss:0.38028\n",
      "[4]\ttrain-mlogloss:0.35798\n",
      "[5]\ttrain-mlogloss:0.34222\n",
      "[6]\ttrain-mlogloss:0.33113\n"
     ]
    },
    {
     "name": "stderr",
     "output_type": "stream",
     "text": [
      "/Library/Frameworks/Python.framework/Versions/3.6/lib/python3.6/site-packages/mlflow/xgboost.py:333: DeprecationWarning: inspect.getargspec() is deprecated, use inspect.signature() or inspect.getfullargspec()\n",
      "  all_arg_names = inspect.getargspec(original)[0]  # pylint: disable=W1505\n"
     ]
    },
    {
     "name": "stdout",
     "output_type": "stream",
     "text": [
      "[7]\ttrain-mlogloss:0.32253\n",
      "[8]\ttrain-mlogloss:0.31408\n",
      "[9]\ttrain-mlogloss:0.30748\n",
      "[0]\ttrain-mlogloss:0.68742\n",
      "[1]\ttrain-mlogloss:0.68180\n",
      "[2]\ttrain-mlogloss:0.67631\n",
      "[3]\ttrain-mlogloss:0.67091\n",
      "[4]\ttrain-mlogloss:0.66561\n",
      "[5]\ttrain-mlogloss:0.66043\n",
      "[6]\ttrain-mlogloss:0.65533\n",
      "[7]\ttrain-mlogloss:0.65029\n",
      "[8]\ttrain-mlogloss:0.64533\n"
     ]
    },
    {
     "name": "stderr",
     "output_type": "stream",
     "text": [
      "/Library/Frameworks/Python.framework/Versions/3.6/lib/python3.6/site-packages/mlflow/xgboost.py:333: DeprecationWarning: inspect.getargspec() is deprecated, use inspect.signature() or inspect.getfullargspec()\n",
      "  all_arg_names = inspect.getargspec(original)[0]  # pylint: disable=W1505\n"
     ]
    },
    {
     "name": "stdout",
     "output_type": "stream",
     "text": [
      "[9]\ttrain-mlogloss:0.64047\n",
      "[0]\ttrain-mlogloss:0.69027\n",
      "[1]\ttrain-mlogloss:0.68744\n",
      "[2]\ttrain-mlogloss:0.68462\n",
      "[3]\ttrain-mlogloss:0.68184\n",
      "[4]\ttrain-mlogloss:0.67908\n",
      "[5]\ttrain-mlogloss:0.67634\n",
      "[6]\ttrain-mlogloss:0.67363\n",
      "[7]\ttrain-mlogloss:0.67096\n",
      "[8]\ttrain-mlogloss:0.66830\n"
     ]
    },
    {
     "name": "stderr",
     "output_type": "stream",
     "text": [
      "/Library/Frameworks/Python.framework/Versions/3.6/lib/python3.6/site-packages/mlflow/xgboost.py:333: DeprecationWarning: inspect.getargspec() is deprecated, use inspect.signature() or inspect.getfullargspec()\n",
      "  all_arg_names = inspect.getargspec(original)[0]  # pylint: disable=W1505\n"
     ]
    },
    {
     "name": "stdout",
     "output_type": "stream",
     "text": [
      "[9]\ttrain-mlogloss:0.66568\n",
      "[0]\ttrain-mlogloss:0.38636\n",
      "[1]\ttrain-mlogloss:0.33303\n",
      "[2]\ttrain-mlogloss:0.31477\n",
      "[3]\ttrain-mlogloss:0.30431\n",
      "[4]\ttrain-mlogloss:0.29918\n",
      "[5]\ttrain-mlogloss:0.29180\n",
      "[6]\ttrain-mlogloss:0.28885\n",
      "[7]\ttrain-mlogloss:0.28579\n",
      "[8]\ttrain-mlogloss:0.27864\n"
     ]
    },
    {
     "name": "stderr",
     "output_type": "stream",
     "text": [
      "/Library/Frameworks/Python.framework/Versions/3.6/lib/python3.6/site-packages/mlflow/xgboost.py:333: DeprecationWarning: inspect.getargspec() is deprecated, use inspect.signature() or inspect.getfullargspec()\n",
      "  all_arg_names = inspect.getargspec(original)[0]  # pylint: disable=W1505\n"
     ]
    },
    {
     "name": "stdout",
     "output_type": "stream",
     "text": [
      "[9]\ttrain-mlogloss:0.27605\n",
      "[0]\ttrain-mlogloss:0.54600\n",
      "[1]\ttrain-mlogloss:0.46506\n",
      "[2]\ttrain-mlogloss:0.41286\n",
      "[3]\ttrain-mlogloss:0.38046\n",
      "[4]\ttrain-mlogloss:0.35839\n",
      "[5]\ttrain-mlogloss:0.34286\n",
      "[6]\ttrain-mlogloss:0.33186\n",
      "[7]\ttrain-mlogloss:0.32321\n"
     ]
    },
    {
     "name": "stderr",
     "output_type": "stream",
     "text": [
      "/Library/Frameworks/Python.framework/Versions/3.6/lib/python3.6/site-packages/mlflow/xgboost.py:333: DeprecationWarning: inspect.getargspec() is deprecated, use inspect.signature() or inspect.getfullargspec()\n",
      "  all_arg_names = inspect.getargspec(original)[0]  # pylint: disable=W1505\n"
     ]
    },
    {
     "name": "stdout",
     "output_type": "stream",
     "text": [
      "[8]\ttrain-mlogloss:0.31547\n",
      "[9]\ttrain-mlogloss:0.30995\n",
      "[0]\ttrain-mlogloss:0.68742\n",
      "[1]\ttrain-mlogloss:0.68180\n",
      "[2]\ttrain-mlogloss:0.67631\n",
      "[3]\ttrain-mlogloss:0.67090\n",
      "[4]\ttrain-mlogloss:0.66561\n",
      "[5]\ttrain-mlogloss:0.66042\n",
      "[6]\ttrain-mlogloss:0.65533\n",
      "[7]\ttrain-mlogloss:0.65029\n"
     ]
    },
    {
     "name": "stderr",
     "output_type": "stream",
     "text": [
      "/Library/Frameworks/Python.framework/Versions/3.6/lib/python3.6/site-packages/mlflow/xgboost.py:333: DeprecationWarning: inspect.getargspec() is deprecated, use inspect.signature() or inspect.getfullargspec()\n",
      "  all_arg_names = inspect.getargspec(original)[0]  # pylint: disable=W1505\n"
     ]
    },
    {
     "name": "stdout",
     "output_type": "stream",
     "text": [
      "[8]\ttrain-mlogloss:0.64533\n",
      "[9]\ttrain-mlogloss:0.64046\n",
      "[0]\ttrain-mlogloss:0.69027\n",
      "[1]\ttrain-mlogloss:0.68744\n",
      "[2]\ttrain-mlogloss:0.68462\n",
      "[3]\ttrain-mlogloss:0.68184\n",
      "[4]\ttrain-mlogloss:0.67907\n",
      "[5]\ttrain-mlogloss:0.67633\n",
      "[6]\ttrain-mlogloss:0.67363\n",
      "[7]\ttrain-mlogloss:0.67096\n",
      "[8]\ttrain-mlogloss:0.66830\n"
     ]
    },
    {
     "name": "stderr",
     "output_type": "stream",
     "text": [
      "/Library/Frameworks/Python.framework/Versions/3.6/lib/python3.6/site-packages/mlflow/xgboost.py:333: DeprecationWarning: inspect.getargspec() is deprecated, use inspect.signature() or inspect.getfullargspec()\n",
      "  all_arg_names = inspect.getargspec(original)[0]  # pylint: disable=W1505\n"
     ]
    },
    {
     "name": "stdout",
     "output_type": "stream",
     "text": [
      "[9]\ttrain-mlogloss:0.66567\n",
      "[0]\ttrain-mlogloss:0.38639\n",
      "[1]\ttrain-mlogloss:0.33308\n",
      "[2]\ttrain-mlogloss:0.31493\n",
      "[3]\ttrain-mlogloss:0.30819\n",
      "[4]\ttrain-mlogloss:0.30144\n",
      "[5]\ttrain-mlogloss:0.29144\n",
      "[6]\ttrain-mlogloss:0.28802\n",
      "[7]\ttrain-mlogloss:0.28541\n"
     ]
    },
    {
     "name": "stderr",
     "output_type": "stream",
     "text": [
      "/Library/Frameworks/Python.framework/Versions/3.6/lib/python3.6/site-packages/mlflow/xgboost.py:333: DeprecationWarning: inspect.getargspec() is deprecated, use inspect.signature() or inspect.getfullargspec()\n",
      "  all_arg_names = inspect.getargspec(original)[0]  # pylint: disable=W1505\n"
     ]
    },
    {
     "name": "stdout",
     "output_type": "stream",
     "text": [
      "[8]\ttrain-mlogloss:0.27830\n",
      "[9]\ttrain-mlogloss:0.27639\n",
      "[0]\ttrain-mlogloss:0.54600\n",
      "[1]\ttrain-mlogloss:0.46506\n",
      "[2]\ttrain-mlogloss:0.41307\n",
      "[3]\ttrain-mlogloss:0.38086\n",
      "[4]\ttrain-mlogloss:0.35899\n",
      "[5]\ttrain-mlogloss:0.34343\n",
      "[6]\ttrain-mlogloss:0.33250\n",
      "[7]\ttrain-mlogloss:0.32272\n"
     ]
    },
    {
     "name": "stderr",
     "output_type": "stream",
     "text": [
      "/Library/Frameworks/Python.framework/Versions/3.6/lib/python3.6/site-packages/mlflow/xgboost.py:333: DeprecationWarning: inspect.getargspec() is deprecated, use inspect.signature() or inspect.getfullargspec()\n",
      "  all_arg_names = inspect.getargspec(original)[0]  # pylint: disable=W1505\n"
     ]
    },
    {
     "name": "stdout",
     "output_type": "stream",
     "text": [
      "[8]\ttrain-mlogloss:0.31621\n",
      "[9]\ttrain-mlogloss:0.31061\n",
      "[0]\ttrain-mlogloss:0.68742\n",
      "[1]\ttrain-mlogloss:0.68180\n",
      "[2]\ttrain-mlogloss:0.67631\n",
      "[3]\ttrain-mlogloss:0.67090\n",
      "[4]\ttrain-mlogloss:0.66561\n",
      "[5]\ttrain-mlogloss:0.66042\n",
      "[6]\ttrain-mlogloss:0.65533\n",
      "[7]\ttrain-mlogloss:0.65029\n"
     ]
    },
    {
     "name": "stderr",
     "output_type": "stream",
     "text": [
      "/Library/Frameworks/Python.framework/Versions/3.6/lib/python3.6/site-packages/mlflow/xgboost.py:333: DeprecationWarning: inspect.getargspec() is deprecated, use inspect.signature() or inspect.getfullargspec()\n",
      "  all_arg_names = inspect.getargspec(original)[0]  # pylint: disable=W1505\n"
     ]
    },
    {
     "name": "stdout",
     "output_type": "stream",
     "text": [
      "[8]\ttrain-mlogloss:0.64533\n",
      "[9]\ttrain-mlogloss:0.64046\n",
      "[0]\ttrain-mlogloss:0.69027\n",
      "[1]\ttrain-mlogloss:0.68744\n",
      "[2]\ttrain-mlogloss:0.68462\n",
      "[3]\ttrain-mlogloss:0.68184\n",
      "[4]\ttrain-mlogloss:0.67907\n",
      "[5]\ttrain-mlogloss:0.67633\n",
      "[6]\ttrain-mlogloss:0.67363\n",
      "[7]\ttrain-mlogloss:0.67096\n",
      "[8]\ttrain-mlogloss:0.66830\n"
     ]
    },
    {
     "name": "stderr",
     "output_type": "stream",
     "text": [
      "/Library/Frameworks/Python.framework/Versions/3.6/lib/python3.6/site-packages/mlflow/xgboost.py:333: DeprecationWarning: inspect.getargspec() is deprecated, use inspect.signature() or inspect.getfullargspec()\n",
      "  all_arg_names = inspect.getargspec(original)[0]  # pylint: disable=W1505\n"
     ]
    },
    {
     "name": "stdout",
     "output_type": "stream",
     "text": [
      "[9]\ttrain-mlogloss:0.66567\n",
      "[0]\ttrain-mlogloss:0.35137\n",
      "[1]\ttrain-mlogloss:0.29012\n",
      "[2]\ttrain-mlogloss:0.25856\n"
     ]
    },
    {
     "name": "stderr",
     "output_type": "stream",
     "text": [
      "/Library/Frameworks/Python.framework/Versions/3.6/lib/python3.6/site-packages/mlflow/xgboost.py:333: DeprecationWarning: inspect.getargspec() is deprecated, use inspect.signature() or inspect.getfullargspec()\n",
      "  all_arg_names = inspect.getargspec(original)[0]  # pylint: disable=W1505\n"
     ]
    },
    {
     "name": "stdout",
     "output_type": "stream",
     "text": [
      "[3]\ttrain-mlogloss:0.24660\n",
      "[4]\ttrain-mlogloss:0.23894\n",
      "[5]\ttrain-mlogloss:0.23205\n",
      "[6]\ttrain-mlogloss:0.22535\n",
      "[7]\ttrain-mlogloss:0.21473\n",
      "[8]\ttrain-mlogloss:0.21162\n",
      "[9]\ttrain-mlogloss:0.20655\n",
      "[0]\ttrain-mlogloss:0.53026\n",
      "[1]\ttrain-mlogloss:0.44020\n",
      "[2]\ttrain-mlogloss:0.38422\n"
     ]
    },
    {
     "name": "stderr",
     "output_type": "stream",
     "text": [
      "/Library/Frameworks/Python.framework/Versions/3.6/lib/python3.6/site-packages/mlflow/xgboost.py:333: DeprecationWarning: inspect.getargspec() is deprecated, use inspect.signature() or inspect.getfullargspec()\n",
      "  all_arg_names = inspect.getargspec(original)[0]  # pylint: disable=W1505\n"
     ]
    },
    {
     "name": "stdout",
     "output_type": "stream",
     "text": [
      "[3]\ttrain-mlogloss:0.34592\n",
      "[4]\ttrain-mlogloss:0.31856\n",
      "[5]\ttrain-mlogloss:0.29773\n",
      "[6]\ttrain-mlogloss:0.28320\n",
      "[7]\ttrain-mlogloss:0.27275\n",
      "[8]\ttrain-mlogloss:0.26330\n",
      "[9]\ttrain-mlogloss:0.25594\n",
      "[0]\ttrain-mlogloss:0.68681\n",
      "[1]\ttrain-mlogloss:0.68062\n",
      "[2]\ttrain-mlogloss:0.67455\n",
      "[3]\ttrain-mlogloss:0.66859\n"
     ]
    },
    {
     "name": "stderr",
     "output_type": "stream",
     "text": [
      "/Library/Frameworks/Python.framework/Versions/3.6/lib/python3.6/site-packages/mlflow/xgboost.py:333: DeprecationWarning: inspect.getargspec() is deprecated, use inspect.signature() or inspect.getfullargspec()\n",
      "  all_arg_names = inspect.getargspec(original)[0]  # pylint: disable=W1505\n"
     ]
    },
    {
     "name": "stdout",
     "output_type": "stream",
     "text": [
      "[4]\ttrain-mlogloss:0.66275\n",
      "[5]\ttrain-mlogloss:0.65702\n",
      "[6]\ttrain-mlogloss:0.65140\n",
      "[7]\ttrain-mlogloss:0.64588\n",
      "[8]\ttrain-mlogloss:0.64046\n",
      "[9]\ttrain-mlogloss:0.63515\n",
      "[0]\ttrain-mlogloss:0.68998\n",
      "[1]\ttrain-mlogloss:0.68683\n",
      "[2]\ttrain-mlogloss:0.68373\n"
     ]
    },
    {
     "name": "stderr",
     "output_type": "stream",
     "text": [
      "/Library/Frameworks/Python.framework/Versions/3.6/lib/python3.6/site-packages/mlflow/xgboost.py:333: DeprecationWarning: inspect.getargspec() is deprecated, use inspect.signature() or inspect.getfullargspec()\n",
      "  all_arg_names = inspect.getargspec(original)[0]  # pylint: disable=W1505\n"
     ]
    },
    {
     "name": "stdout",
     "output_type": "stream",
     "text": [
      "[3]\ttrain-mlogloss:0.68066\n",
      "[4]\ttrain-mlogloss:0.67762\n",
      "[5]\ttrain-mlogloss:0.67460\n",
      "[6]\ttrain-mlogloss:0.67161\n",
      "[7]\ttrain-mlogloss:0.66866\n",
      "[8]\ttrain-mlogloss:0.66573\n",
      "[9]\ttrain-mlogloss:0.66283\n",
      "[0]\ttrain-mlogloss:0.35668\n",
      "[1]\ttrain-mlogloss:0.29727\n",
      "[2]\ttrain-mlogloss:0.26859\n"
     ]
    },
    {
     "name": "stderr",
     "output_type": "stream",
     "text": [
      "/Library/Frameworks/Python.framework/Versions/3.6/lib/python3.6/site-packages/mlflow/xgboost.py:333: DeprecationWarning: inspect.getargspec() is deprecated, use inspect.signature() or inspect.getfullargspec()\n",
      "  all_arg_names = inspect.getargspec(original)[0]  # pylint: disable=W1505\n"
     ]
    },
    {
     "name": "stdout",
     "output_type": "stream",
     "text": [
      "[3]\ttrain-mlogloss:0.25761\n",
      "[4]\ttrain-mlogloss:0.24894\n",
      "[5]\ttrain-mlogloss:0.24259\n",
      "[6]\ttrain-mlogloss:0.23687\n",
      "[7]\ttrain-mlogloss:0.23111\n",
      "[8]\ttrain-mlogloss:0.22824\n",
      "[9]\ttrain-mlogloss:0.21932\n",
      "[0]\ttrain-mlogloss:0.53264\n",
      "[1]\ttrain-mlogloss:0.44409\n",
      "[2]\ttrain-mlogloss:0.38852\n"
     ]
    },
    {
     "name": "stderr",
     "output_type": "stream",
     "text": [
      "/Library/Frameworks/Python.framework/Versions/3.6/lib/python3.6/site-packages/mlflow/xgboost.py:333: DeprecationWarning: inspect.getargspec() is deprecated, use inspect.signature() or inspect.getfullargspec()\n",
      "  all_arg_names = inspect.getargspec(original)[0]  # pylint: disable=W1505\n"
     ]
    },
    {
     "name": "stdout",
     "output_type": "stream",
     "text": [
      "[3]\ttrain-mlogloss:0.35036\n",
      "[4]\ttrain-mlogloss:0.32475\n",
      "[5]\ttrain-mlogloss:0.30559\n",
      "[6]\ttrain-mlogloss:0.29169\n",
      "[7]\ttrain-mlogloss:0.28146\n",
      "[8]\ttrain-mlogloss:0.27165\n",
      "[9]\ttrain-mlogloss:0.26502\n",
      "[0]\ttrain-mlogloss:0.68691\n",
      "[1]\ttrain-mlogloss:0.68079\n",
      "[2]\ttrain-mlogloss:0.67480\n",
      "[3]\ttrain-mlogloss:0.66892\n"
     ]
    },
    {
     "name": "stderr",
     "output_type": "stream",
     "text": [
      "/Library/Frameworks/Python.framework/Versions/3.6/lib/python3.6/site-packages/mlflow/xgboost.py:333: DeprecationWarning: inspect.getargspec() is deprecated, use inspect.signature() or inspect.getfullargspec()\n",
      "  all_arg_names = inspect.getargspec(original)[0]  # pylint: disable=W1505\n"
     ]
    },
    {
     "name": "stdout",
     "output_type": "stream",
     "text": [
      "[4]\ttrain-mlogloss:0.66316\n",
      "[5]\ttrain-mlogloss:0.65750\n",
      "[6]\ttrain-mlogloss:0.65196\n",
      "[7]\ttrain-mlogloss:0.64652\n",
      "[8]\ttrain-mlogloss:0.64118\n",
      "[9]\ttrain-mlogloss:0.63593\n",
      "[0]\ttrain-mlogloss:0.69002\n",
      "[1]\ttrain-mlogloss:0.68692\n",
      "[2]\ttrain-mlogloss:0.68386\n",
      "[3]\ttrain-mlogloss:0.68082\n"
     ]
    },
    {
     "name": "stderr",
     "output_type": "stream",
     "text": [
      "/Library/Frameworks/Python.framework/Versions/3.6/lib/python3.6/site-packages/mlflow/xgboost.py:333: DeprecationWarning: inspect.getargspec() is deprecated, use inspect.signature() or inspect.getfullargspec()\n",
      "  all_arg_names = inspect.getargspec(original)[0]  # pylint: disable=W1505\n"
     ]
    },
    {
     "name": "stdout",
     "output_type": "stream",
     "text": [
      "[4]\ttrain-mlogloss:0.67782\n",
      "[5]\ttrain-mlogloss:0.67484\n",
      "[6]\ttrain-mlogloss:0.67190\n",
      "[7]\ttrain-mlogloss:0.66898\n",
      "[8]\ttrain-mlogloss:0.66609\n",
      "[9]\ttrain-mlogloss:0.66323\n",
      "[0]\ttrain-mlogloss:0.35914\n",
      "[1]\ttrain-mlogloss:0.30188\n",
      "[2]\ttrain-mlogloss:0.27647\n",
      "[3]\ttrain-mlogloss:0.26558\n"
     ]
    },
    {
     "name": "stderr",
     "output_type": "stream",
     "text": [
      "/Library/Frameworks/Python.framework/Versions/3.6/lib/python3.6/site-packages/mlflow/xgboost.py:333: DeprecationWarning: inspect.getargspec() is deprecated, use inspect.signature() or inspect.getfullargspec()\n",
      "  all_arg_names = inspect.getargspec(original)[0]  # pylint: disable=W1505\n"
     ]
    },
    {
     "name": "stdout",
     "output_type": "stream",
     "text": [
      "[4]\ttrain-mlogloss:0.25858\n",
      "[5]\ttrain-mlogloss:0.25334\n",
      "[6]\ttrain-mlogloss:0.24617\n",
      "[7]\ttrain-mlogloss:0.24391\n",
      "[8]\ttrain-mlogloss:0.24169\n",
      "[9]\ttrain-mlogloss:0.23779\n",
      "[0]\ttrain-mlogloss:0.53375\n",
      "[1]\ttrain-mlogloss:0.44542\n",
      "[2]\ttrain-mlogloss:0.39028\n",
      "[3]\ttrain-mlogloss:0.35321\n"
     ]
    },
    {
     "name": "stderr",
     "output_type": "stream",
     "text": [
      "/Library/Frameworks/Python.framework/Versions/3.6/lib/python3.6/site-packages/mlflow/xgboost.py:333: DeprecationWarning: inspect.getargspec() is deprecated, use inspect.signature() or inspect.getfullargspec()\n",
      "  all_arg_names = inspect.getargspec(original)[0]  # pylint: disable=W1505\n"
     ]
    },
    {
     "name": "stdout",
     "output_type": "stream",
     "text": [
      "[4]\ttrain-mlogloss:0.32694\n",
      "[5]\ttrain-mlogloss:0.30873\n",
      "[6]\ttrain-mlogloss:0.29541\n",
      "[7]\ttrain-mlogloss:0.28431\n",
      "[8]\ttrain-mlogloss:0.27661\n",
      "[9]\ttrain-mlogloss:0.27003\n",
      "[0]\ttrain-mlogloss:0.68695\n",
      "[1]\ttrain-mlogloss:0.68087\n",
      "[2]\ttrain-mlogloss:0.67492\n"
     ]
    },
    {
     "name": "stderr",
     "output_type": "stream",
     "text": [
      "/Library/Frameworks/Python.framework/Versions/3.6/lib/python3.6/site-packages/mlflow/xgboost.py:333: DeprecationWarning: inspect.getargspec() is deprecated, use inspect.signature() or inspect.getfullargspec()\n",
      "  all_arg_names = inspect.getargspec(original)[0]  # pylint: disable=W1505\n"
     ]
    },
    {
     "name": "stdout",
     "output_type": "stream",
     "text": [
      "[3]\ttrain-mlogloss:0.66908\n",
      "[4]\ttrain-mlogloss:0.66336\n",
      "[5]\ttrain-mlogloss:0.65774\n",
      "[6]\ttrain-mlogloss:0.65223\n",
      "[7]\ttrain-mlogloss:0.64682\n",
      "[8]\ttrain-mlogloss:0.64151\n",
      "[9]\ttrain-mlogloss:0.63631\n",
      "[0]\ttrain-mlogloss:0.69004\n",
      "[1]\ttrain-mlogloss:0.68696\n",
      "[2]\ttrain-mlogloss:0.68392\n",
      "[3]\ttrain-mlogloss:0.68090\n"
     ]
    },
    {
     "name": "stderr",
     "output_type": "stream",
     "text": [
      "/Library/Frameworks/Python.framework/Versions/3.6/lib/python3.6/site-packages/mlflow/xgboost.py:333: DeprecationWarning: inspect.getargspec() is deprecated, use inspect.signature() or inspect.getfullargspec()\n",
      "  all_arg_names = inspect.getargspec(original)[0]  # pylint: disable=W1505\n"
     ]
    },
    {
     "name": "stdout",
     "output_type": "stream",
     "text": [
      "[4]\ttrain-mlogloss:0.67792\n",
      "[5]\ttrain-mlogloss:0.67496\n",
      "[6]\ttrain-mlogloss:0.67204\n",
      "[7]\ttrain-mlogloss:0.66914\n",
      "[8]\ttrain-mlogloss:0.66627\n",
      "[9]\ttrain-mlogloss:0.66343\n",
      "[0]\ttrain-mlogloss:0.36051\n",
      "[1]\ttrain-mlogloss:0.30497\n",
      "[2]\ttrain-mlogloss:0.27912\n",
      "[3]\ttrain-mlogloss:0.27036\n"
     ]
    },
    {
     "name": "stderr",
     "output_type": "stream",
     "text": [
      "/Library/Frameworks/Python.framework/Versions/3.6/lib/python3.6/site-packages/mlflow/xgboost.py:333: DeprecationWarning: inspect.getargspec() is deprecated, use inspect.signature() or inspect.getfullargspec()\n",
      "  all_arg_names = inspect.getargspec(original)[0]  # pylint: disable=W1505\n"
     ]
    },
    {
     "name": "stdout",
     "output_type": "stream",
     "text": [
      "[4]\ttrain-mlogloss:0.26540\n",
      "[5]\ttrain-mlogloss:0.26027\n",
      "[6]\ttrain-mlogloss:0.25830\n",
      "[7]\ttrain-mlogloss:0.25582\n",
      "[8]\ttrain-mlogloss:0.25377\n",
      "[9]\ttrain-mlogloss:0.24712\n",
      "[0]\ttrain-mlogloss:0.53436\n",
      "[1]\ttrain-mlogloss:0.44653\n",
      "[2]\ttrain-mlogloss:0.39188\n",
      "[3]\ttrain-mlogloss:0.35546\n"
     ]
    },
    {
     "name": "stderr",
     "output_type": "stream",
     "text": [
      "/Library/Frameworks/Python.framework/Versions/3.6/lib/python3.6/site-packages/mlflow/xgboost.py:333: DeprecationWarning: inspect.getargspec() is deprecated, use inspect.signature() or inspect.getfullargspec()\n",
      "  all_arg_names = inspect.getargspec(original)[0]  # pylint: disable=W1505\n"
     ]
    },
    {
     "name": "stdout",
     "output_type": "stream",
     "text": [
      "[4]\ttrain-mlogloss:0.32960\n",
      "[5]\ttrain-mlogloss:0.31201\n",
      "[6]\ttrain-mlogloss:0.29812\n",
      "[7]\ttrain-mlogloss:0.28864\n",
      "[8]\ttrain-mlogloss:0.28096\n",
      "[9]\ttrain-mlogloss:0.27523\n",
      "[0]\ttrain-mlogloss:0.68697\n",
      "[1]\ttrain-mlogloss:0.68092\n",
      "[2]\ttrain-mlogloss:0.67499\n",
      "[3]\ttrain-mlogloss:0.66917\n"
     ]
    },
    {
     "name": "stderr",
     "output_type": "stream",
     "text": [
      "/Library/Frameworks/Python.framework/Versions/3.6/lib/python3.6/site-packages/mlflow/xgboost.py:333: DeprecationWarning: inspect.getargspec() is deprecated, use inspect.signature() or inspect.getfullargspec()\n",
      "  all_arg_names = inspect.getargspec(original)[0]  # pylint: disable=W1505\n"
     ]
    },
    {
     "name": "stdout",
     "output_type": "stream",
     "text": [
      "[4]\ttrain-mlogloss:0.66347\n",
      "[5]\ttrain-mlogloss:0.65787\n",
      "[6]\ttrain-mlogloss:0.65238\n",
      "[7]\ttrain-mlogloss:0.64699\n",
      "[8]\ttrain-mlogloss:0.64170\n",
      "[9]\ttrain-mlogloss:0.63652\n",
      "[0]\ttrain-mlogloss:0.69005\n",
      "[1]\ttrain-mlogloss:0.68699\n",
      "[2]\ttrain-mlogloss:0.68395\n",
      "[3]\ttrain-mlogloss:0.68095\n"
     ]
    },
    {
     "name": "stderr",
     "output_type": "stream",
     "text": [
      "/Library/Frameworks/Python.framework/Versions/3.6/lib/python3.6/site-packages/mlflow/xgboost.py:333: DeprecationWarning: inspect.getargspec() is deprecated, use inspect.signature() or inspect.getfullargspec()\n",
      "  all_arg_names = inspect.getargspec(original)[0]  # pylint: disable=W1505\n"
     ]
    },
    {
     "name": "stdout",
     "output_type": "stream",
     "text": [
      "[4]\ttrain-mlogloss:0.67798\n",
      "[5]\ttrain-mlogloss:0.67503\n",
      "[6]\ttrain-mlogloss:0.67212\n",
      "[7]\ttrain-mlogloss:0.66923\n",
      "[8]\ttrain-mlogloss:0.66637\n",
      "[9]\ttrain-mlogloss:0.66354\n"
     ]
    }
   ],
   "source": [
    "#values from https://blog.cambridgespark.com/hyperparameter-tuning-in-xgboost-4ff9100a3b2f\n",
    "colsample_tree = [0.2, 0.5, 1.0]\n",
    "subsample = [0.05, 1.0]\n",
    "max_depth = [1, 5, 10]\n",
    "min_child_weight = [1, 6, 10, 15]\n",
    "eta = [.9, .3, .01, .005]\n",
    "\n",
    "for i in colsample_tree:\n",
    "    for j in subsample:\n",
    "        for k in max_depth:\n",
    "            for l in min_child_weight:\n",
    "                for m in eta:\n",
    "                    grid_test_xgboost(i, j, k, l, m)\n",
    "\n",
    "kernel = ['rbf']\n",
    "gamma = [1e-3, 1e-4]\n",
    "C = [1, 10, 100, 1000]\n",
    "for i in kernel:\n",
    "    for j in gamma:\n",
    "        for k in C:\n",
    "            grid_test_svm(i, j, k)"
   ]
  },
  {
   "cell_type": "code",
   "execution_count": 89,
   "metadata": {},
   "outputs": [],
   "source": [
    "import os\n",
    "\n",
    "dirs = os.listdir(\"mlruns/0\")\n",
    "dictionary = []\n",
    "for i in dirs:\n",
    "    row = {}\n",
    "    if \"meta\" in i or \"DS_Store\" in i:\n",
    "        continue\n",
    "        \n",
    "    accuracy = float(open('mlruns/0/' + i + '/metrics/accuracy').read().split(\" \")[1])\n",
    "    row['accuracy'] = accuracy\n",
    "    params_files = os.listdir('mlruns/0/' + i + '/params')\n",
    "    model_params = {}\n",
    "    for j in params_files:\n",
    "        if 'kernel' in j:\n",
    "            continue\n",
    "        model_params[j] = open('mlruns/0/' + i + '/params/' + j).read()\n",
    "    \n",
    "    row['model_params'] = model_params\n",
    "    if len(params_files) == 3:\n",
    "        row['model'] = 'SVM'\n",
    "    else:\n",
    "        row['model'] = 'xgboost'\n",
    "    dictionary.append(row)\n",
    "    \n",
    "df = pd.DataFrame(dictionary)\n",
    "df.to_csv('mlflow_workflows.csv')"
   ]
  },
  {
   "cell_type": "code",
   "execution_count": null,
   "metadata": {},
   "outputs": [],
   "source": []
  }
 ],
 "metadata": {
  "kernelspec": {
   "display_name": "Python 3",
   "language": "python",
   "name": "python3"
  },
  "language_info": {
   "codemirror_mode": {
    "name": "ipython",
    "version": 3
   },
   "file_extension": ".py",
   "mimetype": "text/x-python",
   "name": "python",
   "nbconvert_exporter": "python",
   "pygments_lexer": "ipython3",
   "version": "3.6.1"
  }
 },
 "nbformat": 4,
 "nbformat_minor": 4
}

{
 "cells": [
  {
   "cell_type": "code",
   "execution_count": 1,
   "metadata": {},
   "outputs": [
    {
     "name": "stderr",
     "output_type": "stream",
     "text": [
      "/Library/Frameworks/Python.framework/Versions/3.6/lib/python3.6/site-packages/sklearn/utils/deprecation.py:143: FutureWarning: The sklearn.datasets.base module is  deprecated in version 0.22 and will be removed in version 0.24. The corresponding classes / functions should instead be imported from sklearn.datasets. Anything that cannot be imported from sklearn.datasets is now part of the private API.\n",
      "  warnings.warn(message, FutureWarning)\n"
     ]
    }
   ],
   "source": [
    "# code from https://medium.com/district-data-labs/building-a-classifier-from-census-data-18f996c4d7cf\n",
    "from sklearn import datasets\n",
    "from sklearn.model_selection import train_test_split\n",
    "from sklearn.metrics import accuracy_score, log_loss\n",
    "\n",
    "import pandas as pd\n",
    "\n",
    "# prepare train and test data\n",
    "names = [\n",
    "    'age',\n",
    "    'workclass',\n",
    "    'fnlwgt',\n",
    "    'education',\n",
    "    'education-num',\n",
    "    'marital-status',\n",
    "    'occupation',\n",
    "    'relationship',\n",
    "    'race',\n",
    "    'sex',\n",
    "    'capital-gain',\n",
    "    'capital-loss',\n",
    "    'hours-per-week',\n",
    "    'native-country',\n",
    "    'income',\n",
    "]\n",
    "data = pd.read_csv('census_data/adult.data', names=names)\n",
    "\n",
    "import json\n",
    "meta = {\n",
    "    'target_names': list(data.income.unique()),\n",
    "    'feature_names': list(data.columns),\n",
    "    'categorical_features': {\n",
    "        column: list(data[column].unique())\n",
    "        for column in data.columns\n",
    "        if data[column].dtype == 'object'\n",
    "    },\n",
    "}\n",
    "with open('census_data/meta.json', 'w') as f:\n",
    "    json.dump(meta, f, indent=2)\n",
    "    \n",
    "from sklearn.datasets.base import Bunch\n",
    "from sklearn.preprocessing import LabelEncoder\n",
    "def load_data():\n",
    "    # Load the meta data from the file\n",
    "    with open('census_data/meta.json', 'r') as f:\n",
    "        meta = json.load(f)\n",
    "    names = meta['feature_names']\n",
    "    # Load the training and test data, skipping the bad row in the test data\n",
    "    train = pd.read_csv('census_data/adult.data', names=names)\n",
    "    test  = pd.read_csv('census_data/adult.test', names=names, skiprows=1)\n",
    "    # Remove the target from the categorical features\n",
    "    meta['categorical_features'].pop('income')\n",
    "    # Return the bunch with the appropriate data chunked apart\n",
    "    return Bunch(\n",
    "        data = train[names[:-1]],\n",
    "        target = train[names[-1]],\n",
    "        data_test = test[names[:-1]],\n",
    "        target_test = test[names[-1]],\n",
    "        target_names = meta['target_names'],\n",
    "        feature_names = meta['feature_names'],\n",
    "        categorical_features = meta['categorical_features'],\n",
    "        DESCR = \"descr\",\n",
    "    )\n",
    "dataset = load_data()\n",
    "\n",
    "from sklearn.base import BaseEstimator, TransformerMixin\n",
    "class EncodeCategorical(BaseEstimator, TransformerMixin):\n",
    "    \"\"\"\n",
    "    Encodes a specified list of columns or all columns if None.\n",
    "    \"\"\"\n",
    "    def __init__(self, columns=None):\n",
    "        self.columns  = columns\n",
    "        self.encoders = None\n",
    "    def fit(self, data, target=None):\n",
    "        \"\"\"\n",
    "        Expects a data frame with named columns to encode.\n",
    "        \"\"\"\n",
    "        # Encode all columns if columns is None\n",
    "        if self.columns is None:\n",
    "            self.columns = data.columns\n",
    "        # Fit a label encoder for each column in the data frame\n",
    "        self.encoders = {\n",
    "            column: LabelEncoder().fit(data[column])\n",
    "            for column in self.columns\n",
    "        }\n",
    "        return self\n",
    "    def transform(self, data):\n",
    "        \"\"\"\n",
    "        Uses the encoders to transform a data frame.\n",
    "        \"\"\"\n",
    "        output = data.copy()\n",
    "        for column, encoder in self.encoders.items():\n",
    "            output[column] = encoder.transform(data[column])\n",
    "        return output\n",
    "encoder = EncodeCategorical(dataset.categorical_features.keys())\n",
    "dataset.data = encoder.fit_transform(dataset.data)\n",
    "dataset.data_test = encoder.fit_transform(dataset.data_test)\n",
    "\n",
    "from sklearn.impute import SimpleImputer\n",
    "import numpy as np\n",
    "\n",
    "class ImputeCategorical(BaseEstimator, TransformerMixin):\n",
    "    \"\"\"\n",
    "    Encodes a specified list of columns or all columns if None.\n",
    "    \"\"\"\n",
    "    def __init__(self, columns=None):\n",
    "        self.columns = columns\n",
    "        self.imputer = None\n",
    "    def fit(self, data, target=None):\n",
    "        \"\"\"\n",
    "        Expects a data frame with named columns to impute.\n",
    "        \"\"\"\n",
    "        # Encode all columns if columns is None\n",
    "        if self.columns is None:\n",
    "            self.columns = data.columns\n",
    "        # Fit an imputer for each column in the data frame\n",
    "        self.imputer = SimpleImputer(missing_values=0, strategy='most_frequent')\n",
    "        self.imputer.fit(data[self.columns])\n",
    "        return self\n",
    "    def transform(self, data):\n",
    "        \"\"\"\n",
    "        Uses the encoders to transform a data frame.\n",
    "        \"\"\"\n",
    "        output = data.copy()\n",
    "        output[self.columns] = self.imputer.transform(output[self.columns])\n",
    "        return output\n",
    "imputer = ImputeCategorical(['workclass', 'native-country', 'occupation'])\n",
    "dataset.data = imputer.fit_transform(dataset.data)\n",
    "dataset.data_test = imputer.fit_transform(dataset.data_test)\n",
    "\n",
    "X_train = dataset.data\n",
    "yencode = LabelEncoder().fit(dataset.target)\n",
    "y_train = yencode.transform(dataset.target)\n",
    "\n",
    "X_test = dataset.data_test\n",
    "y_test = yencode.transform([y.rstrip(\".\") for y in dataset.target_test])"
   ]
  },
  {
   "cell_type": "code",
   "execution_count": 2,
   "metadata": {},
   "outputs": [
    {
     "name": "stdout",
     "output_type": "stream",
     "text": [
      "   rid  accuracy  highlighted                          model_params  \\\n",
      "0    0  0.796634         True   {'max_iter': '300', 'alpha': '0.1'}   \n",
      "1    1  0.793072         True   {'max_iter': '300', 'alpha': '0.1'}   \n",
      "2    2  0.256802         True  {'max_iter': '400', 'alpha': '0.01'}   \n",
      "\n",
      "           model   0_order_hyp 1_order_hyp  \n",
      "0  MLPClassifier  max_iter=300   alpha=0.1  \n",
      "1  MLPClassifier  max_iter=300   alpha=0.1  \n",
      "2  MLPClassifier  max_iter=400  alpha=0.01  \n"
     ]
    },
    {
     "data": {
      "text/html": [
       "\n",
       "        <iframe\n",
       "            width=\"1000\"\n",
       "            height=\"650\"\n",
       "            src=\"http://127.0.0.1:8090/\"\n",
       "            frameborder=\"0\"\n",
       "            allowfullscreen\n",
       "        ></iframe>\n",
       "        "
      ],
      "text/plain": [
       "<IPython.lib.display.IFrame at 0x14096bef0>"
      ]
     },
     "metadata": {},
     "output_type": "display_data"
    },
    {
     "name": "stdout",
     "output_type": "stream",
     "text": [
      "{'name': 'main', 'color': 0.7966341133836988, 'children': [{'name': 'MLPClassifier', 'color': 0.7966341133836988, 'children': [{'name': 'max_iter=300', 'color': 0.7966341133836988, 'children': [{'name': 'alpha=0.1', 'color': 0.7966341133836988, 'size': 1, 'border': 'grey', 'borderWidth': '0.35%'}, {'name': 'alpha=0.1', 'color': 'grey', 'size': 2}]}, {'name': 'max_iter=400', 'color': 0.25680240771451385, 'children': [{'name': 'alpha=0.01', 'color': 0.25680240771451385, 'size': 1, 'border': 'grey', 'borderWidth': '0.35%'}, {'name': 'alpha=0.01', 'color': 'grey', 'size': 2}]}]}]}\n",
      "   rid  accuracy  highlighted                          model_params  \\\n",
      "0    0  0.796634         True   {'max_iter': '300', 'alpha': '0.1'}   \n",
      "1    1  0.793072         True   {'max_iter': '300', 'alpha': '0.1'}   \n",
      "2    2  0.256802         True  {'max_iter': '400', 'alpha': '0.01'}   \n",
      "\n",
      "           model  0_order_hyp  1_order_hyp  \n",
      "0  MLPClassifier        300.0         0.10  \n",
      "1  MLPClassifier        300.0         0.10  \n",
      "2  MLPClassifier        400.0         0.01  \n",
      "   rid  accuracy  highlighted                          model_params  \\\n",
      "0    0  0.796634         True   {'max_iter': '300', 'alpha': '0.1'}   \n",
      "1    1  0.793072         True   {'max_iter': '300', 'alpha': '0.1'}   \n",
      "2    2  0.256802         True  {'max_iter': '400', 'alpha': '0.01'}   \n",
      "\n",
      "           model  0_order_hyp  1_order_hyp  \n",
      "0  MLPClassifier        300.0         0.10  \n",
      "1  MLPClassifier        300.0         0.10  \n",
      "2  MLPClassifier        400.0         0.01  \n"
     ]
    }
   ],
   "source": [
    "from davincicode import DaVinciCode\n",
    "app = DaVinciCode(port=8090, X_train=X_train, X_test=X_test, y_train=y_train, y_test=y_test)"
   ]
  },
  {
   "cell_type": "code",
   "execution_count": 3,
   "metadata": {},
   "outputs": [
    {
     "name": "stdout",
     "output_type": "stream",
     "text": [
      "{'name': 'main', 'color': 0.792211780603157, 'children': [{'name': 'MLPClassifier', 'color': 0.7888950310177507, 'children': [{'name': 'max_iter=400', 'color': 0.7888950310177507, 'children': [{'name': 'alpha=0.01', 'color': 0.7888950310177507, 'size': 1, 'border': 'grey', 'borderWidth': '0.35%'}, {'name': 'alpha=0.01', 'color': 'grey', 'size': 2}]}, {'name': 'max_iter=300', 'color': 'grey', 'children': [{'name': 'alpha=0.1', 'color': 'grey', 'size': 2}]}]}, {'name': 'xgboost', 'color': 0.792211780603157, 'size': 1}]}\n",
      "{'name': 'max_iter=300', 'color': 'grey', 'size': 1}\n",
      "{'name': 'main', 'color': 0.7934402063755298, 'children': [{'name': 'MLPClassifier', 'color': 0.7934402063755298, 'children': [{'name': 'max_iter=100', 'color': 0.7934402063755298, 'children': [{'name': 'alpha=0.001', 'color': 0.7934402063755298, 'size': 1}]}, {'name': 'max_iter=400', 'color': 0.7888950310177507, 'children': [{'name': 'alpha=0.01', 'color': 0.7888950310177507, 'size': 1, 'border': 'grey', 'borderWidth': '0.35%'}, {'name': 'alpha=0.01', 'color': 'grey', 'size': 2}]}, {'name': 'max_iter=300', 'color': 'grey', 'children': [{'name': 'alpha=0.1', 'color': 'grey', 'size': 2}]}]}, {'name': 'xgboost', 'color': 0.792211780603157, 'size': 1}]}\n"
     ]
    }
   ],
   "source": [
    "from sklearn.neural_network import MLPClassifier\n",
    "app.experiment(library='sklearn', model=MLPClassifier, params = {\n",
    "    'max_iter': 100,\n",
    "    'alpha': 0.001\n",
    "})"
   ]
  },
  {
   "cell_type": "code",
   "execution_count": 4,
   "metadata": {},
   "outputs": [
    {
     "name": "stdout",
     "output_type": "stream",
     "text": [
      "{'name': 'max_iter=300', 'color': 'grey', 'size': 1}\n",
      "{'name': 'MLPClassifier', 'color': 'grey', 'children': [{'name': 'max_iter=300', 'color': 'grey', 'size': 1}]}\n",
      "{'name': 'max_iter=400', 'color': 'grey', 'size': 1}\n",
      "{'name': 'main', 'color': 'grey', 'children': [{'name': 'MLPClassifier', 'color': 'grey', 'children': [{'name': 'max_iter=300', 'color': 'grey', 'children': [{'name': 'alpha=0.1', 'color': 'grey', 'size': 2}]}, {'name': 'max_iter=400', 'color': 'grey', 'children': [{'name': 'alpha=0.01', 'color': 'grey', 'size': 2}]}]}]}\n",
      "{'name': 'max_iter=400', 'color': 'grey', 'size': 1}\n",
      "{'name': 'main', 'color': 0.793071678643818, 'children': [{'name': 'MLPClassifier', 'color': 0.793071678643818, 'children': [{'name': 'max_iter=300', 'color': 0.793071678643818, 'children': [{'name': 'alpha=0.1', 'color': 0.793071678643818, 'size': 1, 'border': 'grey', 'borderWidth': '0.35%'}, {'name': 'alpha=0.1', 'color': 'grey', 'size': 2}]}, {'name': 'max_iter=400', 'color': 'grey', 'children': [{'name': 'alpha=0.01', 'color': 'grey', 'size': 2}]}]}]}\n",
      "{'name': 'main', 'color': 0.793071678643818, 'children': [{'name': 'MLPClassifier', 'color': 0.793071678643818, 'children': [{'name': 'max_iter=300', 'color': 0.793071678643818, 'children': [{'name': 'alpha=0.1', 'color': 0.793071678643818, 'size': 1, 'border': 'grey', 'borderWidth': '0.35%'}, {'name': 'alpha=0.1', 'color': 'grey', 'size': 2}]}, {'name': 'max_iter=400', 'color': 0.25680240771451385, 'children': [{'name': 'alpha=0.01', 'color': 0.25680240771451385, 'size': 1, 'border': 'grey', 'borderWidth': '0.35%'}, {'name': 'alpha=0.01', 'color': 'grey', 'size': 2}]}]}]}\n",
      "{'name': 'main', 'color': 0.793071678643818, 'children': [{'name': 'MLPClassifier', 'color': 0.793071678643818, 'children': [{'name': 'max_iter=300', 'color': 0.793071678643818, 'children': [{'name': 'alpha=0.1', 'color': 0.793071678643818, 'size': 1, 'border': 'grey', 'borderWidth': '0.35%'}, {'name': 'alpha=0.1', 'color': 'grey', 'size': 2}]}, {'name': 'max_iter=400', 'color': 0.25680240771451385, 'children': [{'name': 'alpha=0.01', 'color': 0.25680240771451385, 'size': 1, 'border': 'grey', 'borderWidth': '0.35%'}, {'name': 'alpha=0.01', 'color': 'grey', 'size': 2}]}]}]}\n",
      "{'name': 'main', 'color': 0.793071678643818, 'children': [{'name': 'MLPClassifier', 'color': 0.793071678643818, 'children': [{'name': 'max_iter=300', 'color': 0.793071678643818, 'children': [{'name': 'alpha=0.1', 'color': 0.793071678643818, 'size': 1, 'border': 'grey', 'borderWidth': '0.35%'}, {'name': 'alpha=0.1', 'color': 'grey', 'size': 2}]}, {'name': 'max_iter=400', 'color': 0.25680240771451385, 'children': [{'name': 'alpha=0.01', 'color': 0.25680240771451385, 'size': 1, 'border': 'grey', 'borderWidth': '0.35%'}, {'name': 'alpha=0.01', 'color': 'grey', 'size': 2}]}]}]}\n",
      "{'name': 'main', 'color': 0.793071678643818, 'children': [{'name': 'MLPClassifier', 'color': 0.793071678643818, 'children': [{'name': 'max_iter=300', 'color': 0.793071678643818, 'children': [{'name': 'alpha=0.1', 'color': 0.793071678643818, 'size': 1, 'border': 'grey', 'borderWidth': '0.35%'}, {'name': 'alpha=0.1', 'color': 'grey', 'size': 2}]}, {'name': 'max_iter=400', 'color': 0.25680240771451385, 'children': [{'name': 'alpha=0.01', 'color': 0.25680240771451385, 'size': 1, 'border': 'grey', 'borderWidth': '0.35%'}, {'name': 'alpha=0.01', 'color': 'grey', 'size': 2}]}]}]}\n"
     ]
    }
   ],
   "source": [
    "app.reset()"
   ]
  },
  {
   "cell_type": "code",
   "execution_count": null,
   "metadata": {},
   "outputs": [],
   "source": [
    "app.experiment(library='sklearn', model=MLPClassifier, params = {\n",
    "    'max_iter': 400,\n",
    "    'alpha': 0.0001\n",
    "})\n",
    "\n",
    "app.experiment(library='sklearn', model=MLPClassifier, params = {\n",
    "    'max_iter': 400,\n",
    "    'alpha': 0.00001\n",
    "})\n",
    "\n",
    "app.experiment(library='sklearn', model=MLPClassifier, params = {\n",
    "    'max_iter': 200,\n",
    "    'alpha': 0.001\n",
    "})"
   ]
  },
  {
   "cell_type": "code",
   "execution_count": 5,
   "metadata": {},
   "outputs": [
    {
     "name": "stdout",
     "output_type": "stream",
     "text": [
      "[0]\ttrain-mlogloss:0.62823\n",
      "[1]\ttrain-mlogloss:0.59366\n",
      "[2]\ttrain-mlogloss:0.55178\n",
      "[3]\ttrain-mlogloss:0.53700\n",
      "[4]\ttrain-mlogloss:0.51367\n",
      "[5]\ttrain-mlogloss:0.49803\n",
      "[6]\ttrain-mlogloss:0.48596\n",
      "[7]\ttrain-mlogloss:0.46956\n",
      "[8]\ttrain-mlogloss:0.45891\n",
      "[9]\ttrain-mlogloss:0.45220\n",
      "{'name': 'max_iter=300', 'color': 'grey', 'size': 1}\n",
      "{'name': 'MLPClassifier', 'color': 'grey', 'children': [{'name': 'max_iter=300', 'color': 'grey', 'size': 1}]}\n",
      "{'name': 'max_iter=400', 'color': 'grey', 'size': 1}\n",
      "{'name': 'main', 'color': 0.792211780603157, 'children': [{'name': 'xgboost', 'color': 0.792211780603157, 'size': 1}, {'name': 'MLPClassifier', 'color': 'grey', 'children': [{'name': 'max_iter=300', 'color': 'grey', 'children': [{'name': 'alpha=0.1', 'color': 'grey', 'size': 2}]}, {'name': 'max_iter=400', 'color': 'grey', 'children': [{'name': 'alpha=0.01', 'color': 'grey', 'size': 2}]}]}]}\n",
      "{'name': 'max_iter=300', 'color': 'grey', 'size': 1}\n",
      "{'name': 'main', 'color': 0.792211780603157, 'children': [{'name': 'MLPClassifier', 'color': 0.7888950310177507, 'children': [{'name': 'max_iter=400', 'color': 0.7888950310177507, 'children': [{'name': 'alpha=0.01', 'color': 0.7888950310177507, 'size': 1, 'border': 'grey', 'borderWidth': '0.35%'}, {'name': 'alpha=0.01', 'color': 'grey', 'size': 2}]}, {'name': 'max_iter=300', 'color': 'grey', 'children': [{'name': 'alpha=0.1', 'color': 'grey', 'size': 2}]}]}, {'name': 'xgboost', 'color': 0.792211780603157, 'size': 1}]}\n"
     ]
    }
   ],
   "source": [
    "params = {\n",
    "        'objective': 'multi:softprob',\n",
    "        'num_class': 2,\n",
    "        'eval_metric': 'mlogloss',\n",
    "        'max_depth': 10,\n",
    "        'min_child_weight': 10,\n",
    "        'eta':0.2,\n",
    "        'subsample': 0.05,\n",
    "        'colsample_bytree': 0.05\n",
    "}\n",
    "\n",
    "app.experiment(library='xgboost', model=None, params = params)"
   ]
  },
  {
   "cell_type": "code",
   "execution_count": null,
   "metadata": {},
   "outputs": [],
   "source": [
    "params['max_depth'] = 1\n",
    "params['min_child_weight'] = 6\n",
    "params['subsample'] = 1.0\n",
    "params['colsample_bytree'] = 0.05\n",
    "params['eta'] = 0.15\n",
    "app.experiment('xgboost', None, params)"
   ]
  },
  {
   "cell_type": "code",
   "execution_count": null,
   "metadata": {},
   "outputs": [],
   "source": [
    "params['max_depth'] = 10\n",
    "params['min_child_weight'] = 10\n",
    "params['subsample'] = 1.0\n",
    "params['colsample_bytree'] = 1.0\n",
    "app.experiment('xgboost', None, params)"
   ]
  },
  {
   "cell_type": "code",
   "execution_count": null,
   "metadata": {},
   "outputs": [],
   "source": [
    "from sklearn.svm import SVC\n",
    "app.experiment('sklearn', SVC, {\n",
    "    'gamma': 0.01,\n",
    "    'C': 1\n",
    "})"
   ]
  },
  {
   "cell_type": "code",
   "execution_count": null,
   "metadata": {},
   "outputs": [],
   "source": []
  }
 ],
 "metadata": {
  "kernelspec": {
   "display_name": "Python 3",
   "language": "python",
   "name": "python3"
  },
  "language_info": {
   "codemirror_mode": {
    "name": "ipython",
    "version": 3
   },
   "file_extension": ".py",
   "mimetype": "text/x-python",
   "name": "python",
   "nbconvert_exporter": "python",
   "pygments_lexer": "ipython3",
   "version": "3.6.1"
  }
 },
 "nbformat": 4,
 "nbformat_minor": 4
}
